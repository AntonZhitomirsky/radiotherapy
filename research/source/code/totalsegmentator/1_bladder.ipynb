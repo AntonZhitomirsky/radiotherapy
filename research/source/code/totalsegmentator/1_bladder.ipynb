{
 "cells": [
  {
   "cell_type": "code",
   "execution_count": 1,
   "metadata": {},
   "outputs": [
    {
     "name": "stdout",
     "output_type": "stream",
     "text": [
      "The path exists.\n",
      "The relevant contents are...\n",
      "   nnUNet_preprocessed\n",
      "   nnUNet_raw\n",
      "   nnUNet_results\n"
     ]
    }
   ],
   "source": [
    "import os\n",
    "\n",
    "# Set up the path to the data.\n",
    "data_path = '/vol/bitbucket/az620/radiotherapy/data'\n",
    "\n",
    "if os.path.exists(data_path):\n",
    "    print(\"The path exists.\")\n",
    "    print('The relevant contents are...')\n",
    "    for x in sorted(os.listdir(data_path)): \n",
    "        if 'nnUNet' in x: print(f'   {x}')\n",
    "else:\n",
    "    print(\"The path does not exist.\")"
   ]
  },
  {
   "cell_type": "code",
   "execution_count": 2,
   "metadata": {},
   "outputs": [],
   "source": [
    "# Each anatomical structure has a unique identifier.\n",
    "id_anorectum = 'Dataset001_Anorectum'\n",
    "id_bladder = 'Dataset002_Bladder'\n",
    "id_ctvn = 'Dataset003_CTVn'\n",
    "id_ctvp = 'Dataset004_CTVp'\n",
    "id_parametrium = 'Dataset005_Parametrium'"
   ]
  },
  {
   "cell_type": "code",
   "execution_count": 3,
   "metadata": {},
   "outputs": [
    {
     "data": {
      "text/plain": [
       "{'channel_names': {'0': 'CT'},\n",
       " 'labels': {'background': 0, 'anorectum': 1},\n",
       " 'numTraining': 100,\n",
       " 'file_ending': '.nii.gz',\n",
       " 'overwrite_image_reader_writer': 'SimpleITKIO'}"
      ]
     },
     "execution_count": 3,
     "metadata": {},
     "output_type": "execute_result"
    }
   ],
   "source": [
    "import json\n",
    "\n",
    "file_path = os.path.join(data_path, 'nnUNet_raw', id_anorectum, 'dataset.json')\n",
    "\n",
    "with open(file_path, 'r') as file:\n",
    "    data = json.load(file)\n",
    "\n",
    "data"
   ]
  },
  {
   "cell_type": "markdown",
   "metadata": {},
   "source": [
    "## Run Total Segmentator for the Bladder case"
   ]
  },
  {
   "cell_type": "code",
   "execution_count": 4,
   "metadata": {},
   "outputs": [
    {
     "name": "stderr",
     "output_type": "stream",
     "text": [
      "/vol/bitbucket/az620/radiotherapy/.venv/lib/python3.10/site-packages/tqdm/auto.py:21: TqdmWarning: IProgress not found. Please update jupyter and ipywidgets. See https://ipywidgets.readthedocs.io/en/stable/user_install.html\n",
      "  from .autonotebook import tqdm as notebook_tqdm\n"
     ]
    }
   ],
   "source": [
    "import nibabel as nib\n",
    "from totalsegmentator.python_api import totalsegmentator"
   ]
  },
  {
   "cell_type": "code",
   "execution_count": 6,
   "metadata": {},
   "outputs": [
    {
     "name": "stdout",
     "output_type": "stream",
     "text": [
      "processing zzAMLART_001_0000.nii.gz\n",
      "No GPU detected. Running on CPU. This can be very slow. The '--fast' or the `--roi_subset` option can help to reduce runtime.\n"
     ]
    },
    {
     "ename": "KeyboardInterrupt",
     "evalue": "",
     "output_type": "error",
     "traceback": [
      "\u001b[0;31m---------------------------------------------------------------------------\u001b[0m",
      "\u001b[0;31mKeyboardInterrupt\u001b[0m                         Traceback (most recent call last)",
      "Cell \u001b[0;32mIn[6], line 14\u001b[0m\n\u001b[1;32m     11\u001b[0m output_path \u001b[38;5;241m=\u001b[39m os\u001b[38;5;241m.\u001b[39mpath\u001b[38;5;241m.\u001b[39mjoin(bladder_output_path, x)\n\u001b[1;32m     13\u001b[0m img \u001b[38;5;241m=\u001b[39m nib\u001b[38;5;241m.\u001b[39mload(relative_path)\n\u001b[0;32m---> 14\u001b[0m output_img \u001b[38;5;241m=\u001b[39m \u001b[43mtotalsegmentator\u001b[49m\u001b[43m(\u001b[49m\u001b[43mimg\u001b[49m\u001b[43m,\u001b[49m\u001b[43m \u001b[49m\u001b[43mbody_seg\u001b[49m\u001b[38;5;241;43m=\u001b[39;49m\u001b[38;5;28;43;01mTrue\u001b[39;49;00m\u001b[43m,\u001b[49m\u001b[43m \u001b[49m\u001b[43mroi_subset\u001b[49m\u001b[38;5;241;43m=\u001b[39;49m\u001b[43m[\u001b[49m\u001b[38;5;124;43m'\u001b[39;49m\u001b[38;5;124;43murinary_bladder\u001b[39;49m\u001b[38;5;124;43m'\u001b[39;49m\u001b[43m]\u001b[49m\u001b[43m,\u001b[49m\u001b[43m \u001b[49m\u001b[43mquiet\u001b[49m\u001b[38;5;241;43m=\u001b[39;49m\u001b[38;5;28;43;01mTrue\u001b[39;49;00m\u001b[43m)\u001b[49m\n\u001b[1;32m     16\u001b[0m nib\u001b[38;5;241m.\u001b[39msave(output_img, output_path)\n",
      "File \u001b[0;32m/vol/bitbucket/az620/radiotherapy/models/TotalSegmentator/totalsegmentator/python_api.py:294\u001b[0m, in \u001b[0;36mtotalsegmentator\u001b[0;34m(input, output, ml, nr_thr_resamp, nr_thr_saving, fast, nora_tag, preview, task, roi_subset, statistics, radiomics, crop_path, body_seg, force_split, output_type, quiet, verbose, test, skip_saving, device, license_number, statistics_exclude_masks_at_border, no_derived_masks, v1_order, fastest, roi_subset_robust)\u001b[0m\n\u001b[1;32m    292\u001b[0m     crop_model_task \u001b[38;5;241m=\u001b[39m \u001b[38;5;241m298\u001b[39m\n\u001b[1;32m    293\u001b[0m     crop_spacing \u001b[38;5;241m=\u001b[39m \u001b[38;5;241m6.0\u001b[39m\n\u001b[0;32m--> 294\u001b[0m organ_seg, _, _ \u001b[38;5;241m=\u001b[39m \u001b[43mnnUNet_predict_image\u001b[49m\u001b[43m(\u001b[49m\u001b[38;5;28;43minput\u001b[39;49m\u001b[43m,\u001b[49m\u001b[43m \u001b[49m\u001b[38;5;28;43;01mNone\u001b[39;49;00m\u001b[43m,\u001b[49m\u001b[43m \u001b[49m\u001b[43mcrop_model_task\u001b[49m\u001b[43m,\u001b[49m\u001b[43m \u001b[49m\u001b[43mmodel\u001b[49m\u001b[38;5;241;43m=\u001b[39;49m\u001b[38;5;124;43m\"\u001b[39;49m\u001b[38;5;124;43m3d_fullres\u001b[39;49m\u001b[38;5;124;43m\"\u001b[39;49m\u001b[43m,\u001b[49m\u001b[43m \u001b[49m\u001b[43mfolds\u001b[49m\u001b[38;5;241;43m=\u001b[39;49m\u001b[43m[\u001b[49m\u001b[38;5;241;43m0\u001b[39;49m\u001b[43m]\u001b[49m\u001b[43m,\u001b[49m\n\u001b[1;32m    295\u001b[0m \u001b[43m                    \u001b[49m\u001b[43mtrainer\u001b[49m\u001b[38;5;241;43m=\u001b[39;49m\u001b[38;5;124;43m\"\u001b[39;49m\u001b[38;5;124;43mnnUNetTrainer_4000epochs_NoMirroring\u001b[39;49m\u001b[38;5;124;43m\"\u001b[39;49m\u001b[43m,\u001b[49m\u001b[43m \u001b[49m\u001b[43mtta\u001b[49m\u001b[38;5;241;43m=\u001b[39;49m\u001b[38;5;28;43;01mFalse\u001b[39;49;00m\u001b[43m,\u001b[49m\u001b[43m \u001b[49m\u001b[43mmultilabel_image\u001b[49m\u001b[38;5;241;43m=\u001b[39;49m\u001b[38;5;28;43;01mTrue\u001b[39;49;00m\u001b[43m,\u001b[49m\u001b[43m \u001b[49m\u001b[43mresample\u001b[49m\u001b[38;5;241;43m=\u001b[39;49m\u001b[43mcrop_spacing\u001b[49m\u001b[43m,\u001b[49m\n\u001b[1;32m    296\u001b[0m \u001b[43m                    \u001b[49m\u001b[43mcrop\u001b[49m\u001b[38;5;241;43m=\u001b[39;49m\u001b[38;5;28;43;01mNone\u001b[39;49;00m\u001b[43m,\u001b[49m\u001b[43m \u001b[49m\u001b[43mcrop_path\u001b[49m\u001b[38;5;241;43m=\u001b[39;49m\u001b[38;5;28;43;01mNone\u001b[39;49;00m\u001b[43m,\u001b[49m\u001b[43m \u001b[49m\u001b[43mtask_name\u001b[49m\u001b[38;5;241;43m=\u001b[39;49m\u001b[38;5;124;43m\"\u001b[39;49m\u001b[38;5;124;43mtotal\u001b[39;49m\u001b[38;5;124;43m\"\u001b[39;49m\u001b[43m,\u001b[49m\u001b[43m \u001b[49m\u001b[43mnora_tag\u001b[49m\u001b[38;5;241;43m=\u001b[39;49m\u001b[38;5;124;43m\"\u001b[39;49m\u001b[38;5;124;43mNone\u001b[39;49m\u001b[38;5;124;43m\"\u001b[39;49m\u001b[43m,\u001b[49m\u001b[43m \u001b[49m\u001b[43mpreview\u001b[49m\u001b[38;5;241;43m=\u001b[39;49m\u001b[38;5;28;43;01mFalse\u001b[39;49;00m\u001b[43m,\u001b[49m\n\u001b[1;32m    297\u001b[0m \u001b[43m                    \u001b[49m\u001b[43msave_binary\u001b[49m\u001b[38;5;241;43m=\u001b[39;49m\u001b[38;5;28;43;01mFalse\u001b[39;49;00m\u001b[43m,\u001b[49m\u001b[43m \u001b[49m\u001b[43mnr_threads_resampling\u001b[49m\u001b[38;5;241;43m=\u001b[39;49m\u001b[43mnr_thr_resamp\u001b[49m\u001b[43m,\u001b[49m\u001b[43m \u001b[49m\u001b[43mnr_threads_saving\u001b[49m\u001b[38;5;241;43m=\u001b[39;49m\u001b[38;5;241;43m1\u001b[39;49m\u001b[43m,\u001b[49m\n\u001b[1;32m    298\u001b[0m \u001b[43m                    \u001b[49m\u001b[43mcrop_addon\u001b[49m\u001b[38;5;241;43m=\u001b[39;49m\u001b[43mcrop_addon\u001b[49m\u001b[43m,\u001b[49m\u001b[43m \u001b[49m\u001b[43moutput_type\u001b[49m\u001b[38;5;241;43m=\u001b[39;49m\u001b[43moutput_type\u001b[49m\u001b[43m,\u001b[49m\u001b[43m \u001b[49m\u001b[43mstatistics\u001b[49m\u001b[38;5;241;43m=\u001b[39;49m\u001b[38;5;28;43;01mFalse\u001b[39;49;00m\u001b[43m,\u001b[49m\n\u001b[1;32m    299\u001b[0m \u001b[43m                    \u001b[49m\u001b[43mquiet\u001b[49m\u001b[38;5;241;43m=\u001b[39;49m\u001b[43mquiet\u001b[49m\u001b[43m,\u001b[49m\u001b[43m \u001b[49m\u001b[43mverbose\u001b[49m\u001b[38;5;241;43m=\u001b[39;49m\u001b[43mverbose\u001b[49m\u001b[43m,\u001b[49m\u001b[43m \u001b[49m\u001b[43mtest\u001b[49m\u001b[38;5;241;43m=\u001b[39;49m\u001b[38;5;241;43m0\u001b[39;49m\u001b[43m,\u001b[49m\u001b[43m \u001b[49m\u001b[43mskip_saving\u001b[49m\u001b[38;5;241;43m=\u001b[39;49m\u001b[38;5;28;43;01mFalse\u001b[39;49;00m\u001b[43m,\u001b[49m\u001b[43m \u001b[49m\u001b[43mdevice\u001b[49m\u001b[38;5;241;43m=\u001b[39;49m\u001b[43mdevice\u001b[49m\u001b[43m)\u001b[49m\n\u001b[1;32m    300\u001b[0m class_map_inv \u001b[38;5;241m=\u001b[39m {v: k \u001b[38;5;28;01mfor\u001b[39;00m k, v \u001b[38;5;129;01min\u001b[39;00m class_map[\u001b[38;5;124m\"\u001b[39m\u001b[38;5;124mtotal\u001b[39m\u001b[38;5;124m\"\u001b[39m]\u001b[38;5;241m.\u001b[39mitems()}\n\u001b[1;32m    301\u001b[0m crop_mask \u001b[38;5;241m=\u001b[39m np\u001b[38;5;241m.\u001b[39mzeros(organ_seg\u001b[38;5;241m.\u001b[39mshape, dtype\u001b[38;5;241m=\u001b[39mnp\u001b[38;5;241m.\u001b[39muint8)\n",
      "File \u001b[0;32m/vol/bitbucket/az620/radiotherapy/models/TotalSegmentator/totalsegmentator/nnunet.py:464\u001b[0m, in \u001b[0;36mnnUNet_predict_image\u001b[0;34m(file_in, file_out, task_id, model, folds, trainer, tta, multilabel_image, resample, crop, crop_path, task_name, nora_tag, preview, save_binary, nr_threads_resampling, nr_threads_saving, force_split, crop_addon, roi_subset, output_type, statistics, quiet, verbose, test, skip_saving, device, exclude_masks_at_border, no_derived_masks, v1_order)\u001b[0m\n\u001b[1;32m    460\u001b[0m \u001b[38;5;28;01mif\u001b[39;00m test \u001b[38;5;241m==\u001b[39m \u001b[38;5;241m0\u001b[39m:\n\u001b[1;32m    461\u001b[0m     \u001b[38;5;28;01mwith\u001b[39;00m nostdout(verbose):\n\u001b[1;32m    462\u001b[0m         \u001b[38;5;66;03m# nnUNet_predict(tmp_dir, tmp_dir, task_id, model, folds, trainer, tta,\u001b[39;00m\n\u001b[1;32m    463\u001b[0m         \u001b[38;5;66;03m#                nr_threads_resampling, nr_threads_saving)\u001b[39;00m\n\u001b[0;32m--> 464\u001b[0m         \u001b[43mnnUNetv2_predict\u001b[49m\u001b[43m(\u001b[49m\u001b[43mtmp_dir\u001b[49m\u001b[43m,\u001b[49m\u001b[43m \u001b[49m\u001b[43mtmp_dir\u001b[49m\u001b[43m,\u001b[49m\u001b[43m \u001b[49m\u001b[43mtask_id\u001b[49m\u001b[43m,\u001b[49m\u001b[43m \u001b[49m\u001b[43mmodel\u001b[49m\u001b[43m,\u001b[49m\u001b[43m \u001b[49m\u001b[43mfolds\u001b[49m\u001b[43m,\u001b[49m\u001b[43m \u001b[49m\u001b[43mtrainer\u001b[49m\u001b[43m,\u001b[49m\u001b[43m \u001b[49m\u001b[43mtta\u001b[49m\u001b[43m,\u001b[49m\n\u001b[1;32m    465\u001b[0m \u001b[43m                         \u001b[49m\u001b[43mnr_threads_resampling\u001b[49m\u001b[43m,\u001b[49m\u001b[43m \u001b[49m\u001b[43mnr_threads_saving\u001b[49m\u001b[43m,\u001b[49m\n\u001b[1;32m    466\u001b[0m \u001b[43m                         \u001b[49m\u001b[43mdevice\u001b[49m\u001b[38;5;241;43m=\u001b[39;49m\u001b[43mdevice\u001b[49m\u001b[43m,\u001b[49m\u001b[43m \u001b[49m\u001b[43mquiet\u001b[49m\u001b[38;5;241;43m=\u001b[39;49m\u001b[43mquiet\u001b[49m\u001b[43m,\u001b[49m\u001b[43m \u001b[49m\u001b[43mstep_size\u001b[49m\u001b[38;5;241;43m=\u001b[39;49m\u001b[43mstep_size\u001b[49m\u001b[43m)\u001b[49m\n\u001b[1;32m    467\u001b[0m \u001b[38;5;66;03m# elif test == 2:\u001b[39;00m\n\u001b[1;32m    468\u001b[0m \u001b[38;5;66;03m#     print(\"WARNING: Using reference seg instead of prediction for testing.\")\u001b[39;00m\n\u001b[1;32m    469\u001b[0m \u001b[38;5;66;03m#     shutil.copy(Path(\"tests\") / \"reference_files\" / \"example_seg_fast.nii.gz\", tmp_dir / f\"s01.nii.gz\")\u001b[39;00m\n\u001b[1;32m    470\u001b[0m \u001b[38;5;28;01melif\u001b[39;00m test \u001b[38;5;241m==\u001b[39m \u001b[38;5;241m3\u001b[39m:\n",
      "File \u001b[0;32m/vol/bitbucket/az620/radiotherapy/models/TotalSegmentator/totalsegmentator/nnunet.py:247\u001b[0m, in \u001b[0;36mnnUNetv2_predict\u001b[0;34m(dir_in, dir_out, task_id, model, folds, trainer, tta, num_threads_preprocessing, num_threads_nifti_save, plans, device, quiet, step_size)\u001b[0m\n\u001b[1;32m    232\u001b[0m     predictor \u001b[38;5;241m=\u001b[39m nnUNetPredictor(\n\u001b[1;32m    233\u001b[0m         tile_step_size\u001b[38;5;241m=\u001b[39mstep_size,\n\u001b[1;32m    234\u001b[0m         use_gaussian\u001b[38;5;241m=\u001b[39m\u001b[38;5;28;01mTrue\u001b[39;00m,\n\u001b[0;32m   (...)\u001b[0m\n\u001b[1;32m    240\u001b[0m         allow_tqdm\u001b[38;5;241m=\u001b[39mallow_tqdm\n\u001b[1;32m    241\u001b[0m     )\n\u001b[1;32m    242\u001b[0m predictor\u001b[38;5;241m.\u001b[39minitialize_from_trained_model_folder(\n\u001b[1;32m    243\u001b[0m     model_folder,\n\u001b[1;32m    244\u001b[0m     use_folds\u001b[38;5;241m=\u001b[39mfolds,\n\u001b[1;32m    245\u001b[0m     checkpoint_name\u001b[38;5;241m=\u001b[39mchk,\n\u001b[1;32m    246\u001b[0m )\n\u001b[0;32m--> 247\u001b[0m \u001b[43mpredictor\u001b[49m\u001b[38;5;241;43m.\u001b[39;49m\u001b[43mpredict_from_files\u001b[49m\u001b[43m(\u001b[49m\u001b[43mdir_in\u001b[49m\u001b[43m,\u001b[49m\u001b[43m \u001b[49m\u001b[43mdir_out\u001b[49m\u001b[43m,\u001b[49m\n\u001b[1;32m    248\u001b[0m \u001b[43m                             \u001b[49m\u001b[43msave_probabilities\u001b[49m\u001b[38;5;241;43m=\u001b[39;49m\u001b[43msave_probabilities\u001b[49m\u001b[43m,\u001b[49m\u001b[43m \u001b[49m\u001b[43moverwrite\u001b[49m\u001b[38;5;241;43m=\u001b[39;49m\u001b[38;5;129;43;01mnot\u001b[39;49;00m\u001b[43m \u001b[49m\u001b[43mcontinue_prediction\u001b[49m\u001b[43m,\u001b[49m\n\u001b[1;32m    249\u001b[0m \u001b[43m                             \u001b[49m\u001b[43mnum_processes_preprocessing\u001b[49m\u001b[38;5;241;43m=\u001b[39;49m\u001b[43mnpp\u001b[49m\u001b[43m,\u001b[49m\u001b[43m \u001b[49m\u001b[43mnum_processes_segmentation_export\u001b[49m\u001b[38;5;241;43m=\u001b[39;49m\u001b[43mnps\u001b[49m\u001b[43m,\u001b[49m\n\u001b[1;32m    250\u001b[0m \u001b[43m                             \u001b[49m\u001b[43mfolder_with_segs_from_prev_stage\u001b[49m\u001b[38;5;241;43m=\u001b[39;49m\u001b[43mprev_stage_predictions\u001b[49m\u001b[43m,\u001b[49m\n\u001b[1;32m    251\u001b[0m \u001b[43m                             \u001b[49m\u001b[43mnum_parts\u001b[49m\u001b[38;5;241;43m=\u001b[39;49m\u001b[43mnum_parts\u001b[49m\u001b[43m,\u001b[49m\u001b[43m \u001b[49m\u001b[43mpart_id\u001b[49m\u001b[38;5;241;43m=\u001b[39;49m\u001b[43mpart_id\u001b[49m\u001b[43m)\u001b[49m\n",
      "File \u001b[0;32m/vol/bitbucket/az620/radiotherapy/models/nnUNet/nnunetv2/inference/predict_from_raw_data.py:257\u001b[0m, in \u001b[0;36mnnUNetPredictor.predict_from_files\u001b[0;34m(self, list_of_lists_or_source_folder, output_folder_or_list_of_truncated_output_files, save_probabilities, overwrite, num_processes_preprocessing, num_processes_segmentation_export, folder_with_segs_from_prev_stage, num_parts, part_id)\u001b[0m\n\u001b[1;32m    250\u001b[0m     \u001b[38;5;28;01mreturn\u001b[39;00m\n\u001b[1;32m    252\u001b[0m data_iterator \u001b[38;5;241m=\u001b[39m \u001b[38;5;28mself\u001b[39m\u001b[38;5;241m.\u001b[39m_internal_get_data_iterator_from_lists_of_filenames(list_of_lists_or_source_folder,\n\u001b[1;32m    253\u001b[0m                                                                          seg_from_prev_stage_files,\n\u001b[1;32m    254\u001b[0m                                                                          output_filename_truncated,\n\u001b[1;32m    255\u001b[0m                                                                          num_processes_preprocessing)\n\u001b[0;32m--> 257\u001b[0m \u001b[38;5;28;01mreturn\u001b[39;00m \u001b[38;5;28;43mself\u001b[39;49m\u001b[38;5;241;43m.\u001b[39;49m\u001b[43mpredict_from_data_iterator\u001b[49m\u001b[43m(\u001b[49m\u001b[43mdata_iterator\u001b[49m\u001b[43m,\u001b[49m\u001b[43m \u001b[49m\u001b[43msave_probabilities\u001b[49m\u001b[43m,\u001b[49m\u001b[43m \u001b[49m\u001b[43mnum_processes_segmentation_export\u001b[49m\u001b[43m)\u001b[49m\n",
      "File \u001b[0;32m/vol/bitbucket/az620/radiotherapy/models/nnUNet/nnunetv2/inference/predict_from_raw_data.py:350\u001b[0m, in \u001b[0;36mnnUNetPredictor.predict_from_data_iterator\u001b[0;34m(self, data_iterator, save_probabilities, num_processes_segmentation_export)\u001b[0m\n\u001b[1;32m    348\u001b[0m worker_list \u001b[38;5;241m=\u001b[39m [i \u001b[38;5;28;01mfor\u001b[39;00m i \u001b[38;5;129;01min\u001b[39;00m export_pool\u001b[38;5;241m.\u001b[39m_pool]\n\u001b[1;32m    349\u001b[0m r \u001b[38;5;241m=\u001b[39m []\n\u001b[0;32m--> 350\u001b[0m \u001b[38;5;28;01mfor\u001b[39;00m preprocessed \u001b[38;5;129;01min\u001b[39;00m data_iterator:\n\u001b[1;32m    351\u001b[0m     data \u001b[38;5;241m=\u001b[39m preprocessed[\u001b[38;5;124m'\u001b[39m\u001b[38;5;124mdata\u001b[39m\u001b[38;5;124m'\u001b[39m]\n\u001b[1;32m    352\u001b[0m     \u001b[38;5;28;01mif\u001b[39;00m \u001b[38;5;28misinstance\u001b[39m(data, \u001b[38;5;28mstr\u001b[39m):\n",
      "File \u001b[0;32m/vol/bitbucket/az620/radiotherapy/models/nnUNet/nnunetv2/inference/data_iterators.py:114\u001b[0m, in \u001b[0;36mpreprocessing_iterator_fromfiles\u001b[0;34m(list_of_lists, list_of_segs_from_prev_stage_files, output_filenames_truncated, plans_manager, dataset_json, configuration_manager, num_processes, pin_memory, verbose)\u001b[0m\n\u001b[1;32m    110\u001b[0m     \u001b[38;5;28;01mif\u001b[39;00m \u001b[38;5;129;01mnot\u001b[39;00m all_ok:\n\u001b[1;32m    111\u001b[0m         \u001b[38;5;28;01mraise\u001b[39;00m \u001b[38;5;167;01mRuntimeError\u001b[39;00m(\u001b[38;5;124m'\u001b[39m\u001b[38;5;124mBackground workers died. Look for the error message further up! If there is \u001b[39m\u001b[38;5;124m'\u001b[39m\n\u001b[1;32m    112\u001b[0m                            \u001b[38;5;124m'\u001b[39m\u001b[38;5;124mnone then your RAM was full and the worker was killed by the OS. Use fewer \u001b[39m\u001b[38;5;124m'\u001b[39m\n\u001b[1;32m    113\u001b[0m                            \u001b[38;5;124m'\u001b[39m\u001b[38;5;124mworkers or get more RAM in that case!\u001b[39m\u001b[38;5;124m'\u001b[39m)\n\u001b[0;32m--> 114\u001b[0m     \u001b[43msleep\u001b[49m\u001b[43m(\u001b[49m\u001b[38;5;241;43m0.01\u001b[39;49m\u001b[43m)\u001b[49m\n\u001b[1;32m    115\u001b[0m     \u001b[38;5;28;01mcontinue\u001b[39;00m\n\u001b[1;32m    116\u001b[0m \u001b[38;5;28;01mif\u001b[39;00m pin_memory:\n",
      "\u001b[0;31mKeyboardInterrupt\u001b[0m: "
     ]
    }
   ],
   "source": [
    "import os\n",
    "bladder_raw_data_x = os.path.join(data_path, 'nnUNet_raw', id_bladder, 'imagesTr')\n",
    "bladder_output_path = os.path.join(data_path, 'TotalSegmentator', id_bladder, 'imagesTs')\n",
    "\n",
    "os.makedirs(bladder_output_path, exist_ok=True)\n",
    "\n",
    "for x in sorted(os.listdir(bladder_raw_data_x)):\n",
    "    print(f'processing {x}')\n",
    "    relative_path = os.path.join(bladder_raw_data_x, x)\n",
    "    output_path = os.path.join(bladder_output_path, x)\n",
    "\n",
    "    img = nib.load(relative_path)\n",
    "    output_img = totalsegmentator(img, body_seg=True, roi_subset=['urinary_bladder'])\n",
    "\n",
    "    nib.save(output_img, output_path)"
   ]
  },
  {
   "cell_type": "code",
   "execution_count": 2,
   "metadata": {},
   "outputs": [
    {
     "name": "stdout",
     "output_type": "stream",
     "text": [
      "TotalSegmentator -i $nnUNet_raw/Dataset002_Bladder/imagesTr/grep zzAMLART_00_000.nii.gz -o segmentations --body_seg --roi_subset urinary_bladder\n",
      "TotalSegmentator -i $nnUNet_raw/Dataset002_Bladder/imagesTr/grep zzAMLART_00_001.nii.gz -o segmentations --body_seg --roi_subset urinary_bladder\n",
      "TotalSegmentator -i $nnUNet_raw/Dataset002_Bladder/imagesTr/grep zzAMLART_00_002.nii.gz -o segmentations --body_seg --roi_subset urinary_bladder\n",
      "TotalSegmentator -i $nnUNet_raw/Dataset002_Bladder/imagesTr/grep zzAMLART_00_003.nii.gz -o segmentations --body_seg --roi_subset urinary_bladder\n",
      "TotalSegmentator -i $nnUNet_raw/Dataset002_Bladder/imagesTr/grep zzAMLART_00_004.nii.gz -o segmentations --body_seg --roi_subset urinary_bladder\n",
      "TotalSegmentator -i $nnUNet_raw/Dataset002_Bladder/imagesTr/grep zzAMLART_00_005.nii.gz -o segmentations --body_seg --roi_subset urinary_bladder\n",
      "TotalSegmentator -i $nnUNet_raw/Dataset002_Bladder/imagesTr/grep zzAMLART_00_006.nii.gz -o segmentations --body_seg --roi_subset urinary_bladder\n",
      "TotalSegmentator -i $nnUNet_raw/Dataset002_Bladder/imagesTr/grep zzAMLART_00_007.nii.gz -o segmentations --body_seg --roi_subset urinary_bladder\n",
      "TotalSegmentator -i $nnUNet_raw/Dataset002_Bladder/imagesTr/grep zzAMLART_00_008.nii.gz -o segmentations --body_seg --roi_subset urinary_bladder\n",
      "TotalSegmentator -i $nnUNet_raw/Dataset002_Bladder/imagesTr/grep zzAMLART_00_009.nii.gz -o segmentations --body_seg --roi_subset urinary_bladder\n",
      "TotalSegmentator -i $nnUNet_raw/Dataset002_Bladder/imagesTr/grep zzAMLART_00_010.nii.gz -o segmentations --body_seg --roi_subset urinary_bladder\n",
      "TotalSegmentator -i $nnUNet_raw/Dataset002_Bladder/imagesTr/grep zzAMLART_00_011.nii.gz -o segmentations --body_seg --roi_subset urinary_bladder\n",
      "TotalSegmentator -i $nnUNet_raw/Dataset002_Bladder/imagesTr/grep zzAMLART_00_012.nii.gz -o segmentations --body_seg --roi_subset urinary_bladder\n",
      "TotalSegmentator -i $nnUNet_raw/Dataset002_Bladder/imagesTr/grep zzAMLART_00_013.nii.gz -o segmentations --body_seg --roi_subset urinary_bladder\n",
      "TotalSegmentator -i $nnUNet_raw/Dataset002_Bladder/imagesTr/grep zzAMLART_00_014.nii.gz -o segmentations --body_seg --roi_subset urinary_bladder\n",
      "TotalSegmentator -i $nnUNet_raw/Dataset002_Bladder/imagesTr/grep zzAMLART_00_015.nii.gz -o segmentations --body_seg --roi_subset urinary_bladder\n",
      "TotalSegmentator -i $nnUNet_raw/Dataset002_Bladder/imagesTr/grep zzAMLART_00_016.nii.gz -o segmentations --body_seg --roi_subset urinary_bladder\n",
      "TotalSegmentator -i $nnUNet_raw/Dataset002_Bladder/imagesTr/grep zzAMLART_00_017.nii.gz -o segmentations --body_seg --roi_subset urinary_bladder\n",
      "TotalSegmentator -i $nnUNet_raw/Dataset002_Bladder/imagesTr/grep zzAMLART_00_018.nii.gz -o segmentations --body_seg --roi_subset urinary_bladder\n",
      "TotalSegmentator -i $nnUNet_raw/Dataset002_Bladder/imagesTr/grep zzAMLART_00_019.nii.gz -o segmentations --body_seg --roi_subset urinary_bladder\n",
      "TotalSegmentator -i $nnUNet_raw/Dataset002_Bladder/imagesTr/grep zzAMLART_00_020.nii.gz -o segmentations --body_seg --roi_subset urinary_bladder\n",
      "TotalSegmentator -i $nnUNet_raw/Dataset002_Bladder/imagesTr/grep zzAMLART_00_021.nii.gz -o segmentations --body_seg --roi_subset urinary_bladder\n",
      "TotalSegmentator -i $nnUNet_raw/Dataset002_Bladder/imagesTr/grep zzAMLART_00_022.nii.gz -o segmentations --body_seg --roi_subset urinary_bladder\n",
      "TotalSegmentator -i $nnUNet_raw/Dataset002_Bladder/imagesTr/grep zzAMLART_00_023.nii.gz -o segmentations --body_seg --roi_subset urinary_bladder\n",
      "TotalSegmentator -i $nnUNet_raw/Dataset002_Bladder/imagesTr/grep zzAMLART_00_024.nii.gz -o segmentations --body_seg --roi_subset urinary_bladder\n",
      "TotalSegmentator -i $nnUNet_raw/Dataset002_Bladder/imagesTr/grep zzAMLART_00_025.nii.gz -o segmentations --body_seg --roi_subset urinary_bladder\n",
      "TotalSegmentator -i $nnUNet_raw/Dataset002_Bladder/imagesTr/grep zzAMLART_00_026.nii.gz -o segmentations --body_seg --roi_subset urinary_bladder\n",
      "TotalSegmentator -i $nnUNet_raw/Dataset002_Bladder/imagesTr/grep zzAMLART_00_027.nii.gz -o segmentations --body_seg --roi_subset urinary_bladder\n",
      "TotalSegmentator -i $nnUNet_raw/Dataset002_Bladder/imagesTr/grep zzAMLART_00_028.nii.gz -o segmentations --body_seg --roi_subset urinary_bladder\n",
      "TotalSegmentator -i $nnUNet_raw/Dataset002_Bladder/imagesTr/grep zzAMLART_00_029.nii.gz -o segmentations --body_seg --roi_subset urinary_bladder\n",
      "TotalSegmentator -i $nnUNet_raw/Dataset002_Bladder/imagesTr/grep zzAMLART_00_030.nii.gz -o segmentations --body_seg --roi_subset urinary_bladder\n",
      "TotalSegmentator -i $nnUNet_raw/Dataset002_Bladder/imagesTr/grep zzAMLART_00_031.nii.gz -o segmentations --body_seg --roi_subset urinary_bladder\n",
      "TotalSegmentator -i $nnUNet_raw/Dataset002_Bladder/imagesTr/grep zzAMLART_00_032.nii.gz -o segmentations --body_seg --roi_subset urinary_bladder\n",
      "TotalSegmentator -i $nnUNet_raw/Dataset002_Bladder/imagesTr/grep zzAMLART_00_033.nii.gz -o segmentations --body_seg --roi_subset urinary_bladder\n",
      "TotalSegmentator -i $nnUNet_raw/Dataset002_Bladder/imagesTr/grep zzAMLART_00_034.nii.gz -o segmentations --body_seg --roi_subset urinary_bladder\n",
      "TotalSegmentator -i $nnUNet_raw/Dataset002_Bladder/imagesTr/grep zzAMLART_00_035.nii.gz -o segmentations --body_seg --roi_subset urinary_bladder\n",
      "TotalSegmentator -i $nnUNet_raw/Dataset002_Bladder/imagesTr/grep zzAMLART_00_036.nii.gz -o segmentations --body_seg --roi_subset urinary_bladder\n",
      "TotalSegmentator -i $nnUNet_raw/Dataset002_Bladder/imagesTr/grep zzAMLART_00_037.nii.gz -o segmentations --body_seg --roi_subset urinary_bladder\n",
      "TotalSegmentator -i $nnUNet_raw/Dataset002_Bladder/imagesTr/grep zzAMLART_00_038.nii.gz -o segmentations --body_seg --roi_subset urinary_bladder\n",
      "TotalSegmentator -i $nnUNet_raw/Dataset002_Bladder/imagesTr/grep zzAMLART_00_039.nii.gz -o segmentations --body_seg --roi_subset urinary_bladder\n",
      "TotalSegmentator -i $nnUNet_raw/Dataset002_Bladder/imagesTr/grep zzAMLART_00_040.nii.gz -o segmentations --body_seg --roi_subset urinary_bladder\n",
      "TotalSegmentator -i $nnUNet_raw/Dataset002_Bladder/imagesTr/grep zzAMLART_00_041.nii.gz -o segmentations --body_seg --roi_subset urinary_bladder\n",
      "TotalSegmentator -i $nnUNet_raw/Dataset002_Bladder/imagesTr/grep zzAMLART_00_042.nii.gz -o segmentations --body_seg --roi_subset urinary_bladder\n",
      "TotalSegmentator -i $nnUNet_raw/Dataset002_Bladder/imagesTr/grep zzAMLART_00_043.nii.gz -o segmentations --body_seg --roi_subset urinary_bladder\n",
      "TotalSegmentator -i $nnUNet_raw/Dataset002_Bladder/imagesTr/grep zzAMLART_00_044.nii.gz -o segmentations --body_seg --roi_subset urinary_bladder\n",
      "TotalSegmentator -i $nnUNet_raw/Dataset002_Bladder/imagesTr/grep zzAMLART_00_045.nii.gz -o segmentations --body_seg --roi_subset urinary_bladder\n",
      "TotalSegmentator -i $nnUNet_raw/Dataset002_Bladder/imagesTr/grep zzAMLART_00_046.nii.gz -o segmentations --body_seg --roi_subset urinary_bladder\n",
      "TotalSegmentator -i $nnUNet_raw/Dataset002_Bladder/imagesTr/grep zzAMLART_00_047.nii.gz -o segmentations --body_seg --roi_subset urinary_bladder\n",
      "TotalSegmentator -i $nnUNet_raw/Dataset002_Bladder/imagesTr/grep zzAMLART_00_048.nii.gz -o segmentations --body_seg --roi_subset urinary_bladder\n",
      "TotalSegmentator -i $nnUNet_raw/Dataset002_Bladder/imagesTr/grep zzAMLART_00_049.nii.gz -o segmentations --body_seg --roi_subset urinary_bladder\n",
      "TotalSegmentator -i $nnUNet_raw/Dataset002_Bladder/imagesTr/grep zzAMLART_00_050.nii.gz -o segmentations --body_seg --roi_subset urinary_bladder\n",
      "TotalSegmentator -i $nnUNet_raw/Dataset002_Bladder/imagesTr/grep zzAMLART_00_051.nii.gz -o segmentations --body_seg --roi_subset urinary_bladder\n",
      "TotalSegmentator -i $nnUNet_raw/Dataset002_Bladder/imagesTr/grep zzAMLART_00_052.nii.gz -o segmentations --body_seg --roi_subset urinary_bladder\n",
      "TotalSegmentator -i $nnUNet_raw/Dataset002_Bladder/imagesTr/grep zzAMLART_00_053.nii.gz -o segmentations --body_seg --roi_subset urinary_bladder\n",
      "TotalSegmentator -i $nnUNet_raw/Dataset002_Bladder/imagesTr/grep zzAMLART_00_054.nii.gz -o segmentations --body_seg --roi_subset urinary_bladder\n",
      "TotalSegmentator -i $nnUNet_raw/Dataset002_Bladder/imagesTr/grep zzAMLART_00_055.nii.gz -o segmentations --body_seg --roi_subset urinary_bladder\n",
      "TotalSegmentator -i $nnUNet_raw/Dataset002_Bladder/imagesTr/grep zzAMLART_00_056.nii.gz -o segmentations --body_seg --roi_subset urinary_bladder\n",
      "TotalSegmentator -i $nnUNet_raw/Dataset002_Bladder/imagesTr/grep zzAMLART_00_057.nii.gz -o segmentations --body_seg --roi_subset urinary_bladder\n",
      "TotalSegmentator -i $nnUNet_raw/Dataset002_Bladder/imagesTr/grep zzAMLART_00_058.nii.gz -o segmentations --body_seg --roi_subset urinary_bladder\n",
      "TotalSegmentator -i $nnUNet_raw/Dataset002_Bladder/imagesTr/grep zzAMLART_00_059.nii.gz -o segmentations --body_seg --roi_subset urinary_bladder\n",
      "TotalSegmentator -i $nnUNet_raw/Dataset002_Bladder/imagesTr/grep zzAMLART_00_060.nii.gz -o segmentations --body_seg --roi_subset urinary_bladder\n",
      "TotalSegmentator -i $nnUNet_raw/Dataset002_Bladder/imagesTr/grep zzAMLART_00_061.nii.gz -o segmentations --body_seg --roi_subset urinary_bladder\n",
      "TotalSegmentator -i $nnUNet_raw/Dataset002_Bladder/imagesTr/grep zzAMLART_00_062.nii.gz -o segmentations --body_seg --roi_subset urinary_bladder\n",
      "TotalSegmentator -i $nnUNet_raw/Dataset002_Bladder/imagesTr/grep zzAMLART_00_063.nii.gz -o segmentations --body_seg --roi_subset urinary_bladder\n",
      "TotalSegmentator -i $nnUNet_raw/Dataset002_Bladder/imagesTr/grep zzAMLART_00_064.nii.gz -o segmentations --body_seg --roi_subset urinary_bladder\n",
      "TotalSegmentator -i $nnUNet_raw/Dataset002_Bladder/imagesTr/grep zzAMLART_00_065.nii.gz -o segmentations --body_seg --roi_subset urinary_bladder\n",
      "TotalSegmentator -i $nnUNet_raw/Dataset002_Bladder/imagesTr/grep zzAMLART_00_066.nii.gz -o segmentations --body_seg --roi_subset urinary_bladder\n",
      "TotalSegmentator -i $nnUNet_raw/Dataset002_Bladder/imagesTr/grep zzAMLART_00_067.nii.gz -o segmentations --body_seg --roi_subset urinary_bladder\n",
      "TotalSegmentator -i $nnUNet_raw/Dataset002_Bladder/imagesTr/grep zzAMLART_00_068.nii.gz -o segmentations --body_seg --roi_subset urinary_bladder\n",
      "TotalSegmentator -i $nnUNet_raw/Dataset002_Bladder/imagesTr/grep zzAMLART_00_069.nii.gz -o segmentations --body_seg --roi_subset urinary_bladder\n",
      "TotalSegmentator -i $nnUNet_raw/Dataset002_Bladder/imagesTr/grep zzAMLART_00_070.nii.gz -o segmentations --body_seg --roi_subset urinary_bladder\n",
      "TotalSegmentator -i $nnUNet_raw/Dataset002_Bladder/imagesTr/grep zzAMLART_00_071.nii.gz -o segmentations --body_seg --roi_subset urinary_bladder\n",
      "TotalSegmentator -i $nnUNet_raw/Dataset002_Bladder/imagesTr/grep zzAMLART_00_072.nii.gz -o segmentations --body_seg --roi_subset urinary_bladder\n",
      "TotalSegmentator -i $nnUNet_raw/Dataset002_Bladder/imagesTr/grep zzAMLART_00_073.nii.gz -o segmentations --body_seg --roi_subset urinary_bladder\n",
      "TotalSegmentator -i $nnUNet_raw/Dataset002_Bladder/imagesTr/grep zzAMLART_00_074.nii.gz -o segmentations --body_seg --roi_subset urinary_bladder\n",
      "TotalSegmentator -i $nnUNet_raw/Dataset002_Bladder/imagesTr/grep zzAMLART_00_075.nii.gz -o segmentations --body_seg --roi_subset urinary_bladder\n",
      "TotalSegmentator -i $nnUNet_raw/Dataset002_Bladder/imagesTr/grep zzAMLART_00_076.nii.gz -o segmentations --body_seg --roi_subset urinary_bladder\n",
      "TotalSegmentator -i $nnUNet_raw/Dataset002_Bladder/imagesTr/grep zzAMLART_00_077.nii.gz -o segmentations --body_seg --roi_subset urinary_bladder\n",
      "TotalSegmentator -i $nnUNet_raw/Dataset002_Bladder/imagesTr/grep zzAMLART_00_078.nii.gz -o segmentations --body_seg --roi_subset urinary_bladder\n",
      "TotalSegmentator -i $nnUNet_raw/Dataset002_Bladder/imagesTr/grep zzAMLART_00_079.nii.gz -o segmentations --body_seg --roi_subset urinary_bladder\n",
      "TotalSegmentator -i $nnUNet_raw/Dataset002_Bladder/imagesTr/grep zzAMLART_00_080.nii.gz -o segmentations --body_seg --roi_subset urinary_bladder\n",
      "TotalSegmentator -i $nnUNet_raw/Dataset002_Bladder/imagesTr/grep zzAMLART_00_081.nii.gz -o segmentations --body_seg --roi_subset urinary_bladder\n",
      "TotalSegmentator -i $nnUNet_raw/Dataset002_Bladder/imagesTr/grep zzAMLART_00_082.nii.gz -o segmentations --body_seg --roi_subset urinary_bladder\n",
      "TotalSegmentator -i $nnUNet_raw/Dataset002_Bladder/imagesTr/grep zzAMLART_00_083.nii.gz -o segmentations --body_seg --roi_subset urinary_bladder\n",
      "TotalSegmentator -i $nnUNet_raw/Dataset002_Bladder/imagesTr/grep zzAMLART_00_084.nii.gz -o segmentations --body_seg --roi_subset urinary_bladder\n",
      "TotalSegmentator -i $nnUNet_raw/Dataset002_Bladder/imagesTr/grep zzAMLART_00_085.nii.gz -o segmentations --body_seg --roi_subset urinary_bladder\n",
      "TotalSegmentator -i $nnUNet_raw/Dataset002_Bladder/imagesTr/grep zzAMLART_00_086.nii.gz -o segmentations --body_seg --roi_subset urinary_bladder\n",
      "TotalSegmentator -i $nnUNet_raw/Dataset002_Bladder/imagesTr/grep zzAMLART_00_087.nii.gz -o segmentations --body_seg --roi_subset urinary_bladder\n",
      "TotalSegmentator -i $nnUNet_raw/Dataset002_Bladder/imagesTr/grep zzAMLART_00_088.nii.gz -o segmentations --body_seg --roi_subset urinary_bladder\n",
      "TotalSegmentator -i $nnUNet_raw/Dataset002_Bladder/imagesTr/grep zzAMLART_00_089.nii.gz -o segmentations --body_seg --roi_subset urinary_bladder\n",
      "TotalSegmentator -i $nnUNet_raw/Dataset002_Bladder/imagesTr/grep zzAMLART_00_090.nii.gz -o segmentations --body_seg --roi_subset urinary_bladder\n",
      "TotalSegmentator -i $nnUNet_raw/Dataset002_Bladder/imagesTr/grep zzAMLART_00_091.nii.gz -o segmentations --body_seg --roi_subset urinary_bladder\n",
      "TotalSegmentator -i $nnUNet_raw/Dataset002_Bladder/imagesTr/grep zzAMLART_00_092.nii.gz -o segmentations --body_seg --roi_subset urinary_bladder\n",
      "TotalSegmentator -i $nnUNet_raw/Dataset002_Bladder/imagesTr/grep zzAMLART_00_093.nii.gz -o segmentations --body_seg --roi_subset urinary_bladder\n",
      "TotalSegmentator -i $nnUNet_raw/Dataset002_Bladder/imagesTr/grep zzAMLART_00_094.nii.gz -o segmentations --body_seg --roi_subset urinary_bladder\n",
      "TotalSegmentator -i $nnUNet_raw/Dataset002_Bladder/imagesTr/grep zzAMLART_00_095.nii.gz -o segmentations --body_seg --roi_subset urinary_bladder\n",
      "TotalSegmentator -i $nnUNet_raw/Dataset002_Bladder/imagesTr/grep zzAMLART_00_096.nii.gz -o segmentations --body_seg --roi_subset urinary_bladder\n",
      "TotalSegmentator -i $nnUNet_raw/Dataset002_Bladder/imagesTr/grep zzAMLART_00_097.nii.gz -o segmentations --body_seg --roi_subset urinary_bladder\n",
      "TotalSegmentator -i $nnUNet_raw/Dataset002_Bladder/imagesTr/grep zzAMLART_00_098.nii.gz -o segmentations --body_seg --roi_subset urinary_bladder\n",
      "TotalSegmentator -i $nnUNet_raw/Dataset002_Bladder/imagesTr/grep zzAMLART_00_099.nii.gz -o segmentations --body_seg --roi_subset urinary_bladder\n",
      "TotalSegmentator -i $nnUNet_raw/Dataset002_Bladder/imagesTr/grep zzAMLART_00_100.nii.gz -o segmentations --body_seg --roi_subset urinary_bladder\n"
     ]
    }
   ],
   "source": [
    "for i in range(0, 101):\n",
    "    formatted_i = str(i).zfill(3)\n",
    "    print(f'TotalSegmentator -i $nnUNet_raw/Dataset002_Bladder/imagesTr/grep zzAMLART_00_{formatted_i}.nii.gz -o segmentations --body_seg --roi_subset urinary_bladder')  "
   ]
  }
 ],
 "metadata": {
  "kernelspec": {
   "display_name": ".venv",
   "language": "python",
   "name": "python3"
  },
  "language_info": {
   "codemirror_mode": {
    "name": "ipython",
    "version": 3
   },
   "file_extension": ".py",
   "mimetype": "text/x-python",
   "name": "python",
   "nbconvert_exporter": "python",
   "pygments_lexer": "ipython3",
   "version": "3.10.12"
  }
 },
 "nbformat": 4,
 "nbformat_minor": 2
}

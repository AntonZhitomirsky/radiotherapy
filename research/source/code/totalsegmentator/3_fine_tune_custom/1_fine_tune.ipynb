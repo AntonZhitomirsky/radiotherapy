{
 "cells": [
  {
   "cell_type": "markdown",
   "metadata": {},
   "source": [
    "# Custom TotalSegmentator Fine Tuning Procedure\n",
    "\n",
    "The idea is that total-segmentator, an nnUNet architecture already contains within it a\n",
    "fine tuning script from which a model is taken the encoder is frozen, while the decoder is\n",
    "fine tuned. At the moment, the model only predicts one organ at a time. This is an\n",
    "experiment to see whether it is possible to fine tune a model such that it is able to\n",
    "predict the multiple classes in one shot. This way, the model can also learn the rules\n",
    "about overlap. This also introduces the possbility to write a loss function which punishes\n",
    "those oragans that overlap and shouldn't. For instance, the bladder and the anorectum\n",
    "shouldn't overlap, and we can write this as a more costly loss funciton."
   ]
  },
  {
   "cell_type": "markdown",
   "metadata": {},
   "source": [
    "Plan:\n",
    "1. read up how totalsegmentator (nnUNet) fine-tunes its model.\n",
    "2. check if it possible to simply inheret the fine tuning class, and substitute some improvements ontop of it\n",
    "3. implement a layer ontop. this layer will now output 7 outputs, one for each anatomy/segmentation class"
   ]
  },
  {
   "cell_type": "markdown",
   "metadata": {},
   "source": [
    "Current Pipeline:\n",
    "- run_training_entry : collects all the inputs and such -> run_training\n",
    "- get_trainer_from_args : this collects the trainer obejct (without intialisation or anything of the sort) from the plans file.\n",
    "- maybe_load_checkpoint : this INITIALISES the network and also loads the pre-trained weights into the class\n",
    "- nnUNetTrainer.run_training : this does all the training stuff. Need to check WHERE we're freezing the encoder and such"
   ]
  },
  {
   "cell_type": "code",
   "execution_count": null,
   "metadata": {},
   "outputs": [],
   "source": []
  }
 ],
 "metadata": {
  "language_info": {
   "name": "python"
  }
 },
 "nbformat": 4,
 "nbformat_minor": 2
}

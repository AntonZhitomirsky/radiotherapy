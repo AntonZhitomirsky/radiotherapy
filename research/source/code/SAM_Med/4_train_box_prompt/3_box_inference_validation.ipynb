{
 "cells": [
  {
   "cell_type": "code",
   "execution_count": 1,
   "metadata": {},
   "outputs": [
    {
     "data": {
      "text/plain": [
       "device(type='cuda', index=0)"
      ]
     },
     "execution_count": 1,
     "metadata": {},
     "output_type": "execute_result"
    }
   ],
   "source": [
    "# Imports\n",
    "import re\n",
    "import os\n",
    "import cv2\n",
    "import sys\n",
    "import json\n",
    "import torch\n",
    "import monai\n",
    "import random\n",
    "import argparse\n",
    "import numpy as np\n",
    "import torch.nn as nn\n",
    "from tqdm import tqdm\n",
    "import torch.optim as optim\n",
    "from time import time, sleep\n",
    "from datetime import datetime\n",
    "from skimage import transform\n",
    "from matplotlib import pyplot as plt\n",
    "\n",
    "# Add the setup_data_vars function as we will need it to find the directory for the training data.\n",
    "dir1 = os.path.abspath(os.path.join(os.path.abspath(''), '..', '..'))\n",
    "if not dir1 in sys.path: sys.path.append(dir1)\n",
    "\n",
    "from utils.environment import setup_data_vars\n",
    "setup_data_vars()\n",
    "\n",
    "dir2 = os.path.abspath(os.path.join(os.path.abspath(''), '..', '0_utils'))\n",
    "if not dir2 in sys.path: sys.path.append(dir2)\n",
    "\n",
    "from dataload_handler import DataLoaderHandler\n",
    "from checkpoint_handler import CheckpointHandler\n",
    "\n",
    "device = torch.device('cuda:0' if torch.cuda.is_available() else 'cpu')\n",
    "device"
   ]
  },
  {
   "cell_type": "code",
   "execution_count": 2,
   "metadata": {},
   "outputs": [
    {
     "data": {
      "text/plain": [
       "_StoreAction(option_strings=['--anatomy'], dest='anatomy', nargs=None, const=None, default=None, type=<class 'str'>, choices=None, required=True, help='Anatomy on which to fine-tune the model. Note: this is case sensitive, please capitalize the first letter and accronyms such as CTVn or CTVp.', metavar=None)"
      ]
     },
     "execution_count": 2,
     "metadata": {},
     "output_type": "execute_result"
    }
   ],
   "source": [
    "import argparse\n",
    "\n",
    "parser = argparse.ArgumentParser()\n",
    "\n",
    "# Inspired by orginal code from the MedSAM/extensions/point_prompt\n",
    "\n",
    "# 1. Add the anatomy on which we will fine-tune\n",
    "parser.add_argument(\n",
    "    '--anatomy',\n",
    "    type=str,\n",
    "    help='Anatomy on which to fine-tune the model. Note: this is case sensitive, please capitalize the first letter and accronyms such as CTVn or CTVp.',\n",
    "    required=True\n",
    ")"
   ]
  },
  {
   "cell_type": "code",
   "execution_count": 3,
   "metadata": {},
   "outputs": [],
   "source": [
    "args = parser.parse_args(\n",
    "    ['--anatomy', 'CTVn']\n",
    ")\n",
    "\n",
    "anatomy = args.anatomy"
   ]
  },
  {
   "cell_type": "markdown",
   "metadata": {},
   "source": [
    "## Setup classes for loading up the stuff"
   ]
  },
  {
   "cell_type": "code",
   "execution_count": 4,
   "metadata": {},
   "outputs": [],
   "source": [
    "lowres = True\n",
    "save_dir = os.path.join(os.environ.get('MedSAM_finetuned'), 'boxed_lowres', anatomy)\n",
    "checkpoint_path = os.path.join(os.environ['PROJECT_DIR'], 'models', 'MedSAM', 'work_dir', 'MedSAM', 'medsam_vit_b.pth')\n",
    "model_path = os.path.join(save_dir, 'checkpoint_best.pth')\n",
    "data_split = os.path.join(save_dir, 'data_splits.json')\n",
    "img_dir = os.path.join(os.environ.get('MedSAM_preprocessed_lowres'), 'imgs')\n",
    "gt_dir = os.path.join(os.environ.get('MedSAM_preprocessed_lowres'), 'gts', anatomy)\n",
    "batch_size = 1\n",
    "num_workers = 16\n",
    "\n",
    "use_boxes = True\n",
    "use_positive_points = False\n",
    "\n",
    "assert os.path.exists(model_path), f\"Model path {model_path} does not exist.\"\n",
    "assert os.path.exists(data_split), f\"Data split {data_split} does not exist.\"\n",
    "assert os.path.exists(img_dir), f\"Raw data {img_dir} does not exist.\"\n",
    "assert os.path.exists(gt_dir), f\"Ground truth data {gt_dir} does not exist.\""
   ]
  },
  {
   "cell_type": "code",
   "execution_count": 5,
   "metadata": {},
   "outputs": [
    {
     "name": "stdout",
     "output_type": "stream",
     "text": [
      "Dataset size (6.6 GiB) fits in cache limit (20 GiB). Allocating space to cache all 6718 samples.\n"
     ]
    },
    {
     "data": {
      "text/plain": [
       "{2, 10, 11, 16, 38, 42, 43, 46, 49, 51, 56, 57, 66, 71, 73, 74, 77, 79, 92, 93}"
      ]
     },
     "execution_count": 5,
     "metadata": {},
     "output_type": "execute_result"
    }
   ],
   "source": [
    "dlh = DataLoaderHandler(save_dir = save_dir,\n",
    "                        image_dir = img_dir,\n",
    "                        gt_dir = gt_dir,\n",
    "                        batch_size = batch_size,\n",
    "                        num_workers = num_workers,\n",
    "                        data_aug = False,\n",
    "                        max_points = 0,\n",
    "                        box_padding = 5,\n",
    "                        max_box_points = 5)\n",
    "dlh.load_split_from_json()\n",
    "dlh.setup_specific_dataloader('validation')\n",
    "dlh.validation_image_ids"
   ]
  },
  {
   "cell_type": "code",
   "execution_count": 6,
   "metadata": {},
   "outputs": [
    {
     "name": "stdout",
     "output_type": "stream",
     "text": [
      "Loaded the model for anatomy CTVn from epoch 53\n"
     ]
    }
   ],
   "source": [
    "cph = CheckpointHandler(save_dir, checkpoint_path, device)\n",
    "if cph.checkpoint_exists():\n",
    "    model, optimizer, epoch, best_loss = cph.load_checkpoint()\n",
    "    print(f'Loaded the model for anatomy {anatomy} from epoch {epoch}')"
   ]
  },
  {
   "cell_type": "markdown",
   "metadata": {},
   "source": [
    "## Main validaiton loop"
   ]
  },
  {
   "cell_type": "code",
   "execution_count": 7,
   "metadata": {},
   "outputs": [],
   "source": [
    "import pandas as pd\n",
    "\n",
    "# create a pandas dataframe to store the name, axis, dice, jaccard, volume_similarity, apl, surface_distance, and hausdorff_distance\n",
    "\n",
    "df = pd.DataFrame(columns=['name', 'axis', 'dice', 'jaccard', 'volume_similarity', 'apl', 'surface_distance', 'hausdorff_distance'])\n",
    "\n",
    "# load in the processed data if it already exists\n",
    "if os.path.exists(os.path.join(save_dir, 'validation.csv')):\n",
    "    df = pd.read_csv(os.path.join(save_dir, 'validation.csv'))"
   ]
  },
  {
   "cell_type": "code",
   "execution_count": 8,
   "metadata": {},
   "outputs": [
    {
     "name": "stderr",
     "output_type": "stream",
     "text": [
      "100%|██████████| 6718/6718 [27:32<00:00,  4.07it/s] \n"
     ]
    }
   ],
   "source": [
    "import SimpleITK as sitk\n",
    "from platipy.imaging.label.comparison import compute_metric_total_apl, compute_surface_dsc, compute_metric_hd\n",
    "overlap_measures_filter = sitk.LabelOverlapMeasuresImageFilter()\n",
    "\n",
    "length_of_val_loader = len(dlh.val_loader)\n",
    "\n",
    "# iterate through the validation loader\n",
    "for i, batch in tqdm(enumerate(dlh.val_loader), total=length_of_val_loader):\n",
    "\n",
    "    # check if we have already processed this name and axis\n",
    "    if batch[\"image_name\"][0] in df.name.values and batch[\"axis\"].item() in df.axis.values:\n",
    "        continue\n",
    "\n",
    "    # Get data\n",
    "    image = batch[\"image\"].to(device)\n",
    "    gt2D = batch[\"gt2D\"].to(device)\n",
    "    # coords_torch = batch[\"coords\"].squeeze().to(device) # ([B, Ps, 2])\n",
    "    boxes_torch = batch[\"boxes\"].squeeze().reshape(batch_size, -1, 4).to(device) # ([B, Ps, 4])\n",
    "    axis = batch[\"axis\"].squeeze() # ([B])\n",
    "\n",
    "    medsam_preds = []\n",
    "    medsam_segs = []\n",
    "\n",
    "    for b in torch.unique(boxes_torch.squeeze().reshape(-1, batch_size, 4), dim=0):\n",
    "        b = b.reshape(batch_size, 1, 4)\n",
    "        # print(b)\n",
    "        medsam_lite_pred = model(image, None, b)\n",
    "        medsam_seg_prob = torch.sigmoid(medsam_lite_pred)\n",
    "        # convert soft mask to hard mask\n",
    "        medsam_seg_prob = medsam_seg_prob.detach().cpu().numpy().squeeze()\n",
    "        medsam_seg = (medsam_seg_prob > 0.5).astype(np.uint8)\n",
    "\n",
    "        medsam_preds.append(medsam_lite_pred.detach().cpu())\n",
    "        medsam_segs.append(medsam_seg)\n",
    "\n",
    "    medsam_preds = torch.tensor(np.stack(medsam_preds))\n",
    "    medsam_segs = torch.tensor(np.stack(medsam_segs))\n",
    "\n",
    "    # do an OR operation on the medsam_segs\n",
    "    medsam_seg = medsam_segs.sum(dim=0)\n",
    "\n",
    "    # Get evaluation metrics\n",
    "    y_gt_sitk = sitk.GetImageFromArray(gt2D[0].detach().cpu().numpy().astype(np.uint8))\n",
    "    ypred_sitk = sitk.GetImageFromArray(medsam_seg[None, :, :].numpy().astype(np.uint8))\n",
    "\n",
    "    overlap_measures_filter.Execute(y_gt_sitk, ypred_sitk)\n",
    "                \n",
    "    dice = overlap_measures_filter.GetDiceCoefficient()\n",
    "    jaccard = overlap_measures_filter.GetJaccardCoefficient()\n",
    "    volume_similarity = overlap_measures_filter.GetVolumeSimilarity()\n",
    "\n",
    "    apl = compute_metric_total_apl(y_gt_sitk, ypred_sitk)\n",
    "    surface_dsc = compute_surface_dsc(y_gt_sitk, ypred_sitk)\n",
    "    hd = compute_metric_hd(y_gt_sitk, ypred_sitk)\n",
    "\n",
    "    # add metrics to dataframe\n",
    "\n",
    "    new_record = pd.DataFrame([\n",
    "        {'name': batch[\"image_name\"][0], 'axis': batch[\"axis\"].item(), 'dice': dice, 'jaccard': jaccard, 'volume_similarity': volume_similarity, 'apl': apl, 'surface_distance': surface_dsc, 'hausdorff_distance': hd}\n",
    "    ])\n",
    "\n",
    "    df = pd.concat([df, new_record], ignore_index=True)\n",
    "\n",
    "    if i % 10 == 0:\n",
    "        # save the dataframe to a csv file\n",
    "        df.to_csv(os.path.join(save_dir, 'validation.csv'), index=False)\n",
    "\n"
   ]
  },
  {
   "cell_type": "markdown",
   "metadata": {},
   "source": [
    "## plot the metrics per axis and total"
   ]
  },
  {
   "cell_type": "code",
   "execution_count": 10,
   "metadata": {},
   "outputs": [
    {
     "data": {
      "text/html": [
       "<div>\n",
       "<style scoped>\n",
       "    .dataframe tbody tr th:only-of-type {\n",
       "        vertical-align: middle;\n",
       "    }\n",
       "\n",
       "    .dataframe tbody tr th {\n",
       "        vertical-align: top;\n",
       "    }\n",
       "\n",
       "    .dataframe thead th {\n",
       "        text-align: right;\n",
       "    }\n",
       "</style>\n",
       "<table border=\"1\" class=\"dataframe\">\n",
       "  <thead>\n",
       "    <tr style=\"text-align: right;\">\n",
       "      <th></th>\n",
       "      <th>name</th>\n",
       "      <th>axis</th>\n",
       "      <th>dice</th>\n",
       "      <th>jaccard</th>\n",
       "      <th>volume_similarity</th>\n",
       "      <th>apl</th>\n",
       "      <th>surface_distance</th>\n",
       "      <th>hausdorff_distance</th>\n",
       "    </tr>\n",
       "  </thead>\n",
       "  <tbody>\n",
       "    <tr>\n",
       "      <th>0</th>\n",
       "      <td>CT_zzAMLART_093-235.npy</td>\n",
       "      <td>1</td>\n",
       "      <td>0.880810</td>\n",
       "      <td>0.787007</td>\n",
       "      <td>0.046019</td>\n",
       "      <td>21.0</td>\n",
       "      <td>0.937107</td>\n",
       "      <td>6.403124</td>\n",
       "    </tr>\n",
       "    <tr>\n",
       "      <th>1</th>\n",
       "      <td>CT_zzAMLART_092-218.npy</td>\n",
       "      <td>2</td>\n",
       "      <td>0.888811</td>\n",
       "      <td>0.799874</td>\n",
       "      <td>0.113287</td>\n",
       "      <td>30.0</td>\n",
       "      <td>0.865772</td>\n",
       "      <td>6.403124</td>\n",
       "    </tr>\n",
       "    <tr>\n",
       "      <th>2</th>\n",
       "      <td>CT_zzAMLART_016-286.npy</td>\n",
       "      <td>2</td>\n",
       "      <td>0.657939</td>\n",
       "      <td>0.490245</td>\n",
       "      <td>-0.160457</td>\n",
       "      <td>138.0</td>\n",
       "      <td>0.521021</td>\n",
       "      <td>15.811388</td>\n",
       "    </tr>\n",
       "    <tr>\n",
       "      <th>3</th>\n",
       "      <td>CT_zzAMLART_074-212.npy</td>\n",
       "      <td>2</td>\n",
       "      <td>0.755295</td>\n",
       "      <td>0.606807</td>\n",
       "      <td>-0.127084</td>\n",
       "      <td>50.0</td>\n",
       "      <td>0.780000</td>\n",
       "      <td>11.661904</td>\n",
       "    </tr>\n",
       "    <tr>\n",
       "      <th>4</th>\n",
       "      <td>CT_zzAMLART_074-115.npy</td>\n",
       "      <td>0</td>\n",
       "      <td>0.913500</td>\n",
       "      <td>0.840774</td>\n",
       "      <td>-0.017785</td>\n",
       "      <td>0.0</td>\n",
       "      <td>1.000000</td>\n",
       "      <td>2.236068</td>\n",
       "    </tr>\n",
       "    <tr>\n",
       "      <th>...</th>\n",
       "      <td>...</td>\n",
       "      <td>...</td>\n",
       "      <td>...</td>\n",
       "      <td>...</td>\n",
       "      <td>...</td>\n",
       "      <td>...</td>\n",
       "      <td>...</td>\n",
       "      <td>...</td>\n",
       "    </tr>\n",
       "    <tr>\n",
       "      <th>4595</th>\n",
       "      <td>CT_zzAMLART_056-136.npy</td>\n",
       "      <td>0</td>\n",
       "      <td>0.862338</td>\n",
       "      <td>0.757991</td>\n",
       "      <td>0.005195</td>\n",
       "      <td>16.0</td>\n",
       "      <td>0.906318</td>\n",
       "      <td>7.211103</td>\n",
       "    </tr>\n",
       "    <tr>\n",
       "      <th>4596</th>\n",
       "      <td>CT_zzAMLART_051-070.npy</td>\n",
       "      <td>0</td>\n",
       "      <td>0.877551</td>\n",
       "      <td>0.781818</td>\n",
       "      <td>0.067055</td>\n",
       "      <td>0.0</td>\n",
       "      <td>0.997763</td>\n",
       "      <td>3.000000</td>\n",
       "    </tr>\n",
       "    <tr>\n",
       "      <th>4597</th>\n",
       "      <td>CT_zzAMLART_074-151.npy</td>\n",
       "      <td>0</td>\n",
       "      <td>0.901763</td>\n",
       "      <td>0.821101</td>\n",
       "      <td>-0.105793</td>\n",
       "      <td>0.0</td>\n",
       "      <td>1.000000</td>\n",
       "      <td>2.828427</td>\n",
       "    </tr>\n",
       "    <tr>\n",
       "      <th>4598</th>\n",
       "      <td>CT_zzAMLART_057-138.npy</td>\n",
       "      <td>0</td>\n",
       "      <td>0.890710</td>\n",
       "      <td>0.802956</td>\n",
       "      <td>0.036430</td>\n",
       "      <td>0.0</td>\n",
       "      <td>0.966555</td>\n",
       "      <td>2.828427</td>\n",
       "    </tr>\n",
       "    <tr>\n",
       "      <th>4599</th>\n",
       "      <td>CT_zzAMLART_057-117.npy</td>\n",
       "      <td>0</td>\n",
       "      <td>0.899914</td>\n",
       "      <td>0.818040</td>\n",
       "      <td>0.076989</td>\n",
       "      <td>0.0</td>\n",
       "      <td>1.000000</td>\n",
       "      <td>2.236068</td>\n",
       "    </tr>\n",
       "  </tbody>\n",
       "</table>\n",
       "<p>4600 rows × 8 columns</p>\n",
       "</div>"
      ],
      "text/plain": [
       "                         name  axis      dice   jaccard  volume_similarity  \\\n",
       "0     CT_zzAMLART_093-235.npy     1  0.880810  0.787007           0.046019   \n",
       "1     CT_zzAMLART_092-218.npy     2  0.888811  0.799874           0.113287   \n",
       "2     CT_zzAMLART_016-286.npy     2  0.657939  0.490245          -0.160457   \n",
       "3     CT_zzAMLART_074-212.npy     2  0.755295  0.606807          -0.127084   \n",
       "4     CT_zzAMLART_074-115.npy     0  0.913500  0.840774          -0.017785   \n",
       "...                       ...   ...       ...       ...                ...   \n",
       "4595  CT_zzAMLART_056-136.npy     0  0.862338  0.757991           0.005195   \n",
       "4596  CT_zzAMLART_051-070.npy     0  0.877551  0.781818           0.067055   \n",
       "4597  CT_zzAMLART_074-151.npy     0  0.901763  0.821101          -0.105793   \n",
       "4598  CT_zzAMLART_057-138.npy     0  0.890710  0.802956           0.036430   \n",
       "4599  CT_zzAMLART_057-117.npy     0  0.899914  0.818040           0.076989   \n",
       "\n",
       "        apl  surface_distance  hausdorff_distance  \n",
       "0      21.0          0.937107            6.403124  \n",
       "1      30.0          0.865772            6.403124  \n",
       "2     138.0          0.521021           15.811388  \n",
       "3      50.0          0.780000           11.661904  \n",
       "4       0.0          1.000000            2.236068  \n",
       "...     ...               ...                 ...  \n",
       "4595   16.0          0.906318            7.211103  \n",
       "4596    0.0          0.997763            3.000000  \n",
       "4597    0.0          1.000000            2.828427  \n",
       "4598    0.0          0.966555            2.828427  \n",
       "4599    0.0          1.000000            2.236068  \n",
       "\n",
       "[4600 rows x 8 columns]"
      ]
     },
     "execution_count": 10,
     "metadata": {},
     "output_type": "execute_result"
    }
   ],
   "source": [
    "df"
   ]
  },
  {
   "cell_type": "code",
   "execution_count": 36,
   "metadata": {},
   "outputs": [
    {
     "data": {
      "image/png": "[encoded data removed]",
      "text/plain": [
       "<Figure size 1920x800 with 6 Axes>"
      ]
     },
     "metadata": {},
     "output_type": "display_data"
    }
   ],
   "source": [
    "# for each axis, plot the metrics\n",
    "\n",
    "metrics = ['dice', 'jaccard', 'volume_similarity', 'apl', 'surface_distance', 'hausdorff_distance']\n",
    "\n",
    "ncols = len(metrics)\n",
    "nrows = 1\n",
    "\n",
    "fig, axs = plt.subplots(nrows=nrows, ncols=ncols, figsize=(ncols*2*1.6, nrows*5*1.6))\n",
    "axs = axs.reshape(nrows, ncols)\n",
    "\n",
    "for i in range(ncols):\n",
    "    # get the column values\n",
    "    column = metrics[i]\n",
    "\n",
    "    # set the title of the cell to the metric type\n",
    "    axs[0, i].set_title(column)\n",
    "\n",
    "    # for each axis, plot the metric\n",
    "    for axis in range(3):\n",
    "        data = df[df.axis == axis]\n",
    "        \n",
    "        # for each axis, plot the boxplot with each axis being a different point on the x-axis labelled with axis-0, axis-1, axis-2.\n",
    "        axs[0, i].boxplot(data[column], positions=[axis], showfliers=False, meanline=True, showmeans=True, patch_artist=True, widths=(.4))\n",
    "\n",
    "    # now, we plot the total score across all axis\n",
    "\n",
    "    axs[0, i].boxplot(df[column], positions=[3], showfliers=False, meanline=True, showmeans=True, patch_artist=True, widths=(.4))\n",
    "    axs[0, i].set_xticklabels(['axis 0', 'axis 1', 'axis 2', 'total'])\n",
    "        \n",
    "    \n",
    "plt.suptitle(f'Metrics for each axis for anatomy {anatomy}')\n",
    "plt.tight_layout()\n",
    "plt.show()"
   ]
  }
 ],
 "metadata": {
  "kernelspec": {
   "display_name": ".venv",
   "language": "python",
   "name": "python3"
  },
  "language_info": {
   "codemirror_mode": {
    "name": "ipython",
    "version": 3
   },
   "file_extension": ".py",
   "mimetype": "text/x-python",
   "name": "python",
   "nbconvert_exporter": "python",
   "pygments_lexer": "ipython3",
   "version": "3.10.12"
  }
 },
 "nbformat": 4,
 "nbformat_minor": 2
}

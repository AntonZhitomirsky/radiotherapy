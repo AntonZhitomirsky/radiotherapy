{
 "cells": [
  {
   "cell_type": "code",
   "execution_count": 11,
   "metadata": {},
   "outputs": [
    {
     "data": {
      "text/plain": [
       "device(type='cuda', index=0)"
      ]
     },
     "execution_count": 11,
     "metadata": {},
     "output_type": "execute_result"
    }
   ],
   "source": [
    "# Imports\n",
    "import os\n",
    "import sys\n",
    "import torch\n",
    "import numpy as np\n",
    "from tqdm import tqdm\n",
    "import SimpleITK as sitk\n",
    "from matplotlib import pyplot as plt\n",
    "\n",
    "# Add the setup_data_vars function as we will need it to find the directory for the training data.\n",
    "dir1 = os.path.abspath(os.path.join(os.path.abspath(''), '..', '..'))\n",
    "if not dir1 in sys.path: sys.path.append(dir1)\n",
    "\n",
    "from utils.environment import setup_data_vars\n",
    "setup_data_vars()\n",
    "\n",
    "dir2 = os.path.abspath(os.path.join(os.path.abspath(''), '..', '0_utils'))\n",
    "if not dir2 in sys.path: sys.path.append(dir2)\n",
    "\n",
    "from dataload_handler import DataLoaderHandler\n",
    "from checkpoint_handler import CheckpointHandler\n",
    "\n",
    "device = torch.device('cuda:0' if torch.cuda.is_available() else 'cpu')\n",
    "device"
   ]
  },
  {
   "cell_type": "code",
   "execution_count": 2,
   "metadata": {},
   "outputs": [
    {
     "data": {
      "text/plain": [
       "_StoreAction(option_strings=['--anatomy'], dest='anatomy', nargs=None, const=None, default=None, type=<class 'str'>, choices=None, required=True, help='Anatomy on which to fine-tune the model. Note: this is case sensitive, please capitalize the first letter and accronyms such as CTVn or CTVp.', metavar=None)"
      ]
     },
     "execution_count": 2,
     "metadata": {},
     "output_type": "execute_result"
    }
   ],
   "source": [
    "import argparse\n",
    "\n",
    "parser = argparse.ArgumentParser()\n",
    "\n",
    "# Inspired by orginal code from the MedSAM/extensions/point_prompt\n",
    "\n",
    "# 1. Add the anatomy on which we will fine-tune\n",
    "parser.add_argument(\n",
    "    '--anatomy',\n",
    "    type=str,\n",
    "    help='Anatomy on which to fine-tune the model. Note: this is case sensitive, please capitalize the first letter and accronyms such as CTVn or CTVp.',\n",
    "    required=True\n",
    ")"
   ]
  },
  {
   "cell_type": "code",
   "execution_count": 3,
   "metadata": {},
   "outputs": [],
   "source": [
    "args = parser.parse_args(\n",
    "    ['--anatomy', 'CTVn']\n",
    ")\n",
    "\n",
    "anatomy = args.anatomy"
   ]
  },
  {
   "cell_type": "markdown",
   "metadata": {},
   "source": [
    "## Setup classes for loading up the stuff"
   ]
  },
  {
   "cell_type": "code",
   "execution_count": 4,
   "metadata": {},
   "outputs": [],
   "source": [
    "lowres = True\n",
    "save_dir = os.path.join(os.environ.get('MedSAM_finetuned'), 'boxed_lowres_2', anatomy)\n",
    "checkpoint_path = os.path.join(os.environ['PROJECT_DIR'], 'models', 'MedSAM', 'work_dir', 'MedSAM', 'medsam_vit_b.pth')\n",
    "model_path = os.path.join(save_dir, 'checkpoint_best.pth')\n",
    "data_split = os.path.join(save_dir, 'data_splits.json')\n",
    "img_dir = os.path.join(os.environ.get('MedSAM_preprocessed_lowres'), 'imgs')\n",
    "gt_dir = os.path.join(os.environ.get('MedSAM_preprocessed_lowres'), 'gts', anatomy)\n",
    "batch_size = 1\n",
    "num_workers = 16\n",
    "\n",
    "use_boxes = True\n",
    "use_positive_points = False\n",
    "\n",
    "assert os.path.exists(model_path), f\"Model path {model_path} does not exist.\"\n",
    "assert os.path.exists(data_split), f\"Data split {data_split} does not exist.\"\n",
    "assert os.path.exists(img_dir), f\"Raw data {img_dir} does not exist.\"\n",
    "assert os.path.exists(gt_dir), f\"Ground truth data {gt_dir} does not exist.\""
   ]
  },
  {
   "cell_type": "code",
   "execution_count": 5,
   "metadata": {},
   "outputs": [
    {
     "name": "stdout",
     "output_type": "stream",
     "text": [
      "Dataset size (6.6 GiB) fits in cache limit (20 GiB). Allocating space to cache all 6718 samples.\n"
     ]
    },
    {
     "data": {
      "text/plain": [
       "{2, 10, 11, 16, 38, 42, 43, 46, 49, 51, 56, 57, 66, 71, 73, 74, 77, 79, 92, 93}"
      ]
     },
     "execution_count": 5,
     "metadata": {},
     "output_type": "execute_result"
    }
   ],
   "source": [
    "dlh = DataLoaderHandler(save_dir = save_dir,\n",
    "                        image_dir = img_dir,\n",
    "                        gt_dir = gt_dir,\n",
    "                        batch_size = batch_size,\n",
    "                        num_workers = num_workers,\n",
    "                        data_aug = False,\n",
    "                        max_points = 0,\n",
    "                        box_padding = 5,\n",
    "                        max_box_points = 5)\n",
    "dlh.load_split_from_json()\n",
    "dlh.setup_specific_dataloader('validation')\n",
    "dlh.validation_image_ids"
   ]
  },
  {
   "cell_type": "code",
   "execution_count": 6,
   "metadata": {},
   "outputs": [
    {
     "name": "stdout",
     "output_type": "stream",
     "text": [
      "Loaded the model for anatomy CTVn from epoch 71\n"
     ]
    }
   ],
   "source": [
    "cph = CheckpointHandler(save_dir, checkpoint_path, device)\n",
    "if cph.checkpoint_exists():\n",
    "    model, optimizer, epoch, best_loss = cph.load_checkpoint()\n",
    "    print(f'Loaded the model for anatomy {anatomy} from epoch {epoch}')"
   ]
  },
  {
   "cell_type": "markdown",
   "metadata": {},
   "source": [
    "## Main validaiton loop"
   ]
  },
  {
   "cell_type": "code",
   "execution_count": 7,
   "metadata": {},
   "outputs": [],
   "source": [
    "import pandas as pd\n",
    "\n",
    "# create a pandas dataframe to store the name, axis, dice, jaccard, volume_similarity, apl, surface_distance, and hausdorff_distance\n",
    "\n",
    "df = pd.DataFrame(columns=['name', 'axis', 'dice', 'jaccard', 'volume_similarity', 'apl', 'surface_distance', 'hausdorff_distance'])\n",
    "\n",
    "# load in the processed data if it already exists\n",
    "# if os.path.exists(os.path.join(save_dir, 'validation.csv')):\n",
    "#     df = pd.read_csv(os.path.join(save_dir, 'validation.csv'))"
   ]
  },
  {
   "cell_type": "code",
   "execution_count": 8,
   "metadata": {},
   "outputs": [
    {
     "data": {
      "text/html": [
       "<div>\n",
       "<style scoped>\n",
       "    .dataframe tbody tr th:only-of-type {\n",
       "        vertical-align: middle;\n",
       "    }\n",
       "\n",
       "    .dataframe tbody tr th {\n",
       "        vertical-align: top;\n",
       "    }\n",
       "\n",
       "    .dataframe thead th {\n",
       "        text-align: right;\n",
       "    }\n",
       "</style>\n",
       "<table border=\"1\" class=\"dataframe\">\n",
       "  <thead>\n",
       "    <tr style=\"text-align: right;\">\n",
       "      <th></th>\n",
       "      <th>name</th>\n",
       "      <th>axis</th>\n",
       "      <th>dice</th>\n",
       "      <th>jaccard</th>\n",
       "      <th>volume_similarity</th>\n",
       "      <th>apl</th>\n",
       "      <th>surface_distance</th>\n",
       "      <th>hausdorff_distance</th>\n",
       "    </tr>\n",
       "  </thead>\n",
       "  <tbody>\n",
       "  </tbody>\n",
       "</table>\n",
       "</div>"
      ],
      "text/plain": [
       "Empty DataFrame\n",
       "Columns: [name, axis, dice, jaccard, volume_similarity, apl, surface_distance, hausdorff_distance]\n",
       "Index: []"
      ]
     },
     "execution_count": 8,
     "metadata": {},
     "output_type": "execute_result"
    }
   ],
   "source": [
    "df"
   ]
  },
  {
   "cell_type": "code",
   "execution_count": 126,
   "metadata": {},
   "outputs": [
    {
     "data": {
      "text/plain": [
       "(20, 10, 5)"
      ]
     },
     "execution_count": 126,
     "metadata": {},
     "output_type": "execute_result"
    }
   ],
   "source": [
    "zeros = np.zeros((5,10,20))\n",
    "sitk.GetImageFromArray(zeros).GetSize()"
   ]
  },
  {
   "cell_type": "code",
   "execution_count": 42,
   "metadata": {},
   "outputs": [
    {
     "name": "stdout",
     "output_type": "stream",
     "text": [
      "original spacing and size [0.9765625, 0.9765625, 2.0] [512, 512, 193]\n",
      "current spacing and size (1.0, 1.0, 1.0) (256, 256, 1)\n",
      "operating on axis and slice 1 225\n",
      "-----\n",
      "original spacing and size [0.9765625, 0.9765625, 2.0] [512, 512, 193]\n",
      "current spacing and size (1.0, 1.0, 1.0) (256, 1, 256)\n",
      "operating on axis and slice 1 225\n",
      "-----\n",
      "original spacing and size [0.9765625, 1, 2.0] [512, 1, 193]\n",
      "current spacing and size (0.9765625, 1.0, 2.0) (512, 1, 193)\n",
      "operating on axis and slice 1 225\n",
      "[0 1] [0 1]\n",
      "(256, 256, 1) (512, 193, 1) (256, 256, 1) (512, 193, 1)\n",
      "[0 1] [0 1]\n"
     ]
    },
    {
     "data": {
      "image/png": "[encoded data removed]",
      "text/plain": [
       "<Figure size 1000x1000 with 4 Axes>"
      ]
     },
     "metadata": {},
     "output_type": "display_data"
    }
   ],
   "source": [
    "import SimpleITK as sitk\n",
    "import os\n",
    "\n",
    "def upsample_sitk_image_to_original(y_gt_sitk, y_pred_sitk, image_name, axis_num):\n",
    "    # Get image id from image_name\n",
    "    image_id = int(image_name.split('_')[2].split('-')[0])\n",
    "    original_file_path = os.path.join(\n",
    "        os.environ.get('nnUNet_raw'),\n",
    "        os.environ.get('Anorectum'),\n",
    "        os.environ.get('data_trainingImages'),\n",
    "        # f'zzAMLART_{image_id:03d}.nii.gz'\n",
    "        f'zzAMLART_{image_id:03d}_0000.nii.gz'\n",
    "    )\n",
    "    # slice_num = int(image_name.split('_')[2].split('-')[1][:-4])\n",
    "\n",
    "    # Read the original image\n",
    "    reader = sitk.ImageFileReader()\n",
    "    reader.SetFileName(original_file_path)\n",
    "    reader.LoadPrivateTagsOn()\n",
    "    reader.ReadImageInformation()\n",
    "    original_spacing = list(reader.GetSpacing())\n",
    "    original_size = list(reader.GetSize())\n",
    "    \n",
    "    # reshape so that the original axis order is preserved\n",
    "\n",
    "    # (X, X, 1)\n",
    "\n",
    "    if axis_num == 0:\n",
    "        y_gt_sitk = sitk.PermuteAxes(y_gt_sitk, [2, 0, 1])\n",
    "        y_pred_sitk = sitk.PermuteAxes(y_pred_sitk, [2, 0, 1])\n",
    "    elif axis_num == 1:\n",
    "        y_gt_sitk = sitk.PermuteAxes(y_gt_sitk, [0, 2, 1])\n",
    "        y_pred_sitk = sitk.PermuteAxes(y_pred_sitk, [0, 2, 1])\n",
    "\n",
    "    original_size[axis_num] = 1\n",
    "    original_spacing[axis_num] = 1\n",
    "\n",
    "    y_gt_sitk_new = sitk.Resample(y_gt_sitk, original_size, sitk.Transform(), sitk.sitkNearestNeighbor, y_gt_sitk.GetOrigin(), original_spacing, y_gt_sitk.GetDirection(), 0.0, y_gt_sitk.GetPixelID())\n",
    "    y_pred_sitk_new = sitk.Resample(y_pred_sitk, original_size, sitk.Transform(), sitk.sitkNearestNeighbor, y_pred_sitk.GetOrigin(), original_spacing, y_pred_sitk.GetDirection(), 0.0, y_pred_sitk.GetPixelID())\n",
    "\n",
    "    if axis_num == 0:\n",
    "        y_gt_sitk_new = sitk.PermuteAxes(y_gt_sitk_new, [1, 2, 0])\n",
    "        y_pred_sitk_new = sitk.PermuteAxes(y_pred_sitk_new, [1, 2, 0])\n",
    "    elif axis_num == 1:\n",
    "        y_gt_sitk_new = sitk.PermuteAxes(y_gt_sitk_new, [0, 2, 1])\n",
    "        y_pred_sitk_new = sitk.PermuteAxes(y_pred_sitk_new, [0, 2, 1])\n",
    "\n",
    "    return y_gt_sitk_new, y_pred_sitk_new\n",
    "    \n",
    "# gt_up, pred_up = upsample_sitk_image_to_original(y_gt_sitk, ypred_sitk, image_name, image_axis)\n",
    "# print(y_gt_sitk.GetSize(), gt_up.GetSize(), ypred_sitk.GetSize(), pred_up.GetSize())\n",
    "# print(np.unique(sitk.GetArrayFromImage(gt_up)), np.unique(sitk.GetArrayFromImage(pred_up)))\n",
    "\n",
    "# # plot the comparison between upsampled and original images\n",
    "\n",
    "# def plot_comparison(gt, pred, gt_up, pred_up):\n",
    "#     fig, ax = plt.subplots(2, 2, figsize=(10, 10))\n",
    "#     ax[0, 0].imshow(sitk.GetArrayFromImage(gt)[0], cmap='gray')\n",
    "#     ax[0, 0].set_title('Original GT')\n",
    "#     ax[0, 1].imshow(sitk.GetArrayFromImage(pred)[0], cmap='gray')\n",
    "#     ax[0, 1].set_title('Original Pred')\n",
    "#     ax[1, 0].imshow(sitk.GetArrayFromImage(gt_up)[0], cmap='gray')\n",
    "#     ax[1, 0].set_title('Upsampled GT')\n",
    "#     ax[1, 1].imshow(sitk.GetArrayFromImage(pred_up)[0], cmap='gray')\n",
    "#     ax[1, 1].set_title('Upsampled Pred')\n",
    "#     plt.show()\n",
    "\n",
    "# plot_comparison(y_gt_sitk, ypred_sitk, gt_up, pred_up)"
   ]
  },
  {
   "cell_type": "code",
   "execution_count": 39,
   "metadata": {},
   "outputs": [
    {
     "name": "stderr",
     "output_type": "stream",
     "text": [
      "  0%|          | 0/6718 [00:03<?, ?it/s]"
     ]
    },
    {
     "name": "stdout",
     "output_type": "stream",
     "text": [
      "torch.Size([1, 256, 256])\n",
      "torch.Size([1, 256, 256])\n",
      "1\n"
     ]
    },
    {
     "name": "stderr",
     "output_type": "stream",
     "text": [
      "\n"
     ]
    }
   ],
   "source": [
    "from platipy.imaging.label.comparison import compute_metric_total_apl, compute_surface_dsc, compute_metric_hd\n",
    "overlap_measures_filter = sitk.LabelOverlapMeasuresImageFilter()\n",
    "\n",
    "length_of_val_loader = len(dlh.val_loader)\n",
    "\n",
    "# iterate through the validation loader\n",
    "for i, batch in tqdm(enumerate(dlh.val_loader), total=length_of_val_loader):\n",
    "    image_name = batch[\"image_name\"][0]\n",
    "    image_axis = batch[\"axis\"].item()\n",
    "\n",
    "    # check if we have already processed this name and axis\n",
    "    if image_name in df.name.values and image_axis in df.axis.values:\n",
    "        continue\n",
    "\n",
    "    # Get data\n",
    "    image = batch[\"image\"].to(device)\n",
    "    gt2D = batch[\"gt2D\"].to(device)\n",
    "    # coords_torch = batch[\"coords\"].squeeze().to(device) # ([B, Ps, 2])\n",
    "    boxes_torch = batch[\"boxes\"].squeeze().reshape(batch_size, -1, 4).to(device) # ([B, Ps, 4])\n",
    "    axis = batch[\"axis\"].squeeze() # ([B])\n",
    "    \n",
    "    medsam_preds = []\n",
    "    medsam_segs = []\n",
    "\n",
    "    for b in torch.unique(boxes_torch.squeeze().reshape(-1, batch_size, 4), dim=0):\n",
    "        b = b.reshape(batch_size, 1, 4)\n",
    "        # print(b)\n",
    "        medsam_lite_pred = model(image, None, b)\n",
    "        medsam_seg_prob = torch.sigmoid(medsam_lite_pred)\n",
    "        # convert soft mask to hard mask\n",
    "        medsam_seg_prob = medsam_seg_prob.detach().cpu().numpy().squeeze()\n",
    "        medsam_seg = (medsam_seg_prob > 0.5).astype(np.uint8)\n",
    "\n",
    "        medsam_preds.append(medsam_lite_pred.detach().cpu())\n",
    "        medsam_segs.append(medsam_seg)\n",
    "\n",
    "    medsam_preds = torch.tensor(np.stack(medsam_preds))\n",
    "    medsam_segs = torch.tensor(np.stack(medsam_segs))\n",
    "\n",
    "    # do an OR operation on the medsam_segs\n",
    "    medsam_seg = medsam_segs.sum(dim=0)\n",
    "\n",
    "    # Get evaluation metrics\n",
    "    y_gt_sitk = sitk.GetImageFromArray(gt2D[0].detach().cpu().numpy().astype(np.uint8))\n",
    "    ypred_sitk = sitk.GetImageFromArray(medsam_seg[None, :, :].numpy().astype(np.uint8))\n",
    "\n",
    "    y_gt_sitk, ypred_sitk = upsample_sitk_image_to_original(y_gt_sitk, ypred_sitk, image_name, image_axis)\n",
    "\n",
    "    overlap_measures_filter.Execute(y_gt_sitk, ypred_sitk)\n",
    "                \n",
    "    dice = overlap_measures_filter.GetDiceCoefficient()\n",
    "    jaccard = overlap_measures_filter.GetJaccardCoefficient()\n",
    "    volume_similarity = overlap_measures_filter.GetVolumeSimilarity()\n",
    "\n",
    "    apl = compute_metric_total_apl(y_gt_sitk, ypred_sitk)\n",
    "    surface_dsc = compute_surface_dsc(y_gt_sitk, ypred_sitk)\n",
    "    hd = compute_metric_hd(y_gt_sitk, ypred_sitk)\n",
    "\n",
    "    # add metrics to dataframe\n",
    "\n",
    "    new_record = pd.DataFrame([\n",
    "        {'name': image_name, 'axis': image_axis, 'dice': dice, 'jaccard': jaccard, 'volume_similarity': volume_similarity, 'apl': apl, 'surface_distance': surface_dsc, 'hausdorff_distance': hd}\n",
    "    ])\n",
    "\n",
    "    df = pd.concat([df, new_record], ignore_index=True)\n",
    "\n",
    "    if i % 10 == 0:\n",
    "        # save the dataframe to a csv file\n",
    "        df.to_csv(os.path.join(save_dir, 'validation.csv'), index=False)\n",
    "\n",
    "df.to_csv(os.path.join(save_dir, 'validation.csv'), index=False)"
   ]
  },
  {
   "cell_type": "markdown",
   "metadata": {},
   "source": [
    "## plot the metrics per axis and total"
   ]
  },
  {
   "cell_type": "code",
   "execution_count": null,
   "metadata": {},
   "outputs": [],
   "source": [
    "df"
   ]
  },
  {
   "cell_type": "code",
   "execution_count": null,
   "metadata": {},
   "outputs": [],
   "source": [
    "# for each axis, plot the metrics\n",
    "\n",
    "metrics = ['dice', 'jaccard', 'volume_similarity', 'apl', 'surface_distance', 'hausdorff_distance']\n",
    "\n",
    "ncols = len(metrics)\n",
    "nrows = 1\n",
    "\n",
    "fig, axs = plt.subplots(nrows=nrows, ncols=ncols, figsize=(ncols*2*1.6, nrows*4*1.6))\n",
    "axs = axs.reshape(nrows, ncols)\n",
    "\n",
    "for i in range(ncols):\n",
    "    # get the column values\n",
    "    column = metrics[i]\n",
    "\n",
    "    # set the title of the cell to the metric type\n",
    "    axs[0, i].set_title(column)\n",
    "\n",
    "    # for each axis, plot the metric\n",
    "    for axis in range(3):\n",
    "        data = df[df.axis == axis]\n",
    "        \n",
    "        # for each axis, plot the boxplot with each axis being a different point on the x-axis labelled with axis-0, axis-1, axis-2.\n",
    "        axs[0, i].boxplot(data[column], positions=[axis], showfliers=False, meanline=True, showmeans=True, patch_artist=True, widths=(.4))\n",
    "\n",
    "    # now, we plot the total score across all axis\n",
    "\n",
    "    axs[0, i].boxplot(df[column], positions=[3], showfliers=False, meanline=True, showmeans=True, patch_artist=True, widths=(.4))\n",
    "    axs[0, i].set_xticklabels(['axis 0', 'axis 1', 'axis 2', 'total'])\n",
    "        \n",
    "    \n",
    "plt.suptitle(f'Metrics for each axis for anatomy {anatomy}')\n",
    "plt.tight_layout()\n",
    "plt.show()\n",
    "\n",
    "plt.savefig(os.path.join(save_dir, 'validation_metrics.png'))"
   ]
  }
 ],
 "metadata": {
  "kernelspec": {
   "display_name": ".venv",
   "language": "python",
   "name": "python3"
  },
  "language_info": {
   "codemirror_mode": {
    "name": "ipython",
    "version": 3
   },
   "file_extension": ".py",
   "mimetype": "text/x-python",
   "name": "python",
   "nbconvert_exporter": "python",
   "pygments_lexer": "ipython3",
   "version": "3.10.12"
  }
 },
 "nbformat": 4,
 "nbformat_minor": 2
}

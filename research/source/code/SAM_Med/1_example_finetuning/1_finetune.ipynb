{
 "cells": [
  {
   "cell_type": "markdown",
   "metadata": {},
   "source": [
    "# Fine Tuning the MedSAM\n",
    "\n",
    "We provide advanced tutorials to show \n",
    "   - a. How was MedSAM trained? or How to fine-tune SAM on customized datasets? [training](https://github.com/bowang-lab/MedSAM/tree/main#model-training)\n",
    "   - b. How to fine-tune the model with text-based prompts: [training](https://github.com/bowang-lab/MedSAM/tree/main/extensions/text_prompt) and [inference colab](https://colab.research.google.com/drive/1wexPLewVMI-9EMiplfyoEtGGayYDH3tt?usp=sharing) \n",
    "   - c. How to fine-tune the model with point-based prompts: [training](https://github.com/bowang-lab/MedSAM/tree/main/extensions/point_prompt) and [inference colab](https://colab.research.google.com/drive/1cCBw_IhdPiWE4sN7QwqKJPgAFlWsKgkm?usp=sharing)"
   ]
  },
  {
   "cell_type": "markdown",
   "metadata": {},
   "source": [
    "## Data preprocessing\n",
    "\n",
    "Download [SAM checkpoint](https://dl.fbaipublicfiles.com/segment_anything/sam_vit_b_01ec64.pth) and place it at `work_dir/SAM/sam_vit_b_01ec64.pth` .\n",
    "\n",
    "Download the demo [dataset](https://zenodo.org/record/7860267) and unzip it to `data/FLARE22Train/`.\n",
    "\n",
    "This dataset contains 50 abdomen CT scans and each scan contains an annotation mask with 13 organs. The names of the organ label are available at [MICCAI FLARE2022](https://flare22.grand-challenge.org/).\n",
    "\n",
    "Run pre-processing\n",
    "\n",
    "Install `cc3d`: `pip install connected-components-3d`\n",
    "\n",
    "```bash\n",
    "python pre_CT_MR.py\n",
    "```\n",
    "\n",
    "- split dataset: 80% for training and 20% for testing\n",
    "- adjust CT scans to [soft tissue](https://radiopaedia.org/articles/windowing-ct) window level (40) and width (400)\n",
    "- max-min normalization\n",
    "- resample image size to `1024x2014`\n",
    "- save the pre-processed images and labels as `npy` files"
   ]
  },
  {
   "cell_type": "code",
   "execution_count": 2,
   "metadata": {},
   "outputs": [
    {
     "name": "stdout",
     "output_type": "stream",
     "text": [
      "Requirement already satisfied: connected-components-3d in /vol/bitbucket/az620/radiotherapy/.venv/lib/python3.10/site-packages (3.13.0)\n",
      "Requirement already satisfied: numpy in /vol/bitbucket/az620/radiotherapy/.venv/lib/python3.10/site-packages (from connected-components-3d) (1.26.4)\n",
      "--2024-05-02 13:27:08--  https://dl.fbaipublicfiles.com/segment_anything/sam_vit_b_01ec64.pth\n",
      "Resolving dl.fbaipublicfiles.com (dl.fbaipublicfiles.com)... 2600:9000:2684:f800:13:6e38:acc0:93a1, 2600:9000:2684:8600:13:6e38:acc0:93a1, 2600:9000:2684:4e00:13:6e38:acc0:93a1, ...\n",
      "Connecting to dl.fbaipublicfiles.com (dl.fbaipublicfiles.com)|2600:9000:2684:f800:13:6e38:acc0:93a1|:443... connected.\n",
      "HTTP request sent, awaiting response... 200 OK\n",
      "Length: 375042383 (358M) [binary/octet-stream]\n",
      "Saving to: ‘/vol/bitbucket/az620/radiotherapy/models/MedSAM/checkpoints/sam_vit_b_01ec64.pth’\n",
      "\n",
      "sam_vit_b_01ec64.pt 100%[===================>] 357.67M   109MB/s    in 3.3s    \n",
      "\n",
      "2024-05-02 13:27:14 (109 MB/s) - ‘/vol/bitbucket/az620/radiotherapy/models/MedSAM/checkpoints/sam_vit_b_01ec64.pth’ saved [375042383/375042383]\n",
      "\n"
     ]
    }
   ],
   "source": [
    "!pip install connected-components-3d\n",
    "!wget -P /vol/bitbucket/az620/radiotherapy/models/MedSAM/checkpoints/ https://dl.fbaipublicfiles.com/segment_anything/sam_vit_b_01ec64.pth"
   ]
  },
  {
   "cell_type": "code",
   "execution_count": 2,
   "metadata": {},
   "outputs": [
    {
     "name": "stdout",
     "output_type": "stream",
     "text": [
      "--2024-05-02 13:29:57--  https://zenodo.org/records/7860267/files/FLARE22Train.zip?download=1\n",
      "Resolving zenodo.org (zenodo.org)... 2001:1458:d00:3b::100:200, 2001:1458:d00:9::100:195, 2001:1458:d00:3a::100:33a, ...\n",
      "Connecting to zenodo.org (zenodo.org)|2001:1458:d00:3b::100:200|:443... connected.\n",
      "HTTP request sent, awaiting response... 200 OK\n",
      "Length: 1480326483 (1.4G) [application/octet-stream]\n",
      "Saving to: ‘data/FLARE22Train/FLARE22Train.zip?download=1’\n",
      "\n",
      "FLARE22Train.zip?do 100%[===================>]   1.38G  14.3MB/s    in 87s     \n",
      "\n",
      "2024-05-02 13:31:29 (16.2 MB/s) - ‘data/FLARE22Train/FLARE22Train.zip?download=1’ saved [1480326483/1480326483]\n",
      "\n"
     ]
    }
   ],
   "source": [
    "!wget -P data/ https://zenodo.org/records/7860267/files/FLARE22Train.zip"
   ]
  },
  {
   "cell_type": "code",
   "execution_count": 2,
   "metadata": {},
   "outputs": [
    {
     "name": "stdout",
     "output_type": "stream",
     "text": [
      "Archive:  data/FLARE22Train/FLARE22Train.zip\n",
      "   creating: data/FLARE22Train/FLARE22Train/\n",
      "   creating: data/FLARE22Train/FLARE22Train/images/\n",
      "  inflating: data/FLARE22Train/FLARE22Train/images/FLARE22_Tr_0001_0000.nii.gz  \n",
      "  inflating: data/FLARE22Train/FLARE22Train/images/FLARE22_Tr_0002_0000.nii.gz  \n",
      "  inflating: data/FLARE22Train/FLARE22Train/images/FLARE22_Tr_0003_0000.nii.gz  \n",
      "  inflating: data/FLARE22Train/FLARE22Train/images/FLARE22_Tr_0004_0000.nii.gz  \n",
      "  inflating: data/FLARE22Train/FLARE22Train/images/FLARE22_Tr_0005_0000.nii.gz  \n",
      "  inflating: data/FLARE22Train/FLARE22Train/images/FLARE22_Tr_0006_0000.nii.gz  \n",
      "  inflating: data/FLARE22Train/FLARE22Train/images/FLARE22_Tr_0007_0000.nii.gz  \n",
      "  inflating: data/FLARE22Train/FLARE22Train/images/FLARE22_Tr_0008_0000.nii.gz  \n",
      "  inflating: data/FLARE22Train/FLARE22Train/images/FLARE22_Tr_0009_0000.nii.gz  \n",
      "  inflating: data/FLARE22Train/FLARE22Train/images/FLARE22_Tr_0010_0000.nii.gz  \n",
      "  inflating: data/FLARE22Train/FLARE22Train/images/FLARE22_Tr_0011_0000.nii.gz  \n",
      "  inflating: data/FLARE22Train/FLARE22Train/images/FLARE22_Tr_0012_0000.nii.gz  \n",
      "  inflating: data/FLARE22Train/FLARE22Train/images/FLARE22_Tr_0013_0000.nii.gz  \n",
      "  inflating: data/FLARE22Train/FLARE22Train/images/FLARE22_Tr_0014_0000.nii.gz  \n",
      "  inflating: data/FLARE22Train/FLARE22Train/images/FLARE22_Tr_0015_0000.nii.gz  \n",
      "  inflating: data/FLARE22Train/FLARE22Train/images/FLARE22_Tr_0016_0000.nii.gz  \n",
      "  inflating: data/FLARE22Train/FLARE22Train/images/FLARE22_Tr_0017_0000.nii.gz  \n",
      "  inflating: data/FLARE22Train/FLARE22Train/images/FLARE22_Tr_0018_0000.nii.gz  \n",
      "  inflating: data/FLARE22Train/FLARE22Train/images/FLARE22_Tr_0019_0000.nii.gz  \n",
      "  inflating: data/FLARE22Train/FLARE22Train/images/FLARE22_Tr_0020_0000.nii.gz  \n",
      "  inflating: data/FLARE22Train/FLARE22Train/images/FLARE22_Tr_0021_0000.nii.gz  \n",
      "  inflating: data/FLARE22Train/FLARE22Train/images/FLARE22_Tr_0022_0000.nii.gz  \n",
      "  inflating: data/FLARE22Train/FLARE22Train/images/FLARE22_Tr_0023_0000.nii.gz  \n",
      "  inflating: data/FLARE22Train/FLARE22Train/images/FLARE22_Tr_0024_0000.nii.gz  \n",
      "  inflating: data/FLARE22Train/FLARE22Train/images/FLARE22_Tr_0025_0000.nii.gz  \n",
      "  inflating: data/FLARE22Train/FLARE22Train/images/FLARE22_Tr_0026_0000.nii.gz  \n",
      "  inflating: data/FLARE22Train/FLARE22Train/images/FLARE22_Tr_0027_0000.nii.gz  \n",
      "  inflating: data/FLARE22Train/FLARE22Train/images/FLARE22_Tr_0028_0000.nii.gz  \n",
      "  inflating: data/FLARE22Train/FLARE22Train/images/FLARE22_Tr_0029_0000.nii.gz  \n",
      "  inflating: data/FLARE22Train/FLARE22Train/images/FLARE22_Tr_0030_0000.nii.gz  \n",
      "  inflating: data/FLARE22Train/FLARE22Train/images/FLARE22_Tr_0031_0000.nii.gz  \n",
      "  inflating: data/FLARE22Train/FLARE22Train/images/FLARE22_Tr_0032_0000.nii.gz  \n",
      "  inflating: data/FLARE22Train/FLARE22Train/images/FLARE22_Tr_0033_0000.nii.gz  \n",
      "  inflating: data/FLARE22Train/FLARE22Train/images/FLARE22_Tr_0034_0000.nii.gz  \n",
      "  inflating: data/FLARE22Train/FLARE22Train/images/FLARE22_Tr_0035_0000.nii.gz  \n",
      "  inflating: data/FLARE22Train/FLARE22Train/images/FLARE22_Tr_0036_0000.nii.gz  \n",
      "  inflating: data/FLARE22Train/FLARE22Train/images/FLARE22_Tr_0037_0000.nii.gz  \n",
      "  inflating: data/FLARE22Train/FLARE22Train/images/FLARE22_Tr_0038_0000.nii.gz  \n",
      "  inflating: data/FLARE22Train/FLARE22Train/images/FLARE22_Tr_0039_0000.nii.gz  \n",
      "  inflating: data/FLARE22Train/FLARE22Train/images/FLARE22_Tr_0040_0000.nii.gz  \n",
      "  inflating: data/FLARE22Train/FLARE22Train/images/FLARE22_Tr_0041_0000.nii.gz  \n",
      "  inflating: data/FLARE22Train/FLARE22Train/images/FLARE22_Tr_0042_0000.nii.gz  \n",
      "  inflating: data/FLARE22Train/FLARE22Train/images/FLARE22_Tr_0043_0000.nii.gz  \n",
      "  inflating: data/FLARE22Train/FLARE22Train/images/FLARE22_Tr_0044_0000.nii.gz  \n",
      "  inflating: data/FLARE22Train/FLARE22Train/images/FLARE22_Tr_0045_0000.nii.gz  \n",
      "  inflating: data/FLARE22Train/FLARE22Train/images/FLARE22_Tr_0046_0000.nii.gz  \n",
      "  inflating: data/FLARE22Train/FLARE22Train/images/FLARE22_Tr_0047_0000.nii.gz  \n",
      "  inflating: data/FLARE22Train/FLARE22Train/images/FLARE22_Tr_0048_0000.nii.gz  \n",
      "  inflating: data/FLARE22Train/FLARE22Train/images/FLARE22_Tr_0049_0000.nii.gz  \n",
      "  inflating: data/FLARE22Train/FLARE22Train/images/FLARE22_Tr_0050_0000.nii.gz  \n",
      "   creating: data/FLARE22Train/FLARE22Train/labels/\n",
      "  inflating: data/FLARE22Train/FLARE22Train/labels/FLARE22_Tr_0001.nii.gz  \n",
      "  inflating: data/FLARE22Train/FLARE22Train/labels/FLARE22_Tr_0002.nii.gz  \n",
      "  inflating: data/FLARE22Train/FLARE22Train/labels/FLARE22_Tr_0003.nii.gz  \n",
      "  inflating: data/FLARE22Train/FLARE22Train/labels/FLARE22_Tr_0004.nii.gz  \n",
      "  inflating: data/FLARE22Train/FLARE22Train/labels/FLARE22_Tr_0005.nii.gz  \n",
      "  inflating: data/FLARE22Train/FLARE22Train/labels/FLARE22_Tr_0006.nii.gz  \n",
      "  inflating: data/FLARE22Train/FLARE22Train/labels/FLARE22_Tr_0007.nii.gz  \n",
      "  inflating: data/FLARE22Train/FLARE22Train/labels/FLARE22_Tr_0008.nii.gz  \n",
      "  inflating: data/FLARE22Train/FLARE22Train/labels/FLARE22_Tr_0009.nii.gz  \n",
      "  inflating: data/FLARE22Train/FLARE22Train/labels/FLARE22_Tr_0010.nii.gz  \n",
      "  inflating: data/FLARE22Train/FLARE22Train/labels/FLARE22_Tr_0011.nii.gz  \n",
      "  inflating: data/FLARE22Train/FLARE22Train/labels/FLARE22_Tr_0012.nii.gz  \n",
      "  inflating: data/FLARE22Train/FLARE22Train/labels/FLARE22_Tr_0013.nii.gz  \n",
      "  inflating: data/FLARE22Train/FLARE22Train/labels/FLARE22_Tr_0014.nii.gz  \n",
      "  inflating: data/FLARE22Train/FLARE22Train/labels/FLARE22_Tr_0015.nii.gz  \n",
      "  inflating: data/FLARE22Train/FLARE22Train/labels/FLARE22_Tr_0016.nii.gz  \n",
      "  inflating: data/FLARE22Train/FLARE22Train/labels/FLARE22_Tr_0017.nii.gz  \n",
      "  inflating: data/FLARE22Train/FLARE22Train/labels/FLARE22_Tr_0018.nii.gz  \n",
      "  inflating: data/FLARE22Train/FLARE22Train/labels/FLARE22_Tr_0019.nii.gz  \n",
      "  inflating: data/FLARE22Train/FLARE22Train/labels/FLARE22_Tr_0020.nii.gz  \n",
      "  inflating: data/FLARE22Train/FLARE22Train/labels/FLARE22_Tr_0021.nii.gz  \n",
      "  inflating: data/FLARE22Train/FLARE22Train/labels/FLARE22_Tr_0022.nii.gz  \n",
      "  inflating: data/FLARE22Train/FLARE22Train/labels/FLARE22_Tr_0023.nii.gz  \n",
      "  inflating: data/FLARE22Train/FLARE22Train/labels/FLARE22_Tr_0024.nii.gz  \n",
      "  inflating: data/FLARE22Train/FLARE22Train/labels/FLARE22_Tr_0025.nii.gz  \n",
      "  inflating: data/FLARE22Train/FLARE22Train/labels/FLARE22_Tr_0026.nii.gz  \n",
      "  inflating: data/FLARE22Train/FLARE22Train/labels/FLARE22_Tr_0027.nii.gz  \n",
      "  inflating: data/FLARE22Train/FLARE22Train/labels/FLARE22_Tr_0028.nii.gz  \n",
      "  inflating: data/FLARE22Train/FLARE22Train/labels/FLARE22_Tr_0029.nii.gz  \n",
      "  inflating: data/FLARE22Train/FLARE22Train/labels/FLARE22_Tr_0030.nii.gz  \n",
      "  inflating: data/FLARE22Train/FLARE22Train/labels/FLARE22_Tr_0031.nii.gz  \n",
      "  inflating: data/FLARE22Train/FLARE22Train/labels/FLARE22_Tr_0032.nii.gz  \n",
      "  inflating: data/FLARE22Train/FLARE22Train/labels/FLARE22_Tr_0033.nii.gz  \n",
      "  inflating: data/FLARE22Train/FLARE22Train/labels/FLARE22_Tr_0034.nii.gz  \n",
      "  inflating: data/FLARE22Train/FLARE22Train/labels/FLARE22_Tr_0035.nii.gz  \n",
      "  inflating: data/FLARE22Train/FLARE22Train/labels/FLARE22_Tr_0036.nii.gz  \n",
      "  inflating: data/FLARE22Train/FLARE22Train/labels/FLARE22_Tr_0037.nii.gz  \n",
      "  inflating: data/FLARE22Train/FLARE22Train/labels/FLARE22_Tr_0038.nii.gz  \n",
      "  inflating: data/FLARE22Train/FLARE22Train/labels/FLARE22_Tr_0039.nii.gz  \n",
      "  inflating: data/FLARE22Train/FLARE22Train/labels/FLARE22_Tr_0040.nii.gz  \n",
      "  inflating: data/FLARE22Train/FLARE22Train/labels/FLARE22_Tr_0041.nii.gz  \n",
      "  inflating: data/FLARE22Train/FLARE22Train/labels/FLARE22_Tr_0042.nii.gz  \n",
      "  inflating: data/FLARE22Train/FLARE22Train/labels/FLARE22_Tr_0043.nii.gz  \n",
      "  inflating: data/FLARE22Train/FLARE22Train/labels/FLARE22_Tr_0044.nii.gz  \n",
      "  inflating: data/FLARE22Train/FLARE22Train/labels/FLARE22_Tr_0045.nii.gz  \n",
      "  inflating: data/FLARE22Train/FLARE22Train/labels/FLARE22_Tr_0046.nii.gz  \n",
      "  inflating: data/FLARE22Train/FLARE22Train/labels/FLARE22_Tr_0047.nii.gz  \n",
      "  inflating: data/FLARE22Train/FLARE22Train/labels/FLARE22_Tr_0048.nii.gz  \n",
      "  inflating: data/FLARE22Train/FLARE22Train/labels/FLARE22_Tr_0049.nii.gz  \n",
      "  inflating: data/FLARE22Train/FLARE22Train/labels/FLARE22_Tr_0050.nii.gz  \n"
     ]
    }
   ],
   "source": [
    "!unzip data/FLARE22Train.zip -d data/FLARE22Train"
   ]
  },
  {
   "cell_type": "code",
   "execution_count": 1,
   "metadata": {},
   "outputs": [
    {
     "name": "stdout",
     "output_type": "stream",
     "text": [
      "ori \\# files len(names)=50\n",
      "after sanity check \\# files len(names)=50\n"
     ]
    },
    {
     "name": "stderr",
     "output_type": "stream",
     "text": [
      "  0%|          | 0/40 [00:12<?, ?it/s]\n"
     ]
    },
    {
     "ename": "KeyboardInterrupt",
     "evalue": "",
     "output_type": "error",
     "traceback": [
      "\u001b[0;31m---------------------------------------------------------------------------\u001b[0m",
      "\u001b[0;31mKeyboardInterrupt\u001b[0m                         Traceback (most recent call last)",
      "File \u001b[0;32m/vol/bitbucket/az620/radiotherapy/models/MedSAM/pre_CT_MR.py:137\u001b[0m\n\u001b[1;32m    135\u001b[0m img_i \u001b[38;5;241m=\u001b[39m img_roi[i, :, :]\n\u001b[1;32m    136\u001b[0m img_3c \u001b[38;5;241m=\u001b[39m np\u001b[38;5;241m.\u001b[39mrepeat(img_i[:, :, \u001b[38;5;28;01mNone\u001b[39;00m], \u001b[38;5;241m3\u001b[39m, axis\u001b[38;5;241m=\u001b[39m\u001b[38;5;241m-\u001b[39m\u001b[38;5;241m1\u001b[39m)\n\u001b[0;32m--> 137\u001b[0m resize_img_skimg \u001b[38;5;241m=\u001b[39m \u001b[43mtransform\u001b[49m\u001b[38;5;241;43m.\u001b[39;49m\u001b[43mresize\u001b[49m\u001b[43m(\u001b[49m\n\u001b[1;32m    138\u001b[0m \u001b[43m    \u001b[49m\u001b[43mimg_3c\u001b[49m\u001b[43m,\u001b[49m\n\u001b[1;32m    139\u001b[0m \u001b[43m    \u001b[49m\u001b[43m(\u001b[49m\u001b[43mimage_size\u001b[49m\u001b[43m,\u001b[49m\u001b[43m \u001b[49m\u001b[43mimage_size\u001b[49m\u001b[43m)\u001b[49m\u001b[43m,\u001b[49m\n\u001b[1;32m    140\u001b[0m \u001b[43m    \u001b[49m\u001b[43morder\u001b[49m\u001b[38;5;241;43m=\u001b[39;49m\u001b[38;5;241;43m3\u001b[39;49m\u001b[43m,\u001b[49m\n\u001b[1;32m    141\u001b[0m \u001b[43m    \u001b[49m\u001b[43mpreserve_range\u001b[49m\u001b[38;5;241;43m=\u001b[39;49m\u001b[38;5;28;43;01mTrue\u001b[39;49;00m\u001b[43m,\u001b[49m\n\u001b[1;32m    142\u001b[0m \u001b[43m    \u001b[49m\u001b[43mmode\u001b[49m\u001b[38;5;241;43m=\u001b[39;49m\u001b[38;5;124;43m\"\u001b[39;49m\u001b[38;5;124;43mconstant\u001b[39;49m\u001b[38;5;124;43m\"\u001b[39;49m\u001b[43m,\u001b[49m\n\u001b[1;32m    143\u001b[0m \u001b[43m    \u001b[49m\u001b[43manti_aliasing\u001b[49m\u001b[38;5;241;43m=\u001b[39;49m\u001b[38;5;28;43;01mTrue\u001b[39;49;00m\u001b[43m,\u001b[49m\n\u001b[1;32m    144\u001b[0m \u001b[43m\u001b[49m\u001b[43m)\u001b[49m\n\u001b[1;32m    145\u001b[0m resize_img_skimg_01 \u001b[38;5;241m=\u001b[39m (resize_img_skimg \u001b[38;5;241m-\u001b[39m resize_img_skimg\u001b[38;5;241m.\u001b[39mmin()) \u001b[38;5;241m/\u001b[39m np\u001b[38;5;241m.\u001b[39mclip(\n\u001b[1;32m    146\u001b[0m     resize_img_skimg\u001b[38;5;241m.\u001b[39mmax() \u001b[38;5;241m-\u001b[39m resize_img_skimg\u001b[38;5;241m.\u001b[39mmin(), a_min\u001b[38;5;241m=\u001b[39m\u001b[38;5;241m1e-8\u001b[39m, a_max\u001b[38;5;241m=\u001b[39m\u001b[38;5;28;01mNone\u001b[39;00m\n\u001b[1;32m    147\u001b[0m )  \u001b[38;5;66;03m# normalize to [0, 1], (H, W, 3)\u001b[39;00m\n\u001b[1;32m    148\u001b[0m gt_i \u001b[38;5;241m=\u001b[39m gt_roi[i, :, :]\n",
      "File \u001b[0;32m/vol/bitbucket/az620/radiotherapy/.venv/lib/python3.10/site-packages/skimage/transform/_warps.py:185\u001b[0m, in \u001b[0;36mresize\u001b[0;34m(image, output_shape, order, mode, cval, clip, preserve_range, anti_aliasing, anti_aliasing_sigma)\u001b[0m\n\u001b[1;32m    182\u001b[0m     filtered \u001b[38;5;241m=\u001b[39m image\n\u001b[1;32m    184\u001b[0m zoom_factors \u001b[38;5;241m=\u001b[39m [\u001b[38;5;241m1\u001b[39m \u001b[38;5;241m/\u001b[39m f \u001b[38;5;28;01mfor\u001b[39;00m f \u001b[38;5;129;01min\u001b[39;00m factors]\n\u001b[0;32m--> 185\u001b[0m out \u001b[38;5;241m=\u001b[39m \u001b[43mndi\u001b[49m\u001b[38;5;241;43m.\u001b[39;49m\u001b[43mzoom\u001b[49m\u001b[43m(\u001b[49m\u001b[43mfiltered\u001b[49m\u001b[43m,\u001b[49m\u001b[43m \u001b[49m\u001b[43mzoom_factors\u001b[49m\u001b[43m,\u001b[49m\u001b[43m \u001b[49m\u001b[43morder\u001b[49m\u001b[38;5;241;43m=\u001b[39;49m\u001b[43morder\u001b[49m\u001b[43m,\u001b[49m\u001b[43m \u001b[49m\u001b[43mmode\u001b[49m\u001b[38;5;241;43m=\u001b[39;49m\u001b[43mndi_mode\u001b[49m\u001b[43m,\u001b[49m\n\u001b[1;32m    186\u001b[0m \u001b[43m               \u001b[49m\u001b[43mcval\u001b[49m\u001b[38;5;241;43m=\u001b[39;49m\u001b[43mcval\u001b[49m\u001b[43m,\u001b[49m\u001b[43m \u001b[49m\u001b[43mgrid_mode\u001b[49m\u001b[38;5;241;43m=\u001b[39;49m\u001b[38;5;28;43;01mTrue\u001b[39;49;00m\u001b[43m)\u001b[49m\n\u001b[1;32m    188\u001b[0m _clip_warp_output(image, out, mode, cval, clip)\n\u001b[1;32m    190\u001b[0m \u001b[38;5;28;01mreturn\u001b[39;00m out\n",
      "File \u001b[0;32m/vol/bitbucket/az620/radiotherapy/.venv/lib/python3.10/site-packages/scipy/ndimage/_interpolation.py:869\u001b[0m, in \u001b[0;36mzoom\u001b[0;34m(input, zoom, output, order, mode, cval, prefilter, grid_mode)\u001b[0m\n\u001b[1;32m    865\u001b[0m zoom \u001b[38;5;241m=\u001b[39m numpy\u001b[38;5;241m.\u001b[39mdivide(zoom_nominator, zoom_div,\n\u001b[1;32m    866\u001b[0m                     out\u001b[38;5;241m=\u001b[39mnumpy\u001b[38;5;241m.\u001b[39mones_like(\u001b[38;5;28minput\u001b[39m\u001b[38;5;241m.\u001b[39mshape, dtype\u001b[38;5;241m=\u001b[39mnumpy\u001b[38;5;241m.\u001b[39mfloat64),\n\u001b[1;32m    867\u001b[0m                     where\u001b[38;5;241m=\u001b[39mzoom_div \u001b[38;5;241m!=\u001b[39m \u001b[38;5;241m0\u001b[39m)\n\u001b[1;32m    868\u001b[0m zoom \u001b[38;5;241m=\u001b[39m numpy\u001b[38;5;241m.\u001b[39mascontiguousarray(zoom)\n\u001b[0;32m--> 869\u001b[0m \u001b[43m_nd_image\u001b[49m\u001b[38;5;241;43m.\u001b[39;49m\u001b[43mzoom_shift\u001b[49m\u001b[43m(\u001b[49m\u001b[43mfiltered\u001b[49m\u001b[43m,\u001b[49m\u001b[43m \u001b[49m\u001b[43mzoom\u001b[49m\u001b[43m,\u001b[49m\u001b[43m \u001b[49m\u001b[38;5;28;43;01mNone\u001b[39;49;00m\u001b[43m,\u001b[49m\u001b[43m \u001b[49m\u001b[43moutput\u001b[49m\u001b[43m,\u001b[49m\u001b[43m \u001b[49m\u001b[43morder\u001b[49m\u001b[43m,\u001b[49m\u001b[43m \u001b[49m\u001b[43mmode\u001b[49m\u001b[43m,\u001b[49m\u001b[43m \u001b[49m\u001b[43mcval\u001b[49m\u001b[43m,\u001b[49m\u001b[43m \u001b[49m\u001b[43mnpad\u001b[49m\u001b[43m,\u001b[49m\n\u001b[1;32m    870\u001b[0m \u001b[43m                     \u001b[49m\u001b[43mgrid_mode\u001b[49m\u001b[43m)\u001b[49m\n\u001b[1;32m    871\u001b[0m \u001b[38;5;28;01mreturn\u001b[39;00m output\n",
      "\u001b[0;31mKeyboardInterrupt\u001b[0m: "
     ]
    }
   ],
   "source": [
    "%run /vol/bitbucket/az620/radiotherapy/models/MedSAM/pre_CT_MR.py"
   ]
  },
  {
   "cell_type": "markdown",
   "metadata": {},
   "source": [
    "## Training on multiple GPUs (Recommend)\n",
    "\n",
    "The model was trained on five A100 nodes and each node has four GPUs (80G) (20 A100 GPUs in total). Please use the slurm script to start the training process.\n",
    "\n",
    "```bash\n",
    "sbatch train_multi_gpus.sh\n",
    "```\n",
    "\n",
    "When the training process is done, please convert the checkpoint to SAM's format for convenient inference.\n",
    "\n",
    "```bash\n",
    "python utils/ckpt_convert.py # Please set the corresponding checkpoint path first\n",
    "```\n",
    "\n",
    "## Training on one GPU\n",
    "\n",
    "```bash\n",
    "python train_one_gpu.py\n",
    "```\n",
    "\n",
    "If you only want to train the mask decoder, please check the tutorial on the [0.1 branch](https://github.com/bowang-lab/MedSAM/tree/0.1)."
   ]
  },
  {
   "cell_type": "code",
   "execution_count": null,
   "metadata": {},
   "outputs": [],
   "source": []
  }
 ],
 "metadata": {
  "kernelspec": {
   "display_name": ".venv",
   "language": "python",
   "name": "python3"
  },
  "language_info": {
   "codemirror_mode": {
    "name": "ipython",
    "version": 3
   },
   "file_extension": ".py",
   "mimetype": "text/x-python",
   "name": "python",
   "nbconvert_exporter": "python",
   "pygments_lexer": "ipython3",
   "version": "3.10.12"
  }
 },
 "nbformat": 4,
 "nbformat_minor": 2
}

{
 "cells": [
  {
   "cell_type": "markdown",
   "metadata": {},
   "source": [
    "# Fine tune a checkpoint of MedSAM on point prompted Data"
   ]
  },
  {
   "cell_type": "markdown",
   "metadata": {},
   "source": [
    "Given a path to a MedSAM checkpoint, we want to fine tune it on pre-processed data\n",
    "(subject to modifications specified by the paper and the transformation script). This will\n",
    "be done initially on an anatomy-specific level."
   ]
  },
  {
   "cell_type": "markdown",
   "metadata": {},
   "source": [
    "## Argparse Setup"
   ]
  },
  {
   "cell_type": "code",
   "execution_count": 1,
   "metadata": {},
   "outputs": [],
   "source": [
    "# Imports\n",
    "import re\n",
    "import os\n",
    "import cv2\n",
    "import sys\n",
    "import json\n",
    "import torch\n",
    "import monai\n",
    "import random\n",
    "import argparse\n",
    "import numpy as np\n",
    "import torch.nn as nn\n",
    "from tqdm import tqdm\n",
    "import torch.optim as optim\n",
    "from time import time, sleep\n",
    "from datetime import datetime\n",
    "from matplotlib import pyplot as plt\n",
    "from segment_anything import sam_model_registry\n",
    "from torch.utils.data import Dataset, DataLoader\n",
    "\n",
    "# Add the setup_data_vars function as we will need it to find the directory for the training data.\n",
    "dir1 = os.path.abspath(os.path.join(os.path.abspath(''), '..', '..'))\n",
    "if not dir1 in sys.path: sys.path.append(dir1)\n",
    "\n",
    "from utils.environment import setup_data_vars\n",
    "setup_data_vars()"
   ]
  },
  {
   "cell_type": "code",
   "execution_count": null,
   "metadata": {},
   "outputs": [
    {
     "data": {
      "text/plain": [
       "_StoreAction(option_strings=['--resume'], dest='resume', nargs=None, const=None, default=True, type=<class 'bool'>, choices=None, required=False, help='Whether to resume training using the latest checkpoint in the save_dir', metavar=None)"
      ]
     },
     "execution_count": 18,
     "metadata": {},
     "output_type": "execute_result"
    }
   ],
   "source": [
    "parser = argparse.ArgumentParser()\n",
    "\n",
    "# Inspired by orginal code from the MedSAM/extensions/point_prompt\n",
    "\n",
    "# 1. Add the anatomy on which we will fine-tune\n",
    "parser.add_argument(\n",
    "    '--anatomy',\n",
    "    type=str,\n",
    "    help='Anatomy on which to fine-tune the model. Note: this is case sensitive, please capitalize the first letter and accronyms such as CTVn or CTVp.',\n",
    "    required=True\n",
    ")\n",
    "\n",
    "# 2. Path to the MedSAM checkpoint\n",
    "parser.add_argument(\n",
    "    '--checkpoint',\n",
    "    type=str,\n",
    "    help='Path to the checkpoint of the model to fine-tune',\n",
    "    required=True\n",
    ")\n",
    "\n",
    "# 3. Path where we will be saving the checkpoints of the fine-tuned model\n",
    "parser.add_argument(\n",
    "    '--save_dir',\n",
    "    type=str,\n",
    "    help='Directory where the fine-tuned model will be saved',\n",
    "    required=True\n",
    ")\n",
    "\n",
    "# 4. Add the source directory for the data\n",
    "parser.add_argument(\n",
    "    '--img_dir',\n",
    "    type=str,\n",
    "    help='Directory containing the images for the slices of the anatomy',\n",
    "    required=False,\n",
    ")\n",
    "\n",
    "# 5. Add the source directory for the gts\n",
    "parser.add_argument(\n",
    "    '--gt_dir',\n",
    "    type=str,\n",
    "    help='Directory containing the ground truth masks for the slices of the anatomy',\n",
    "    required=False\n",
    ")\n",
    "\n",
    "# 6. Number of epochs for the fine-tuning\n",
    "parser.add_argument(\n",
    "    '--epochs',\n",
    "    type=int,\n",
    "    help='Number of epochs for the fine-tuning',\n",
    "    required=False,\n",
    "    default=300\n",
    ")\n",
    "\n",
    "# 7. Batch size for the fine-tuning\n",
    "parser.add_argument(\n",
    "    '--batch_size',\n",
    "    type=int,\n",
    "    help='Batch size for the fine-tuning',\n",
    "    required=False,\n",
    "    default=4\n",
    ")\n",
    "\n",
    "# 8. Learning rate for the fine-tuning\n",
    "parser.add_argument(\n",
    "    '--lr',\n",
    "    type=float,\n",
    "    help='Learning rate for the fine-tuning',\n",
    "    required=False,\n",
    "    default=0.00005\n",
    ")\n",
    "\n",
    "# 9. Number of workers for the data loader\n",
    "parser.add_argument(\n",
    "    '--num_workers',\n",
    "    type=int,\n",
    "    help='Number of workers for the data loader',\n",
    "    required=False,\n",
    "    default=4\n",
    ")\n",
    "\n",
    "parser.add_argument(\n",
    "    '--weight_decay',\n",
    "    type=float,\n",
    "    help='Weight decay for the optimizer',\n",
    "    required=False,\n",
    "    default=0.01\n",
    ")\n",
    "\n",
    "# 11. Resume checkpoint\n",
    "parser.add_argument(\n",
    "    '--resume',\n",
    "    type=bool,\n",
    "    help='Whether to resume training using the latest checkpoint in the save_dir',\n",
    "    required=False,\n",
    "    default=True\n",
    ")"
   ]
  },
  {
   "cell_type": "code",
   "execution_count": null,
   "metadata": {},
   "outputs": [],
   "source": [
    "# args = parser.parse_args()\n",
    "# Suppose for now we get the following set of required arguments:\n",
    "args = parser.parse_args([\n",
    "    '--anatomy', 'CTVn',\n",
    "    '--checkpoint', os.path.join(os.environ['PROJECT_DIR'], 'models', 'MedSAM', 'work_dir', 'MedSAM', 'medsam_vit_b.pth'),\n",
    "    '--save_dir', os.path.join(os.environ['MedSAM_finetuned'], 'CTVn')\n",
    "])"
   ]
  },
  {
   "cell_type": "markdown",
   "metadata": {},
   "source": [
    "## Set up the vars"
   ]
  },
  {
   "cell_type": "code",
   "execution_count": null,
   "metadata": {},
   "outputs": [],
   "source": [
    "anatomy = args.anatomy\n",
    "checkpoint_path = args.checkpoint\n",
    "save_dir = args.save_dir\n",
    "img_dir = args.img_dir\n",
    "gt_dir = args.gt_dir\n",
    "epochs = args.epochs\n",
    "batch_size = args.batch_size\n",
    "lr = args.lr\n",
    "num_workers = args.num_workers\n",
    "weight_decay = args.weight_decay\n",
    "resume = args.resume\n",
    "\n",
    "device = torch.device('cuda' if torch.cuda.is_available() else 'cpu')"
   ]
  },
  {
   "cell_type": "code",
   "execution_count": null,
   "metadata": {},
   "outputs": [],
   "source": [
    "if img_dir is None:\n",
    "    img_dir = os.path.join(os.environ['MedSAM_preprocessed'], 'imgs')\n",
    "if gt_dir is None:\n",
    "    gt_dir = os.path.join(os.environ['MedSAM_preprocessed'], 'gts', anatomy)"
   ]
  },
  {
   "cell_type": "code",
   "execution_count": null,
   "metadata": {},
   "outputs": [],
   "source": [
    "seed = 42\n",
    "\n",
    "torch.cuda.empty_cache()\n",
    "os.environ['PYTHONHASHSEED']=str(seed)\n",
    "random.seed(seed)\n",
    "np.random.seed(seed)\n",
    "torch.manual_seed(seed)\n",
    "torch.cuda.manual_seed(seed)"
   ]
  },
  {
   "cell_type": "code",
   "execution_count": null,
   "metadata": {},
   "outputs": [],
   "source": [
    "image_id_from_file_name_regex = r'.*_(\\d+).*'\n",
    "slice_id_from_file_name_regex = r'.*-(\\d+).*'"
   ]
  },
  {
   "cell_type": "markdown",
   "metadata": {},
   "source": [
    "## Set up Dataset class"
   ]
  },
  {
   "cell_type": "code",
   "execution_count": null,
   "metadata": {},
   "outputs": [],
   "source": [
    "# Adapted Dataset class from ../2_no_finetuning/MEDSAM_helper_functions.py\n",
    "class SAM_Dataset(Dataset):\n",
    "    \"\"\"A torch dataset for delivering slices of any axis to a medsam model.\"\"\"\n",
    "\n",
    "    def __init__(self, img_path, gt_path, id_split, data_aug=False):\n",
    "        \"\"\"\n",
    "        Args:\n",
    "            img_path (string): Path to the directory containing the images\n",
    "            gt_path (string): Path to the directory containing the ground truth masks\n",
    "            id_split (list): List of image ids to include in the dataset\n",
    "        \"\"\"\n",
    "\n",
    "        self.root_img_path = img_path\n",
    "        self.root_gt_path = gt_path\n",
    "        self.id_split = id_split\n",
    "        self.data_aug = data_aug\n",
    "        \n",
    "        # Assume that axese 0 1 and 2 have been processed.\n",
    "        filter_fn = lambda x : x.endswith('.npy') and int(re.search(image_id_from_file_name_regex, x).group(1)) in id_split\n",
    "        self.axis0_imgs = list(filter(filter_fn, os.listdir(os.path.join(gt_path, 'axis0'))))\n",
    "        self.axis1_imgs = list(filter(filter_fn, os.listdir(os.path.join(gt_path, 'axis1'))))\n",
    "        self.axis2_imgs = list(filter(filter_fn, os.listdir(os.path.join(gt_path, 'axis2'))))\n",
    "\n",
    "    def __len__(self):\n",
    "        return len(self.axis0_imgs) + len(self.axis1_imgs) + len(self.axis2_imgs)\n",
    "\n",
    "    def __getitem__(self, idx):\n",
    "        assert 0 <= idx < self.__len__(), f\"Index {idx} is out of range for dataset of size {self.__len__()}\"\n",
    "\n",
    "        # Fetch the image and ground truth mask. For safety, we index the items around the\n",
    "        # ground truth masks, so that if for some reason the images are misaligned we will\n",
    "        # guarantee that we will fetch the correct image\n",
    "\n",
    "        if idx < len(self.axis0_imgs):\n",
    "            axis, gt_name = 0, self.axis0_imgs[idx]\n",
    "        elif idx < len(self.axis0_imgs) + len(self.axis1_imgs):\n",
    "            axis, gt_name = 1, self.axis1_imgs[idx - len(self.axis0_imgs)]\n",
    "        else:\n",
    "            axis, gt_name = 2, self.axis2_imgs[idx - len(self.axis0_imgs) - len(self.axis1_imgs)]\n",
    "\n",
    "        image_id = int(re.search(image_id_from_file_name_regex, gt_name).group(1))\n",
    "        slice_id = int(re.search(slice_id_from_file_name_regex, gt_name).group(1))\n",
    "\n",
    "        img_name = f'CT_zzAMLART_{image_id:03d}-{slice_id:03d}.npy'\n",
    "        \n",
    "        # Load the image and ground truth mask\n",
    "\n",
    "        img_path = os.path.join(self.root_img_path, f'axis{axis}', img_name)\n",
    "        gt_path = os.path.join(self.root_gt_path, f'axis{axis}', gt_name)\n",
    "\n",
    "        img = np.load(img_path, 'r', allow_pickle=True) # (H, W, C)\n",
    "        gt = np.load(gt_path, 'r', allow_pickle=True) # (H, W, C)\n",
    "\n",
    "        # Pre-process where necessary\n",
    "\n",
    "        img = np.transpose(img, (2, 0, 1)) # (C, H, W)\n",
    "        assert np.max(img) <= 1. and np.min(img) >= 0., 'image should be normalized to [0, 1]'\n",
    "\n",
    "        # add data augmentation: random fliplr and random flipud\n",
    "        if self.data_aug:\n",
    "            if random.random() > 0.5:\n",
    "                img = np.ascontiguousarray(np.flip(img, axis=-1))\n",
    "                gt = np.ascontiguousarray(np.flip(gt, axis=-1))\n",
    "            if random.random() > 0.5:\n",
    "                img = np.ascontiguousarray(np.flip(img, axis=-2))\n",
    "                gt = np.ascontiguousarray(np.flip(gt, axis=-2))\n",
    "        \n",
    "        gt = np.uint8(gt > 0)\n",
    "        y_indices, x_indices = np.where(gt > 0)\n",
    "        x_point = np.random.choice(x_indices)\n",
    "        y_point = np.random.choice(y_indices)\n",
    "        coords = np.array([x_point, y_point])\n",
    "\n",
    "        # The output of the model is 256x256, and it is easier to reason about constricting an image, rather than expanding the output back ot 1024x1024\n",
    "\n",
    "        gt = cv2.resize(\n",
    "            gt,\n",
    "            (256, 256),\n",
    "            interpolation=cv2.INTER_NEAREST\n",
    "        )\n",
    "\n",
    "        return {\n",
    "            \"image\": torch.tensor(img).float(),\n",
    "            \"gt2D\": torch.tensor(gt[None, :,:]).long(),\n",
    "            \"coords\": torch.tensor(coords[None, ...]).float(),\n",
    "            \"image_name\": img_name\n",
    "        }"
   ]
  },
  {
   "cell_type": "markdown",
   "metadata": {},
   "source": [
    "## Set up Fine-Tuning nn Module"
   ]
  },
  {
   "cell_type": "code",
   "execution_count": null,
   "metadata": {},
   "outputs": [],
   "source": [
    "class MedSAM(nn.Module):\n",
    "    def __init__(self, \n",
    "                image_encoder, \n",
    "                mask_decoder,\n",
    "                prompt_encoder,\n",
    "                freeze_image_encoder=False,\n",
    "                ):\n",
    "        super().__init__()\n",
    "        self.image_encoder = image_encoder\n",
    "        self.mask_decoder = mask_decoder\n",
    "        self.prompt_encoder = prompt_encoder\n",
    "\n",
    "        # freeze prompt encoder\n",
    "        for param in self.prompt_encoder.parameters():\n",
    "            param.requires_grad = False\n",
    "        \n",
    "        self.freeze_image_encoder = freeze_image_encoder\n",
    "        if self.freeze_image_encoder:\n",
    "            for param in self.image_encoder.parameters():\n",
    "                param.requires_grad = False\n",
    "\n",
    "    def forward(self, image, point_prompt):\n",
    "\n",
    "        # do not compute gradients for pretrained img encoder and prompt encoder\n",
    "        with torch.no_grad():\n",
    "            image_embedding = self.image_encoder(image) # (B, 256, 64, 64)\n",
    "            # not need to convert box to 1024x1024 grid\n",
    "            # bbox is already in 1024x1024\n",
    "            sparse_embeddings, dense_embeddings = self.prompt_encoder(\n",
    "                points=point_prompt,\n",
    "                boxes=None,\n",
    "                masks=None,\n",
    "            )\n",
    "        low_res_masks, iou_predictions = self.mask_decoder(\n",
    "            image_embeddings=image_embedding, # (B, 256, 64, 64)\n",
    "            image_pe=self.prompt_encoder.get_dense_pe(), # (1, 256, 64, 64)\n",
    "            sparse_prompt_embeddings=sparse_embeddings, # (B, 2, 256)\n",
    "            dense_prompt_embeddings=dense_embeddings, # (B, 256, 64, 64)\n",
    "            multimask_output=False,\n",
    "          ) # (B, 1, 256, 256)\n",
    "\n",
    "        return low_res_masks"
   ]
  },
  {
   "cell_type": "markdown",
   "metadata": {},
   "source": [
    "## Setup logger for viewing progress"
   ]
  },
  {
   "cell_type": "code",
   "execution_count": null,
   "metadata": {},
   "outputs": [],
   "source": [
    "class MedSAMLogger(object):\n",
    "    \"\"\"The purpose of this class is to log the training process of the MedSAM model in a\n",
    "    format that can be easily visualized.\"\"\"\n",
    "\n",
    "    \" - start_epoch - this will start recording the per-batch loss for this new epoch, also records start time\"\n",
    "    \n",
    "    \" - end_epoch - this will end the recording of the per-batch loss for this epoch, also records end time. This will return and store the reduced loss as well as the duration for the epoch.\"\n",
    "\n",
    "    def __init__(self, save_dir):\n",
    "        epoch_stats_template = {\n",
    "            'train_loss': [],\n",
    "            'train_dice': [],\n",
    "            'train_loss_reduced': -1,\n",
    "            'train_dice_reduced': -1,\n",
    "            'val_loss': [],\n",
    "            'val_dice': [],\n",
    "            'val_loss_reduced': -1,\n",
    "            'val_dice_reduced': -1,\n",
    "            'epoch_time': {\n",
    "                'start': -1,\n",
    "                'end': -1,\n",
    "                'duration': 0\n",
    "            }\n",
    "        }\n",
    "\n",
    "        # attempt to create a logger.json file if it doesn't already exist. If it does,\n",
    "        # assume that we are resuming training\n",
    "        if not os.path.exists(os.path.join(save_dir, 'logger.json')):\n",
    "            self._load_logger()\n",
    "        else:\n",
    "            self.epoch_data = {\n",
    "                'epoch': 0,\n",
    "                'epoch_stats': epoch_stats_template\n",
    "            }\n",
    "        \n",
    "\n",
    "\n",
    "    def log_train(self, loss, dice):\n",
    "        self.train_loss.append(loss)\n",
    "        self.train_dice.append(dice)\n",
    "\n",
    "    def log_val(self, loss, dice):\n",
    "        self.val_loss.append(loss)\n",
    "        self.val_dice.append(dice)    \n",
    "\n",
    "    def start_of_epoch(self):\n",
    "        \"\"\"initialize the loss and dice lists for the epoch\"\"\"\n",
    "        self.train_loss = []\n",
    "        self.train_dice = []\n",
    "\n",
    "        self.val_loss = []\n",
    "        self.val_dice = []\n",
    "\n",
    "    def end_of_epoch(self):\n",
    "        \"\"\"calculate the epoch time and the average of the losses and dice scores\"\"\"\n",
    "\n",
    "\n",
    "    def log_epoch_time(self, time):\n",
    "        self.epoch_time.append(time)\n"
   ]
  },
  {
   "cell_type": "markdown",
   "metadata": {},
   "source": [
    "## Main Training Loop"
   ]
  },
  {
   "cell_type": "code",
   "execution_count": null,
   "metadata": {},
   "outputs": [
    {
     "name": "stdout",
     "output_type": "stream",
     "text": [
      "Set up logger! Happy Debugging!\n"
     ]
    }
   ],
   "source": [
    "import logging\n",
    "\n",
    "logging.basicConfig(\n",
    "    filename=os.path.join(save_dir, 'MedSAM_training.log'), \n",
    "    filemode='w',\n",
    "    format='[%(levelname)s : %(asctime)s] - %(message)s',\n",
    "    datefmt='%d-%b-%y %H:%M:%S',\n",
    "    level=logging.DEBUG\n",
    ")\n",
    "\n",
    "# logging.getLogger().addHandler(logging.StreamHandler(sys.stdout))\n",
    "\n",
    "logging.debug('Set up logger! Happy Debugging!')"
   ]
  },
  {
   "cell_type": "code",
   "execution_count": null,
   "metadata": {},
   "outputs": [],
   "source": [
    "class MedSAMTrainer(object):\n",
    "    def __init__(self\n",
    "                , anatomy\n",
    "                , checkpoint_path\n",
    "                , save_dir\n",
    "                , image_dir\n",
    "                , gt_dir\n",
    "                , epochs\n",
    "                , batch_size\n",
    "                , lr\n",
    "                , num_workers\n",
    "                , weight_decay\n",
    "                , resume\n",
    "                , device = torch.device('cuda' if torch.cuda.is_available() else 'cpu')\n",
    "                , ):\n",
    "        \n",
    "        self.anatomy = anatomy\n",
    "        assert self.anatomy in ['CTVn', 'CTVp', 'Bladder', 'Anorectum', 'Uterus', 'Vagina']\n",
    "        \n",
    "        self.image_dir = image_dir\n",
    "        self.gt_dir = gt_dir\n",
    "        assert os.path.exists(self.image_dir), 'Image Directory doesn\\'t exist.'\n",
    "        assert os.path.exists(self.gt_dir), 'Ground Truth Directory doesn\\'t exist for the requested anatomy.'\n",
    "\n",
    "        self.save_dir = save_dir\n",
    "        self.checkpoint_path = checkpoint_path\n",
    "        self.epochs = epochs\n",
    "        self.batch_size = batch_size\n",
    "        self.lr = lr\n",
    "        self.num_workers = num_workers\n",
    "        self.weight_decay = weight_decay\n",
    "        self.resume = resume\n",
    "        self.device = device\n",
    "\n",
    "        # self.stat_logger = MedSAMLogger(self.save_dir)\n",
    "\n",
    "    def run_training(self):\n",
    "        \"\"\"Main Training Loop\"\"\"\n",
    "\n",
    "        logging.debug('Entered main training loop')\n",
    "        self.on_train_start()\n",
    "\n",
    "        for epoch in range(self.start_epoch, self.epochs):\n",
    "            # <Training>\n",
    "            self.on_epoch_start(epoch)\n",
    "\n",
    "            pbar = tqdm(self.train_loader)\n",
    "            for step, batch in enumerate(pbar):\n",
    "                dice_loss, ce_loss = self.train_step(step, batch)\n",
    "\n",
    "                # self.stat_logger.log_train(dice_loss, ce_loss)\n",
    "\n",
    "                pbar.set_description(f\"Epoch {epoch} at {datetime.now().strftime('%Y-%m-%d %H:%M:%S')}, loss: {dice_loss + ce_loss:.4f}\")\n",
    "\n",
    "            self.on_epoch_end()\n",
    "            # </Training>\n",
    "\n",
    "            # # <Validation>\n",
    "            # with torch.no_grad():\n",
    "            #     self.medsam_model.eval()\n",
    "            #     for step, batch in enumerate(self.val_loader):\n",
    "            #         image = batch[\"image\"].to(self.device)\n",
    "            #         gt2D = batch[\"gt2D\"].to(self.device)\n",
    "            #         coords_torch = batch[\"coords\"].to(self.device)\n",
    "            # # </Validation>\n",
    "\n",
    "        self.on_train_end()\n",
    "\n",
    "    def train_step(self, step, batch):\n",
    "        logging.debug(f'Starting epoch {self.current_epoch} step {step} at time {datetime.now()}')\n",
    "\n",
    "        # Get data\n",
    "        logging.debug('getting the data and setting to device')\n",
    "        image = batch[\"image\"].to(self.device)\n",
    "        gt2D = batch[\"gt2D\"].to(self.device)\n",
    "        coords_torch = batch[\"coords\"].to(self.device) # (B, 2)\n",
    "\n",
    "        logging.debug('Performing forward pass')\n",
    "        self.optimizer.zero_grad()\n",
    "        labels_torch = torch.ones(coords_torch.shape[0]).long() # (B,)\n",
    "        labels_torch = labels_torch.unsqueeze(1) # (B, 1)\n",
    "        coords_torch, labels_torch = coords_torch.to(self.device), labels_torch.to(self.device)\n",
    "        point_prompt = (coords_torch, labels_torch)\n",
    "        medsam_lite_pred = self.medsam_model(image, point_prompt)\n",
    "\n",
    "        logging.debug('Calculating loss')\n",
    "        dice_loss = self.dice_loss(medsam_lite_pred, gt2D)\n",
    "        ce_loss = self.ce_loss(medsam_lite_pred, gt2D.float())\n",
    "\n",
    "        loss = dice_loss + ce_loss\n",
    "        logging.debug(f'Loss calculated: {loss.item()}')\n",
    "        \n",
    "        logging.debug('Performing step in optimizer and propagating loss backgwards')\n",
    "        loss.backward()\n",
    "        self.optimizer.step()\n",
    "        self.optimizer.zero_grad()\n",
    "\n",
    "        # self.stat_logger.log_train(dice_loss.item(), ce_loss.item())\n",
    "\n",
    "        return dice_loss.item(), ce_loss.item()\n",
    "    \n",
    "    def on_train_end(self):\n",
    "        logging.debug(f'Reached the end of training! Epochs: {self.epochs}')\n",
    "        self.save_checkpoint(self.current_epoch, self.epoch_loss, final=True)\n",
    "        torch.cuda.empty_cache()\n",
    "\n",
    "    def on_epoch_end(self):\n",
    "        # epoch_time, epoch_los_reduced = self.stat_logger.end_of_epoch(self.current_epoch)\n",
    "\n",
    "        self.epoch_end_time = time()\n",
    "        self.epoch_time.append(self.epoch_end_time - self.epoch_start_time)\n",
    "        logging.debug(f'Reached the end of epoch {self.current_epoch}, it took {self.epoch_end_time - self.epoch_start_time} seconds')\n",
    "\n",
    "        epoch_loss_reduced = sum(self.epoch_loss) / len(self.epoch_loss)\n",
    "\n",
    "        self.save_checkpoint(self.current_epoch, epoch_loss_reduced)\n",
    "\n",
    "        # Plot the progress\n",
    "\n",
    "        # self.print_to_log_file('train_loss', np.round(logging.my_fantastic_logging['train_losses'][-1], decimals=4))\n",
    "        # self.print_to_log_file('val_loss', np.round(logging.my_fantastic_logging['val_losses'][-1], decimals=4))\n",
    "        # self.print_to_log_file('Pseudo dice', [np.round(i, decimals=4) for i in\n",
    "        #                                        logging.my_fantastic_logging['dice_per_class_or_region'][-1]])\n",
    "        # self.print_to_log_file(\n",
    "        #     f\"Epoch time: {np.round(logging.my_fantastic_logging['epoch_end_timestamps'][-1] - logging.my_fantastic_logging['epoch_start_timestamps'][-1], decimals=2)} s\")\n",
    "\n",
    "        # logging.plot_progress_png(self.save_dir)\n",
    "\n",
    "    def save_checkpoint(self, epoch, epoch_loss_reduced, final=False):\n",
    "        # If the checkpoint is better than the last, save it as 'checkpoint_best.pth' otherwise, save it as checkpoint_latest.pth\n",
    "\n",
    "        logging.debug(f'Saving a checkpoint for epoch {epoch}')        \n",
    "\n",
    "        checkpoint = {\n",
    "            \"model\": self.medsam_model.state_dict(),\n",
    "            \"epochs\": epoch,\n",
    "            \"optimizer\": self.optimizer.state_dict(),\n",
    "            \"loss\": epoch_loss_reduced,\n",
    "            \"best_loss\": self.best_loss\n",
    "        }\n",
    "\n",
    "        if epoch_loss_reduced < self.best_loss:\n",
    "            logging.debug(f'Found new best checkpoint! Loss: {epoch_loss_reduced:.4f}')\n",
    "            self.best_loss = epoch_loss_reduced\n",
    "            torch.save(checkpoint, os.path.join(self.save_dir, 'checkpoint_best.pth'))\n",
    "\n",
    "        if final:\n",
    "            logging.debug(f'Saving final version of the checkpoing')\n",
    "            torch.save(checkpoint, os.path.join(self.save_dir, 'checkpoint_final.pth'))\n",
    "            os.remove(os.path.join(self.save_dir, 'checkpoint_latest.pth'))\n",
    "        else:\n",
    "            logging.debug(f'Saving latest checkpoint path')\n",
    "            torch.save(checkpoint, os.path.join(self.save_dir, 'checkpoint_latest.pth'))\n",
    "\n",
    "    def on_train_start(self):\n",
    "        \"\"\"Sets up the training environment\"\"\"\n",
    "        logging.debug('starting training environment')\n",
    "\n",
    "        # empty cuda cache\n",
    "        torch.cuda.empty_cache()\n",
    "\n",
    "        # create save_dir if it doesn't exist yet\n",
    "        os.makedirs(self.save_dir, exist_ok=True)\n",
    "\n",
    "        # set up logger to a new instance\n",
    "        # logging = MedSAMLogger()\n",
    "\n",
    "        # load the previous checkpoint if it exists and resume is True. Otherwise, load\n",
    "        # the medSAM model from which we train. \n",
    "        self._first_run_setup()\n",
    "        if (not self._maybe_load_checkpoint()):\n",
    "            self._setup_data_splits()\n",
    "\n",
    "        # set up the dataloaders\n",
    "        self._get_dataloaders()\n",
    "\n",
    "        # set up loss functions\n",
    "        logging.debug('Setting up loss functions')\n",
    "        self.dice_loss = monai.losses.DiceLoss(sigmoid=True, squared_pred=True, reduction='mean')\n",
    "        self.ce_loss = nn.BCEWithLogitsLoss(reduction=\"mean\")\n",
    "\n",
    "    def on_epoch_start(self, epoch):        \n",
    "        self.medsam_model.train()\n",
    "        self.current_epoch = epoch\n",
    "        self.epoch_start_time = datetime.now()\n",
    "        self.epoch_loss = [1e10 for _ in range(len(self.train_loader))]\n",
    "\n",
    "        # self.stat_logger.start_epoch(epoch, epoch_start_time)\n",
    "\n",
    "        logging.debug(f'>> Starting epoch {epoch} at time {self.epoch_start_time}')\n",
    "\n",
    "    def _maybe_load_checkpoint(self):\n",
    "        \"\"\"\n",
    "        Populates the variables IF a checkpoint has been found\n",
    "        - checkpoint\n",
    "        - medsam_model\n",
    "        - optimizer\n",
    "        - start_epoch\n",
    "        - best_loss\n",
    "        - training_split\n",
    "        - validation_split\n",
    "        \"\"\"\n",
    "        logging.debug('Attempting to find and load checkpoint from save directory')\n",
    "        if not self.resume:\n",
    "            logging.debug('Resume was set to false, skipping checkpoint loading.')\n",
    "            return False\n",
    "\n",
    "        if len([f for f in os.listdir(save_dir) if f == 'checkpoint_latest.pth']) == 0:\n",
    "            logging.debug('No checkpoint found in the save directory')\n",
    "            return False\n",
    "        \n",
    "        # Load model details\n",
    "        logging.debug('found and loading checkpoint from checkpoint_latest.pth')\n",
    "        self.checkpoint = torch.load(os.path.join(save_dir, 'checkpoint_latest.pth'))\n",
    "\n",
    "        self.medsam_model.load_state_dict(self.checkpoint[\"model\"])\n",
    "        self.optimizer.load_state_dict(self.checkpoint[\"optimizer\"])\n",
    "        self.start_epoch = self.checkpoint[\"epoch\"] + 1\n",
    "        self.best_loss = self.checkpoint[\"best_loss\"]\n",
    "        logging.debug(f\"Loaded checkpoint from epoch {self.start_epoch}, best loss: {self.best_loss:.4f}\")\n",
    "\n",
    "        # Get Data Split\n",
    "        try:\n",
    "            self._load_split_from_json()\n",
    "        except FileNotFoundError as e:\n",
    "            logging.debug('[WARNING] a checkpoint was found, but a split file was not.')\n",
    "            logging.debug('          a new data split will be generated with potential training bias towards the validaiton split.')\n",
    "            self._setup_data_splits()\n",
    "\n",
    "        return True  \n",
    "\n",
    "    def _first_run_setup(self):\n",
    "        logging.debug('running setup for sam model at base checkpoint')\n",
    "        sam_model = sam_model_registry[\"vit_b\"](checkpoint=self.checkpoint_path)\n",
    "        self.medsam_model = MedSAM(\n",
    "            image_encoder = sam_model.image_encoder,\n",
    "            mask_decoder = sam_model.mask_decoder,\n",
    "            prompt_encoder = sam_model.prompt_encoder,\n",
    "            freeze_image_encoder = True\n",
    "        )\n",
    "        self.medsam_model = self.medsam_model.to(self.device)\n",
    "\n",
    "        logging.debug('setting up optimizer for sam model at base checkpoint')\n",
    "        self.optimizer = optim.AdamW(\n",
    "            self.medsam_model.mask_decoder.parameters(),\n",
    "            lr=self.lr,\n",
    "            betas=(0.9, 0.999),\n",
    "            eps=1e-08,\n",
    "            weight_decay=self.weight_decay\n",
    "        )\n",
    "\n",
    "        self.start_epoch = 0\n",
    "        self.best_loss = float('inf')\n",
    "\n",
    "    def _save_splits_to_json(self, training_image_ids, validation_image_ids):\n",
    "        logging.debug('Saving data splits to json')\n",
    "        data = {\n",
    "            \"training_image_ids\": list(training_image_ids),\n",
    "            \"validation_image_ids\": list(validation_image_ids)\n",
    "        }\n",
    "        with open(os.path.join(self.save_dir, 'data_splits.json'), 'w') as json_file:\n",
    "            json.dump(data, json_file)\n",
    "\n",
    "    def _load_split_from_json(self):\n",
    "        logging.debug('Loading the data split from save directory')\n",
    "        with open(os.path.join(self.save_dir, 'data_splits.json'), 'r') as json_file:\n",
    "            data = json.load(json_file)\n",
    "        self.training_split = set(data[\"training_image_ids\"])\n",
    "        self.validation_split = set(data[\"validation_image_ids\"])\n",
    "\n",
    "    def _setup_data_splits(self, training_split=None, validation_split=None):\n",
    "        \"\"\"Setup the data splits either from a known source or a new setup.\"\"\"\n",
    "        logging.debug('Setting up the data splits for training and validation sets.')\n",
    "        if training_split is not None and validation_split is not None:\n",
    "            logging.debug('Existing splits found, setting them up.')\n",
    "            self.training_split = training_split\n",
    "            self.validation_split = validation_split\n",
    "            return\n",
    "\n",
    "        # get the image ids that have been processed. Use gt dir as reference\n",
    "        axis0_slices = set(map(lambda x : int(re.search(image_id_from_file_name_regex, x).group(1)), os.listdir(os.path.join(self.gt_dir, 'axis0'))))\n",
    "        axis1_slices = set(map(lambda x : int(re.search(image_id_from_file_name_regex, x).group(1)), os.listdir(os.path.join(self.gt_dir, 'axis1'))))\n",
    "        axis2_slices = set(map(lambda x : int(re.search(image_id_from_file_name_regex, x).group(1)), os.listdir(os.path.join(self.gt_dir, 'axis2'))))\n",
    "\n",
    "        if not axis0_slices == axis1_slices == axis2_slices:\n",
    "            print('[WARNING]: The slices for the anatomy are not consistent across the three axes. Some axese are missing data, please check')\n",
    "\n",
    "        training_split = 0.8\n",
    "        validation_split = 1 - training_split\n",
    "\n",
    "        # Split the data into training and validation\n",
    "        self.training_image_ids = random.sample(list(axis0_slices), int(len(axis0_slices) * training_split))\n",
    "        self.validation_image_ids = list(set(axis0_slices) - set(self.training_image_ids))\n",
    "        assert set.intersection(set(self.training_image_ids), set(self.validation_image_ids)).__len__() == 0, 'Training and Validation sets are not disjoint'\n",
    "\n",
    "        # Save the splits in a json file\n",
    "        self._save_splits_to_json(self.training_image_ids, self.validation_image_ids)\n",
    "\n",
    "    def _get_dataloaders(self):\n",
    "        logging.debug('Setting up Datasets and DataLoaders using the splits.')\n",
    "        self.training_dataset = SAM_Dataset(self.image_dir, self.gt_dir, self.training_image_ids)\n",
    "        self.validation_dataset = SAM_Dataset(self.image_dir, self.gt_dir, self.validation_image_ids)\n",
    "        \n",
    "        # Quick check\n",
    "        assert set(map(lambda x : int(re.search(image_id_from_file_name_regex, x).group(1)), self.validation_dataset.axis0_imgs)) == set(self.validation_image_ids), 'DataSet incorrectly loaded image ids that don\\'t match supplied validation set image ids'\n",
    "        assert set(map(lambda x : int(re.search(image_id_from_file_name_regex, x).group(1)), self.training_dataset.axis0_imgs)) == set(self.training_image_ids), 'DataSet incorrectly loaded image ids that don\\'t match supplied validation set image ids'\n",
    "\n",
    "        self.train_loader = DataLoader(self.training_dataset, batch_size=batch_size, shuffle=True, num_workers=num_workers, pin_memory=True)\n",
    "        self.val_loader = DataLoader(self.validation_dataset, batch_size=batch_size, shuffle=True, num_workers=num_workers, pin_memory=True)"
   ]
  },
  {
   "cell_type": "code",
   "execution_count": null,
   "metadata": {},
   "outputs": [],
   "source": [
    "trainer = MedSAMTrainer(\n",
    "    anatomy\n",
    "    , checkpoint_path\n",
    "    , save_dir\n",
    "    , img_dir\n",
    "    , gt_dir\n",
    "    , epochs\n",
    "    , batch_size\n",
    "    , lr\n",
    "    , num_workers\n",
    "    , weight_decay\n",
    "    , resume\n",
    ")"
   ]
  },
  {
   "cell_type": "code",
   "execution_count": null,
   "metadata": {},
   "outputs": [
    {
     "name": "stdout",
     "output_type": "stream",
     "text": [
      "Entered main training loop\n",
      "starting training environment\n",
      "running setup for sam model at base checkpoint\n",
      "setting up optimizer for sam model at base checkpoint\n",
      "Attempting to find and load checkpoint from save directory\n",
      "No checkpoint found in the save directory\n",
      "Setting up the data splits for training and validation sets.\n",
      "Saving data splits to json\n",
      "Setting up Datasets and DataLoaders using the splits.\n",
      "Setting up loss functions\n",
      ">> Starting epoch 0 at time 2024-05-17 19:11:56.097333\n"
     ]
    },
    {
     "name": "stderr",
     "output_type": "stream",
     "text": [
      "  0%|          | 0/6741 [00:00<?, ?it/s]"
     ]
    },
    {
     "name": "stdout",
     "output_type": "stream",
     "text": [
      "Starting epoch 0 step 0 at time 2024-05-17 19:11:56.609581\n",
      "getting the data and setting to device\n",
      "Performing forward pass\n",
      "Calculating loss\n",
      "Loss calculated: 0.9801114201545715\n",
      "Performing step in optimizer and propagating loss backgwards\n"
     ]
    },
    {
     "name": "stderr",
     "output_type": "stream",
     "text": [
      "Epoch 0 at 2024-05-17 19:11:57, loss: 0.9801:   0%|          | 1/6741 [00:00<1:51:34,  1.01it/s]"
     ]
    },
    {
     "name": "stdout",
     "output_type": "stream",
     "text": [
      "Starting epoch 0 step 1 at time 2024-05-17 19:11:57.095254\n",
      "getting the data and setting to device\n",
      "Performing forward pass\n",
      "Calculating loss\n",
      "Loss calculated: 1.1390385627746582\n",
      "Performing step in optimizer and propagating loss backgwards\n"
     ]
    },
    {
     "name": "stderr",
     "output_type": "stream",
     "text": [
      "Epoch 0 at 2024-05-17 19:11:57, loss: 1.1390:   0%|          | 2/6741 [00:01<1:14:14,  1.51it/s]"
     ]
    },
    {
     "name": "stdout",
     "output_type": "stream",
     "text": [
      "Starting epoch 0 step 2 at time 2024-05-17 19:11:57.523616\n",
      "getting the data and setting to device\n",
      "Performing forward pass\n",
      "Calculating loss\n",
      "Loss calculated: 1.1463708877563477\n",
      "Performing step in optimizer and propagating loss backgwards\n"
     ]
    },
    {
     "name": "stderr",
     "output_type": "stream",
     "text": [
      "Epoch 0 at 2024-05-17 19:11:57, loss: 1.1464:   0%|          | 3/6741 [00:01<1:01:56,  1.81it/s]"
     ]
    },
    {
     "name": "stdout",
     "output_type": "stream",
     "text": [
      "Starting epoch 0 step 3 at time 2024-05-17 19:11:57.944862\n",
      "getting the data and setting to device\n",
      "Performing forward pass\n",
      "Calculating loss\n",
      "Loss calculated: 1.1054050922393799\n",
      "Performing step in optimizer and propagating loss backgwards\n"
     ]
    },
    {
     "name": "stderr",
     "output_type": "stream",
     "text": [
      "Epoch 0 at 2024-05-17 19:11:58, loss: 1.1054:   0%|          | 4/6741 [00:02<56:23,  1.99it/s]  "
     ]
    },
    {
     "name": "stdout",
     "output_type": "stream",
     "text": [
      "Starting epoch 0 step 4 at time 2024-05-17 19:11:58.371563\n",
      "getting the data and setting to device\n",
      "Performing forward pass\n",
      "Calculating loss\n",
      "Loss calculated: 1.0513006448745728\n",
      "Performing step in optimizer and propagating loss backgwards\n"
     ]
    },
    {
     "name": "stderr",
     "output_type": "stream",
     "text": [
      "Epoch 0 at 2024-05-17 19:11:58, loss: 1.0513:   0%|          | 5/6741 [00:02<53:18,  2.11it/s]"
     ]
    },
    {
     "name": "stdout",
     "output_type": "stream",
     "text": [
      "Starting epoch 0 step 5 at time 2024-05-17 19:11:58.797640\n",
      "getting the data and setting to device\n",
      "Performing forward pass\n",
      "Calculating loss\n",
      "Loss calculated: 0.9221086502075195\n",
      "Performing step in optimizer and propagating loss backgwards\n"
     ]
    },
    {
     "name": "stderr",
     "output_type": "stream",
     "text": [
      "Epoch 0 at 2024-05-17 19:11:59, loss: 0.9221:   0%|          | 6/6741 [00:03<51:11,  2.19it/s]"
     ]
    },
    {
     "name": "stdout",
     "output_type": "stream",
     "text": [
      "Starting epoch 0 step 6 at time 2024-05-17 19:11:59.217304\n",
      "getting the data and setting to device\n",
      "Performing forward pass\n",
      "Calculating loss\n",
      "Loss calculated: 0.8847162127494812\n",
      "Performing step in optimizer and propagating loss backgwards\n"
     ]
    },
    {
     "name": "stderr",
     "output_type": "stream",
     "text": [
      "Epoch 0 at 2024-05-17 19:11:59, loss: 0.8847:   0%|          | 7/6741 [00:03<50:21,  2.23it/s]"
     ]
    },
    {
     "name": "stdout",
     "output_type": "stream",
     "text": [
      "Starting epoch 0 step 7 at time 2024-05-17 19:11:59.650846\n",
      "getting the data and setting to device\n",
      "Performing forward pass\n",
      "Calculating loss\n",
      "Loss calculated: 0.676746129989624\n",
      "Performing step in optimizer and propagating loss backgwards\n"
     ]
    },
    {
     "name": "stderr",
     "output_type": "stream",
     "text": [
      "Epoch 0 at 2024-05-17 19:12:00, loss: 0.6767:   0%|          | 8/6741 [00:03<49:43,  2.26it/s]"
     ]
    },
    {
     "name": "stdout",
     "output_type": "stream",
     "text": [
      "Starting epoch 0 step 8 at time 2024-05-17 19:12:00.083035\n",
      "getting the data and setting to device\n",
      "Performing forward pass\n",
      "Calculating loss\n",
      "Loss calculated: 0.9577442407608032\n",
      "Performing step in optimizer and propagating loss backgwards\n"
     ]
    },
    {
     "name": "stderr",
     "output_type": "stream",
     "text": [
      "Epoch 0 at 2024-05-17 19:12:00, loss: 0.9577:   0%|          | 9/6741 [00:04<49:04,  2.29it/s]"
     ]
    },
    {
     "name": "stdout",
     "output_type": "stream",
     "text": [
      "Starting epoch 0 step 9 at time 2024-05-17 19:12:00.506928\n",
      "getting the data and setting to device\n",
      "Performing forward pass\n",
      "Calculating loss\n",
      "Loss calculated: 0.8674134016036987\n",
      "Performing step in optimizer and propagating loss backgwards\n"
     ]
    },
    {
     "name": "stderr",
     "output_type": "stream",
     "text": [
      "Epoch 0 at 2024-05-17 19:12:00, loss: 0.8674:   0%|          | 10/6741 [00:04<48:53,  2.29it/s]"
     ]
    },
    {
     "name": "stdout",
     "output_type": "stream",
     "text": [
      "Starting epoch 0 step 10 at time 2024-05-17 19:12:00.939333\n",
      "getting the data and setting to device\n",
      "Performing forward pass\n",
      "Calculating loss\n",
      "Loss calculated: 0.915659487247467\n",
      "Performing step in optimizer and propagating loss backgwards\n"
     ]
    },
    {
     "name": "stderr",
     "output_type": "stream",
     "text": [
      "Epoch 0 at 2024-05-17 19:12:01, loss: 0.9157:   0%|          | 11/6741 [00:05<48:14,  2.33it/s]"
     ]
    },
    {
     "name": "stdout",
     "output_type": "stream",
     "text": [
      "Starting epoch 0 step 11 at time 2024-05-17 19:12:01.355784\n",
      "getting the data and setting to device\n",
      "Performing forward pass\n",
      "Calculating loss\n",
      "Loss calculated: 0.7122485041618347\n",
      "Performing step in optimizer and propagating loss backgwards\n"
     ]
    },
    {
     "name": "stderr",
     "output_type": "stream",
     "text": [
      "Epoch 0 at 2024-05-17 19:12:01, loss: 0.7122:   0%|          | 12/6741 [00:05<47:48,  2.35it/s]"
     ]
    },
    {
     "name": "stdout",
     "output_type": "stream",
     "text": [
      "Starting epoch 0 step 12 at time 2024-05-17 19:12:01.773637\n",
      "getting the data and setting to device\n",
      "Performing forward pass\n",
      "Calculating loss\n",
      "Loss calculated: 0.9028681516647339\n",
      "Performing step in optimizer and propagating loss backgwards\n"
     ]
    },
    {
     "name": "stderr",
     "output_type": "stream",
     "text": [
      "Epoch 0 at 2024-05-17 19:12:02, loss: 0.9029:   0%|          | 13/6741 [00:06<47:27,  2.36it/s]"
     ]
    },
    {
     "name": "stdout",
     "output_type": "stream",
     "text": [
      "Starting epoch 0 step 13 at time 2024-05-17 19:12:02.189897\n",
      "getting the data and setting to device\n",
      "Performing forward pass\n",
      "Calculating loss\n",
      "Loss calculated: 0.8419404029846191\n",
      "Performing step in optimizer and propagating loss backgwards\n"
     ]
    },
    {
     "name": "stderr",
     "output_type": "stream",
     "text": [
      "Epoch 0 at 2024-05-17 19:12:02, loss: 0.8419:   0%|          | 14/6741 [00:06<47:21,  2.37it/s]"
     ]
    },
    {
     "name": "stdout",
     "output_type": "stream",
     "text": [
      "Starting epoch 0 step 14 at time 2024-05-17 19:12:02.610461\n",
      "getting the data and setting to device\n",
      "Performing forward pass\n",
      "Calculating loss\n",
      "Loss calculated: 0.759027898311615\n",
      "Performing step in optimizer and propagating loss backgwards\n"
     ]
    },
    {
     "name": "stderr",
     "output_type": "stream",
     "text": [
      "Epoch 0 at 2024-05-17 19:12:03, loss: 0.7590:   0%|          | 15/6741 [00:06<47:32,  2.36it/s]"
     ]
    },
    {
     "name": "stdout",
     "output_type": "stream",
     "text": [
      "Starting epoch 0 step 15 at time 2024-05-17 19:12:03.039060\n",
      "getting the data and setting to device\n",
      "Performing forward pass\n",
      "Calculating loss\n",
      "Loss calculated: 0.8518402576446533\n",
      "Performing step in optimizer and propagating loss backgwards\n"
     ]
    },
    {
     "name": "stderr",
     "output_type": "stream",
     "text": [
      "Epoch 0 at 2024-05-17 19:12:03, loss: 0.8518:   0%|          | 16/6741 [00:07<47:44,  2.35it/s]"
     ]
    },
    {
     "name": "stdout",
     "output_type": "stream",
     "text": [
      "Starting epoch 0 step 16 at time 2024-05-17 19:12:03.469130\n",
      "getting the data and setting to device\n",
      "Performing forward pass\n",
      "Calculating loss\n",
      "Loss calculated: 0.7069027423858643\n",
      "Performing step in optimizer and propagating loss backgwards\n"
     ]
    },
    {
     "name": "stderr",
     "output_type": "stream",
     "text": [
      "Epoch 0 at 2024-05-17 19:12:03, loss: 0.7069:   0%|          | 17/6741 [00:07<47:22,  2.37it/s]"
     ]
    },
    {
     "name": "stdout",
     "output_type": "stream",
     "text": [
      "Starting epoch 0 step 17 at time 2024-05-17 19:12:03.884187\n",
      "getting the data and setting to device\n",
      "Performing forward pass\n",
      "Calculating loss\n",
      "Loss calculated: 0.8305571675300598\n",
      "Performing step in optimizer and propagating loss backgwards\n"
     ]
    },
    {
     "name": "stderr",
     "output_type": "stream",
     "text": [
      "Epoch 0 at 2024-05-17 19:12:04, loss: 0.8306:   0%|          | 18/6741 [00:08<47:25,  2.36it/s]"
     ]
    },
    {
     "name": "stdout",
     "output_type": "stream",
     "text": [
      "Starting epoch 0 step 18 at time 2024-05-17 19:12:04.308520\n",
      "getting the data and setting to device\n",
      "Performing forward pass\n",
      "Calculating loss\n",
      "Loss calculated: 0.7402668595314026\n",
      "Performing step in optimizer and propagating loss backgwards\n"
     ]
    },
    {
     "name": "stderr",
     "output_type": "stream",
     "text": [
      "Epoch 0 at 2024-05-17 19:12:04, loss: 0.7403:   0%|          | 19/6741 [00:08<47:49,  2.34it/s]"
     ]
    },
    {
     "name": "stdout",
     "output_type": "stream",
     "text": [
      "Starting epoch 0 step 19 at time 2024-05-17 19:12:04.744116\n",
      "getting the data and setting to device\n",
      "Performing forward pass\n",
      "Calculating loss\n",
      "Loss calculated: 0.7301982641220093\n",
      "Performing step in optimizer and propagating loss backgwards\n"
     ]
    },
    {
     "name": "stderr",
     "output_type": "stream",
     "text": [
      "Epoch 0 at 2024-05-17 19:12:05, loss: 0.7302:   0%|          | 20/6741 [00:09<47:35,  2.35it/s]"
     ]
    },
    {
     "name": "stdout",
     "output_type": "stream",
     "text": [
      "Starting epoch 0 step 20 at time 2024-05-17 19:12:05.164155\n",
      "getting the data and setting to device\n",
      "Performing forward pass\n",
      "Calculating loss\n",
      "Loss calculated: 0.926713764667511\n",
      "Performing step in optimizer and propagating loss backgwards\n"
     ]
    },
    {
     "name": "stderr",
     "output_type": "stream",
     "text": [
      "Epoch 0 at 2024-05-17 19:12:05, loss: 0.9267:   0%|          | 21/6741 [00:09<47:51,  2.34it/s]"
     ]
    },
    {
     "name": "stdout",
     "output_type": "stream",
     "text": [
      "Starting epoch 0 step 21 at time 2024-05-17 19:12:05.597860\n",
      "getting the data and setting to device\n",
      "Performing forward pass\n",
      "Calculating loss\n",
      "Loss calculated: 0.800922155380249\n",
      "Performing step in optimizer and propagating loss backgwards\n"
     ]
    },
    {
     "name": "stderr",
     "output_type": "stream",
     "text": [
      "Epoch 0 at 2024-05-17 19:12:06, loss: 0.8009:   0%|          | 22/6741 [00:09<48:15,  2.32it/s]"
     ]
    },
    {
     "name": "stdout",
     "output_type": "stream",
     "text": [
      "Starting epoch 0 step 22 at time 2024-05-17 19:12:06.036070\n",
      "getting the data and setting to device\n",
      "Performing forward pass\n",
      "Calculating loss\n",
      "Loss calculated: 0.5940483212471008\n",
      "Performing step in optimizer and propagating loss backgwards\n"
     ]
    },
    {
     "name": "stderr",
     "output_type": "stream",
     "text": [
      "Epoch 0 at 2024-05-17 19:12:06, loss: 0.5940:   0%|          | 23/6741 [00:10<48:19,  2.32it/s]"
     ]
    },
    {
     "name": "stdout",
     "output_type": "stream",
     "text": [
      "Starting epoch 0 step 23 at time 2024-05-17 19:12:06.469955\n",
      "getting the data and setting to device\n",
      "Performing forward pass\n",
      "Calculating loss\n",
      "Loss calculated: 0.7295874953269958\n",
      "Performing step in optimizer and propagating loss backgwards\n"
     ]
    },
    {
     "name": "stderr",
     "output_type": "stream",
     "text": [
      "Epoch 0 at 2024-05-17 19:12:06, loss: 0.7296:   0%|          | 24/6741 [00:10<48:17,  2.32it/s]"
     ]
    },
    {
     "name": "stdout",
     "output_type": "stream",
     "text": [
      "Starting epoch 0 step 24 at time 2024-05-17 19:12:06.900886\n",
      "getting the data and setting to device\n",
      "Performing forward pass\n",
      "Calculating loss\n",
      "Loss calculated: 0.8570486903190613\n",
      "Performing step in optimizer and propagating loss backgwards\n"
     ]
    },
    {
     "name": "stderr",
     "output_type": "stream",
     "text": [
      "Epoch 0 at 2024-05-17 19:12:07, loss: 0.8570:   0%|          | 25/6741 [00:11<48:23,  2.31it/s]"
     ]
    },
    {
     "name": "stdout",
     "output_type": "stream",
     "text": [
      "Starting epoch 0 step 25 at time 2024-05-17 19:12:07.335791\n",
      "getting the data and setting to device\n",
      "Performing forward pass\n",
      "Calculating loss\n",
      "Loss calculated: 0.7459757328033447\n",
      "Performing step in optimizer and propagating loss backgwards\n"
     ]
    },
    {
     "name": "stderr",
     "output_type": "stream",
     "text": [
      "Epoch 0 at 2024-05-17 19:12:07, loss: 0.7460:   0%|          | 26/6741 [00:11<48:24,  2.31it/s]"
     ]
    },
    {
     "name": "stdout",
     "output_type": "stream",
     "text": [
      "Starting epoch 0 step 26 at time 2024-05-17 19:12:07.768682\n",
      "getting the data and setting to device\n",
      "Performing forward pass\n",
      "Calculating loss\n",
      "Loss calculated: 0.8069535493850708\n",
      "Performing step in optimizer and propagating loss backgwards\n"
     ]
    },
    {
     "name": "stderr",
     "output_type": "stream",
     "text": [
      "Epoch 0 at 2024-05-17 19:12:08, loss: 0.8070:   0%|          | 27/6741 [00:12<48:18,  2.32it/s]"
     ]
    },
    {
     "name": "stdout",
     "output_type": "stream",
     "text": [
      "Starting epoch 0 step 27 at time 2024-05-17 19:12:08.198307\n",
      "getting the data and setting to device\n",
      "Performing forward pass\n",
      "Calculating loss\n",
      "Loss calculated: 0.650553822517395\n",
      "Performing step in optimizer and propagating loss backgwards\n"
     ]
    },
    {
     "name": "stderr",
     "output_type": "stream",
     "text": [
      "Epoch 0 at 2024-05-17 19:12:08, loss: 0.6506:   0%|          | 28/6741 [00:12<48:50,  2.29it/s]"
     ]
    },
    {
     "name": "stdout",
     "output_type": "stream",
     "text": [
      "Starting epoch 0 step 28 at time 2024-05-17 19:12:08.647515\n",
      "getting the data and setting to device\n",
      "Performing forward pass\n",
      "Calculating loss\n",
      "Loss calculated: 0.7580571174621582\n",
      "Performing step in optimizer and propagating loss backgwards\n"
     ]
    },
    {
     "name": "stderr",
     "output_type": "stream",
     "text": [
      "Epoch 0 at 2024-05-17 19:12:09, loss: 0.7581:   0%|          | 29/6741 [00:12<49:25,  2.26it/s]"
     ]
    },
    {
     "name": "stdout",
     "output_type": "stream",
     "text": [
      "Starting epoch 0 step 29 at time 2024-05-17 19:12:09.100450\n",
      "getting the data and setting to device\n",
      "Performing forward pass\n",
      "Calculating loss\n",
      "Loss calculated: 0.6618421673774719\n",
      "Performing step in optimizer and propagating loss backgwards\n"
     ]
    },
    {
     "name": "stderr",
     "output_type": "stream",
     "text": [
      "Epoch 0 at 2024-05-17 19:12:09, loss: 0.6618:   0%|          | 30/6741 [00:13<49:53,  2.24it/s]"
     ]
    },
    {
     "name": "stdout",
     "output_type": "stream",
     "text": [
      "Starting epoch 0 step 30 at time 2024-05-17 19:12:09.556410\n",
      "getting the data and setting to device\n",
      "Performing forward pass\n",
      "Calculating loss\n",
      "Loss calculated: 0.6952122449874878\n",
      "Performing step in optimizer and propagating loss backgwards\n"
     ]
    },
    {
     "name": "stderr",
     "output_type": "stream",
     "text": [
      "Epoch 0 at 2024-05-17 19:12:10, loss: 0.6952:   0%|          | 31/6741 [00:13<50:03,  2.23it/s]"
     ]
    },
    {
     "name": "stdout",
     "output_type": "stream",
     "text": [
      "Starting epoch 0 step 31 at time 2024-05-17 19:12:10.007625\n",
      "getting the data and setting to device\n",
      "Performing forward pass\n",
      "Calculating loss\n",
      "Loss calculated: 0.7971209287643433\n",
      "Performing step in optimizer and propagating loss backgwards\n"
     ]
    },
    {
     "name": "stderr",
     "output_type": "stream",
     "text": [
      "Epoch 0 at 2024-05-17 19:12:10, loss: 0.7971:   0%|          | 32/6741 [00:14<50:13,  2.23it/s]"
     ]
    },
    {
     "name": "stdout",
     "output_type": "stream",
     "text": [
      "Starting epoch 0 step 32 at time 2024-05-17 19:12:10.460682\n",
      "getting the data and setting to device\n",
      "Performing forward pass\n",
      "Calculating loss\n",
      "Loss calculated: 0.7326299548149109\n",
      "Performing step in optimizer and propagating loss backgwards\n"
     ]
    },
    {
     "name": "stderr",
     "output_type": "stream",
     "text": [
      "Epoch 0 at 2024-05-17 19:12:10, loss: 0.7326:   0%|          | 33/6741 [00:14<50:20,  2.22it/s]"
     ]
    },
    {
     "name": "stdout",
     "output_type": "stream",
     "text": [
      "Starting epoch 0 step 33 at time 2024-05-17 19:12:10.913212\n",
      "getting the data and setting to device\n",
      "Performing forward pass\n",
      "Calculating loss\n",
      "Loss calculated: 0.8048619627952576\n",
      "Performing step in optimizer and propagating loss backgwards\n"
     ]
    },
    {
     "name": "stderr",
     "output_type": "stream",
     "text": [
      "Epoch 0 at 2024-05-17 19:12:11, loss: 0.8049:   1%|          | 34/6741 [00:15<50:00,  2.24it/s]"
     ]
    },
    {
     "name": "stdout",
     "output_type": "stream",
     "text": [
      "Starting epoch 0 step 34 at time 2024-05-17 19:12:11.579184\n",
      "getting the data and setting to device\n",
      "Performing forward pass\n",
      "Calculating loss\n",
      "Loss calculated: 0.7231967449188232\n",
      "Performing step in optimizer and propagating loss backgwards\n"
     ]
    },
    {
     "name": "stderr",
     "output_type": "stream",
     "text": [
      "Epoch 0 at 2024-05-17 19:12:12, loss: 0.7232:   1%|          | 35/6741 [00:15<56:58,  1.96it/s]"
     ]
    },
    {
     "name": "stdout",
     "output_type": "stream",
     "text": [
      "Starting epoch 0 step 35 at time 2024-05-17 19:12:12.009040\n",
      "getting the data and setting to device\n",
      "Performing forward pass\n",
      "Calculating loss\n",
      "Loss calculated: 0.7315534949302673\n",
      "Performing step in optimizer and propagating loss backgwards\n"
     ]
    },
    {
     "name": "stderr",
     "output_type": "stream",
     "text": [
      "Epoch 0 at 2024-05-17 19:12:12, loss: 0.7316:   1%|          | 36/6741 [00:16<55:02,  2.03it/s]"
     ]
    },
    {
     "name": "stdout",
     "output_type": "stream",
     "text": [
      "Starting epoch 0 step 36 at time 2024-05-17 19:12:13.862657\n",
      "getting the data and setting to device\n",
      "Performing forward pass\n",
      "Calculating loss\n",
      "Loss calculated: 0.5956326127052307\n",
      "Performing step in optimizer and propagating loss backgwards\n"
     ]
    },
    {
     "name": "stderr",
     "output_type": "stream",
     "text": [
      "Epoch 0 at 2024-05-17 19:12:14, loss: 0.5956:   1%|          | 37/6741 [00:18<1:40:44,  1.11it/s]"
     ]
    },
    {
     "name": "stdout",
     "output_type": "stream",
     "text": [
      "Starting epoch 0 step 37 at time 2024-05-17 19:12:14.993003\n",
      "getting the data and setting to device\n",
      "Performing forward pass\n",
      "Calculating loss\n",
      "Loss calculated: 0.720034658908844\n",
      "Performing step in optimizer and propagating loss backgwards\n"
     ]
    },
    {
     "name": "stderr",
     "output_type": "stream",
     "text": [
      "Epoch 0 at 2024-05-17 19:12:15, loss: 0.7200:   1%|          | 38/6741 [00:19<1:47:53,  1.04it/s]"
     ]
    },
    {
     "name": "stdout",
     "output_type": "stream",
     "text": [
      "Starting epoch 0 step 38 at time 2024-05-17 19:12:15.995270\n",
      "getting the data and setting to device\n",
      "Performing forward pass\n",
      "Calculating loss\n",
      "Loss calculated: 0.7541388273239136\n",
      "Performing step in optimizer and propagating loss backgwards\n"
     ]
    },
    {
     "name": "stderr",
     "output_type": "stream",
     "text": [
      "Epoch 0 at 2024-05-17 19:12:16, loss: 0.7541:   1%|          | 39/6741 [00:20<1:49:22,  1.02it/s]"
     ]
    },
    {
     "name": "stdout",
     "output_type": "stream",
     "text": [
      "Starting epoch 0 step 39 at time 2024-05-17 19:12:16.443803\n",
      "getting the data and setting to device\n",
      "Performing forward pass\n",
      "Calculating loss\n",
      "Loss calculated: 0.7816808819770813\n",
      "Performing step in optimizer and propagating loss backgwards\n"
     ]
    },
    {
     "name": "stderr",
     "output_type": "stream",
     "text": [
      "Epoch 0 at 2024-05-17 19:12:16, loss: 0.7817:   1%|          | 40/6741 [00:20<1:31:29,  1.22it/s]"
     ]
    },
    {
     "name": "stdout",
     "output_type": "stream",
     "text": [
      "Starting epoch 0 step 40 at time 2024-05-17 19:12:17.696471\n",
      "getting the data and setting to device\n",
      "Performing forward pass\n",
      "Calculating loss\n",
      "Loss calculated: 0.721788227558136\n",
      "Performing step in optimizer and propagating loss backgwards\n"
     ]
    },
    {
     "name": "stderr",
     "output_type": "stream",
     "text": [
      "Epoch 0 at 2024-05-17 19:12:18, loss: 0.7218:   1%|          | 41/6741 [00:22<1:46:56,  1.04it/s]"
     ]
    },
    {
     "name": "stdout",
     "output_type": "stream",
     "text": [
      "Starting epoch 0 step 41 at time 2024-05-17 19:12:18.954838\n",
      "getting the data and setting to device\n",
      "Performing forward pass\n",
      "Calculating loss\n",
      "Loss calculated: 0.5283022522926331\n",
      "Performing step in optimizer and propagating loss backgwards\n"
     ]
    },
    {
     "name": "stderr",
     "output_type": "stream",
     "text": [
      "Epoch 0 at 2024-05-17 19:12:19, loss: 0.5283:   1%|          | 42/6741 [00:23<1:56:11,  1.04s/it]"
     ]
    },
    {
     "name": "stdout",
     "output_type": "stream",
     "text": [
      "Starting epoch 0 step 42 at time 2024-05-17 19:12:19.816615\n",
      "getting the data and setting to device\n",
      "Performing forward pass\n",
      "Calculating loss\n",
      "Loss calculated: 0.7379951477050781\n",
      "Performing step in optimizer and propagating loss backgwards\n"
     ]
    },
    {
     "name": "stderr",
     "output_type": "stream",
     "text": [
      "Epoch 0 at 2024-05-17 19:12:20, loss: 0.7380:   1%|          | 43/6741 [00:24<1:49:58,  1.02it/s]"
     ]
    },
    {
     "name": "stdout",
     "output_type": "stream",
     "text": [
      "Starting epoch 0 step 43 at time 2024-05-17 19:12:20.259995\n",
      "getting the data and setting to device\n",
      "Performing forward pass\n",
      "Calculating loss\n",
      "Loss calculated: 0.810519814491272\n",
      "Performing step in optimizer and propagating loss backgwards\n"
     ]
    },
    {
     "name": "stderr",
     "output_type": "stream",
     "text": [
      "Epoch 0 at 2024-05-17 19:12:20, loss: 0.8105:   1%|          | 44/6741 [00:24<1:32:11,  1.21it/s]"
     ]
    },
    {
     "name": "stdout",
     "output_type": "stream",
     "text": [
      "Starting epoch 0 step 44 at time 2024-05-17 19:12:22.154877\n",
      "getting the data and setting to device\n",
      "Performing forward pass\n",
      "Calculating loss\n",
      "Loss calculated: 0.6651796698570251\n",
      "Performing step in optimizer and propagating loss backgwards\n"
     ]
    },
    {
     "name": "stderr",
     "output_type": "stream",
     "text": [
      "Epoch 0 at 2024-05-17 19:12:22, loss: 0.6652:   1%|          | 45/6741 [00:26<2:08:06,  1.15s/it]"
     ]
    },
    {
     "name": "stdout",
     "output_type": "stream",
     "text": [
      "Starting epoch 0 step 45 at time 2024-05-17 19:12:22.704426\n",
      "getting the data and setting to device\n",
      "Performing forward pass\n",
      "Calculating loss\n",
      "Loss calculated: 0.6866087913513184\n",
      "Performing step in optimizer and propagating loss backgwards\n"
     ]
    },
    {
     "name": "stderr",
     "output_type": "stream",
     "text": [
      "Epoch 0 at 2024-05-17 19:12:23, loss: 0.6866:   1%|          | 46/6741 [00:27<1:47:42,  1.04it/s]"
     ]
    },
    {
     "name": "stdout",
     "output_type": "stream",
     "text": [
      "Starting epoch 0 step 46 at time 2024-05-17 19:12:23.969791\n",
      "getting the data and setting to device\n",
      "Performing forward pass\n",
      "Calculating loss\n",
      "Loss calculated: 0.692719042301178\n",
      "Performing step in optimizer and propagating loss backgwards\n"
     ]
    },
    {
     "name": "stderr",
     "output_type": "stream",
     "text": [
      "Epoch 0 at 2024-05-17 19:12:24, loss: 0.6927:   1%|          | 47/6741 [00:28<1:57:18,  1.05s/it]"
     ]
    },
    {
     "name": "stdout",
     "output_type": "stream",
     "text": [
      "Starting epoch 0 step 47 at time 2024-05-17 19:12:24.405451\n",
      "getting the data and setting to device\n",
      "Performing forward pass\n",
      "Calculating loss\n",
      "Loss calculated: 0.6660811305046082\n",
      "Performing step in optimizer and propagating loss backgwards\n"
     ]
    },
    {
     "name": "stderr",
     "output_type": "stream",
     "text": [
      "Epoch 0 at 2024-05-17 19:12:24, loss: 0.6661:   1%|          | 48/6741 [00:28<1:36:49,  1.15it/s]"
     ]
    },
    {
     "name": "stdout",
     "output_type": "stream",
     "text": [
      "Starting epoch 0 step 48 at time 2024-05-17 19:12:25.992410\n",
      "getting the data and setting to device\n",
      "Performing forward pass\n",
      "Calculating loss\n",
      "Loss calculated: 0.4818209111690521\n",
      "Performing step in optimizer and propagating loss backgwards\n"
     ]
    },
    {
     "name": "stderr",
     "output_type": "stream",
     "text": [
      "Epoch 0 at 2024-05-17 19:12:26, loss: 0.4818:   1%|          | 49/6741 [00:30<2:00:28,  1.08s/it]"
     ]
    },
    {
     "name": "stdout",
     "output_type": "stream",
     "text": [
      "Starting epoch 0 step 49 at time 2024-05-17 19:12:26.945266\n",
      "getting the data and setting to device\n",
      "Performing forward pass\n",
      "Calculating loss\n",
      "Loss calculated: 0.5742634534835815\n",
      "Performing step in optimizer and propagating loss backgwards\n"
     ]
    },
    {
     "name": "stderr",
     "output_type": "stream",
     "text": [
      "Epoch 0 at 2024-05-17 19:12:27, loss: 0.5743:   1%|          | 50/6741 [00:31<1:56:55,  1.05s/it]"
     ]
    },
    {
     "name": "stdout",
     "output_type": "stream",
     "text": [
      "Starting epoch 0 step 50 at time 2024-05-17 19:12:27.821460\n",
      "getting the data and setting to device\n",
      "Performing forward pass\n",
      "Calculating loss\n",
      "Loss calculated: 0.5316725373268127\n",
      "Performing step in optimizer and propagating loss backgwards\n"
     ]
    },
    {
     "name": "stderr",
     "output_type": "stream",
     "text": [
      "Epoch 0 at 2024-05-17 19:12:28, loss: 0.5317:   1%|          | 51/6741 [00:32<1:51:01,  1.00it/s]"
     ]
    },
    {
     "name": "stdout",
     "output_type": "stream",
     "text": [
      "Starting epoch 0 step 51 at time 2024-05-17 19:12:28.268755\n",
      "getting the data and setting to device\n",
      "Performing forward pass\n",
      "Calculating loss\n",
      "Loss calculated: 0.47385019063949585\n",
      "Performing step in optimizer and propagating loss backgwards\n"
     ]
    },
    {
     "name": "stderr",
     "output_type": "stream",
     "text": [
      "Epoch 0 at 2024-05-17 19:12:28, loss: 0.4739:   1%|          | 52/6741 [00:32<1:32:28,  1.21it/s]"
     ]
    },
    {
     "name": "stdout",
     "output_type": "stream",
     "text": [
      "Starting epoch 0 step 52 at time 2024-05-17 19:12:29.928081\n",
      "getting the data and setting to device\n",
      "Performing forward pass\n",
      "Calculating loss\n",
      "Loss calculated: 0.5010199546813965\n",
      "Performing step in optimizer and propagating loss backgwards\n"
     ]
    },
    {
     "name": "stderr",
     "output_type": "stream",
     "text": [
      "Epoch 0 at 2024-05-17 19:12:30, loss: 0.5010:   1%|          | 53/6741 [00:34<2:00:16,  1.08s/it]"
     ]
    },
    {
     "name": "stdout",
     "output_type": "stream",
     "text": [
      "Starting epoch 0 step 53 at time 2024-05-17 19:12:30.947783\n",
      "getting the data and setting to device\n",
      "Performing forward pass\n",
      "Calculating loss\n",
      "Loss calculated: 0.6856354475021362\n",
      "Performing step in optimizer and propagating loss backgwards\n"
     ]
    },
    {
     "name": "stderr",
     "output_type": "stream",
     "text": [
      "Epoch 0 at 2024-05-17 19:12:31, loss: 0.6856:   1%|          | 54/6741 [00:35<1:58:27,  1.06s/it]"
     ]
    },
    {
     "name": "stdout",
     "output_type": "stream",
     "text": [
      "Starting epoch 0 step 54 at time 2024-05-17 19:12:31.713752\n",
      "getting the data and setting to device\n",
      "Performing forward pass\n",
      "Calculating loss\n",
      "Loss calculated: 0.6746335625648499\n",
      "Performing step in optimizer and propagating loss backgwards\n"
     ]
    },
    {
     "name": "stderr",
     "output_type": "stream",
     "text": [
      "Epoch 0 at 2024-05-17 19:12:32, loss: 0.6746:   1%|          | 55/6741 [00:36<1:48:36,  1.03it/s]"
     ]
    },
    {
     "name": "stdout",
     "output_type": "stream",
     "text": [
      "Starting epoch 0 step 55 at time 2024-05-17 19:12:32.164687\n",
      "getting the data and setting to device\n",
      "Performing forward pass\n",
      "Calculating loss\n",
      "Loss calculated: 0.5152162313461304\n",
      "Performing step in optimizer and propagating loss backgwards\n"
     ]
    },
    {
     "name": "stderr",
     "output_type": "stream",
     "text": [
      "Epoch 0 at 2024-05-17 19:12:32, loss: 0.5152:   1%|          | 56/6741 [00:36<1:31:29,  1.22it/s]"
     ]
    },
    {
     "name": "stdout",
     "output_type": "stream",
     "text": [
      "Starting epoch 0 step 56 at time 2024-05-17 19:12:33.641964\n",
      "getting the data and setting to device\n",
      "Performing forward pass\n",
      "Calculating loss\n",
      "Loss calculated: 0.7987488508224487\n",
      "Performing step in optimizer and propagating loss backgwards\n"
     ]
    },
    {
     "name": "stderr",
     "output_type": "stream",
     "text": [
      "Epoch 0 at 2024-05-17 19:12:34, loss: 0.7987:   1%|          | 57/6741 [00:37<1:53:16,  1.02s/it]"
     ]
    },
    {
     "name": "stdout",
     "output_type": "stream",
     "text": [
      "Starting epoch 0 step 57 at time 2024-05-17 19:12:34.864354\n",
      "getting the data and setting to device\n",
      "Performing forward pass\n",
      "Calculating loss\n",
      "Loss calculated: 0.5842515826225281\n",
      "Performing step in optimizer and propagating loss backgwards\n"
     ]
    },
    {
     "name": "stderr",
     "output_type": "stream",
     "text": [
      "Epoch 0 at 2024-05-17 19:12:35, loss: 0.5843:   1%|          | 58/6741 [00:39<1:59:55,  1.08s/it]"
     ]
    },
    {
     "name": "stdout",
     "output_type": "stream",
     "text": [
      "Starting epoch 0 step 58 at time 2024-05-17 19:12:35.810935\n",
      "getting the data and setting to device\n",
      "Performing forward pass\n",
      "Calculating loss\n",
      "Loss calculated: 0.6637677550315857\n",
      "Performing step in optimizer and propagating loss backgwards\n"
     ]
    },
    {
     "name": "stderr",
     "output_type": "stream",
     "text": [
      "Epoch 0 at 2024-05-17 19:12:36, loss: 0.6638:   1%|          | 59/6741 [00:40<1:55:16,  1.04s/it]"
     ]
    },
    {
     "name": "stdout",
     "output_type": "stream",
     "text": [
      "Starting epoch 0 step 59 at time 2024-05-17 19:12:36.255964\n",
      "getting the data and setting to device\n",
      "Performing forward pass\n",
      "Calculating loss\n",
      "Loss calculated: 0.661095380783081\n",
      "Performing step in optimizer and propagating loss backgwards\n"
     ]
    },
    {
     "name": "stderr",
     "output_type": "stream",
     "text": [
      "Epoch 0 at 2024-05-17 19:12:36, loss: 0.6611:   1%|          | 60/6741 [00:40<1:35:44,  1.16it/s]"
     ]
    },
    {
     "name": "stdout",
     "output_type": "stream",
     "text": [
      "Starting epoch 0 step 60 at time 2024-05-17 19:12:37.865293\n",
      "getting the data and setting to device\n",
      "Performing forward pass\n",
      "Calculating loss\n",
      "Loss calculated: 0.5861354470252991\n",
      "Performing step in optimizer and propagating loss backgwards\n"
     ]
    },
    {
     "name": "stderr",
     "output_type": "stream",
     "text": [
      "Epoch 0 at 2024-05-17 19:12:38, loss: 0.5861:   1%|          | 61/6741 [00:42<2:00:54,  1.09s/it]"
     ]
    },
    {
     "name": "stdout",
     "output_type": "stream",
     "text": [
      "Starting epoch 0 step 61 at time 2024-05-17 19:12:38.877421\n",
      "getting the data and setting to device\n",
      "Performing forward pass\n",
      "Calculating loss\n",
      "Loss calculated: 0.48287612199783325\n",
      "Performing step in optimizer and propagating loss backgwards\n"
     ]
    },
    {
     "name": "stderr",
     "output_type": "stream",
     "text": [
      "Epoch 0 at 2024-05-17 19:12:39, loss: 0.4829:   1%|          | 62/6741 [00:43<1:58:36,  1.07s/it]"
     ]
    },
    {
     "name": "stdout",
     "output_type": "stream",
     "text": [
      "Starting epoch 0 step 62 at time 2024-05-17 19:12:39.864445\n",
      "getting the data and setting to device\n",
      "Performing forward pass\n",
      "Calculating loss\n",
      "Loss calculated: 0.7257288098335266\n",
      "Performing step in optimizer and propagating loss backgwards\n"
     ]
    },
    {
     "name": "stderr",
     "output_type": "stream",
     "text": [
      "Epoch 0 at 2024-05-17 19:12:40, loss: 0.7257:   1%|          | 63/6741 [00:44<1:55:14,  1.04s/it]"
     ]
    },
    {
     "name": "stdout",
     "output_type": "stream",
     "text": [
      "Starting epoch 0 step 63 at time 2024-05-17 19:12:40.303821\n",
      "getting the data and setting to device\n",
      "Performing forward pass\n",
      "Calculating loss\n",
      "Loss calculated: 0.5609304904937744\n",
      "Performing step in optimizer and propagating loss backgwards\n"
     ]
    },
    {
     "name": "stderr",
     "output_type": "stream",
     "text": [
      "Epoch 0 at 2024-05-17 19:12:40, loss: 0.5609:   1%|          | 64/6741 [00:44<1:35:59,  1.16it/s]"
     ]
    },
    {
     "name": "stdout",
     "output_type": "stream",
     "text": [
      "Starting epoch 0 step 64 at time 2024-05-17 19:12:41.912385\n",
      "getting the data and setting to device\n",
      "Performing forward pass\n",
      "Calculating loss\n",
      "Loss calculated: 0.6572006344795227\n",
      "Performing step in optimizer and propagating loss backgwards\n"
     ]
    },
    {
     "name": "stderr",
     "output_type": "stream",
     "text": [
      "Epoch 0 at 2024-05-17 19:12:42, loss: 0.6572:   1%|          | 65/6741 [00:46<2:01:09,  1.09s/it]"
     ]
    },
    {
     "name": "stdout",
     "output_type": "stream",
     "text": [
      "Starting epoch 0 step 65 at time 2024-05-17 19:12:42.861386\n",
      "getting the data and setting to device\n",
      "Performing forward pass\n",
      "Calculating loss\n",
      "Loss calculated: 0.6342700719833374\n",
      "Performing step in optimizer and propagating loss backgwards\n"
     ]
    },
    {
     "name": "stderr",
     "output_type": "stream",
     "text": [
      "Epoch 0 at 2024-05-17 19:12:43, loss: 0.6343:   1%|          | 66/6741 [00:47<1:56:13,  1.04s/it]"
     ]
    },
    {
     "name": "stdout",
     "output_type": "stream",
     "text": [
      "Starting epoch 0 step 66 at time 2024-05-17 19:12:43.936735\n",
      "getting the data and setting to device\n",
      "Performing forward pass\n",
      "Calculating loss\n",
      "Loss calculated: 0.5360647439956665\n",
      "Performing step in optimizer and propagating loss backgwards\n"
     ]
    },
    {
     "name": "stderr",
     "output_type": "stream",
     "text": [
      "Epoch 0 at 2024-05-17 19:12:44, loss: 0.5361:   1%|          | 67/6741 [00:48<1:56:37,  1.05s/it]"
     ]
    },
    {
     "name": "stdout",
     "output_type": "stream",
     "text": [
      "Starting epoch 0 step 67 at time 2024-05-17 19:12:44.378290\n",
      "getting the data and setting to device\n",
      "Performing forward pass\n",
      "Calculating loss\n",
      "Loss calculated: 0.5120365023612976\n",
      "Performing step in optimizer and propagating loss backgwards\n"
     ]
    },
    {
     "name": "stderr",
     "output_type": "stream",
     "text": [
      "Epoch 0 at 2024-05-17 19:12:44, loss: 0.5120:   1%|          | 68/6741 [00:48<1:36:42,  1.15it/s]"
     ]
    },
    {
     "name": "stdout",
     "output_type": "stream",
     "text": [
      "Starting epoch 0 step 68 at time 2024-05-17 19:12:45.978665\n",
      "getting the data and setting to device\n",
      "Performing forward pass\n",
      "Calculating loss\n",
      "Loss calculated: 0.6282820105552673\n",
      "Performing step in optimizer and propagating loss backgwards\n"
     ]
    },
    {
     "name": "stderr",
     "output_type": "stream",
     "text": [
      "Epoch 0 at 2024-05-17 19:12:46, loss: 0.6283:   1%|          | 69/6741 [00:50<2:00:26,  1.08s/it]"
     ]
    },
    {
     "name": "stdout",
     "output_type": "stream",
     "text": [
      "Starting epoch 0 step 69 at time 2024-05-17 19:12:46.924067\n",
      "getting the data and setting to device\n",
      "Performing forward pass\n",
      "Calculating loss\n",
      "Loss calculated: 0.5842072367668152\n",
      "Performing step in optimizer and propagating loss backgwards\n"
     ]
    },
    {
     "name": "stderr",
     "output_type": "stream",
     "text": [
      "Epoch 0 at 2024-05-17 19:12:47, loss: 0.5842:   1%|          | 70/6741 [00:51<1:56:20,  1.05s/it]"
     ]
    },
    {
     "name": "stdout",
     "output_type": "stream",
     "text": [
      "Starting epoch 0 step 70 at time 2024-05-17 19:12:47.816397\n",
      "getting the data and setting to device\n",
      "Performing forward pass\n",
      "Calculating loss\n",
      "Loss calculated: 0.5463688373565674\n",
      "Performing step in optimizer and propagating loss backgwards\n"
     ]
    },
    {
     "name": "stderr",
     "output_type": "stream",
     "text": [
      "Epoch 0 at 2024-05-17 19:12:48, loss: 0.5464:   1%|          | 71/6741 [00:52<1:51:06,  1.00it/s]"
     ]
    },
    {
     "name": "stdout",
     "output_type": "stream",
     "text": [
      "Starting epoch 0 step 71 at time 2024-05-17 19:12:48.262927\n",
      "getting the data and setting to device\n",
      "Performing forward pass\n",
      "Calculating loss\n",
      "Loss calculated: 0.6195816397666931\n",
      "Performing step in optimizer and propagating loss backgwards\n"
     ]
    },
    {
     "name": "stderr",
     "output_type": "stream",
     "text": [
      "Epoch 0 at 2024-05-17 19:12:48, loss: 0.6196:   1%|          | 72/6741 [00:52<1:32:58,  1.20it/s]"
     ]
    },
    {
     "name": "stdout",
     "output_type": "stream",
     "text": [
      "Starting epoch 0 step 72 at time 2024-05-17 19:12:49.850293\n",
      "getting the data and setting to device\n",
      "Performing forward pass\n",
      "Calculating loss\n",
      "Loss calculated: 0.660671591758728\n",
      "Performing step in optimizer and propagating loss backgwards\n"
     ]
    },
    {
     "name": "stderr",
     "output_type": "stream",
     "text": [
      "Epoch 0 at 2024-05-17 19:12:50, loss: 0.6607:   1%|          | 73/6741 [00:54<1:57:59,  1.06s/it]"
     ]
    },
    {
     "name": "stdout",
     "output_type": "stream",
     "text": [
      "Starting epoch 0 step 73 at time 2024-05-17 19:12:51.075074\n",
      "getting the data and setting to device\n",
      "Performing forward pass\n",
      "Calculating loss\n",
      "Loss calculated: 0.6265171766281128\n",
      "Performing step in optimizer and propagating loss backgwards\n"
     ]
    },
    {
     "name": "stderr",
     "output_type": "stream",
     "text": [
      "Epoch 0 at 2024-05-17 19:12:51, loss: 0.6265:   1%|          | 74/6741 [00:55<2:02:47,  1.11s/it]"
     ]
    },
    {
     "name": "stdout",
     "output_type": "stream",
     "text": [
      "Starting epoch 0 step 74 at time 2024-05-17 19:12:51.992279\n",
      "getting the data and setting to device\n",
      "Performing forward pass\n",
      "Calculating loss\n",
      "Loss calculated: 0.6666788458824158\n",
      "Performing step in optimizer and propagating loss backgwards\n"
     ]
    },
    {
     "name": "stderr",
     "output_type": "stream",
     "text": [
      "Epoch 0 at 2024-05-17 19:12:52, loss: 0.6667:   1%|          | 75/6741 [00:56<1:56:46,  1.05s/it]"
     ]
    },
    {
     "name": "stdout",
     "output_type": "stream",
     "text": [
      "Starting epoch 0 step 75 at time 2024-05-17 19:12:52.437223\n",
      "getting the data and setting to device\n",
      "Performing forward pass\n",
      "Calculating loss\n",
      "Loss calculated: 0.623836874961853\n",
      "Performing step in optimizer and propagating loss backgwards\n"
     ]
    },
    {
     "name": "stderr",
     "output_type": "stream",
     "text": [
      "Epoch 0 at 2024-05-17 19:12:52, loss: 0.6238:   1%|          | 76/6741 [00:56<1:36:17,  1.15it/s]"
     ]
    },
    {
     "name": "stdout",
     "output_type": "stream",
     "text": [
      "Starting epoch 0 step 76 at time 2024-05-17 19:12:54.006070\n",
      "getting the data and setting to device\n",
      "Performing forward pass\n",
      "Calculating loss\n",
      "Loss calculated: 0.7468124032020569\n",
      "Performing step in optimizer and propagating loss backgwards\n"
     ]
    },
    {
     "name": "stderr",
     "output_type": "stream",
     "text": [
      "Epoch 0 at 2024-05-17 19:12:54, loss: 0.7468:   1%|          | 77/6741 [00:58<2:00:31,  1.09s/it]"
     ]
    },
    {
     "name": "stdout",
     "output_type": "stream",
     "text": [
      "Starting epoch 0 step 77 at time 2024-05-17 19:12:54.908926\n",
      "getting the data and setting to device\n",
      "Performing forward pass\n",
      "Calculating loss\n",
      "Loss calculated: 0.6008577346801758\n",
      "Performing step in optimizer and propagating loss backgwards\n"
     ]
    },
    {
     "name": "stderr",
     "output_type": "stream",
     "text": [
      "Epoch 0 at 2024-05-17 19:12:55, loss: 0.6009:   1%|          | 78/6741 [00:59<1:53:47,  1.02s/it]"
     ]
    },
    {
     "name": "stdout",
     "output_type": "stream",
     "text": [
      "Starting epoch 0 step 78 at time 2024-05-17 19:12:55.616087\n",
      "getting the data and setting to device\n",
      "Performing forward pass\n",
      "Calculating loss\n",
      "Loss calculated: 0.6025940775871277\n",
      "Performing step in optimizer and propagating loss backgwards\n"
     ]
    },
    {
     "name": "stderr",
     "output_type": "stream",
     "text": [
      "Epoch 0 at 2024-05-17 19:12:56, loss: 0.6026:   1%|          | 79/6741 [00:59<1:43:50,  1.07it/s]"
     ]
    },
    {
     "name": "stdout",
     "output_type": "stream",
     "text": [
      "Starting epoch 0 step 79 at time 2024-05-17 19:12:56.079028\n",
      "getting the data and setting to device\n",
      "Performing forward pass\n",
      "Calculating loss\n",
      "Loss calculated: 0.5524386167526245\n",
      "Performing step in optimizer and propagating loss backgwards\n"
     ]
    },
    {
     "name": "stderr",
     "output_type": "stream",
     "text": [
      "Epoch 0 at 2024-05-17 19:12:56, loss: 0.5524:   1%|          | 80/6741 [01:00<1:28:02,  1.26it/s]"
     ]
    },
    {
     "name": "stdout",
     "output_type": "stream",
     "text": [
      "Starting epoch 0 step 80 at time 2024-05-17 19:12:57.622176\n",
      "getting the data and setting to device\n",
      "Performing forward pass\n",
      "Calculating loss\n",
      "Loss calculated: 0.7338804006576538\n",
      "Performing step in optimizer and propagating loss backgwards\n"
     ]
    },
    {
     "name": "stderr",
     "output_type": "stream",
     "text": [
      "Epoch 0 at 2024-05-17 19:12:58, loss: 0.7339:   1%|          | 81/6741 [01:01<1:52:08,  1.01s/it]"
     ]
    },
    {
     "name": "stdout",
     "output_type": "stream",
     "text": [
      "Starting epoch 0 step 81 at time 2024-05-17 19:12:58.488188\n",
      "getting the data and setting to device\n",
      "Performing forward pass\n",
      "Calculating loss\n",
      "Loss calculated: 0.6258225440979004\n",
      "Performing step in optimizer and propagating loss backgwards\n"
     ]
    },
    {
     "name": "stderr",
     "output_type": "stream",
     "text": [
      "Epoch 0 at 2024-05-17 19:12:58, loss: 0.6258:   1%|          | 82/6741 [01:02<1:47:26,  1.03it/s]"
     ]
    },
    {
     "name": "stdout",
     "output_type": "stream",
     "text": [
      "Starting epoch 0 step 82 at time 2024-05-17 19:12:59.461501\n",
      "getting the data and setting to device\n",
      "Performing forward pass\n",
      "Calculating loss\n",
      "Loss calculated: 0.5334703326225281\n",
      "Performing step in optimizer and propagating loss backgwards\n"
     ]
    },
    {
     "name": "stderr",
     "output_type": "stream",
     "text": [
      "Epoch 0 at 2024-05-17 19:12:59, loss: 0.5335:   1%|          | 83/6741 [01:03<1:47:53,  1.03it/s]"
     ]
    },
    {
     "name": "stdout",
     "output_type": "stream",
     "text": [
      "Starting epoch 0 step 83 at time 2024-05-17 19:12:59.909143\n",
      "getting the data and setting to device\n",
      "Performing forward pass\n",
      "Calculating loss\n",
      "Loss calculated: 0.6881530284881592\n",
      "Performing step in optimizer and propagating loss backgwards\n"
     ]
    },
    {
     "name": "stderr",
     "output_type": "stream",
     "text": [
      "Epoch 0 at 2024-05-17 19:13:00, loss: 0.6882:   1%|          | 84/6741 [01:04<1:30:45,  1.22it/s]"
     ]
    },
    {
     "name": "stdout",
     "output_type": "stream",
     "text": [
      "Starting epoch 0 step 84 at time 2024-05-17 19:13:01.386413\n",
      "getting the data and setting to device\n",
      "Performing forward pass\n",
      "Calculating loss\n",
      "Loss calculated: 0.683729350566864\n",
      "Performing step in optimizer and propagating loss backgwards\n"
     ]
    },
    {
     "name": "stderr",
     "output_type": "stream",
     "text": [
      "Epoch 0 at 2024-05-17 19:13:01, loss: 0.6837:   1%|▏         | 85/6741 [01:05<1:52:25,  1.01s/it]"
     ]
    },
    {
     "name": "stdout",
     "output_type": "stream",
     "text": [
      "Starting epoch 0 step 85 at time 2024-05-17 19:13:02.475534\n",
      "getting the data and setting to device\n",
      "Performing forward pass\n",
      "Calculating loss\n",
      "Loss calculated: 0.6835972666740417\n",
      "Performing step in optimizer and propagating loss backgwards\n"
     ]
    },
    {
     "name": "stderr",
     "output_type": "stream",
     "text": [
      "Epoch 0 at 2024-05-17 19:13:02, loss: 0.6836:   1%|▏         | 86/6741 [01:06<1:54:39,  1.03s/it]"
     ]
    },
    {
     "name": "stdout",
     "output_type": "stream",
     "text": [
      "Starting epoch 0 step 86 at time 2024-05-17 19:13:03.452291\n",
      "getting the data and setting to device\n",
      "Performing forward pass\n",
      "Calculating loss\n",
      "Loss calculated: 0.6744840145111084\n",
      "Performing step in optimizer and propagating loss backgwards\n"
     ]
    },
    {
     "name": "stderr",
     "output_type": "stream",
     "text": [
      "Epoch 0 at 2024-05-17 19:13:03, loss: 0.6745:   1%|▏         | 87/6741 [01:07<1:52:33,  1.01s/it]"
     ]
    },
    {
     "name": "stdout",
     "output_type": "stream",
     "text": [
      "Starting epoch 0 step 87 at time 2024-05-17 19:13:03.888417\n",
      "getting the data and setting to device\n",
      "Performing forward pass\n",
      "Calculating loss\n",
      "Loss calculated: 0.6623320579528809\n",
      "Performing step in optimizer and propagating loss backgwards\n"
     ]
    },
    {
     "name": "stderr",
     "output_type": "stream",
     "text": [
      "Epoch 0 at 2024-05-17 19:13:04, loss: 0.6623:   1%|▏         | 88/6741 [01:08<1:34:01,  1.18it/s]"
     ]
    },
    {
     "name": "stdout",
     "output_type": "stream",
     "text": [
      "Starting epoch 0 step 88 at time 2024-05-17 19:13:04.997908\n",
      "getting the data and setting to device\n",
      "Performing forward pass\n",
      "Calculating loss\n",
      "Loss calculated: 0.6140792965888977\n",
      "Performing step in optimizer and propagating loss backgwards\n"
     ]
    },
    {
     "name": "stderr",
     "output_type": "stream",
     "text": [
      "Epoch 0 at 2024-05-17 19:13:05, loss: 0.6141:   1%|▏         | 89/6741 [01:09<1:42:15,  1.08it/s]"
     ]
    },
    {
     "name": "stdout",
     "output_type": "stream",
     "text": [
      "Starting epoch 0 step 89 at time 2024-05-17 19:13:05.830625\n",
      "getting the data and setting to device\n",
      "Performing forward pass\n",
      "Calculating loss\n",
      "Loss calculated: 0.5663257241249084\n",
      "Performing step in optimizer and propagating loss backgwards\n"
     ]
    },
    {
     "name": "stderr",
     "output_type": "stream",
     "text": [
      "Epoch 0 at 2024-05-17 19:13:06, loss: 0.5663:   1%|▏         | 90/6741 [01:10<1:39:01,  1.12it/s]"
     ]
    },
    {
     "name": "stdout",
     "output_type": "stream",
     "text": [
      "Starting epoch 0 step 90 at time 2024-05-17 19:13:08.040085\n",
      "getting the data and setting to device\n",
      "Performing forward pass\n",
      "Calculating loss\n",
      "Loss calculated: 0.6300490498542786\n",
      "Performing step in optimizer and propagating loss backgwards\n"
     ]
    },
    {
     "name": "stderr",
     "output_type": "stream",
     "text": [
      "Epoch 0 at 2024-05-17 19:13:08, loss: 0.6300:   1%|▏         | 91/6741 [01:12<2:22:39,  1.29s/it]"
     ]
    },
    {
     "name": "stdout",
     "output_type": "stream",
     "text": [
      "Starting epoch 0 step 91 at time 2024-05-17 19:13:08.474262\n",
      "getting the data and setting to device\n",
      "Performing forward pass\n",
      "Calculating loss\n",
      "Loss calculated: 0.5996696352958679\n",
      "Performing step in optimizer and propagating loss backgwards\n"
     ]
    },
    {
     "name": "stderr",
     "output_type": "stream",
     "text": [
      "Epoch 0 at 2024-05-17 19:13:08, loss: 0.5997:   1%|▏         | 92/6741 [01:12<1:54:43,  1.04s/it]"
     ]
    },
    {
     "name": "stdout",
     "output_type": "stream",
     "text": [
      "Starting epoch 0 step 92 at time 2024-05-17 19:13:09.141904\n",
      "getting the data and setting to device\n",
      "Performing forward pass\n",
      "Calculating loss\n",
      "Loss calculated: 0.5470952391624451\n",
      "Performing step in optimizer and propagating loss backgwards\n"
     ]
    },
    {
     "name": "stderr",
     "output_type": "stream",
     "text": [
      "Epoch 0 at 2024-05-17 19:13:09, loss: 0.5471:   1%|▏         | 93/6741 [01:13<1:42:04,  1.09it/s]"
     ]
    },
    {
     "name": "stdout",
     "output_type": "stream",
     "text": [
      "Starting epoch 0 step 93 at time 2024-05-17 19:13:09.993056\n",
      "getting the data and setting to device\n",
      "Performing forward pass\n",
      "Calculating loss\n",
      "Loss calculated: 0.5235180854797363\n",
      "Performing step in optimizer and propagating loss backgwards\n"
     ]
    },
    {
     "name": "stderr",
     "output_type": "stream",
     "text": [
      "Epoch 0 at 2024-05-17 19:13:10, loss: 0.5235:   1%|▏         | 94/6741 [01:14<1:40:28,  1.10it/s]"
     ]
    },
    {
     "name": "stdout",
     "output_type": "stream",
     "text": [
      "Starting epoch 0 step 94 at time 2024-05-17 19:13:12.091628\n",
      "getting the data and setting to device\n",
      "Performing forward pass\n",
      "Calculating loss\n",
      "Loss calculated: 0.6235597729682922\n",
      "Performing step in optimizer and propagating loss backgwards\n"
     ]
    },
    {
     "name": "stderr",
     "output_type": "stream",
     "text": [
      "Epoch 0 at 2024-05-17 19:13:12, loss: 0.6236:   1%|▏         | 95/6741 [01:16<2:19:39,  1.26s/it]"
     ]
    },
    {
     "name": "stdout",
     "output_type": "stream",
     "text": [
      "Starting epoch 0 step 95 at time 2024-05-17 19:13:12.537435\n",
      "getting the data and setting to device\n",
      "Performing forward pass\n",
      "Calculating loss\n",
      "Loss calculated: 0.6471843719482422\n",
      "Performing step in optimizer and propagating loss backgwards\n"
     ]
    },
    {
     "name": "stderr",
     "output_type": "stream",
     "text": [
      "Epoch 0 at 2024-05-17 19:13:12, loss: 0.6472:   1%|▏         | 96/6741 [01:16<1:52:40,  1.02s/it]"
     ]
    },
    {
     "name": "stdout",
     "output_type": "stream",
     "text": [
      "Starting epoch 0 step 96 at time 2024-05-17 19:13:12.986190\n",
      "getting the data and setting to device\n",
      "Performing forward pass\n",
      "Calculating loss\n",
      "Loss calculated: 0.6534596085548401\n",
      "Performing step in optimizer and propagating loss backgwards\n"
     ]
    },
    {
     "name": "stderr",
     "output_type": "stream",
     "text": [
      "Epoch 0 at 2024-05-17 19:13:13, loss: 0.6535:   1%|▏         | 97/6741 [01:17<1:33:44,  1.18it/s]"
     ]
    },
    {
     "name": "stdout",
     "output_type": "stream",
     "text": [
      "Starting epoch 0 step 97 at time 2024-05-17 19:13:13.984111\n",
      "getting the data and setting to device\n",
      "Performing forward pass\n",
      "Calculating loss\n",
      "Loss calculated: 0.48507171869277954\n",
      "Performing step in optimizer and propagating loss backgwards\n"
     ]
    },
    {
     "name": "stderr",
     "output_type": "stream",
     "text": [
      "Epoch 0 at 2024-05-17 19:13:14, loss: 0.4851:   1%|▏         | 98/6741 [01:18<1:38:31,  1.12it/s]"
     ]
    },
    {
     "name": "stdout",
     "output_type": "stream",
     "text": [
      "Starting epoch 0 step 98 at time 2024-05-17 19:13:15.934735\n",
      "getting the data and setting to device\n",
      "Performing forward pass\n",
      "Calculating loss\n",
      "Loss calculated: 0.6616311073303223\n",
      "Performing step in optimizer and propagating loss backgwards\n"
     ]
    },
    {
     "name": "stderr",
     "output_type": "stream",
     "text": [
      "Epoch 0 at 2024-05-17 19:13:16, loss: 0.6616:   1%|▏         | 99/6741 [01:20<2:13:54,  1.21s/it]"
     ]
    },
    {
     "name": "stdout",
     "output_type": "stream",
     "text": [
      "Starting epoch 0 step 99 at time 2024-05-17 19:13:16.381078\n",
      "getting the data and setting to device\n",
      "Performing forward pass\n",
      "Calculating loss\n",
      "Loss calculated: 0.49155718088150024\n",
      "Performing step in optimizer and propagating loss backgwards\n"
     ]
    },
    {
     "name": "stderr",
     "output_type": "stream",
     "text": [
      "Epoch 0 at 2024-05-17 19:13:16, loss: 0.4916:   1%|▏         | 100/6741 [01:20<1:48:41,  1.02it/s]"
     ]
    },
    {
     "name": "stdout",
     "output_type": "stream",
     "text": [
      "Starting epoch 0 step 100 at time 2024-05-17 19:13:16.965785\n",
      "getting the data and setting to device\n",
      "Performing forward pass\n",
      "Calculating loss\n",
      "Loss calculated: 0.6972435712814331\n",
      "Performing step in optimizer and propagating loss backgwards\n"
     ]
    },
    {
     "name": "stderr",
     "output_type": "stream",
     "text": [
      "Epoch 0 at 2024-05-17 19:13:17, loss: 0.6972:   1%|▏         | 101/6741 [01:21<1:35:33,  1.16it/s]"
     ]
    },
    {
     "name": "stdout",
     "output_type": "stream",
     "text": [
      "Starting epoch 0 step 101 at time 2024-05-17 19:13:17.957794\n",
      "getting the data and setting to device\n",
      "Performing forward pass\n",
      "Calculating loss\n",
      "Loss calculated: 0.5645204186439514\n",
      "Performing step in optimizer and propagating loss backgwards\n"
     ]
    },
    {
     "name": "stderr",
     "output_type": "stream",
     "text": [
      "Epoch 0 at 2024-05-17 19:13:18, loss: 0.5645:   2%|▏         | 102/6741 [01:22<1:40:18,  1.10it/s]"
     ]
    },
    {
     "name": "stdout",
     "output_type": "stream",
     "text": [
      "Starting epoch 0 step 102 at time 2024-05-17 19:13:19.720319\n",
      "getting the data and setting to device\n",
      "Performing forward pass\n",
      "Calculating loss\n",
      "Loss calculated: 0.44470342993736267\n",
      "Performing step in optimizer and propagating loss backgwards\n"
     ]
    },
    {
     "name": "stderr",
     "output_type": "stream",
     "text": [
      "Epoch 0 at 2024-05-17 19:13:20, loss: 0.4447:   2%|▏         | 103/6741 [01:24<2:07:44,  1.15s/it]"
     ]
    },
    {
     "name": "stdout",
     "output_type": "stream",
     "text": [
      "Starting epoch 0 step 103 at time 2024-05-17 19:13:20.159073\n",
      "getting the data and setting to device\n",
      "Performing forward pass\n",
      "Calculating loss\n",
      "Loss calculated: 0.5915188789367676\n",
      "Performing step in optimizer and propagating loss backgwards\n"
     ]
    },
    {
     "name": "stderr",
     "output_type": "stream",
     "text": [
      "Epoch 0 at 2024-05-17 19:13:20, loss: 0.5915:   2%|▏         | 104/6741 [01:24<1:44:53,  1.05it/s]"
     ]
    },
    {
     "name": "stdout",
     "output_type": "stream",
     "text": [
      "Starting epoch 0 step 104 at time 2024-05-17 19:13:20.847964\n",
      "getting the data and setting to device\n",
      "Performing forward pass\n",
      "Calculating loss\n",
      "Loss calculated: 0.4501776099205017\n",
      "Performing step in optimizer and propagating loss backgwards\n"
     ]
    },
    {
     "name": "stderr",
     "output_type": "stream",
     "text": [
      "Epoch 0 at 2024-05-17 19:13:21, loss: 0.4502:   2%|▏         | 105/6741 [01:25<1:35:54,  1.15it/s]"
     ]
    },
    {
     "name": "stdout",
     "output_type": "stream",
     "text": [
      "Starting epoch 0 step 105 at time 2024-05-17 19:13:22.017002\n",
      "getting the data and setting to device\n",
      "Performing forward pass\n",
      "Calculating loss\n",
      "Loss calculated: 0.5372394323348999\n",
      "Performing step in optimizer and propagating loss backgwards\n"
     ]
    },
    {
     "name": "stderr",
     "output_type": "stream",
     "text": [
      "Epoch 0 at 2024-05-17 19:13:22, loss: 0.5372:   2%|▏         | 106/6741 [01:26<1:45:40,  1.05it/s]"
     ]
    },
    {
     "name": "stdout",
     "output_type": "stream",
     "text": [
      "Starting epoch 0 step 106 at time 2024-05-17 19:13:24.066425\n",
      "getting the data and setting to device\n",
      "Performing forward pass\n",
      "Calculating loss\n",
      "Loss calculated: 0.6133387684822083\n",
      "Performing step in optimizer and propagating loss backgwards\n"
     ]
    },
    {
     "name": "stderr",
     "output_type": "stream",
     "text": [
      "Epoch 0 at 2024-05-17 19:13:24, loss: 0.6133:   2%|▏         | 107/6741 [01:28<2:21:34,  1.28s/it]"
     ]
    },
    {
     "name": "stdout",
     "output_type": "stream",
     "text": [
      "Starting epoch 0 step 107 at time 2024-05-17 19:13:24.504637\n",
      "getting the data and setting to device\n",
      "Performing forward pass\n",
      "Calculating loss\n",
      "Loss calculated: 0.5444459915161133\n",
      "Performing step in optimizer and propagating loss backgwards\n"
     ]
    },
    {
     "name": "stderr",
     "output_type": "stream",
     "text": [
      "Epoch 0 at 2024-05-17 19:13:24, loss: 0.5444:   2%|▏         | 108/6741 [01:28<1:54:07,  1.03s/it]"
     ]
    },
    {
     "name": "stdout",
     "output_type": "stream",
     "text": [
      "Starting epoch 0 step 108 at time 2024-05-17 19:13:25.164255\n",
      "getting the data and setting to device\n",
      "Performing forward pass\n",
      "Calculating loss\n",
      "Loss calculated: 0.4997859299182892\n",
      "Performing step in optimizer and propagating loss backgwards\n"
     ]
    },
    {
     "name": "stderr",
     "output_type": "stream",
     "text": [
      "Epoch 0 at 2024-05-17 19:13:25, loss: 0.4998:   2%|▏         | 109/6741 [01:29<1:41:20,  1.09it/s]"
     ]
    },
    {
     "name": "stdout",
     "output_type": "stream",
     "text": [
      "Starting epoch 0 step 109 at time 2024-05-17 19:13:26.158310\n",
      "getting the data and setting to device\n",
      "Performing forward pass\n",
      "Calculating loss\n",
      "Loss calculated: 0.521669328212738\n",
      "Performing step in optimizer and propagating loss backgwards\n"
     ]
    },
    {
     "name": "stderr",
     "output_type": "stream",
     "text": [
      "Epoch 0 at 2024-05-17 19:13:26, loss: 0.5217:   2%|▏         | 110/6741 [01:30<1:44:26,  1.06it/s]"
     ]
    },
    {
     "name": "stdout",
     "output_type": "stream",
     "text": [
      "Starting epoch 0 step 110 at time 2024-05-17 19:13:28.230306\n",
      "getting the data and setting to device\n",
      "Performing forward pass\n",
      "Calculating loss\n",
      "Loss calculated: 0.5835042595863342\n",
      "Performing step in optimizer and propagating loss backgwards\n"
     ]
    },
    {
     "name": "stderr",
     "output_type": "stream",
     "text": [
      "Epoch 0 at 2024-05-17 19:13:28, loss: 0.5835:   2%|▏         | 111/6741 [01:32<2:21:24,  1.28s/it]"
     ]
    },
    {
     "name": "stdout",
     "output_type": "stream",
     "text": [
      "Starting epoch 0 step 111 at time 2024-05-17 19:13:28.676648\n",
      "getting the data and setting to device\n",
      "Performing forward pass\n",
      "Calculating loss\n",
      "Loss calculated: 0.5918817520141602\n",
      "Performing step in optimizer and propagating loss backgwards\n"
     ]
    },
    {
     "name": "stderr",
     "output_type": "stream",
     "text": [
      "Epoch 0 at 2024-05-17 19:13:29, loss: 0.5919:   2%|▏         | 112/6741 [01:33<1:54:01,  1.03s/it]"
     ]
    },
    {
     "name": "stdout",
     "output_type": "stream",
     "text": [
      "Starting epoch 0 step 112 at time 2024-05-17 19:13:29.168539\n",
      "getting the data and setting to device\n",
      "Performing forward pass\n",
      "Calculating loss\n",
      "Loss calculated: 0.5165666341781616\n",
      "Performing step in optimizer and propagating loss backgwards\n"
     ]
    },
    {
     "name": "stderr",
     "output_type": "stream",
     "text": [
      "Epoch 0 at 2024-05-17 19:13:29, loss: 0.5166:   2%|▏         | 113/6741 [01:33<1:35:39,  1.15it/s]"
     ]
    },
    {
     "name": "stdout",
     "output_type": "stream",
     "text": [
      "Starting epoch 0 step 113 at time 2024-05-17 19:13:30.149234\n",
      "getting the data and setting to device\n",
      "Performing forward pass\n",
      "Calculating loss\n",
      "Loss calculated: 0.7276430726051331\n",
      "Performing step in optimizer and propagating loss backgwards\n"
     ]
    },
    {
     "name": "stderr",
     "output_type": "stream",
     "text": [
      "Epoch 0 at 2024-05-17 19:13:30, loss: 0.7276:   2%|▏         | 114/6741 [01:34<1:39:35,  1.11it/s]"
     ]
    },
    {
     "name": "stdout",
     "output_type": "stream",
     "text": [
      "Starting epoch 0 step 114 at time 2024-05-17 19:13:32.250857\n",
      "getting the data and setting to device\n",
      "Performing forward pass\n",
      "Calculating loss\n",
      "Loss calculated: 0.5633024573326111\n",
      "Performing step in optimizer and propagating loss backgwards\n"
     ]
    },
    {
     "name": "stderr",
     "output_type": "stream",
     "text": [
      "Epoch 0 at 2024-05-17 19:13:32, loss: 0.5633:   2%|▏         | 115/6741 [01:36<2:19:06,  1.26s/it]"
     ]
    },
    {
     "name": "stdout",
     "output_type": "stream",
     "text": [
      "Starting epoch 0 step 115 at time 2024-05-17 19:13:32.688996\n",
      "getting the data and setting to device\n",
      "Performing forward pass\n",
      "Calculating loss\n",
      "Loss calculated: 0.5689487457275391\n",
      "Performing step in optimizer and propagating loss backgwards\n"
     ]
    },
    {
     "name": "stderr",
     "output_type": "stream",
     "text": [
      "Epoch 0 at 2024-05-17 19:13:33, loss: 0.5689:   2%|▏         | 116/6741 [01:37<1:52:15,  1.02s/it]"
     ]
    },
    {
     "name": "stdout",
     "output_type": "stream",
     "text": [
      "Starting epoch 0 step 116 at time 2024-05-17 19:13:33.172181\n",
      "getting the data and setting to device\n",
      "Performing forward pass\n",
      "Calculating loss\n",
      "Loss calculated: 0.5219700932502747\n",
      "Performing step in optimizer and propagating loss backgwards\n"
     ]
    },
    {
     "name": "stderr",
     "output_type": "stream",
     "text": [
      "Epoch 0 at 2024-05-17 19:13:33, loss: 0.5220:   2%|▏         | 117/6741 [01:37<1:34:08,  1.17it/s]"
     ]
    },
    {
     "name": "stdout",
     "output_type": "stream",
     "text": [
      "Starting epoch 0 step 117 at time 2024-05-17 19:13:34.024846\n",
      "getting the data and setting to device\n",
      "Performing forward pass\n",
      "Calculating loss\n",
      "Loss calculated: 0.5850235819816589\n",
      "Performing step in optimizer and propagating loss backgwards\n"
     ]
    },
    {
     "name": "stderr",
     "output_type": "stream",
     "text": [
      "Epoch 0 at 2024-05-17 19:13:34, loss: 0.5850:   2%|▏         | 118/6741 [01:38<1:34:40,  1.17it/s]"
     ]
    },
    {
     "name": "stdout",
     "output_type": "stream",
     "text": [
      "Starting epoch 0 step 118 at time 2024-05-17 19:13:35.893978\n",
      "getting the data and setting to device\n",
      "Performing forward pass\n",
      "Calculating loss\n",
      "Loss calculated: 0.745354950428009\n",
      "Performing step in optimizer and propagating loss backgwards\n"
     ]
    },
    {
     "name": "stderr",
     "output_type": "stream",
     "text": [
      "Epoch 0 at 2024-05-17 19:13:36, loss: 0.7454:   2%|▏         | 119/6741 [01:40<2:07:43,  1.16s/it]"
     ]
    },
    {
     "name": "stdout",
     "output_type": "stream",
     "text": [
      "Starting epoch 0 step 119 at time 2024-05-17 19:13:36.335488\n",
      "getting the data and setting to device\n",
      "Performing forward pass\n",
      "Calculating loss\n",
      "Loss calculated: 0.5201545357704163\n",
      "Performing step in optimizer and propagating loss backgwards\n"
     ]
    },
    {
     "name": "stderr",
     "output_type": "stream",
     "text": [
      "Epoch 0 at 2024-05-17 19:13:36, loss: 0.5202:   2%|▏         | 120/6741 [01:40<1:44:26,  1.06it/s]"
     ]
    },
    {
     "name": "stdout",
     "output_type": "stream",
     "text": [
      "Starting epoch 0 step 120 at time 2024-05-17 19:13:36.959218\n",
      "getting the data and setting to device\n",
      "Performing forward pass\n",
      "Calculating loss\n",
      "Loss calculated: 0.6037750244140625\n",
      "Performing step in optimizer and propagating loss backgwards\n"
     ]
    },
    {
     "name": "stderr",
     "output_type": "stream",
     "text": [
      "Epoch 0 at 2024-05-17 19:13:37, loss: 0.6038:   2%|▏         | 121/6741 [01:41<1:33:51,  1.18it/s]"
     ]
    },
    {
     "name": "stdout",
     "output_type": "stream",
     "text": [
      "Starting epoch 0 step 121 at time 2024-05-17 19:13:38.027970\n",
      "getting the data and setting to device\n",
      "Performing forward pass\n",
      "Calculating loss\n",
      "Loss calculated: 0.6184955835342407\n",
      "Performing step in optimizer and propagating loss backgwards\n"
     ]
    },
    {
     "name": "stderr",
     "output_type": "stream",
     "text": [
      "Epoch 0 at 2024-05-17 19:13:38, loss: 0.6185:   2%|▏         | 122/6741 [01:42<1:40:04,  1.10it/s]"
     ]
    },
    {
     "name": "stdout",
     "output_type": "stream",
     "text": [
      "Starting epoch 0 step 122 at time 2024-05-17 19:13:39.852337\n",
      "getting the data and setting to device\n",
      "Performing forward pass\n",
      "Calculating loss\n",
      "Loss calculated: 0.5820114016532898\n",
      "Performing step in optimizer and propagating loss backgwards\n"
     ]
    },
    {
     "name": "stderr",
     "output_type": "stream",
     "text": [
      "Epoch 0 at 2024-05-17 19:13:40, loss: 0.5820:   2%|▏         | 123/6741 [01:44<2:10:55,  1.19s/it]"
     ]
    },
    {
     "name": "stdout",
     "output_type": "stream",
     "text": [
      "Starting epoch 0 step 123 at time 2024-05-17 19:13:40.296020\n",
      "getting the data and setting to device\n",
      "Performing forward pass\n",
      "Calculating loss\n",
      "Loss calculated: 0.45442602038383484\n",
      "Performing step in optimizer and propagating loss backgwards\n"
     ]
    },
    {
     "name": "stderr",
     "output_type": "stream",
     "text": [
      "Epoch 0 at 2024-05-17 19:13:40, loss: 0.4544:   2%|▏         | 124/6741 [01:44<1:46:18,  1.04it/s]"
     ]
    },
    {
     "name": "stdout",
     "output_type": "stream",
     "text": [
      "Starting epoch 0 step 124 at time 2024-05-17 19:13:40.973204\n",
      "getting the data and setting to device\n",
      "Performing forward pass\n",
      "Calculating loss\n",
      "Loss calculated: 0.7012824416160583\n",
      "Performing step in optimizer and propagating loss backgwards\n"
     ]
    },
    {
     "name": "stderr",
     "output_type": "stream",
     "text": [
      "Epoch 0 at 2024-05-17 19:13:41, loss: 0.7013:   2%|▏         | 125/6741 [01:45<1:36:56,  1.14it/s]"
     ]
    },
    {
     "name": "stdout",
     "output_type": "stream",
     "text": [
      "Starting epoch 0 step 125 at time 2024-05-17 19:13:42.097909\n",
      "getting the data and setting to device\n",
      "Performing forward pass\n",
      "Calculating loss\n",
      "Loss calculated: 0.5128768086433411\n",
      "Performing step in optimizer and propagating loss backgwards\n"
     ]
    },
    {
     "name": "stderr",
     "output_type": "stream",
     "text": [
      "Epoch 0 at 2024-05-17 19:13:42, loss: 0.5129:   2%|▏         | 126/6741 [01:46<1:45:06,  1.05it/s]"
     ]
    },
    {
     "name": "stdout",
     "output_type": "stream",
     "text": [
      "Starting epoch 0 step 126 at time 2024-05-17 19:13:43.853133\n",
      "getting the data and setting to device\n",
      "Performing forward pass\n",
      "Calculating loss\n",
      "Loss calculated: 0.5783093571662903\n",
      "Performing step in optimizer and propagating loss backgwards\n"
     ]
    },
    {
     "name": "stderr",
     "output_type": "stream",
     "text": [
      "Epoch 0 at 2024-05-17 19:13:44, loss: 0.5783:   2%|▏         | 127/6741 [01:48<2:11:57,  1.20s/it]"
     ]
    },
    {
     "name": "stdout",
     "output_type": "stream",
     "text": [
      "Starting epoch 0 step 127 at time 2024-05-17 19:13:44.312578\n",
      "getting the data and setting to device\n",
      "Performing forward pass\n",
      "Calculating loss\n",
      "Loss calculated: 0.45621562004089355\n",
      "Performing step in optimizer and propagating loss backgwards\n"
     ]
    },
    {
     "name": "stderr",
     "output_type": "stream",
     "text": [
      "Epoch 0 at 2024-05-17 19:13:44, loss: 0.4562:   2%|▏         | 128/6741 [01:48<1:47:38,  1.02it/s]"
     ]
    },
    {
     "name": "stdout",
     "output_type": "stream",
     "text": [
      "Starting epoch 0 step 128 at time 2024-05-17 19:13:44.912408\n",
      "getting the data and setting to device\n",
      "Performing forward pass\n",
      "Calculating loss\n",
      "Loss calculated: 0.47848638892173767\n",
      "Performing step in optimizer and propagating loss backgwards\n"
     ]
    },
    {
     "name": "stderr",
     "output_type": "stream",
     "text": [
      "Epoch 0 at 2024-05-17 19:13:45, loss: 0.4785:   2%|▏         | 129/6741 [01:49<1:35:07,  1.16it/s]"
     ]
    },
    {
     "name": "stdout",
     "output_type": "stream",
     "text": [
      "Starting epoch 0 step 129 at time 2024-05-17 19:13:45.621849\n",
      "getting the data and setting to device\n",
      "Performing forward pass\n",
      "Calculating loss\n",
      "Loss calculated: 0.522711992263794\n",
      "Performing step in optimizer and propagating loss backgwards\n"
     ]
    },
    {
     "name": "stderr",
     "output_type": "stream",
     "text": [
      "Epoch 0 at 2024-05-17 19:13:46, loss: 0.5227:   2%|▏         | 130/6741 [01:49<1:29:23,  1.23it/s]"
     ]
    },
    {
     "name": "stdout",
     "output_type": "stream",
     "text": [
      "Starting epoch 0 step 130 at time 2024-05-17 19:13:47.594399\n",
      "getting the data and setting to device\n",
      "Performing forward pass\n",
      "Calculating loss\n",
      "Loss calculated: 0.5998886823654175\n",
      "Performing step in optimizer and propagating loss backgwards\n"
     ]
    },
    {
     "name": "stderr",
     "output_type": "stream",
     "text": [
      "Epoch 0 at 2024-05-17 19:13:48, loss: 0.5999:   2%|▏         | 131/6741 [01:51<2:07:50,  1.16s/it]"
     ]
    },
    {
     "name": "stdout",
     "output_type": "stream",
     "text": [
      "Starting epoch 0 step 131 at time 2024-05-17 19:13:48.038030\n",
      "getting the data and setting to device\n",
      "Performing forward pass\n",
      "Calculating loss\n",
      "Loss calculated: 0.7505924701690674\n",
      "Performing step in optimizer and propagating loss backgwards\n"
     ]
    },
    {
     "name": "stderr",
     "output_type": "stream",
     "text": [
      "Epoch 0 at 2024-05-17 19:13:48, loss: 0.7506:   2%|▏         | 132/6741 [01:52<1:44:18,  1.06it/s]"
     ]
    },
    {
     "name": "stdout",
     "output_type": "stream",
     "text": [
      "Starting epoch 0 step 132 at time 2024-05-17 19:13:48.624544\n",
      "getting the data and setting to device\n",
      "Performing forward pass\n",
      "Calculating loss\n",
      "Loss calculated: 0.5884202122688293\n",
      "Performing step in optimizer and propagating loss backgwards\n"
     ]
    },
    {
     "name": "stderr",
     "output_type": "stream",
     "text": [
      "Epoch 0 at 2024-05-17 19:13:49, loss: 0.5884:   2%|▏         | 133/6741 [01:52<1:32:22,  1.19it/s]"
     ]
    },
    {
     "name": "stdout",
     "output_type": "stream",
     "text": [
      "Starting epoch 0 step 133 at time 2024-05-17 19:13:49.631303\n",
      "getting the data and setting to device\n",
      "Performing forward pass\n",
      "Calculating loss\n",
      "Loss calculated: 0.4860701262950897\n",
      "Performing step in optimizer and propagating loss backgwards\n"
     ]
    },
    {
     "name": "stderr",
     "output_type": "stream",
     "text": [
      "Epoch 0 at 2024-05-17 19:13:50, loss: 0.4861:   2%|▏         | 134/6741 [01:53<1:38:08,  1.12it/s]"
     ]
    },
    {
     "name": "stdout",
     "output_type": "stream",
     "text": [
      "Starting epoch 0 step 134 at time 2024-05-17 19:13:51.346660\n",
      "getting the data and setting to device\n",
      "Performing forward pass\n",
      "Calculating loss\n",
      "Loss calculated: 0.3568952977657318\n",
      "Performing step in optimizer and propagating loss backgwards\n"
     ]
    },
    {
     "name": "stderr",
     "output_type": "stream",
     "text": [
      "Epoch 0 at 2024-05-17 19:13:51, loss: 0.3569:   2%|▏         | 135/6741 [01:55<2:04:39,  1.13s/it]"
     ]
    },
    {
     "name": "stdout",
     "output_type": "stream",
     "text": [
      "Starting epoch 0 step 135 at time 2024-05-17 19:13:51.782432\n",
      "getting the data and setting to device\n",
      "Performing forward pass\n",
      "Calculating loss\n",
      "Loss calculated: 0.5767350792884827\n",
      "Performing step in optimizer and propagating loss backgwards\n"
     ]
    },
    {
     "name": "stderr",
     "output_type": "stream",
     "text": [
      "Epoch 0 at 2024-05-17 19:13:52, loss: 0.5767:   2%|▏         | 136/6741 [01:56<1:42:09,  1.08it/s]"
     ]
    },
    {
     "name": "stdout",
     "output_type": "stream",
     "text": [
      "Starting epoch 0 step 136 at time 2024-05-17 19:13:52.719737\n",
      "getting the data and setting to device\n",
      "Performing forward pass\n",
      "Calculating loss\n",
      "Loss calculated: 0.655083954334259\n",
      "Performing step in optimizer and propagating loss backgwards\n"
     ]
    },
    {
     "name": "stderr",
     "output_type": "stream",
     "text": [
      "Epoch 0 at 2024-05-17 19:13:53, loss: 0.6551:   2%|▏         | 137/6741 [01:57<1:42:24,  1.07it/s]"
     ]
    },
    {
     "name": "stdout",
     "output_type": "stream",
     "text": [
      "Starting epoch 0 step 137 at time 2024-05-17 19:13:53.169943\n",
      "getting the data and setting to device\n",
      "Performing forward pass\n",
      "Calculating loss\n",
      "Loss calculated: 0.46737825870513916\n",
      "Performing step in optimizer and propagating loss backgwards\n"
     ]
    },
    {
     "name": "stderr",
     "output_type": "stream",
     "text": [
      "Epoch 0 at 2024-05-17 19:13:53, loss: 0.4674:   2%|▏         | 138/6741 [01:57<1:26:13,  1.28it/s]"
     ]
    },
    {
     "name": "stdout",
     "output_type": "stream",
     "text": [
      "Starting epoch 0 step 138 at time 2024-05-17 19:13:54.844506\n",
      "getting the data and setting to device\n",
      "Performing forward pass\n",
      "Calculating loss\n",
      "Loss calculated: 0.4804318845272064\n",
      "Performing step in optimizer and propagating loss backgwards\n"
     ]
    },
    {
     "name": "stderr",
     "output_type": "stream",
     "text": [
      "Epoch 0 at 2024-05-17 19:13:55, loss: 0.4804:   2%|▏         | 139/6741 [01:59<1:56:11,  1.06s/it]"
     ]
    },
    {
     "name": "stdout",
     "output_type": "stream",
     "text": [
      "Starting epoch 0 step 139 at time 2024-05-17 19:13:55.301874\n",
      "getting the data and setting to device\n",
      "Performing forward pass\n",
      "Calculating loss\n",
      "Loss calculated: 0.5726667642593384\n",
      "Performing step in optimizer and propagating loss backgwards\n"
     ]
    },
    {
     "name": "stderr",
     "output_type": "stream",
     "text": [
      "Epoch 0 at 2024-05-17 19:13:55, loss: 0.5727:   2%|▏         | 140/6741 [01:59<1:35:54,  1.15it/s]"
     ]
    },
    {
     "name": "stdout",
     "output_type": "stream",
     "text": [
      "Starting epoch 0 step 140 at time 2024-05-17 19:13:56.842118\n",
      "getting the data and setting to device\n",
      "Performing forward pass\n",
      "Calculating loss\n",
      "Loss calculated: 0.5775007009506226\n",
      "Performing step in optimizer and propagating loss backgwards\n"
     ]
    },
    {
     "name": "stderr",
     "output_type": "stream",
     "text": [
      "Epoch 0 at 2024-05-17 19:13:57, loss: 0.5775:   2%|▏         | 141/6741 [02:01<1:58:24,  1.08s/it]"
     ]
    },
    {
     "name": "stdout",
     "output_type": "stream",
     "text": [
      "Starting epoch 0 step 141 at time 2024-05-17 19:13:57.297924\n",
      "getting the data and setting to device\n",
      "Performing forward pass\n",
      "Calculating loss\n",
      "Loss calculated: 0.5200072526931763\n",
      "Performing step in optimizer and propagating loss backgwards\n"
     ]
    },
    {
     "name": "stderr",
     "output_type": "stream",
     "text": [
      "Epoch 0 at 2024-05-17 19:13:57, loss: 0.5200:   2%|▏         | 142/6741 [02:01<1:37:56,  1.12it/s]"
     ]
    },
    {
     "name": "stdout",
     "output_type": "stream",
     "text": [
      "Starting epoch 0 step 142 at time 2024-05-17 19:13:58.596216\n",
      "getting the data and setting to device\n",
      "Performing forward pass\n",
      "Calculating loss\n",
      "Loss calculated: 0.5142191052436829\n",
      "Performing step in optimizer and propagating loss backgwards\n"
     ]
    },
    {
     "name": "stderr",
     "output_type": "stream",
     "text": [
      "Epoch 0 at 2024-05-17 19:13:59, loss: 0.5142:   2%|▏         | 143/6741 [02:02<1:50:46,  1.01s/it]"
     ]
    },
    {
     "name": "stdout",
     "output_type": "stream",
     "text": [
      "Starting epoch 0 step 143 at time 2024-05-17 19:13:59.034542\n",
      "getting the data and setting to device\n",
      "Performing forward pass\n",
      "Calculating loss\n",
      "Loss calculated: 0.48198622465133667\n",
      "Performing step in optimizer and propagating loss backgwards\n"
     ]
    },
    {
     "name": "stderr",
     "output_type": "stream",
     "text": [
      "Epoch 0 at 2024-05-17 19:13:59, loss: 0.4820:   2%|▏         | 144/6741 [02:03<1:32:12,  1.19it/s]"
     ]
    },
    {
     "name": "stdout",
     "output_type": "stream",
     "text": [
      "Starting epoch 0 step 144 at time 2024-05-17 19:14:00.727683\n",
      "getting the data and setting to device\n",
      "Performing forward pass\n",
      "Calculating loss\n",
      "Loss calculated: 0.4707720875740051\n",
      "Performing step in optimizer and propagating loss backgwards\n"
     ]
    },
    {
     "name": "stderr",
     "output_type": "stream",
     "text": [
      "Epoch 0 at 2024-05-17 19:14:01, loss: 0.4708:   2%|▏         | 145/6741 [02:05<2:00:41,  1.10s/it]"
     ]
    },
    {
     "name": "stdout",
     "output_type": "stream",
     "text": [
      "Starting epoch 0 step 145 at time 2024-05-17 19:14:01.183334\n",
      "getting the data and setting to device\n",
      "Performing forward pass\n",
      "Calculating loss\n",
      "Loss calculated: 0.6241888403892517\n",
      "Performing step in optimizer and propagating loss backgwards\n"
     ]
    },
    {
     "name": "stderr",
     "output_type": "stream",
     "text": [
      "Epoch 0 at 2024-05-17 19:14:01, loss: 0.6242:   2%|▏         | 146/6741 [02:05<1:39:17,  1.11it/s]"
     ]
    },
    {
     "name": "stdout",
     "output_type": "stream",
     "text": [
      "Starting epoch 0 step 146 at time 2024-05-17 19:14:02.661793\n",
      "getting the data and setting to device\n",
      "Performing forward pass\n",
      "Calculating loss\n",
      "Loss calculated: 0.5267688035964966\n",
      "Performing step in optimizer and propagating loss backgwards\n"
     ]
    },
    {
     "name": "stderr",
     "output_type": "stream",
     "text": [
      "Epoch 0 at 2024-05-17 19:14:03, loss: 0.5268:   2%|▏         | 147/6741 [02:07<1:58:30,  1.08s/it]"
     ]
    },
    {
     "name": "stdout",
     "output_type": "stream",
     "text": [
      "Starting epoch 0 step 147 at time 2024-05-17 19:14:03.119066\n",
      "getting the data and setting to device\n",
      "Performing forward pass\n",
      "Calculating loss\n",
      "Loss calculated: 0.5580381155014038\n",
      "Performing step in optimizer and propagating loss backgwards\n"
     ]
    },
    {
     "name": "stderr",
     "output_type": "stream",
     "text": [
      "Epoch 0 at 2024-05-17 19:14:03, loss: 0.5580:   2%|▏         | 148/6741 [02:07<1:38:11,  1.12it/s]"
     ]
    },
    {
     "name": "stdout",
     "output_type": "stream",
     "text": [
      "Starting epoch 0 step 148 at time 2024-05-17 19:14:04.657187\n",
      "getting the data and setting to device\n",
      "Performing forward pass\n",
      "Calculating loss\n",
      "Loss calculated: 0.544978678226471\n",
      "Performing step in optimizer and propagating loss backgwards\n"
     ]
    },
    {
     "name": "stderr",
     "output_type": "stream",
     "text": [
      "Epoch 0 at 2024-05-17 19:14:05, loss: 0.5450:   2%|▏         | 149/6741 [02:09<1:59:12,  1.08s/it]"
     ]
    },
    {
     "name": "stdout",
     "output_type": "stream",
     "text": [
      "Starting epoch 0 step 149 at time 2024-05-17 19:14:05.112393\n",
      "getting the data and setting to device\n",
      "Performing forward pass\n",
      "Calculating loss\n",
      "Loss calculated: 0.4962785243988037\n",
      "Performing step in optimizer and propagating loss backgwards\n"
     ]
    },
    {
     "name": "stderr",
     "output_type": "stream",
     "text": [
      "Epoch 0 at 2024-05-17 19:14:05, loss: 0.4963:   2%|▏         | 150/6741 [02:09<1:38:41,  1.11it/s]"
     ]
    },
    {
     "name": "stdout",
     "output_type": "stream",
     "text": [
      "Starting epoch 0 step 150 at time 2024-05-17 19:14:06.593877\n",
      "getting the data and setting to device\n",
      "Performing forward pass\n",
      "Calculating loss\n",
      "Loss calculated: 0.5618451833724976\n",
      "Performing step in optimizer and propagating loss backgwards\n"
     ]
    },
    {
     "name": "stderr",
     "output_type": "stream",
     "text": [
      "Epoch 0 at 2024-05-17 19:14:07, loss: 0.5618:   2%|▏         | 151/6741 [02:10<1:57:08,  1.07s/it]"
     ]
    },
    {
     "name": "stdout",
     "output_type": "stream",
     "text": [
      "Starting epoch 0 step 151 at time 2024-05-17 19:14:07.034461\n",
      "getting the data and setting to device\n",
      "Performing forward pass\n",
      "Calculating loss\n",
      "Loss calculated: 0.613844633102417\n",
      "Performing step in optimizer and propagating loss backgwards\n"
     ]
    },
    {
     "name": "stderr",
     "output_type": "stream",
     "text": [
      "Epoch 0 at 2024-05-17 19:14:07, loss: 0.6138:   2%|▏         | 152/6741 [02:11<1:36:45,  1.14it/s]"
     ]
    },
    {
     "name": "stdout",
     "output_type": "stream",
     "text": [
      "Starting epoch 0 step 152 at time 2024-05-17 19:14:08.802175\n",
      "getting the data and setting to device\n",
      "Performing forward pass\n",
      "Calculating loss\n",
      "Loss calculated: 0.7014164924621582\n",
      "Performing step in optimizer and propagating loss backgwards\n"
     ]
    },
    {
     "name": "stderr",
     "output_type": "stream",
     "text": [
      "Epoch 0 at 2024-05-17 19:14:09, loss: 0.7014:   2%|▏         | 153/6741 [02:13<2:05:53,  1.15s/it]"
     ]
    },
    {
     "name": "stdout",
     "output_type": "stream",
     "text": [
      "Starting epoch 0 step 153 at time 2024-05-17 19:14:09.248768\n",
      "getting the data and setting to device\n",
      "Performing forward pass\n",
      "Calculating loss\n",
      "Loss calculated: 0.4479753077030182\n",
      "Performing step in optimizer and propagating loss backgwards\n"
     ]
    },
    {
     "name": "stderr",
     "output_type": "stream",
     "text": [
      "Epoch 0 at 2024-05-17 19:14:09, loss: 0.4480:   2%|▏         | 154/6741 [02:13<1:42:56,  1.07it/s]"
     ]
    },
    {
     "name": "stdout",
     "output_type": "stream",
     "text": [
      "Starting epoch 0 step 154 at time 2024-05-17 19:14:10.257701\n",
      "getting the data and setting to device\n",
      "Performing forward pass\n",
      "Calculating loss\n",
      "Loss calculated: 0.6323098540306091\n",
      "Performing step in optimizer and propagating loss backgwards\n"
     ]
    },
    {
     "name": "stderr",
     "output_type": "stream",
     "text": [
      "Epoch 0 at 2024-05-17 19:14:10, loss: 0.6323:   2%|▏         | 155/6741 [02:14<1:44:56,  1.05it/s]"
     ]
    },
    {
     "name": "stdout",
     "output_type": "stream",
     "text": [
      "Starting epoch 0 step 155 at time 2024-05-17 19:14:10.697554\n",
      "getting the data and setting to device\n",
      "Performing forward pass\n",
      "Calculating loss\n",
      "Loss calculated: 0.4456724226474762\n",
      "Performing step in optimizer and propagating loss backgwards\n"
     ]
    },
    {
     "name": "stderr",
     "output_type": "stream",
     "text": [
      "Epoch 0 at 2024-05-17 19:14:11, loss: 0.4457:   2%|▏         | 156/6741 [02:15<1:28:47,  1.24it/s]"
     ]
    },
    {
     "name": "stdout",
     "output_type": "stream",
     "text": [
      "Starting epoch 0 step 156 at time 2024-05-17 19:14:12.240209\n",
      "getting the data and setting to device\n",
      "Performing forward pass\n",
      "Calculating loss\n",
      "Loss calculated: 0.6639062166213989\n",
      "Performing step in optimizer and propagating loss backgwards\n"
     ]
    },
    {
     "name": "stderr",
     "output_type": "stream",
     "text": [
      "Epoch 0 at 2024-05-17 19:14:12, loss: 0.6639:   2%|▏         | 157/6741 [02:16<1:52:14,  1.02s/it]"
     ]
    },
    {
     "name": "stdout",
     "output_type": "stream",
     "text": [
      "Starting epoch 0 step 157 at time 2024-05-17 19:14:12.685671\n",
      "getting the data and setting to device\n",
      "Performing forward pass\n",
      "Calculating loss\n",
      "Loss calculated: 0.4301692843437195\n",
      "Performing step in optimizer and propagating loss backgwards\n"
     ]
    },
    {
     "name": "stderr",
     "output_type": "stream",
     "text": [
      "Epoch 0 at 2024-05-17 19:14:13, loss: 0.4302:   2%|▏         | 158/6741 [02:17<1:33:07,  1.18it/s]"
     ]
    },
    {
     "name": "stdout",
     "output_type": "stream",
     "text": [
      "Starting epoch 0 step 158 at time 2024-05-17 19:14:13.750405\n",
      "getting the data and setting to device\n",
      "Performing forward pass\n",
      "Calculating loss\n",
      "Loss calculated: 0.42214131355285645\n",
      "Performing step in optimizer and propagating loss backgwards\n"
     ]
    },
    {
     "name": "stderr",
     "output_type": "stream",
     "text": [
      "Epoch 0 at 2024-05-17 19:14:14, loss: 0.4221:   2%|▏         | 159/6741 [02:18<1:40:40,  1.09it/s]"
     ]
    },
    {
     "name": "stdout",
     "output_type": "stream",
     "text": [
      "Starting epoch 0 step 159 at time 2024-05-17 19:14:14.207756\n",
      "getting the data and setting to device\n",
      "Performing forward pass\n",
      "Calculating loss\n",
      "Loss calculated: 0.4900447130203247\n",
      "Performing step in optimizer and propagating loss backgwards\n"
     ]
    },
    {
     "name": "stderr",
     "output_type": "stream",
     "text": [
      "Epoch 0 at 2024-05-17 19:14:14, loss: 0.4900:   2%|▏         | 160/6741 [02:18<1:25:22,  1.28it/s]"
     ]
    },
    {
     "name": "stdout",
     "output_type": "stream",
     "text": [
      "Starting epoch 0 step 160 at time 2024-05-17 19:14:15.813390\n",
      "getting the data and setting to device\n",
      "Performing forward pass\n",
      "Calculating loss\n",
      "Loss calculated: 0.4751299023628235\n",
      "Performing step in optimizer and propagating loss backgwards\n"
     ]
    },
    {
     "name": "stderr",
     "output_type": "stream",
     "text": [
      "Epoch 0 at 2024-05-17 19:14:16, loss: 0.4751:   2%|▏         | 161/6741 [02:20<1:52:32,  1.03s/it]"
     ]
    },
    {
     "name": "stdout",
     "output_type": "stream",
     "text": [
      "Starting epoch 0 step 161 at time 2024-05-17 19:14:16.265752\n",
      "getting the data and setting to device\n",
      "Performing forward pass\n",
      "Calculating loss\n",
      "Loss calculated: 0.5168709754943848\n",
      "Performing step in optimizer and propagating loss backgwards\n"
     ]
    },
    {
     "name": "stderr",
     "output_type": "stream",
     "text": [
      "Epoch 0 at 2024-05-17 19:14:16, loss: 0.5169:   2%|▏         | 162/6741 [02:20<1:33:49,  1.17it/s]"
     ]
    },
    {
     "name": "stdout",
     "output_type": "stream",
     "text": [
      "Starting epoch 0 step 162 at time 2024-05-17 19:14:17.535772\n",
      "getting the data and setting to device\n",
      "Performing forward pass\n",
      "Calculating loss\n",
      "Loss calculated: 0.6030698418617249\n",
      "Performing step in optimizer and propagating loss backgwards\n"
     ]
    },
    {
     "name": "stderr",
     "output_type": "stream",
     "text": [
      "Epoch 0 at 2024-05-17 19:14:17, loss: 0.6031:   2%|▏         | 163/6741 [02:21<1:46:45,  1.03it/s]"
     ]
    },
    {
     "name": "stdout",
     "output_type": "stream",
     "text": [
      "Starting epoch 0 step 163 at time 2024-05-17 19:14:17.972002\n",
      "getting the data and setting to device\n",
      "Performing forward pass\n",
      "Calculating loss\n",
      "Loss calculated: 0.3705947697162628\n",
      "Performing step in optimizer and propagating loss backgwards\n"
     ]
    },
    {
     "name": "stderr",
     "output_type": "stream",
     "text": [
      "Epoch 0 at 2024-05-17 19:14:18, loss: 0.3706:   2%|▏         | 164/6741 [02:22<1:29:18,  1.23it/s]"
     ]
    },
    {
     "name": "stdout",
     "output_type": "stream",
     "text": [
      "Starting epoch 0 step 164 at time 2024-05-17 19:14:19.413648\n",
      "getting the data and setting to device\n",
      "Performing forward pass\n",
      "Calculating loss\n",
      "Loss calculated: 0.5833852291107178\n",
      "Performing step in optimizer and propagating loss backgwards\n"
     ]
    },
    {
     "name": "stderr",
     "output_type": "stream",
     "text": [
      "Epoch 0 at 2024-05-17 19:14:19, loss: 0.5834:   2%|▏         | 165/6741 [02:23<1:50:02,  1.00s/it]"
     ]
    },
    {
     "name": "stdout",
     "output_type": "stream",
     "text": [
      "Starting epoch 0 step 165 at time 2024-05-17 19:14:19.861750\n",
      "getting the data and setting to device\n",
      "Performing forward pass\n",
      "Calculating loss\n",
      "Loss calculated: 0.366311252117157\n",
      "Performing step in optimizer and propagating loss backgwards\n"
     ]
    },
    {
     "name": "stderr",
     "output_type": "stream",
     "text": [
      "Epoch 0 at 2024-05-17 19:14:20, loss: 0.3663:   2%|▏         | 166/6741 [02:24<1:31:40,  1.20it/s]"
     ]
    },
    {
     "name": "stdout",
     "output_type": "stream",
     "text": [
      "Starting epoch 0 step 166 at time 2024-05-17 19:14:21.153374\n",
      "getting the data and setting to device\n",
      "Performing forward pass\n",
      "Calculating loss\n",
      "Loss calculated: 0.4785059094429016\n",
      "Performing step in optimizer and propagating loss backgwards\n"
     ]
    },
    {
     "name": "stderr",
     "output_type": "stream",
     "text": [
      "Epoch 0 at 2024-05-17 19:14:21, loss: 0.4785:   2%|▏         | 167/6741 [02:25<1:46:49,  1.03it/s]"
     ]
    },
    {
     "name": "stdout",
     "output_type": "stream",
     "text": [
      "Starting epoch 0 step 167 at time 2024-05-17 19:14:21.605613\n",
      "getting the data and setting to device\n",
      "Performing forward pass\n",
      "Calculating loss\n",
      "Loss calculated: 0.6085180044174194\n",
      "Performing step in optimizer and propagating loss backgwards\n"
     ]
    },
    {
     "name": "stderr",
     "output_type": "stream",
     "text": [
      "Epoch 0 at 2024-05-17 19:14:22, loss: 0.6085:   2%|▏         | 168/6741 [02:25<1:30:08,  1.22it/s]"
     ]
    },
    {
     "name": "stdout",
     "output_type": "stream",
     "text": [
      "Starting epoch 0 step 168 at time 2024-05-17 19:14:23.287354\n",
      "getting the data and setting to device\n",
      "Performing forward pass\n",
      "Calculating loss\n",
      "Loss calculated: 0.5461434125900269\n",
      "Performing step in optimizer and propagating loss backgwards\n"
     ]
    },
    {
     "name": "stderr",
     "output_type": "stream",
     "text": [
      "Epoch 0 at 2024-05-17 19:14:23, loss: 0.5461:   3%|▎         | 169/6741 [02:27<1:57:49,  1.08s/it]"
     ]
    },
    {
     "name": "stdout",
     "output_type": "stream",
     "text": [
      "Starting epoch 0 step 169 at time 2024-05-17 19:14:23.738117\n",
      "getting the data and setting to device\n",
      "Performing forward pass\n",
      "Calculating loss\n",
      "Loss calculated: 0.5325902104377747\n",
      "Performing step in optimizer and propagating loss backgwards\n"
     ]
    },
    {
     "name": "stderr",
     "output_type": "stream",
     "text": [
      "Epoch 0 at 2024-05-17 19:14:24, loss: 0.5326:   3%|▎         | 170/6741 [02:28<1:37:25,  1.12it/s]"
     ]
    },
    {
     "name": "stdout",
     "output_type": "stream",
     "text": [
      "Starting epoch 0 step 170 at time 2024-05-17 19:14:25.402345\n",
      "getting the data and setting to device\n",
      "Performing forward pass\n",
      "Calculating loss\n",
      "Loss calculated: 0.5343366861343384\n",
      "Performing step in optimizer and propagating loss backgwards\n"
     ]
    },
    {
     "name": "stderr",
     "output_type": "stream",
     "text": [
      "Epoch 0 at 2024-05-17 19:14:25, loss: 0.5343:   3%|▎         | 171/6741 [02:29<2:02:33,  1.12s/it]"
     ]
    },
    {
     "name": "stdout",
     "output_type": "stream",
     "text": [
      "Starting epoch 0 step 171 at time 2024-05-17 19:14:25.850313\n",
      "getting the data and setting to device\n",
      "Performing forward pass\n",
      "Calculating loss\n",
      "Loss calculated: 0.5177595615386963\n",
      "Performing step in optimizer and propagating loss backgwards\n"
     ]
    },
    {
     "name": "stderr",
     "output_type": "stream",
     "text": [
      "Epoch 0 at 2024-05-17 19:14:26, loss: 0.5178:   3%|▎         | 172/6741 [02:30<1:40:09,  1.09it/s]"
     ]
    },
    {
     "name": "stdout",
     "output_type": "stream",
     "text": [
      "Starting epoch 0 step 172 at time 2024-05-17 19:14:27.132892\n",
      "getting the data and setting to device\n",
      "Performing forward pass\n",
      "Calculating loss\n",
      "Loss calculated: 0.6208231449127197\n",
      "Performing step in optimizer and propagating loss backgwards\n"
     ]
    },
    {
     "name": "stderr",
     "output_type": "stream",
     "text": [
      "Epoch 0 at 2024-05-17 19:14:27, loss: 0.6208:   3%|▎         | 173/6741 [02:31<1:53:06,  1.03s/it]"
     ]
    },
    {
     "name": "stdout",
     "output_type": "stream",
     "text": [
      "Starting epoch 0 step 173 at time 2024-05-17 19:14:27.596473\n",
      "getting the data and setting to device\n",
      "Performing forward pass\n",
      "Calculating loss\n",
      "Loss calculated: 0.5563545227050781\n",
      "Performing step in optimizer and propagating loss backgwards\n"
     ]
    },
    {
     "name": "stderr",
     "output_type": "stream",
     "text": [
      "Epoch 0 at 2024-05-17 19:14:28, loss: 0.5564:   3%|▎         | 174/6741 [02:31<1:34:28,  1.16it/s]"
     ]
    },
    {
     "name": "stdout",
     "output_type": "stream",
     "text": [
      "Starting epoch 0 step 174 at time 2024-05-17 19:14:29.285815\n",
      "getting the data and setting to device\n",
      "Performing forward pass\n",
      "Calculating loss\n",
      "Loss calculated: 0.5123925805091858\n",
      "Performing step in optimizer and propagating loss backgwards\n"
     ]
    },
    {
     "name": "stderr",
     "output_type": "stream",
     "text": [
      "Epoch 0 at 2024-05-17 19:14:29, loss: 0.5124:   3%|▎         | 175/6741 [02:33<2:01:03,  1.11s/it]"
     ]
    },
    {
     "name": "stdout",
     "output_type": "stream",
     "text": [
      "Starting epoch 0 step 175 at time 2024-05-17 19:14:29.736124\n",
      "getting the data and setting to device\n",
      "Performing forward pass\n",
      "Calculating loss\n",
      "Loss calculated: 0.5055985450744629\n",
      "Performing step in optimizer and propagating loss backgwards\n"
     ]
    },
    {
     "name": "stderr",
     "output_type": "stream",
     "text": [
      "Epoch 0 at 2024-05-17 19:14:30, loss: 0.5056:   3%|▎         | 176/6741 [02:34<1:39:25,  1.10it/s]"
     ]
    },
    {
     "name": "stdout",
     "output_type": "stream",
     "text": [
      "Starting epoch 0 step 176 at time 2024-05-17 19:14:30.291584\n",
      "getting the data and setting to device\n",
      "Performing forward pass\n",
      "Calculating loss\n",
      "Loss calculated: 0.5954820513725281\n",
      "Performing step in optimizer and propagating loss backgwards\n"
     ]
    },
    {
     "name": "stderr",
     "output_type": "stream",
     "text": [
      "Epoch 0 at 2024-05-17 19:14:30, loss: 0.5955:   3%|▎         | 177/6741 [02:34<1:28:02,  1.24it/s]"
     ]
    },
    {
     "name": "stdout",
     "output_type": "stream",
     "text": [
      "Starting epoch 0 step 177 at time 2024-05-17 19:14:31.363070\n",
      "getting the data and setting to device\n",
      "Performing forward pass\n",
      "Calculating loss\n",
      "Loss calculated: 0.5341126322746277\n",
      "Performing step in optimizer and propagating loss backgwards\n"
     ]
    },
    {
     "name": "stderr",
     "output_type": "stream",
     "text": [
      "Epoch 0 at 2024-05-17 19:14:31, loss: 0.5341:   3%|▎         | 178/6741 [02:35<1:36:37,  1.13it/s]"
     ]
    },
    {
     "name": "stdout",
     "output_type": "stream",
     "text": [
      "Starting epoch 0 step 178 at time 2024-05-17 19:14:33.306559\n",
      "getting the data and setting to device\n",
      "Performing forward pass\n",
      "Calculating loss\n",
      "Loss calculated: 0.4898042380809784\n",
      "Performing step in optimizer and propagating loss backgwards\n"
     ]
    },
    {
     "name": "stderr",
     "output_type": "stream",
     "text": [
      "Epoch 0 at 2024-05-17 19:14:33, loss: 0.4898:   3%|▎         | 179/6741 [02:37<2:11:36,  1.20s/it]"
     ]
    },
    {
     "name": "stdout",
     "output_type": "stream",
     "text": [
      "Starting epoch 0 step 179 at time 2024-05-17 19:14:33.763912\n",
      "getting the data and setting to device\n",
      "Performing forward pass\n",
      "Calculating loss\n",
      "Loss calculated: 0.3670376241207123\n",
      "Performing step in optimizer and propagating loss backgwards\n"
     ]
    },
    {
     "name": "stderr",
     "output_type": "stream",
     "text": [
      "Epoch 0 at 2024-05-17 19:14:34, loss: 0.3670:   3%|▎         | 180/6741 [02:38<1:47:32,  1.02it/s]"
     ]
    },
    {
     "name": "stdout",
     "output_type": "stream",
     "text": [
      "Starting epoch 0 step 180 at time 2024-05-17 19:14:34.233943\n",
      "getting the data and setting to device\n",
      "Performing forward pass\n",
      "Calculating loss\n",
      "Loss calculated: 0.6441915035247803\n",
      "Performing step in optimizer and propagating loss backgwards\n"
     ]
    },
    {
     "name": "stderr",
     "output_type": "stream",
     "text": [
      "Epoch 0 at 2024-05-17 19:14:34, loss: 0.6442:   3%|▎         | 181/6741 [02:38<1:30:06,  1.21it/s]"
     ]
    },
    {
     "name": "stdout",
     "output_type": "stream",
     "text": [
      "Starting epoch 0 step 181 at time 2024-05-17 19:14:35.360336\n",
      "getting the data and setting to device\n",
      "Performing forward pass\n",
      "Calculating loss\n",
      "Loss calculated: 0.5716831088066101\n",
      "Performing step in optimizer and propagating loss backgwards\n"
     ]
    },
    {
     "name": "stderr",
     "output_type": "stream",
     "text": [
      "Epoch 0 at 2024-05-17 19:14:35, loss: 0.5717:   3%|▎         | 182/6741 [02:39<1:40:08,  1.09it/s]"
     ]
    },
    {
     "name": "stdout",
     "output_type": "stream",
     "text": [
      "Starting epoch 0 step 182 at time 2024-05-17 19:14:37.136043\n",
      "getting the data and setting to device\n",
      "Performing forward pass\n",
      "Calculating loss\n",
      "Loss calculated: 0.4210376441478729\n",
      "Performing step in optimizer and propagating loss backgwards\n"
     ]
    },
    {
     "name": "stderr",
     "output_type": "stream",
     "text": [
      "Epoch 0 at 2024-05-17 19:14:37, loss: 0.4210:   3%|▎         | 183/6741 [02:41<2:07:58,  1.17s/it]"
     ]
    },
    {
     "name": "stdout",
     "output_type": "stream",
     "text": [
      "Starting epoch 0 step 183 at time 2024-05-17 19:14:37.582177\n",
      "getting the data and setting to device\n",
      "Performing forward pass\n",
      "Calculating loss\n",
      "Loss calculated: 0.5887423753738403\n",
      "Performing step in optimizer and propagating loss backgwards\n"
     ]
    },
    {
     "name": "stderr",
     "output_type": "stream",
     "text": [
      "Epoch 0 at 2024-05-17 19:14:38, loss: 0.5887:   3%|▎         | 184/6741 [02:41<1:44:24,  1.05it/s]"
     ]
    },
    {
     "name": "stdout",
     "output_type": "stream",
     "text": [
      "Starting epoch 0 step 184 at time 2024-05-17 19:14:38.206501\n",
      "getting the data and setting to device\n",
      "Performing forward pass\n",
      "Calculating loss\n",
      "Loss calculated: 0.5146947503089905\n",
      "Performing step in optimizer and propagating loss backgwards\n"
     ]
    },
    {
     "name": "stderr",
     "output_type": "stream",
     "text": [
      "Epoch 0 at 2024-05-17 19:14:38, loss: 0.5147:   3%|▎         | 185/6741 [02:42<1:33:35,  1.17it/s]"
     ]
    },
    {
     "name": "stdout",
     "output_type": "stream",
     "text": [
      "Starting epoch 0 step 185 at time 2024-05-17 19:14:39.296240\n",
      "getting the data and setting to device\n",
      "Performing forward pass\n",
      "Calculating loss\n",
      "Loss calculated: 0.6378743052482605\n",
      "Performing step in optimizer and propagating loss backgwards\n"
     ]
    },
    {
     "name": "stderr",
     "output_type": "stream",
     "text": [
      "Epoch 0 at 2024-05-17 19:14:39, loss: 0.6379:   3%|▎         | 186/6741 [02:43<1:40:27,  1.09it/s]"
     ]
    },
    {
     "name": "stdout",
     "output_type": "stream",
     "text": [
      "Starting epoch 0 step 186 at time 2024-05-17 19:14:41.024310\n",
      "getting the data and setting to device\n",
      "Performing forward pass\n",
      "Calculating loss\n",
      "Loss calculated: 0.599656343460083\n",
      "Performing step in optimizer and propagating loss backgwards\n"
     ]
    },
    {
     "name": "stderr",
     "output_type": "stream",
     "text": [
      "Epoch 0 at 2024-05-17 19:14:41, loss: 0.5997:   3%|▎         | 187/6741 [02:45<2:07:31,  1.17s/it]"
     ]
    },
    {
     "name": "stdout",
     "output_type": "stream",
     "text": [
      "Starting epoch 0 step 187 at time 2024-05-17 19:14:41.473311\n",
      "getting the data and setting to device\n",
      "Performing forward pass\n",
      "Calculating loss\n",
      "Loss calculated: 0.5000354051589966\n",
      "Performing step in optimizer and propagating loss backgwards\n"
     ]
    },
    {
     "name": "stderr",
     "output_type": "stream",
     "text": [
      "Epoch 0 at 2024-05-17 19:14:41, loss: 0.5000:   3%|▎         | 188/6741 [02:45<1:43:59,  1.05it/s]"
     ]
    },
    {
     "name": "stdout",
     "output_type": "stream",
     "text": [
      "Starting epoch 0 step 188 at time 2024-05-17 19:14:42.312077\n",
      "getting the data and setting to device\n",
      "Performing forward pass\n",
      "Calculating loss\n",
      "Loss calculated: 0.5095067620277405\n",
      "Performing step in optimizer and propagating loss backgwards\n"
     ]
    },
    {
     "name": "stderr",
     "output_type": "stream",
     "text": [
      "Epoch 0 at 2024-05-17 19:14:42, loss: 0.5095:   3%|▎         | 189/6741 [02:46<1:40:18,  1.09it/s]"
     ]
    },
    {
     "name": "stdout",
     "output_type": "stream",
     "text": [
      "Starting epoch 0 step 189 at time 2024-05-17 19:14:43.270307\n",
      "getting the data and setting to device\n",
      "Performing forward pass\n",
      "Calculating loss\n",
      "Loss calculated: 0.6983445882797241\n",
      "Performing step in optimizer and propagating loss backgwards\n"
     ]
    },
    {
     "name": "stderr",
     "output_type": "stream",
     "text": [
      "Epoch 0 at 2024-05-17 19:14:43, loss: 0.6983:   3%|▎         | 190/6741 [02:47<1:41:24,  1.08it/s]"
     ]
    },
    {
     "name": "stdout",
     "output_type": "stream",
     "text": [
      "Starting epoch 0 step 190 at time 2024-05-17 19:14:45.363446\n",
      "getting the data and setting to device\n",
      "Performing forward pass\n",
      "Calculating loss\n",
      "Loss calculated: 0.5499525666236877\n",
      "Performing step in optimizer and propagating loss backgwards\n"
     ]
    },
    {
     "name": "stderr",
     "output_type": "stream",
     "text": [
      "Epoch 0 at 2024-05-17 19:14:45, loss: 0.5500:   3%|▎         | 191/6741 [02:49<2:19:34,  1.28s/it]"
     ]
    },
    {
     "name": "stdout",
     "output_type": "stream",
     "text": [
      "Starting epoch 0 step 191 at time 2024-05-17 19:14:45.810977\n",
      "getting the data and setting to device\n",
      "Performing forward pass\n",
      "Calculating loss\n",
      "Loss calculated: 0.4909331798553467\n",
      "Performing step in optimizer and propagating loss backgwards\n"
     ]
    },
    {
     "name": "stderr",
     "output_type": "stream",
     "text": [
      "Epoch 0 at 2024-05-17 19:14:46, loss: 0.4909:   3%|▎         | 192/6741 [02:50<1:51:52,  1.02s/it]"
     ]
    },
    {
     "name": "stdout",
     "output_type": "stream",
     "text": [
      "Starting epoch 0 step 192 at time 2024-05-17 19:14:46.294171\n",
      "getting the data and setting to device\n",
      "Performing forward pass\n",
      "Calculating loss\n",
      "Loss calculated: 0.4752691984176636\n",
      "Performing step in optimizer and propagating loss backgwards\n"
     ]
    },
    {
     "name": "stderr",
     "output_type": "stream",
     "text": [
      "Epoch 0 at 2024-05-17 19:14:46, loss: 0.4753:   3%|▎         | 193/6741 [02:50<1:35:29,  1.14it/s]"
     ]
    },
    {
     "name": "stdout",
     "output_type": "stream",
     "text": [
      "Starting epoch 0 step 193 at time 2024-05-17 19:14:47.228060\n",
      "getting the data and setting to device\n",
      "Performing forward pass\n",
      "Calculating loss\n",
      "Loss calculated: 0.5476445555686951\n",
      "Performing step in optimizer and propagating loss backgwards\n"
     ]
    },
    {
     "name": "stderr",
     "output_type": "stream",
     "text": [
      "Epoch 0 at 2024-05-17 19:14:47, loss: 0.5476:   3%|▎         | 194/6741 [02:51<1:36:23,  1.13it/s]"
     ]
    },
    {
     "name": "stdout",
     "output_type": "stream",
     "text": [
      "Starting epoch 0 step 194 at time 2024-05-17 19:14:49.136680\n",
      "getting the data and setting to device\n",
      "Performing forward pass\n",
      "Calculating loss\n",
      "Loss calculated: 0.6014875173568726\n",
      "Performing step in optimizer and propagating loss backgwards\n"
     ]
    },
    {
     "name": "stderr",
     "output_type": "stream",
     "text": [
      "Epoch 0 at 2024-05-17 19:14:49, loss: 0.6015:   3%|▎         | 195/6741 [02:53<2:09:28,  1.19s/it]"
     ]
    },
    {
     "name": "stdout",
     "output_type": "stream",
     "text": [
      "Starting epoch 0 step 195 at time 2024-05-17 19:14:49.565825\n",
      "getting the data and setting to device\n",
      "Performing forward pass\n",
      "Calculating loss\n",
      "Loss calculated: 0.549517810344696\n",
      "Performing step in optimizer and propagating loss backgwards\n"
     ]
    },
    {
     "name": "stderr",
     "output_type": "stream",
     "text": [
      "Epoch 0 at 2024-05-17 19:14:50, loss: 0.5495:   3%|▎         | 196/6741 [02:53<1:45:09,  1.04it/s]"
     ]
    },
    {
     "name": "stdout",
     "output_type": "stream",
     "text": [
      "Starting epoch 0 step 196 at time 2024-05-17 19:14:50.043575\n",
      "getting the data and setting to device\n",
      "Performing forward pass\n",
      "Calculating loss\n",
      "Loss calculated: 0.613281786441803\n",
      "Performing step in optimizer and propagating loss backgwards\n"
     ]
    },
    {
     "name": "stderr",
     "output_type": "stream",
     "text": [
      "Epoch 0 at 2024-05-17 19:14:50, loss: 0.6133:   3%|▎         | 197/6741 [02:54<1:29:17,  1.22it/s]"
     ]
    },
    {
     "name": "stdout",
     "output_type": "stream",
     "text": [
      "Starting epoch 0 step 197 at time 2024-05-17 19:14:50.948331\n",
      "getting the data and setting to device\n",
      "Performing forward pass\n",
      "Calculating loss\n",
      "Loss calculated: 0.5895280838012695\n",
      "Performing step in optimizer and propagating loss backgwards\n"
     ]
    },
    {
     "name": "stderr",
     "output_type": "stream",
     "text": [
      "Epoch 0 at 2024-05-17 19:14:51, loss: 0.5895:   3%|▎         | 198/6741 [02:55<1:32:07,  1.18it/s]"
     ]
    },
    {
     "name": "stdout",
     "output_type": "stream",
     "text": [
      "Starting epoch 0 step 198 at time 2024-05-17 19:14:52.938099\n",
      "getting the data and setting to device\n",
      "Performing forward pass\n",
      "Calculating loss\n",
      "Loss calculated: 0.6121240258216858\n",
      "Performing step in optimizer and propagating loss backgwards\n"
     ]
    },
    {
     "name": "stderr",
     "output_type": "stream",
     "text": [
      "Epoch 0 at 2024-05-17 19:14:53, loss: 0.6121:   3%|▎         | 199/6741 [02:57<2:09:11,  1.18s/it]"
     ]
    },
    {
     "name": "stdout",
     "output_type": "stream",
     "text": [
      "Starting epoch 0 step 199 at time 2024-05-17 19:14:53.373921\n",
      "getting the data and setting to device\n",
      "Performing forward pass\n",
      "Calculating loss\n",
      "Loss calculated: 0.45547568798065186\n",
      "Performing step in optimizer and propagating loss backgwards\n"
     ]
    },
    {
     "name": "stderr",
     "output_type": "stream",
     "text": [
      "Epoch 0 at 2024-05-17 19:14:53, loss: 0.4555:   3%|▎         | 200/6741 [02:57<1:44:44,  1.04it/s]"
     ]
    },
    {
     "name": "stdout",
     "output_type": "stream",
     "text": [
      "Starting epoch 0 step 200 at time 2024-05-17 19:14:53.811639\n",
      "getting the data and setting to device\n",
      "Performing forward pass\n",
      "Calculating loss\n",
      "Loss calculated: 0.5833257436752319\n",
      "Performing step in optimizer and propagating loss backgwards\n"
     ]
    },
    {
     "name": "stderr",
     "output_type": "stream",
     "text": [
      "Epoch 0 at 2024-05-17 19:14:54, loss: 0.5833:   3%|▎         | 201/6741 [02:58<1:28:07,  1.24it/s]"
     ]
    },
    {
     "name": "stdout",
     "output_type": "stream",
     "text": [
      "Starting epoch 0 step 201 at time 2024-05-17 19:14:54.846042\n",
      "getting the data and setting to device\n",
      "Performing forward pass\n",
      "Calculating loss\n",
      "Loss calculated: 0.48291367292404175\n",
      "Performing step in optimizer and propagating loss backgwards\n"
     ]
    },
    {
     "name": "stderr",
     "output_type": "stream",
     "text": [
      "Epoch 0 at 2024-05-17 19:14:55, loss: 0.4829:   3%|▎         | 202/6741 [02:59<1:35:32,  1.14it/s]"
     ]
    },
    {
     "name": "stdout",
     "output_type": "stream",
     "text": [
      "Starting epoch 0 step 202 at time 2024-05-17 19:14:56.941953\n",
      "getting the data and setting to device\n",
      "Performing forward pass\n",
      "Calculating loss\n",
      "Loss calculated: 0.5481539368629456\n",
      "Performing step in optimizer and propagating loss backgwards\n"
     ]
    },
    {
     "name": "stderr",
     "output_type": "stream",
     "text": [
      "Epoch 0 at 2024-05-17 19:14:57, loss: 0.5482:   3%|▎         | 203/6741 [03:01<2:14:59,  1.24s/it]"
     ]
    },
    {
     "name": "stdout",
     "output_type": "stream",
     "text": [
      "Starting epoch 0 step 203 at time 2024-05-17 19:14:57.384838\n",
      "getting the data and setting to device\n",
      "Performing forward pass\n",
      "Calculating loss\n",
      "Loss calculated: 0.4315692186355591\n",
      "Performing step in optimizer and propagating loss backgwards\n"
     ]
    },
    {
     "name": "stderr",
     "output_type": "stream",
     "text": [
      "Epoch 0 at 2024-05-17 19:14:57, loss: 0.4316:   3%|▎         | 204/6741 [03:01<1:48:53,  1.00it/s]"
     ]
    },
    {
     "name": "stdout",
     "output_type": "stream",
     "text": [
      "Starting epoch 0 step 204 at time 2024-05-17 19:14:57.825284\n",
      "getting the data and setting to device\n",
      "Performing forward pass\n",
      "Calculating loss\n",
      "Loss calculated: 0.5906027555465698\n",
      "Performing step in optimizer and propagating loss backgwards\n"
     ]
    },
    {
     "name": "stderr",
     "output_type": "stream",
     "text": [
      "Epoch 0 at 2024-05-17 19:14:58, loss: 0.5906:   3%|▎         | 205/6741 [03:02<1:31:02,  1.20it/s]"
     ]
    },
    {
     "name": "stdout",
     "output_type": "stream",
     "text": [
      "Starting epoch 0 step 205 at time 2024-05-17 19:14:58.837667\n",
      "getting the data and setting to device\n",
      "Performing forward pass\n",
      "Calculating loss\n",
      "Loss calculated: 0.5668333768844604\n",
      "Performing step in optimizer and propagating loss backgwards\n"
     ]
    },
    {
     "name": "stderr",
     "output_type": "stream",
     "text": [
      "Epoch 0 at 2024-05-17 19:14:59, loss: 0.5668:   3%|▎         | 206/6741 [03:03<1:36:18,  1.13it/s]"
     ]
    },
    {
     "name": "stdout",
     "output_type": "stream",
     "text": [
      "Starting epoch 0 step 206 at time 2024-05-17 19:15:00.572436\n",
      "getting the data and setting to device\n",
      "Performing forward pass\n",
      "Calculating loss\n",
      "Loss calculated: 0.4929150938987732\n",
      "Performing step in optimizer and propagating loss backgwards\n"
     ]
    },
    {
     "name": "stderr",
     "output_type": "stream",
     "text": [
      "Epoch 0 at 2024-05-17 19:15:01, loss: 0.4929:   3%|▎         | 207/6741 [03:04<2:04:48,  1.15s/it]"
     ]
    },
    {
     "name": "stdout",
     "output_type": "stream",
     "text": [
      "Starting epoch 0 step 207 at time 2024-05-17 19:15:01.034499\n",
      "getting the data and setting to device\n",
      "Performing forward pass\n",
      "Calculating loss\n",
      "Loss calculated: 0.4750795364379883\n",
      "Performing step in optimizer and propagating loss backgwards\n"
     ]
    },
    {
     "name": "stderr",
     "output_type": "stream",
     "text": [
      "Epoch 0 at 2024-05-17 19:15:01, loss: 0.4751:   3%|▎         | 208/6741 [03:05<1:42:07,  1.07it/s]"
     ]
    },
    {
     "name": "stdout",
     "output_type": "stream",
     "text": [
      "Starting epoch 0 step 208 at time 2024-05-17 19:15:01.486550\n",
      "getting the data and setting to device\n",
      "Performing forward pass\n",
      "Calculating loss\n",
      "Loss calculated: 0.5826550722122192\n",
      "Performing step in optimizer and propagating loss backgwards\n"
     ]
    },
    {
     "name": "stderr",
     "output_type": "stream",
     "text": [
      "Epoch 0 at 2024-05-17 19:15:01, loss: 0.5827:   3%|▎         | 209/6741 [03:05<1:25:55,  1.27it/s]"
     ]
    },
    {
     "name": "stdout",
     "output_type": "stream",
     "text": [
      "Starting epoch 0 step 209 at time 2024-05-17 19:15:02.543483\n",
      "getting the data and setting to device\n",
      "Performing forward pass\n",
      "Calculating loss\n",
      "Loss calculated: 0.49442124366760254\n",
      "Performing step in optimizer and propagating loss backgwards\n"
     ]
    },
    {
     "name": "stderr",
     "output_type": "stream",
     "text": [
      "Epoch 0 at 2024-05-17 19:15:02, loss: 0.4944:   3%|▎         | 210/6741 [03:06<1:34:59,  1.15it/s]"
     ]
    },
    {
     "name": "stdout",
     "output_type": "stream",
     "text": [
      "Starting epoch 0 step 210 at time 2024-05-17 19:15:03.941384\n",
      "getting the data and setting to device\n",
      "Performing forward pass\n",
      "Calculating loss\n",
      "Loss calculated: 0.5376049876213074\n",
      "Performing step in optimizer and propagating loss backgwards\n"
     ]
    },
    {
     "name": "stderr",
     "output_type": "stream",
     "text": [
      "Epoch 0 at 2024-05-17 19:15:04, loss: 0.5376:   3%|▎         | 211/6741 [03:08<1:51:51,  1.03s/it]"
     ]
    },
    {
     "name": "stdout",
     "output_type": "stream",
     "text": [
      "Starting epoch 0 step 211 at time 2024-05-17 19:15:04.385894\n",
      "getting the data and setting to device\n",
      "Performing forward pass\n",
      "Calculating loss\n",
      "Loss calculated: 0.546055257320404\n",
      "Performing step in optimizer and propagating loss backgwards\n"
     ]
    },
    {
     "name": "stderr",
     "output_type": "stream",
     "text": [
      "Epoch 0 at 2024-05-17 19:15:04, loss: 0.5461:   3%|▎         | 212/6741 [03:08<1:32:59,  1.17it/s]"
     ]
    },
    {
     "name": "stdout",
     "output_type": "stream",
     "text": [
      "Starting epoch 0 step 212 at time 2024-05-17 19:15:04.836079\n",
      "getting the data and setting to device\n",
      "Performing forward pass\n",
      "Calculating loss\n",
      "Loss calculated: 0.39843305945396423\n",
      "Performing step in optimizer and propagating loss backgwards\n"
     ]
    },
    {
     "name": "stderr",
     "output_type": "stream",
     "text": [
      "Epoch 0 at 2024-05-17 19:15:05, loss: 0.3984:   3%|▎         | 213/6741 [03:09<1:20:04,  1.36it/s]"
     ]
    },
    {
     "name": "stdout",
     "output_type": "stream",
     "text": [
      "Starting epoch 0 step 213 at time 2024-05-17 19:15:06.573210\n",
      "getting the data and setting to device\n",
      "Performing forward pass\n",
      "Calculating loss\n",
      "Loss calculated: 0.6086687445640564\n",
      "Performing step in optimizer and propagating loss backgwards\n"
     ]
    },
    {
     "name": "stderr",
     "output_type": "stream",
     "text": [
      "Epoch 0 at 2024-05-17 19:15:07, loss: 0.6087:   3%|▎         | 214/6741 [03:10<1:52:39,  1.04s/it]"
     ]
    },
    {
     "name": "stdout",
     "output_type": "stream",
     "text": [
      "Starting epoch 0 step 214 at time 2024-05-17 19:15:07.668456\n",
      "getting the data and setting to device\n",
      "Performing forward pass\n",
      "Calculating loss\n",
      "Loss calculated: 0.5100657939910889\n",
      "Performing step in optimizer and propagating loss backgwards\n"
     ]
    },
    {
     "name": "stderr",
     "output_type": "stream",
     "text": [
      "Epoch 0 at 2024-05-17 19:15:08, loss: 0.5101:   3%|▎         | 215/6741 [03:11<1:53:42,  1.05s/it]"
     ]
    },
    {
     "name": "stdout",
     "output_type": "stream",
     "text": [
      "Starting epoch 0 step 215 at time 2024-05-17 19:15:08.097886\n",
      "getting the data and setting to device\n",
      "Performing forward pass\n",
      "Calculating loss\n",
      "Loss calculated: 0.576524019241333\n",
      "Performing step in optimizer and propagating loss backgwards\n"
     ]
    },
    {
     "name": "stderr",
     "output_type": "stream",
     "text": [
      "Epoch 0 at 2024-05-17 19:15:08, loss: 0.5765:   3%|▎         | 216/6741 [03:12<1:33:46,  1.16it/s]"
     ]
    },
    {
     "name": "stdout",
     "output_type": "stream",
     "text": [
      "Starting epoch 0 step 216 at time 2024-05-17 19:15:08.533285\n",
      "getting the data and setting to device\n",
      "Performing forward pass\n",
      "Calculating loss\n",
      "Loss calculated: 0.47595110535621643\n",
      "Performing step in optimizer and propagating loss backgwards\n"
     ]
    },
    {
     "name": "stderr",
     "output_type": "stream",
     "text": [
      "Epoch 0 at 2024-05-17 19:15:08, loss: 0.4760:   3%|▎         | 217/6741 [03:12<1:20:37,  1.35it/s]"
     ]
    },
    {
     "name": "stdout",
     "output_type": "stream",
     "text": [
      "Starting epoch 0 step 217 at time 2024-05-17 19:15:10.354135\n",
      "getting the data and setting to device\n",
      "Performing forward pass\n",
      "Calculating loss\n",
      "Loss calculated: 0.4752357602119446\n",
      "Performing step in optimizer and propagating loss backgwards\n"
     ]
    },
    {
     "name": "stderr",
     "output_type": "stream",
     "text": [
      "Epoch 0 at 2024-05-17 19:15:10, loss: 0.4752:   3%|▎         | 218/6741 [03:14<1:55:26,  1.06s/it]"
     ]
    },
    {
     "name": "stdout",
     "output_type": "stream",
     "text": [
      "Starting epoch 0 step 218 at time 2024-05-17 19:15:11.352300\n",
      "getting the data and setting to device\n",
      "Performing forward pass\n",
      "Calculating loss\n",
      "Loss calculated: 0.4309285879135132\n",
      "Performing step in optimizer and propagating loss backgwards\n"
     ]
    },
    {
     "name": "stderr",
     "output_type": "stream",
     "text": [
      "Epoch 0 at 2024-05-17 19:15:11, loss: 0.4309:   3%|▎         | 219/6741 [03:15<1:53:25,  1.04s/it]"
     ]
    },
    {
     "name": "stdout",
     "output_type": "stream",
     "text": [
      "Starting epoch 0 step 219 at time 2024-05-17 19:15:11.802014\n",
      "getting the data and setting to device\n",
      "Performing forward pass\n",
      "Calculating loss\n",
      "Loss calculated: 0.34145188331604004\n",
      "Performing step in optimizer and propagating loss backgwards\n"
     ]
    },
    {
     "name": "stderr",
     "output_type": "stream",
     "text": [
      "Epoch 0 at 2024-05-17 19:15:12, loss: 0.3415:   3%|▎         | 220/6741 [03:16<1:34:17,  1.15it/s]"
     ]
    },
    {
     "name": "stdout",
     "output_type": "stream",
     "text": [
      "Starting epoch 0 step 220 at time 2024-05-17 19:15:12.259868\n",
      "getting the data and setting to device\n",
      "Performing forward pass\n",
      "Calculating loss\n",
      "Loss calculated: 0.3971165716648102\n",
      "Performing step in optimizer and propagating loss backgwards\n"
     ]
    },
    {
     "name": "stderr",
     "output_type": "stream",
     "text": [
      "Epoch 0 at 2024-05-17 19:15:12, loss: 0.3971:   3%|▎         | 221/6741 [03:16<1:21:18,  1.34it/s]"
     ]
    },
    {
     "name": "stdout",
     "output_type": "stream",
     "text": [
      "Starting epoch 0 step 221 at time 2024-05-17 19:15:13.977297\n",
      "getting the data and setting to device\n",
      "Performing forward pass\n",
      "Calculating loss\n",
      "Loss calculated: 0.5774457454681396\n",
      "Performing step in optimizer and propagating loss backgwards\n"
     ]
    },
    {
     "name": "stderr",
     "output_type": "stream",
     "text": [
      "Epoch 0 at 2024-05-17 19:15:14, loss: 0.5774:   3%|▎         | 222/6741 [03:18<1:52:23,  1.03s/it]"
     ]
    },
    {
     "name": "stdout",
     "output_type": "stream",
     "text": [
      "Starting epoch 0 step 222 at time 2024-05-17 19:15:14.967169\n",
      "getting the data and setting to device\n",
      "Performing forward pass\n",
      "Calculating loss\n",
      "Loss calculated: 0.6130884885787964\n",
      "Performing step in optimizer and propagating loss backgwards\n"
     ]
    },
    {
     "name": "stderr",
     "output_type": "stream",
     "text": [
      "Epoch 0 at 2024-05-17 19:15:15, loss: 0.6131:   3%|▎         | 223/6741 [03:19<1:50:40,  1.02s/it]"
     ]
    },
    {
     "name": "stdout",
     "output_type": "stream",
     "text": [
      "Starting epoch 0 step 223 at time 2024-05-17 19:15:15.414306\n",
      "getting the data and setting to device\n",
      "Performing forward pass\n",
      "Calculating loss\n",
      "Loss calculated: 0.5009028315544128\n",
      "Performing step in optimizer and propagating loss backgwards\n"
     ]
    },
    {
     "name": "stderr",
     "output_type": "stream",
     "text": [
      "Epoch 0 at 2024-05-17 19:15:15, loss: 0.5009:   3%|▎         | 224/6741 [03:19<1:32:51,  1.17it/s]"
     ]
    },
    {
     "name": "stdout",
     "output_type": "stream",
     "text": [
      "Starting epoch 0 step 224 at time 2024-05-17 19:15:15.886446\n",
      "getting the data and setting to device\n",
      "Performing forward pass\n",
      "Calculating loss\n",
      "Loss calculated: 0.4555055499076843\n",
      "Performing step in optimizer and propagating loss backgwards\n"
     ]
    },
    {
     "name": "stderr",
     "output_type": "stream",
     "text": [
      "Epoch 0 at 2024-05-17 19:15:16, loss: 0.4555:   3%|▎         | 225/6741 [03:20<1:20:10,  1.35it/s]"
     ]
    },
    {
     "name": "stdout",
     "output_type": "stream",
     "text": [
      "Starting epoch 0 step 225 at time 2024-05-17 19:15:18.033192\n",
      "getting the data and setting to device\n",
      "Performing forward pass\n",
      "Calculating loss\n",
      "Loss calculated: 0.48537158966064453\n",
      "Performing step in optimizer and propagating loss backgwards\n"
     ]
    },
    {
     "name": "stderr",
     "output_type": "stream",
     "text": [
      "Epoch 0 at 2024-05-17 19:15:18, loss: 0.4854:   3%|▎         | 226/6741 [03:22<2:06:26,  1.16s/it]"
     ]
    },
    {
     "name": "stdout",
     "output_type": "stream",
     "text": [
      "Starting epoch 0 step 226 at time 2024-05-17 19:15:18.983034\n",
      "getting the data and setting to device\n",
      "Performing forward pass\n",
      "Calculating loss\n",
      "Loss calculated: 0.4794590473175049\n",
      "Performing step in optimizer and propagating loss backgwards\n"
     ]
    },
    {
     "name": "stderr",
     "output_type": "stream",
     "text": [
      "Epoch 0 at 2024-05-17 19:15:19, loss: 0.4795:   3%|▎         | 227/6741 [03:23<1:58:21,  1.09s/it]"
     ]
    },
    {
     "name": "stdout",
     "output_type": "stream",
     "text": [
      "Starting epoch 0 step 227 at time 2024-05-17 19:15:19.428356\n",
      "getting the data and setting to device\n",
      "Performing forward pass\n",
      "Calculating loss\n",
      "Loss calculated: 0.3722596764564514\n",
      "Performing step in optimizer and propagating loss backgwards\n"
     ]
    },
    {
     "name": "stderr",
     "output_type": "stream",
     "text": [
      "Epoch 0 at 2024-05-17 19:15:19, loss: 0.3723:   3%|▎         | 228/6741 [03:23<1:37:53,  1.11it/s]"
     ]
    },
    {
     "name": "stdout",
     "output_type": "stream",
     "text": [
      "Starting epoch 0 step 228 at time 2024-05-17 19:15:19.891171\n",
      "getting the data and setting to device\n",
      "Performing forward pass\n",
      "Calculating loss\n",
      "Loss calculated: 0.5790002346038818\n",
      "Performing step in optimizer and propagating loss backgwards\n"
     ]
    },
    {
     "name": "stderr",
     "output_type": "stream",
     "text": [
      "Epoch 0 at 2024-05-17 19:15:20, loss: 0.5790:   3%|▎         | 229/6741 [03:24<1:23:16,  1.30it/s]"
     ]
    },
    {
     "name": "stdout",
     "output_type": "stream",
     "text": [
      "Starting epoch 0 step 229 at time 2024-05-17 19:15:21.644046\n",
      "getting the data and setting to device\n",
      "Performing forward pass\n",
      "Calculating loss\n",
      "Loss calculated: 0.47988757491111755\n",
      "Performing step in optimizer and propagating loss backgwards\n"
     ]
    },
    {
     "name": "stderr",
     "output_type": "stream",
     "text": [
      "Epoch 0 at 2024-05-17 19:15:22, loss: 0.4799:   3%|▎         | 230/6741 [03:25<1:54:53,  1.06s/it]"
     ]
    },
    {
     "name": "stdout",
     "output_type": "stream",
     "text": [
      "Starting epoch 0 step 230 at time 2024-05-17 19:15:23.136667\n",
      "getting the data and setting to device\n",
      "Performing forward pass\n",
      "Calculating loss\n",
      "Loss calculated: 0.5507999062538147\n",
      "Performing step in optimizer and propagating loss backgwards\n"
     ]
    },
    {
     "name": "stderr",
     "output_type": "stream",
     "text": [
      "Epoch 0 at 2024-05-17 19:15:23, loss: 0.5508:   3%|▎         | 231/6741 [03:27<2:09:58,  1.20s/it]"
     ]
    },
    {
     "name": "stdout",
     "output_type": "stream",
     "text": [
      "Starting epoch 0 step 231 at time 2024-05-17 19:15:23.605567\n",
      "getting the data and setting to device\n",
      "Performing forward pass\n",
      "Calculating loss\n",
      "Loss calculated: 0.5672684907913208\n",
      "Performing step in optimizer and propagating loss backgwards\n"
     ]
    },
    {
     "name": "stderr",
     "output_type": "stream",
     "text": [
      "Epoch 0 at 2024-05-17 19:15:24, loss: 0.5673:   3%|▎         | 232/6741 [03:27<1:46:04,  1.02it/s]"
     ]
    },
    {
     "name": "stdout",
     "output_type": "stream",
     "text": [
      "Starting epoch 0 step 232 at time 2024-05-17 19:15:24.069277\n",
      "getting the data and setting to device\n",
      "Performing forward pass\n",
      "Calculating loss\n",
      "Loss calculated: 0.50605309009552\n",
      "Performing step in optimizer and propagating loss backgwards\n"
     ]
    },
    {
     "name": "stderr",
     "output_type": "stream",
     "text": [
      "Epoch 0 at 2024-05-17 19:15:24, loss: 0.5061:   3%|▎         | 233/6741 [03:28<1:29:00,  1.22it/s]"
     ]
    },
    {
     "name": "stdout",
     "output_type": "stream",
     "text": [
      "Starting epoch 0 step 233 at time 2024-05-17 19:15:25.237901\n",
      "getting the data and setting to device\n",
      "Performing forward pass\n",
      "Calculating loss\n",
      "Loss calculated: 0.504632830619812\n",
      "Performing step in optimizer and propagating loss backgwards\n"
     ]
    },
    {
     "name": "stderr",
     "output_type": "stream",
     "text": [
      "Epoch 0 at 2024-05-17 19:15:25, loss: 0.5046:   3%|▎         | 234/6741 [03:29<1:39:41,  1.09it/s]"
     ]
    },
    {
     "name": "stdout",
     "output_type": "stream",
     "text": [
      "Starting epoch 0 step 234 at time 2024-05-17 19:15:27.077551\n",
      "getting the data and setting to device\n",
      "Performing forward pass\n",
      "Calculating loss\n",
      "Loss calculated: 0.571925938129425\n",
      "Performing step in optimizer and propagating loss backgwards\n"
     ]
    },
    {
     "name": "stderr",
     "output_type": "stream",
     "text": [
      "Epoch 0 at 2024-05-17 19:15:27, loss: 0.5719:   3%|▎         | 235/6741 [03:31<2:10:40,  1.21s/it]"
     ]
    },
    {
     "name": "stdout",
     "output_type": "stream",
     "text": [
      "Starting epoch 0 step 235 at time 2024-05-17 19:15:27.545133\n",
      "getting the data and setting to device\n",
      "Performing forward pass\n",
      "Calculating loss\n",
      "Loss calculated: 0.4057455360889435\n",
      "Performing step in optimizer and propagating loss backgwards\n"
     ]
    },
    {
     "name": "stderr",
     "output_type": "stream",
     "text": [
      "Epoch 0 at 2024-05-17 19:15:27, loss: 0.4057:   4%|▎         | 236/6741 [03:31<1:45:50,  1.02it/s]"
     ]
    },
    {
     "name": "stdout",
     "output_type": "stream",
     "text": [
      "Starting epoch 0 step 236 at time 2024-05-17 19:15:27.987083\n",
      "getting the data and setting to device\n",
      "Performing forward pass\n",
      "Calculating loss\n",
      "Loss calculated: 0.4752732515335083\n",
      "Performing step in optimizer and propagating loss backgwards\n"
     ]
    },
    {
     "name": "stderr",
     "output_type": "stream",
     "text": [
      "Epoch 0 at 2024-05-17 19:15:28, loss: 0.4753:   4%|▎         | 237/6741 [03:32<1:28:50,  1.22it/s]"
     ]
    },
    {
     "name": "stdout",
     "output_type": "stream",
     "text": [
      "Starting epoch 0 step 237 at time 2024-05-17 19:15:29.103672\n",
      "getting the data and setting to device\n",
      "Performing forward pass\n",
      "Calculating loss\n",
      "Loss calculated: 0.4209901690483093\n",
      "Performing step in optimizer and propagating loss backgwards\n"
     ]
    },
    {
     "name": "stderr",
     "output_type": "stream",
     "text": [
      "Epoch 0 at 2024-05-17 19:15:29, loss: 0.4210:   4%|▎         | 238/6741 [03:33<1:38:05,  1.10it/s]"
     ]
    },
    {
     "name": "stdout",
     "output_type": "stream",
     "text": [
      "Starting epoch 0 step 238 at time 2024-05-17 19:15:30.477553\n",
      "getting the data and setting to device\n",
      "Performing forward pass\n",
      "Calculating loss\n",
      "Loss calculated: 0.5683602690696716\n",
      "Performing step in optimizer and propagating loss backgwards\n"
     ]
    },
    {
     "name": "stderr",
     "output_type": "stream",
     "text": [
      "Epoch 0 at 2024-05-17 19:15:30, loss: 0.5684:   4%|▎         | 239/6741 [03:34<1:53:31,  1.05s/it]"
     ]
    },
    {
     "name": "stdout",
     "output_type": "stream",
     "text": [
      "Starting epoch 0 step 239 at time 2024-05-17 19:15:30.925938\n",
      "getting the data and setting to device\n",
      "Performing forward pass\n",
      "Calculating loss\n",
      "Loss calculated: 0.7651339769363403\n",
      "Performing step in optimizer and propagating loss backgwards\n"
     ]
    },
    {
     "name": "stderr",
     "output_type": "stream",
     "text": [
      "Epoch 0 at 2024-05-17 19:15:31, loss: 0.7651:   4%|▎         | 240/6741 [03:35<1:34:11,  1.15it/s]"
     ]
    },
    {
     "name": "stdout",
     "output_type": "stream",
     "text": [
      "Starting epoch 0 step 240 at time 2024-05-17 19:15:31.379924\n",
      "getting the data and setting to device\n",
      "Performing forward pass\n",
      "Calculating loss\n",
      "Loss calculated: 0.47302231192588806\n",
      "Performing step in optimizer and propagating loss backgwards\n"
     ]
    },
    {
     "name": "stderr",
     "output_type": "stream",
     "text": [
      "Epoch 0 at 2024-05-17 19:15:31, loss: 0.4730:   4%|▎         | 241/6741 [03:35<1:20:26,  1.35it/s]"
     ]
    },
    {
     "name": "stdout",
     "output_type": "stream",
     "text": [
      "Starting epoch 0 step 241 at time 2024-05-17 19:15:33.417285\n",
      "getting the data and setting to device\n",
      "Performing forward pass\n",
      "Calculating loss\n",
      "Loss calculated: 0.44622868299484253\n",
      "Performing step in optimizer and propagating loss backgwards\n"
     ]
    },
    {
     "name": "stderr",
     "output_type": "stream",
     "text": [
      "Epoch 0 at 2024-05-17 19:15:33, loss: 0.4462:   4%|▎         | 242/6741 [03:37<2:03:02,  1.14s/it]"
     ]
    },
    {
     "name": "stdout",
     "output_type": "stream",
     "text": [
      "Starting epoch 0 step 242 at time 2024-05-17 19:15:34.211921\n",
      "getting the data and setting to device\n",
      "Performing forward pass\n",
      "Calculating loss\n",
      "Loss calculated: 0.4169694781303406\n",
      "Performing step in optimizer and propagating loss backgwards\n"
     ]
    },
    {
     "name": "stderr",
     "output_type": "stream",
     "text": [
      "Epoch 0 at 2024-05-17 19:15:34, loss: 0.4170:   4%|▎         | 243/6741 [03:38<1:51:10,  1.03s/it]"
     ]
    },
    {
     "name": "stdout",
     "output_type": "stream",
     "text": [
      "Starting epoch 0 step 243 at time 2024-05-17 19:15:34.651925\n",
      "getting the data and setting to device\n",
      "Performing forward pass\n",
      "Calculating loss\n",
      "Loss calculated: 0.38403329253196716\n",
      "Performing step in optimizer and propagating loss backgwards\n"
     ]
    },
    {
     "name": "stderr",
     "output_type": "stream",
     "text": [
      "Epoch 0 at 2024-05-17 19:15:35, loss: 0.3840:   4%|▎         | 244/6741 [03:39<1:32:59,  1.16it/s]"
     ]
    },
    {
     "name": "stdout",
     "output_type": "stream",
     "text": [
      "Starting epoch 0 step 244 at time 2024-05-17 19:15:35.118321\n",
      "getting the data and setting to device\n",
      "Performing forward pass\n",
      "Calculating loss\n",
      "Loss calculated: 0.4683619737625122\n",
      "Performing step in optimizer and propagating loss backgwards\n"
     ]
    },
    {
     "name": "stderr",
     "output_type": "stream",
     "text": [
      "Epoch 0 at 2024-05-17 19:15:35, loss: 0.4684:   4%|▎         | 245/6741 [03:39<1:20:12,  1.35it/s]"
     ]
    },
    {
     "name": "stdout",
     "output_type": "stream",
     "text": [
      "Starting epoch 0 step 245 at time 2024-05-17 19:15:37.339264\n",
      "getting the data and setting to device\n",
      "Performing forward pass\n",
      "Calculating loss\n",
      "Loss calculated: 0.3669695258140564\n",
      "Performing step in optimizer and propagating loss backgwards\n"
     ]
    },
    {
     "name": "stderr",
     "output_type": "stream",
     "text": [
      "Epoch 0 at 2024-05-17 19:15:37, loss: 0.3670:   4%|▎         | 246/6741 [03:41<2:07:40,  1.18s/it]"
     ]
    },
    {
     "name": "stdout",
     "output_type": "stream",
     "text": [
      "Starting epoch 0 step 246 at time 2024-05-17 19:15:38.380159\n",
      "getting the data and setting to device\n",
      "Performing forward pass\n",
      "Calculating loss\n",
      "Loss calculated: 0.43519988656044006\n",
      "Performing step in optimizer and propagating loss backgwards\n"
     ]
    },
    {
     "name": "stderr",
     "output_type": "stream",
     "text": [
      "Epoch 0 at 2024-05-17 19:15:38, loss: 0.4352:   4%|▎         | 247/6741 [03:42<2:03:20,  1.14s/it]"
     ]
    },
    {
     "name": "stdout",
     "output_type": "stream",
     "text": [
      "Starting epoch 0 step 247 at time 2024-05-17 19:15:38.834919\n",
      "getting the data and setting to device\n",
      "Performing forward pass\n",
      "Calculating loss\n",
      "Loss calculated: 0.6021190881729126\n",
      "Performing step in optimizer and propagating loss backgwards\n"
     ]
    },
    {
     "name": "stderr",
     "output_type": "stream",
     "text": [
      "Epoch 0 at 2024-05-17 19:15:39, loss: 0.6021:   4%|▎         | 248/6741 [03:43<1:40:57,  1.07it/s]"
     ]
    },
    {
     "name": "stdout",
     "output_type": "stream",
     "text": [
      "Starting epoch 0 step 248 at time 2024-05-17 19:15:39.284671\n",
      "getting the data and setting to device\n",
      "Performing forward pass\n",
      "Calculating loss\n",
      "Loss calculated: 0.3968012034893036\n",
      "Performing step in optimizer and propagating loss backgwards\n"
     ]
    },
    {
     "name": "stderr",
     "output_type": "stream",
     "text": [
      "Epoch 0 at 2024-05-17 19:15:39, loss: 0.3968:   4%|▎         | 249/6741 [03:43<1:25:28,  1.27it/s]"
     ]
    },
    {
     "name": "stdout",
     "output_type": "stream",
     "text": [
      "Starting epoch 0 step 249 at time 2024-05-17 19:15:41.053168\n",
      "getting the data and setting to device\n",
      "Performing forward pass\n",
      "Calculating loss\n",
      "Loss calculated: 0.528917133808136\n",
      "Performing step in optimizer and propagating loss backgwards\n"
     ]
    },
    {
     "name": "stderr",
     "output_type": "stream",
     "text": [
      "Epoch 0 at 2024-05-17 19:15:41, loss: 0.5289:   4%|▎         | 250/6741 [03:45<1:57:09,  1.08s/it]"
     ]
    },
    {
     "name": "stdout",
     "output_type": "stream",
     "text": [
      "Starting epoch 0 step 250 at time 2024-05-17 19:15:41.868585\n",
      "getting the data and setting to device\n",
      "Performing forward pass\n",
      "Calculating loss\n",
      "Loss calculated: 0.5904732346534729\n",
      "Performing step in optimizer and propagating loss backgwards\n"
     ]
    },
    {
     "name": "stderr",
     "output_type": "stream",
     "text": [
      "Epoch 0 at 2024-05-17 19:15:42, loss: 0.5905:   4%|▎         | 251/6741 [03:46<1:48:37,  1.00s/it]"
     ]
    },
    {
     "name": "stdout",
     "output_type": "stream",
     "text": [
      "Starting epoch 0 step 251 at time 2024-05-17 19:15:42.327386\n",
      "getting the data and setting to device\n",
      "Performing forward pass\n",
      "Calculating loss\n",
      "Loss calculated: 0.4987322986125946\n",
      "Performing step in optimizer and propagating loss backgwards\n"
     ]
    },
    {
     "name": "stderr",
     "output_type": "stream",
     "text": [
      "Epoch 0 at 2024-05-17 19:15:42, loss: 0.4987:   4%|▎         | 252/6741 [03:46<1:30:45,  1.19it/s]"
     ]
    },
    {
     "name": "stdout",
     "output_type": "stream",
     "text": [
      "Starting epoch 0 step 252 at time 2024-05-17 19:15:42.781868\n",
      "getting the data and setting to device\n",
      "Performing forward pass\n",
      "Calculating loss\n",
      "Loss calculated: 0.4178975522518158\n",
      "Performing step in optimizer and propagating loss backgwards\n"
     ]
    },
    {
     "name": "stderr",
     "output_type": "stream",
     "text": [
      "Epoch 0 at 2024-05-17 19:15:43, loss: 0.4179:   4%|▍         | 253/6741 [03:47<1:18:44,  1.37it/s]"
     ]
    },
    {
     "name": "stdout",
     "output_type": "stream",
     "text": [
      "Starting epoch 0 step 253 at time 2024-05-17 19:15:45.086958\n",
      "getting the data and setting to device\n",
      "Performing forward pass\n",
      "Calculating loss\n",
      "Loss calculated: 0.48845523595809937\n",
      "Performing step in optimizer and propagating loss backgwards\n"
     ]
    },
    {
     "name": "stderr",
     "output_type": "stream",
     "text": [
      "Epoch 0 at 2024-05-17 19:15:45, loss: 0.4885:   4%|▍         | 254/6741 [03:49<2:09:03,  1.19s/it]"
     ]
    },
    {
     "name": "stdout",
     "output_type": "stream",
     "text": [
      "Starting epoch 0 step 254 at time 2024-05-17 19:15:46.110174\n",
      "getting the data and setting to device\n",
      "Performing forward pass\n",
      "Calculating loss\n",
      "Loss calculated: 0.5912725925445557\n",
      "Performing step in optimizer and propagating loss backgwards\n"
     ]
    },
    {
     "name": "stderr",
     "output_type": "stream",
     "text": [
      "Epoch 0 at 2024-05-17 19:15:46, loss: 0.5913:   4%|▍         | 255/6741 [03:50<2:03:22,  1.14s/it]"
     ]
    },
    {
     "name": "stdout",
     "output_type": "stream",
     "text": [
      "Starting epoch 0 step 255 at time 2024-05-17 19:15:46.550054\n",
      "getting the data and setting to device\n",
      "Performing forward pass\n",
      "Calculating loss\n",
      "Loss calculated: 0.5961762070655823\n",
      "Performing step in optimizer and propagating loss backgwards\n"
     ]
    },
    {
     "name": "stderr",
     "output_type": "stream",
     "text": [
      "Epoch 0 at 2024-05-17 19:15:46, loss: 0.5962:   4%|▍         | 256/6741 [03:50<1:40:53,  1.07it/s]"
     ]
    },
    {
     "name": "stdout",
     "output_type": "stream",
     "text": [
      "Starting epoch 0 step 256 at time 2024-05-17 19:15:46.999377\n",
      "getting the data and setting to device\n",
      "Performing forward pass\n",
      "Calculating loss\n",
      "Loss calculated: 0.44273340702056885\n",
      "Performing step in optimizer and propagating loss backgwards\n"
     ]
    },
    {
     "name": "stderr",
     "output_type": "stream",
     "text": [
      "Epoch 0 at 2024-05-17 19:15:47, loss: 0.4427:   4%|▍         | 257/6741 [03:51<1:24:58,  1.27it/s]"
     ]
    },
    {
     "name": "stdout",
     "output_type": "stream",
     "text": [
      "Starting epoch 0 step 257 at time 2024-05-17 19:15:48.914841\n",
      "getting the data and setting to device\n",
      "Performing forward pass\n",
      "Calculating loss\n",
      "Loss calculated: 0.3885962963104248\n",
      "Performing step in optimizer and propagating loss backgwards\n"
     ]
    },
    {
     "name": "stderr",
     "output_type": "stream",
     "text": [
      "Epoch 0 at 2024-05-17 19:15:49, loss: 0.3886:   4%|▍         | 258/6741 [03:53<2:01:46,  1.13s/it]"
     ]
    },
    {
     "name": "stdout",
     "output_type": "stream",
     "text": [
      "Starting epoch 0 step 258 at time 2024-05-17 19:15:49.896689\n",
      "getting the data and setting to device\n",
      "Performing forward pass\n",
      "Calculating loss\n",
      "Loss calculated: 0.47704654932022095\n",
      "Performing step in optimizer and propagating loss backgwards\n"
     ]
    },
    {
     "name": "stderr",
     "output_type": "stream",
     "text": [
      "Epoch 0 at 2024-05-17 19:15:50, loss: 0.4770:   4%|▍         | 259/6741 [03:54<1:57:32,  1.09s/it]"
     ]
    },
    {
     "name": "stdout",
     "output_type": "stream",
     "text": [
      "Starting epoch 0 step 259 at time 2024-05-17 19:15:50.360722\n",
      "getting the data and setting to device\n",
      "Performing forward pass\n",
      "Calculating loss\n",
      "Loss calculated: 0.5813688039779663\n",
      "Performing step in optimizer and propagating loss backgwards\n"
     ]
    },
    {
     "name": "stderr",
     "output_type": "stream",
     "text": [
      "Epoch 0 at 2024-05-17 19:15:50, loss: 0.5814:   4%|▍         | 260/6741 [03:54<1:37:11,  1.11it/s]"
     ]
    },
    {
     "name": "stdout",
     "output_type": "stream",
     "text": [
      "Starting epoch 0 step 260 at time 2024-05-17 19:15:50.821893\n",
      "getting the data and setting to device\n",
      "Performing forward pass\n",
      "Calculating loss\n",
      "Loss calculated: 0.2569636106491089\n",
      "Performing step in optimizer and propagating loss backgwards\n"
     ]
    },
    {
     "name": "stderr",
     "output_type": "stream",
     "text": [
      "Epoch 0 at 2024-05-17 19:15:51, loss: 0.2570:   4%|▍         | 261/6741 [03:55<1:23:14,  1.30it/s]"
     ]
    },
    {
     "name": "stdout",
     "output_type": "stream",
     "text": [
      "Starting epoch 0 step 261 at time 2024-05-17 19:15:53.123415\n",
      "getting the data and setting to device\n",
      "Performing forward pass\n",
      "Calculating loss\n",
      "Loss calculated: 0.5900411605834961\n",
      "Performing step in optimizer and propagating loss backgwards\n"
     ]
    },
    {
     "name": "stderr",
     "output_type": "stream",
     "text": [
      "Epoch 0 at 2024-05-17 19:15:53, loss: 0.5900:   4%|▍         | 262/6741 [03:57<2:12:07,  1.22s/it]"
     ]
    },
    {
     "name": "stdout",
     "output_type": "stream",
     "text": [
      "Starting epoch 0 step 262 at time 2024-05-17 19:15:53.672088\n",
      "getting the data and setting to device\n",
      "Performing forward pass\n",
      "Calculating loss\n",
      "Loss calculated: 0.5206067562103271\n",
      "Performing step in optimizer and propagating loss backgwards\n"
     ]
    },
    {
     "name": "stderr",
     "output_type": "stream",
     "text": [
      "Epoch 0 at 2024-05-17 19:15:54, loss: 0.5206:   4%|▍         | 263/6741 [03:58<1:49:53,  1.02s/it]"
     ]
    },
    {
     "name": "stdout",
     "output_type": "stream",
     "text": [
      "Starting epoch 0 step 263 at time 2024-05-17 19:15:54.108061\n",
      "getting the data and setting to device\n",
      "Performing forward pass\n",
      "Calculating loss\n",
      "Loss calculated: 0.45630502700805664\n",
      "Performing step in optimizer and propagating loss backgwards\n"
     ]
    },
    {
     "name": "stderr",
     "output_type": "stream",
     "text": [
      "Epoch 0 at 2024-05-17 19:15:54, loss: 0.4563:   4%|▍         | 264/6741 [03:58<1:31:03,  1.19it/s]"
     ]
    },
    {
     "name": "stdout",
     "output_type": "stream",
     "text": [
      "Starting epoch 0 step 264 at time 2024-05-17 19:15:54.545306\n",
      "getting the data and setting to device\n",
      "Performing forward pass\n",
      "Calculating loss\n",
      "Loss calculated: 0.6062893867492676\n",
      "Performing step in optimizer and propagating loss backgwards\n"
     ]
    },
    {
     "name": "stderr",
     "output_type": "stream",
     "text": [
      "Epoch 0 at 2024-05-17 19:15:54, loss: 0.6063:   4%|▍         | 265/6741 [03:58<1:17:45,  1.39it/s]"
     ]
    },
    {
     "name": "stdout",
     "output_type": "stream",
     "text": [
      "Starting epoch 0 step 265 at time 2024-05-17 19:15:56.911468\n",
      "getting the data and setting to device\n",
      "Performing forward pass\n",
      "Calculating loss\n",
      "Loss calculated: 0.5692073106765747\n",
      "Performing step in optimizer and propagating loss backgwards\n"
     ]
    },
    {
     "name": "stderr",
     "output_type": "stream",
     "text": [
      "Epoch 0 at 2024-05-17 19:15:57, loss: 0.5692:   4%|▍         | 266/6741 [04:01<2:10:48,  1.21s/it]"
     ]
    },
    {
     "name": "stdout",
     "output_type": "stream",
     "text": [
      "Starting epoch 0 step 266 at time 2024-05-17 19:15:57.400476\n",
      "getting the data and setting to device\n",
      "Performing forward pass\n",
      "Calculating loss\n",
      "Loss calculated: 0.542228102684021\n",
      "Performing step in optimizer and propagating loss backgwards\n"
     ]
    },
    {
     "name": "stderr",
     "output_type": "stream",
     "text": [
      "Epoch 0 at 2024-05-17 19:15:57, loss: 0.5422:   4%|▍         | 267/6741 [04:01<1:48:10,  1.00s/it]"
     ]
    },
    {
     "name": "stdout",
     "output_type": "stream",
     "text": [
      "Starting epoch 0 step 267 at time 2024-05-17 19:15:57.851648\n",
      "getting the data and setting to device\n",
      "Performing forward pass\n",
      "Calculating loss\n",
      "Loss calculated: 0.4368170499801636\n",
      "Performing step in optimizer and propagating loss backgwards\n"
     ]
    },
    {
     "name": "stderr",
     "output_type": "stream",
     "text": [
      "Epoch 0 at 2024-05-17 19:15:58, loss: 0.4368:   4%|▍         | 268/6741 [04:02<1:30:17,  1.19it/s]"
     ]
    },
    {
     "name": "stdout",
     "output_type": "stream",
     "text": [
      "Starting epoch 0 step 268 at time 2024-05-17 19:15:58.301780\n",
      "getting the data and setting to device\n",
      "Performing forward pass\n",
      "Calculating loss\n",
      "Loss calculated: 0.5592796802520752\n",
      "Performing step in optimizer and propagating loss backgwards\n"
     ]
    },
    {
     "name": "stderr",
     "output_type": "stream",
     "text": [
      "Epoch 0 at 2024-05-17 19:15:58, loss: 0.5593:   4%|▍         | 269/6741 [04:02<1:17:32,  1.39it/s]"
     ]
    },
    {
     "name": "stdout",
     "output_type": "stream",
     "text": [
      "Starting epoch 0 step 269 at time 2024-05-17 19:16:00.276591\n",
      "getting the data and setting to device\n",
      "Performing forward pass\n",
      "Calculating loss\n",
      "Loss calculated: 0.5736325979232788\n",
      "Performing step in optimizer and propagating loss backgwards\n"
     ]
    },
    {
     "name": "stderr",
     "output_type": "stream",
     "text": [
      "Epoch 0 at 2024-05-17 19:16:00, loss: 0.5736:   4%|▍         | 270/6741 [04:04<1:58:20,  1.10s/it]"
     ]
    },
    {
     "name": "stdout",
     "output_type": "stream",
     "text": [
      "Starting epoch 0 step 270 at time 2024-05-17 19:16:01.273048\n",
      "getting the data and setting to device\n",
      "Performing forward pass\n",
      "Calculating loss\n",
      "Loss calculated: 0.4563908278942108\n",
      "Performing step in optimizer and propagating loss backgwards\n"
     ]
    },
    {
     "name": "stderr",
     "output_type": "stream",
     "text": [
      "Epoch 0 at 2024-05-17 19:16:01, loss: 0.4564:   4%|▍         | 271/6741 [04:05<1:55:28,  1.07s/it]"
     ]
    },
    {
     "name": "stdout",
     "output_type": "stream",
     "text": [
      "Starting epoch 0 step 271 at time 2024-05-17 19:16:01.734841\n",
      "getting the data and setting to device\n",
      "Performing forward pass\n",
      "Calculating loss\n",
      "Loss calculated: 0.4541403353214264\n",
      "Performing step in optimizer and propagating loss backgwards\n"
     ]
    },
    {
     "name": "stderr",
     "output_type": "stream",
     "text": [
      "Epoch 0 at 2024-05-17 19:16:02, loss: 0.4541:   4%|▍         | 272/6741 [04:06<1:35:22,  1.13it/s]"
     ]
    },
    {
     "name": "stdout",
     "output_type": "stream",
     "text": [
      "Starting epoch 0 step 272 at time 2024-05-17 19:16:02.184974\n",
      "getting the data and setting to device\n",
      "Performing forward pass\n",
      "Calculating loss\n",
      "Loss calculated: 0.48604169487953186\n",
      "Performing step in optimizer and propagating loss backgwards\n"
     ]
    },
    {
     "name": "stderr",
     "output_type": "stream",
     "text": [
      "Epoch 0 at 2024-05-17 19:16:02, loss: 0.4860:   4%|▍         | 273/6741 [04:06<1:21:56,  1.32it/s]"
     ]
    },
    {
     "name": "stdout",
     "output_type": "stream",
     "text": [
      "Starting epoch 0 step 273 at time 2024-05-17 19:16:03.899033\n",
      "getting the data and setting to device\n",
      "Performing forward pass\n",
      "Calculating loss\n",
      "Loss calculated: 0.5026223659515381\n",
      "Performing step in optimizer and propagating loss backgwards\n"
     ]
    },
    {
     "name": "stderr",
     "output_type": "stream",
     "text": [
      "Epoch 0 at 2024-05-17 19:16:04, loss: 0.5026:   4%|▍         | 274/6741 [04:08<1:52:06,  1.04s/it]"
     ]
    },
    {
     "name": "stdout",
     "output_type": "stream",
     "text": [
      "Starting epoch 0 step 274 at time 2024-05-17 19:16:04.834181\n",
      "getting the data and setting to device\n",
      "Performing forward pass\n",
      "Calculating loss\n",
      "Loss calculated: 0.5843571424484253\n",
      "Performing step in optimizer and propagating loss backgwards\n"
     ]
    },
    {
     "name": "stderr",
     "output_type": "stream",
     "text": [
      "Epoch 0 at 2024-05-17 19:16:05, loss: 0.5844:   4%|▍         | 275/6741 [04:09<1:48:42,  1.01s/it]"
     ]
    },
    {
     "name": "stdout",
     "output_type": "stream",
     "text": [
      "Starting epoch 0 step 275 at time 2024-05-17 19:16:05.283361\n",
      "getting the data and setting to device\n",
      "Performing forward pass\n",
      "Calculating loss\n",
      "Loss calculated: 0.5383477807044983\n",
      "Performing step in optimizer and propagating loss backgwards\n"
     ]
    },
    {
     "name": "stderr",
     "output_type": "stream",
     "text": [
      "Epoch 0 at 2024-05-17 19:16:05, loss: 0.5383:   4%|▍         | 276/6741 [04:09<1:30:47,  1.19it/s]"
     ]
    },
    {
     "name": "stdout",
     "output_type": "stream",
     "text": [
      "Starting epoch 0 step 276 at time 2024-05-17 19:16:05.738462\n",
      "getting the data and setting to device\n",
      "Performing forward pass\n",
      "Calculating loss\n",
      "Loss calculated: 0.43710601329803467\n",
      "Performing step in optimizer and propagating loss backgwards\n"
     ]
    },
    {
     "name": "stderr",
     "output_type": "stream",
     "text": [
      "Epoch 0 at 2024-05-17 19:16:06, loss: 0.4371:   4%|▍         | 277/6741 [04:10<1:18:11,  1.38it/s]"
     ]
    },
    {
     "name": "stdout",
     "output_type": "stream",
     "text": [
      "Starting epoch 0 step 277 at time 2024-05-17 19:16:07.937724\n",
      "getting the data and setting to device\n",
      "Performing forward pass\n",
      "Calculating loss\n",
      "Loss calculated: 0.4529528021812439\n",
      "Performing step in optimizer and propagating loss backgwards\n"
     ]
    },
    {
     "name": "stderr",
     "output_type": "stream",
     "text": [
      "Epoch 0 at 2024-05-17 19:16:08, loss: 0.4530:   4%|▍         | 278/6741 [04:12<2:06:03,  1.17s/it]"
     ]
    },
    {
     "name": "stdout",
     "output_type": "stream",
     "text": [
      "Starting epoch 0 step 278 at time 2024-05-17 19:16:09.043256\n",
      "getting the data and setting to device\n",
      "Performing forward pass\n",
      "Calculating loss\n",
      "Loss calculated: 0.4622765779495239\n",
      "Performing step in optimizer and propagating loss backgwards\n"
     ]
    },
    {
     "name": "stderr",
     "output_type": "stream",
     "text": [
      "Epoch 0 at 2024-05-17 19:16:09, loss: 0.4623:   4%|▍         | 279/6741 [04:13<2:03:36,  1.15s/it]"
     ]
    },
    {
     "name": "stdout",
     "output_type": "stream",
     "text": [
      "Starting epoch 0 step 279 at time 2024-05-17 19:16:09.493690\n",
      "getting the data and setting to device\n",
      "Performing forward pass\n",
      "Calculating loss\n",
      "Loss calculated: 0.5454593896865845\n",
      "Performing step in optimizer and propagating loss backgwards\n"
     ]
    },
    {
     "name": "stderr",
     "output_type": "stream",
     "text": [
      "Epoch 0 at 2024-05-17 19:16:09, loss: 0.5455:   4%|▍         | 280/6741 [04:13<1:40:49,  1.07it/s]"
     ]
    },
    {
     "name": "stdout",
     "output_type": "stream",
     "text": [
      "Starting epoch 0 step 280 at time 2024-05-17 19:16:09.936824\n",
      "getting the data and setting to device\n",
      "Performing forward pass\n",
      "Calculating loss\n",
      "Loss calculated: 0.34328144788742065\n",
      "Performing step in optimizer and propagating loss backgwards\n"
     ]
    },
    {
     "name": "stderr",
     "output_type": "stream",
     "text": [
      "Epoch 0 at 2024-05-17 19:16:10, loss: 0.3433:   4%|▍         | 281/6741 [04:14<1:24:47,  1.27it/s]"
     ]
    },
    {
     "name": "stdout",
     "output_type": "stream",
     "text": [
      "Starting epoch 0 step 281 at time 2024-05-17 19:16:11.897261\n",
      "getting the data and setting to device\n",
      "Performing forward pass\n",
      "Calculating loss\n",
      "Loss calculated: 0.533912181854248\n",
      "Performing step in optimizer and propagating loss backgwards\n"
     ]
    },
    {
     "name": "stderr",
     "output_type": "stream",
     "text": [
      "Epoch 0 at 2024-05-17 19:16:12, loss: 0.5339:   4%|▍         | 282/6741 [04:16<2:03:14,  1.14s/it]"
     ]
    },
    {
     "name": "stdout",
     "output_type": "stream",
     "text": [
      "Starting epoch 0 step 282 at time 2024-05-17 19:16:12.824230\n",
      "getting the data and setting to device\n",
      "Performing forward pass\n",
      "Calculating loss\n",
      "Loss calculated: 0.4379820227622986\n",
      "Performing step in optimizer and propagating loss backgwards\n"
     ]
    },
    {
     "name": "stderr",
     "output_type": "stream",
     "text": [
      "Epoch 0 at 2024-05-17 19:16:13, loss: 0.4380:   4%|▍         | 283/6741 [04:17<1:56:01,  1.08s/it]"
     ]
    },
    {
     "name": "stdout",
     "output_type": "stream",
     "text": [
      "Starting epoch 0 step 283 at time 2024-05-17 19:16:13.278990\n",
      "getting the data and setting to device\n",
      "Performing forward pass\n",
      "Calculating loss\n",
      "Loss calculated: 0.4500695765018463\n",
      "Performing step in optimizer and propagating loss backgwards\n"
     ]
    },
    {
     "name": "stderr",
     "output_type": "stream",
     "text": [
      "Epoch 0 at 2024-05-17 19:16:13, loss: 0.4501:   4%|▍         | 284/6741 [04:17<1:35:32,  1.13it/s]"
     ]
    },
    {
     "name": "stdout",
     "output_type": "stream",
     "text": [
      "Starting epoch 0 step 284 at time 2024-05-17 19:16:13.722500\n",
      "getting the data and setting to device\n",
      "Performing forward pass\n",
      "Calculating loss\n",
      "Loss calculated: 0.5971547365188599\n",
      "Performing step in optimizer and propagating loss backgwards\n"
     ]
    },
    {
     "name": "stderr",
     "output_type": "stream",
     "text": [
      "Epoch 0 at 2024-05-17 19:16:14, loss: 0.5972:   4%|▍         | 285/6741 [04:18<1:22:09,  1.31it/s]"
     ]
    },
    {
     "name": "stdout",
     "output_type": "stream",
     "text": [
      "Starting epoch 0 step 285 at time 2024-05-17 19:16:15.692470\n",
      "getting the data and setting to device\n",
      "Performing forward pass\n",
      "Calculating loss\n",
      "Loss calculated: 0.48042941093444824\n",
      "Performing step in optimizer and propagating loss backgwards\n"
     ]
    },
    {
     "name": "stderr",
     "output_type": "stream",
     "text": [
      "Epoch 0 at 2024-05-17 19:16:16, loss: 0.4804:   4%|▍         | 286/6741 [04:20<2:00:17,  1.12s/it]"
     ]
    },
    {
     "name": "stdout",
     "output_type": "stream",
     "text": [
      "Starting epoch 0 step 286 at time 2024-05-17 19:16:16.513307\n",
      "getting the data and setting to device\n",
      "Performing forward pass\n",
      "Calculating loss\n",
      "Loss calculated: 0.4915507137775421\n",
      "Performing step in optimizer and propagating loss backgwards\n"
     ]
    },
    {
     "name": "stderr",
     "output_type": "stream",
     "text": [
      "Epoch 0 at 2024-05-17 19:16:16, loss: 0.4916:   4%|▍         | 287/6741 [04:20<1:50:38,  1.03s/it]"
     ]
    },
    {
     "name": "stdout",
     "output_type": "stream",
     "text": [
      "Starting epoch 0 step 287 at time 2024-05-17 19:16:16.961704\n",
      "getting the data and setting to device\n",
      "Performing forward pass\n",
      "Calculating loss\n",
      "Loss calculated: 0.4574147164821625\n",
      "Performing step in optimizer and propagating loss backgwards\n"
     ]
    },
    {
     "name": "stderr",
     "output_type": "stream",
     "text": [
      "Epoch 0 at 2024-05-17 19:16:17, loss: 0.4574:   4%|▍         | 288/6741 [04:21<1:31:13,  1.18it/s]"
     ]
    },
    {
     "name": "stdout",
     "output_type": "stream",
     "text": [
      "Starting epoch 0 step 288 at time 2024-05-17 19:16:17.387866\n",
      "getting the data and setting to device\n",
      "Performing forward pass\n",
      "Calculating loss\n",
      "Loss calculated: 0.5387465953826904\n",
      "Performing step in optimizer and propagating loss backgwards\n"
     ]
    },
    {
     "name": "stderr",
     "output_type": "stream",
     "text": [
      "Epoch 0 at 2024-05-17 19:16:17, loss: 0.5387:   4%|▍         | 289/6741 [04:21<1:18:15,  1.37it/s]"
     ]
    },
    {
     "name": "stdout",
     "output_type": "stream",
     "text": [
      "Starting epoch 0 step 289 at time 2024-05-17 19:16:20.076109\n",
      "getting the data and setting to device\n",
      "Performing forward pass\n",
      "Calculating loss\n",
      "Loss calculated: 0.42169439792633057\n",
      "Performing step in optimizer and propagating loss backgwards\n"
     ]
    },
    {
     "name": "stderr",
     "output_type": "stream",
     "text": [
      "Epoch 0 at 2024-05-17 19:16:20, loss: 0.4217:   4%|▍         | 290/6741 [04:24<2:21:24,  1.32s/it]"
     ]
    },
    {
     "name": "stdout",
     "output_type": "stream",
     "text": [
      "Starting epoch 0 step 290 at time 2024-05-17 19:16:20.520654\n",
      "getting the data and setting to device\n",
      "Performing forward pass\n",
      "Calculating loss\n",
      "Loss calculated: 0.732143759727478\n",
      "Performing step in optimizer and propagating loss backgwards\n"
     ]
    },
    {
     "name": "stderr",
     "output_type": "stream",
     "text": [
      "Epoch 0 at 2024-05-17 19:16:20, loss: 0.7321:   4%|▍         | 291/6741 [04:24<1:53:56,  1.06s/it]"
     ]
    },
    {
     "name": "stdout",
     "output_type": "stream",
     "text": [
      "Starting epoch 0 step 291 at time 2024-05-17 19:16:20.985237\n",
      "getting the data and setting to device\n",
      "Performing forward pass\n",
      "Calculating loss\n",
      "Loss calculated: 0.4896082878112793\n",
      "Performing step in optimizer and propagating loss backgwards\n"
     ]
    },
    {
     "name": "stderr",
     "output_type": "stream",
     "text": [
      "Epoch 0 at 2024-05-17 19:16:21, loss: 0.4896:   4%|▍         | 292/6741 [04:25<1:34:22,  1.14it/s]"
     ]
    },
    {
     "name": "stdout",
     "output_type": "stream",
     "text": [
      "Starting epoch 0 step 292 at time 2024-05-17 19:16:21.439080\n",
      "getting the data and setting to device\n",
      "Performing forward pass\n",
      "Calculating loss\n",
      "Loss calculated: 0.5715386271476746\n",
      "Performing step in optimizer and propagating loss backgwards\n"
     ]
    },
    {
     "name": "stderr",
     "output_type": "stream",
     "text": [
      "Epoch 0 at 2024-05-17 19:16:21, loss: 0.5715:   4%|▍         | 293/6741 [04:25<1:20:45,  1.33it/s]"
     ]
    },
    {
     "name": "stdout",
     "output_type": "stream",
     "text": [
      "Starting epoch 0 step 293 at time 2024-05-17 19:16:24.152447\n",
      "getting the data and setting to device\n",
      "Performing forward pass\n",
      "Calculating loss\n",
      "Loss calculated: 0.5239145159721375\n",
      "Performing step in optimizer and propagating loss backgwards\n"
     ]
    },
    {
     "name": "stderr",
     "output_type": "stream",
     "text": [
      "Epoch 0 at 2024-05-17 19:16:24, loss: 0.5239:   4%|▍         | 294/6741 [04:28<2:23:45,  1.34s/it]"
     ]
    },
    {
     "name": "stdout",
     "output_type": "stream",
     "text": [
      "Starting epoch 0 step 294 at time 2024-05-17 19:16:24.601944\n",
      "getting the data and setting to device\n",
      "Performing forward pass\n",
      "Calculating loss\n",
      "Loss calculated: 0.5647894740104675\n",
      "Performing step in optimizer and propagating loss backgwards\n"
     ]
    },
    {
     "name": "stderr",
     "output_type": "stream",
     "text": [
      "Epoch 0 at 2024-05-17 19:16:25, loss: 0.5648:   4%|▍         | 295/6741 [04:28<1:55:15,  1.07s/it]"
     ]
    },
    {
     "name": "stdout",
     "output_type": "stream",
     "text": [
      "Starting epoch 0 step 295 at time 2024-05-17 19:16:25.055863\n",
      "getting the data and setting to device\n",
      "Performing forward pass\n",
      "Calculating loss\n",
      "Loss calculated: 0.39826202392578125\n",
      "Performing step in optimizer and propagating loss backgwards\n"
     ]
    },
    {
     "name": "stderr",
     "output_type": "stream",
     "text": [
      "Epoch 0 at 2024-05-17 19:16:25, loss: 0.3983:   4%|▍         | 296/6741 [04:29<1:34:54,  1.13it/s]"
     ]
    },
    {
     "name": "stdout",
     "output_type": "stream",
     "text": [
      "Starting epoch 0 step 296 at time 2024-05-17 19:16:25.497929\n",
      "getting the data and setting to device\n",
      "Performing forward pass\n",
      "Calculating loss\n",
      "Loss calculated: 0.4415796399116516\n",
      "Performing step in optimizer and propagating loss backgwards\n"
     ]
    },
    {
     "name": "stderr",
     "output_type": "stream",
     "text": [
      "Epoch 0 at 2024-05-17 19:16:25, loss: 0.4416:   4%|▍         | 297/6741 [04:29<1:20:49,  1.33it/s]"
     ]
    },
    {
     "name": "stdout",
     "output_type": "stream",
     "text": [
      "Starting epoch 0 step 297 at time 2024-05-17 19:16:27.877414\n",
      "getting the data and setting to device\n",
      "Performing forward pass\n",
      "Calculating loss\n",
      "Loss calculated: 0.45550525188446045\n",
      "Performing step in optimizer and propagating loss backgwards\n"
     ]
    },
    {
     "name": "stderr",
     "output_type": "stream",
     "text": [
      "Epoch 0 at 2024-05-17 19:16:28, loss: 0.4555:   4%|▍         | 298/6741 [04:32<2:13:11,  1.24s/it]"
     ]
    },
    {
     "name": "stdout",
     "output_type": "stream",
     "text": [
      "Starting epoch 0 step 298 at time 2024-05-17 19:16:28.322861\n",
      "getting the data and setting to device\n",
      "Performing forward pass\n",
      "Calculating loss\n",
      "Loss calculated: 0.5071612000465393\n",
      "Performing step in optimizer and propagating loss backgwards\n"
     ]
    },
    {
     "name": "stderr",
     "output_type": "stream",
     "text": [
      "Epoch 0 at 2024-05-17 19:16:28, loss: 0.5072:   4%|▍         | 299/6741 [04:32<1:47:42,  1.00s/it]"
     ]
    },
    {
     "name": "stdout",
     "output_type": "stream",
     "text": [
      "Starting epoch 0 step 299 at time 2024-05-17 19:16:28.773868\n",
      "getting the data and setting to device\n",
      "Performing forward pass\n",
      "Calculating loss\n",
      "Loss calculated: 0.44927436113357544\n",
      "Performing step in optimizer and propagating loss backgwards\n"
     ]
    },
    {
     "name": "stderr",
     "output_type": "stream",
     "text": [
      "Epoch 0 at 2024-05-17 19:16:29, loss: 0.4493:   4%|▍         | 300/6741 [04:33<1:30:12,  1.19it/s]"
     ]
    },
    {
     "name": "stdout",
     "output_type": "stream",
     "text": [
      "Starting epoch 0 step 300 at time 2024-05-17 19:16:29.232932\n",
      "getting the data and setting to device\n",
      "Performing forward pass\n",
      "Calculating loss\n",
      "Loss calculated: 0.4901489019393921\n",
      "Performing step in optimizer and propagating loss backgwards\n"
     ]
    },
    {
     "name": "stderr",
     "output_type": "stream",
     "text": [
      "Epoch 0 at 2024-05-17 19:16:29, loss: 0.4901:   4%|▍         | 301/6741 [04:33<1:17:44,  1.38it/s]"
     ]
    },
    {
     "name": "stdout",
     "output_type": "stream",
     "text": [
      "Starting epoch 0 step 301 at time 2024-05-17 19:16:31.900480\n",
      "getting the data and setting to device\n",
      "Performing forward pass\n",
      "Calculating loss\n",
      "Loss calculated: 0.36887165904045105\n",
      "Performing step in optimizer and propagating loss backgwards\n"
     ]
    },
    {
     "name": "stderr",
     "output_type": "stream",
     "text": [
      "Epoch 0 at 2024-05-17 19:16:32, loss: 0.3689:   4%|▍         | 302/6741 [04:36<2:20:20,  1.31s/it]"
     ]
    },
    {
     "name": "stdout",
     "output_type": "stream",
     "text": [
      "Starting epoch 0 step 302 at time 2024-05-17 19:16:32.356377\n",
      "getting the data and setting to device\n",
      "Performing forward pass\n",
      "Calculating loss\n",
      "Loss calculated: 0.3377811908721924\n",
      "Performing step in optimizer and propagating loss backgwards\n"
     ]
    },
    {
     "name": "stderr",
     "output_type": "stream",
     "text": [
      "Epoch 0 at 2024-05-17 19:16:32, loss: 0.3378:   4%|▍         | 303/6741 [04:36<1:52:50,  1.05s/it]"
     ]
    },
    {
     "name": "stdout",
     "output_type": "stream",
     "text": [
      "Starting epoch 0 step 303 at time 2024-05-17 19:16:32.810463\n",
      "getting the data and setting to device\n",
      "Performing forward pass\n",
      "Calculating loss\n",
      "Loss calculated: 0.3373473584651947\n",
      "Performing step in optimizer and propagating loss backgwards\n"
     ]
    },
    {
     "name": "stderr",
     "output_type": "stream",
     "text": [
      "Epoch 0 at 2024-05-17 19:16:33, loss: 0.3373:   5%|▍         | 304/6741 [04:37<1:34:11,  1.14it/s]"
     ]
    },
    {
     "name": "stdout",
     "output_type": "stream",
     "text": [
      "Starting epoch 0 step 304 at time 2024-05-17 19:16:33.282681\n",
      "getting the data and setting to device\n",
      "Performing forward pass\n",
      "Calculating loss\n",
      "Loss calculated: 0.5428155660629272\n",
      "Performing step in optimizer and propagating loss backgwards\n"
     ]
    },
    {
     "name": "stderr",
     "output_type": "stream",
     "text": [
      "Epoch 0 at 2024-05-17 19:16:33, loss: 0.5428:   5%|▍         | 305/6741 [04:37<1:20:31,  1.33it/s]"
     ]
    },
    {
     "name": "stdout",
     "output_type": "stream",
     "text": [
      "Starting epoch 0 step 305 at time 2024-05-17 19:16:36.107670\n",
      "getting the data and setting to device\n",
      "Performing forward pass\n",
      "Calculating loss\n",
      "Loss calculated: 0.3911987543106079\n",
      "Performing step in optimizer and propagating loss backgwards\n"
     ]
    },
    {
     "name": "stderr",
     "output_type": "stream",
     "text": [
      "Epoch 0 at 2024-05-17 19:16:36, loss: 0.3912:   5%|▍         | 306/6741 [04:40<2:26:53,  1.37s/it]"
     ]
    },
    {
     "name": "stdout",
     "output_type": "stream",
     "text": [
      "Starting epoch 0 step 306 at time 2024-05-17 19:16:36.549841\n",
      "getting the data and setting to device\n",
      "Performing forward pass\n",
      "Calculating loss\n",
      "Loss calculated: 0.3163839280605316\n",
      "Performing step in optimizer and propagating loss backgwards\n"
     ]
    },
    {
     "name": "stderr",
     "output_type": "stream",
     "text": [
      "Epoch 0 at 2024-05-17 19:16:36, loss: 0.3164:   5%|▍         | 307/6741 [04:40<1:57:00,  1.09s/it]"
     ]
    },
    {
     "name": "stdout",
     "output_type": "stream",
     "text": [
      "Starting epoch 0 step 307 at time 2024-05-17 19:16:36.991432\n",
      "getting the data and setting to device\n",
      "Performing forward pass\n",
      "Calculating loss\n",
      "Loss calculated: 0.5433303117752075\n",
      "Performing step in optimizer and propagating loss backgwards\n"
     ]
    },
    {
     "name": "stderr",
     "output_type": "stream",
     "text": [
      "Epoch 0 at 2024-05-17 19:16:37, loss: 0.5433:   5%|▍         | 308/6741 [04:41<1:36:17,  1.11it/s]"
     ]
    },
    {
     "name": "stdout",
     "output_type": "stream",
     "text": [
      "Starting epoch 0 step 308 at time 2024-05-17 19:16:37.440645\n",
      "getting the data and setting to device\n",
      "Performing forward pass\n",
      "Calculating loss\n",
      "Loss calculated: 0.4889753758907318\n",
      "Performing step in optimizer and propagating loss backgwards\n"
     ]
    },
    {
     "name": "stderr",
     "output_type": "stream",
     "text": [
      "Epoch 0 at 2024-05-17 19:16:37, loss: 0.4890:   5%|▍         | 309/6741 [04:41<1:21:55,  1.31it/s]"
     ]
    },
    {
     "name": "stdout",
     "output_type": "stream",
     "text": [
      "Starting epoch 0 step 309 at time 2024-05-17 19:16:40.031409\n",
      "getting the data and setting to device\n",
      "Performing forward pass\n",
      "Calculating loss\n",
      "Loss calculated: 0.34380099177360535\n",
      "Performing step in optimizer and propagating loss backgwards\n"
     ]
    },
    {
     "name": "stderr",
     "output_type": "stream",
     "text": [
      "Epoch 0 at 2024-05-17 19:16:40, loss: 0.3438:   5%|▍         | 310/6741 [04:44<2:20:35,  1.31s/it]"
     ]
    },
    {
     "name": "stdout",
     "output_type": "stream",
     "text": [
      "Starting epoch 0 step 310 at time 2024-05-17 19:16:40.479877\n",
      "getting the data and setting to device\n",
      "Performing forward pass\n",
      "Calculating loss\n",
      "Loss calculated: 0.4341566562652588\n",
      "Performing step in optimizer and propagating loss backgwards\n"
     ]
    },
    {
     "name": "stderr",
     "output_type": "stream",
     "text": [
      "Epoch 0 at 2024-05-17 19:16:40, loss: 0.4342:   5%|▍         | 311/6741 [04:44<1:53:25,  1.06s/it]"
     ]
    },
    {
     "name": "stdout",
     "output_type": "stream",
     "text": [
      "Starting epoch 0 step 311 at time 2024-05-17 19:16:40.947672\n",
      "getting the data and setting to device\n",
      "Performing forward pass\n",
      "Calculating loss\n",
      "Loss calculated: 0.47977215051651\n",
      "Performing step in optimizer and propagating loss backgwards\n"
     ]
    },
    {
     "name": "stderr",
     "output_type": "stream",
     "text": [
      "Epoch 0 at 2024-05-17 19:16:41, loss: 0.4798:   5%|▍         | 312/6741 [04:45<1:34:31,  1.13it/s]"
     ]
    },
    {
     "name": "stdout",
     "output_type": "stream",
     "text": [
      "Starting epoch 0 step 312 at time 2024-05-17 19:16:41.418625\n",
      "getting the data and setting to device\n",
      "Performing forward pass\n",
      "Calculating loss\n",
      "Loss calculated: 0.3498425781726837\n",
      "Performing step in optimizer and propagating loss backgwards\n"
     ]
    },
    {
     "name": "stderr",
     "output_type": "stream",
     "text": [
      "Epoch 0 at 2024-05-17 19:16:41, loss: 0.3498:   5%|▍         | 313/6741 [04:45<1:21:01,  1.32it/s]"
     ]
    },
    {
     "name": "stdout",
     "output_type": "stream",
     "text": [
      "Starting epoch 0 step 313 at time 2024-05-17 19:16:44.202247\n",
      "getting the data and setting to device\n",
      "Performing forward pass\n",
      "Calculating loss\n",
      "Loss calculated: 0.44533857703208923\n",
      "Performing step in optimizer and propagating loss backgwards\n"
     ]
    },
    {
     "name": "stderr",
     "output_type": "stream",
     "text": [
      "Epoch 0 at 2024-05-17 19:16:44, loss: 0.4453:   5%|▍         | 314/6741 [04:48<2:25:27,  1.36s/it]"
     ]
    },
    {
     "name": "stdout",
     "output_type": "stream",
     "text": [
      "Starting epoch 0 step 314 at time 2024-05-17 19:16:44.643150\n",
      "getting the data and setting to device\n",
      "Performing forward pass\n",
      "Calculating loss\n",
      "Loss calculated: 0.5345157980918884\n",
      "Performing step in optimizer and propagating loss backgwards\n"
     ]
    },
    {
     "name": "stderr",
     "output_type": "stream",
     "text": [
      "Epoch 0 at 2024-05-17 19:16:45, loss: 0.5345:   5%|▍         | 315/6741 [04:48<1:56:09,  1.08s/it]"
     ]
    },
    {
     "name": "stdout",
     "output_type": "stream",
     "text": [
      "Starting epoch 0 step 315 at time 2024-05-17 19:16:45.089407\n",
      "getting the data and setting to device\n",
      "Performing forward pass\n",
      "Calculating loss\n",
      "Loss calculated: 0.607367753982544\n",
      "Performing step in optimizer and propagating loss backgwards\n"
     ]
    },
    {
     "name": "stderr",
     "output_type": "stream",
     "text": [
      "Epoch 0 at 2024-05-17 19:16:45, loss: 0.6074:   5%|▍         | 316/6741 [04:49<1:36:16,  1.11it/s]"
     ]
    },
    {
     "name": "stdout",
     "output_type": "stream",
     "text": [
      "Starting epoch 0 step 316 at time 2024-05-17 19:16:45.556551\n",
      "getting the data and setting to device\n",
      "Performing forward pass\n",
      "Calculating loss\n",
      "Loss calculated: 0.4058604836463928\n",
      "Performing step in optimizer and propagating loss backgwards\n"
     ]
    },
    {
     "name": "stderr",
     "output_type": "stream",
     "text": [
      "Epoch 0 at 2024-05-17 19:16:46, loss: 0.4059:   5%|▍         | 317/6741 [04:49<1:22:14,  1.30it/s]"
     ]
    },
    {
     "name": "stdout",
     "output_type": "stream",
     "text": [
      "Starting epoch 0 step 317 at time 2024-05-17 19:16:48.151786\n",
      "getting the data and setting to device\n",
      "Performing forward pass\n",
      "Calculating loss\n",
      "Loss calculated: 0.5248559713363647\n",
      "Performing step in optimizer and propagating loss backgwards\n"
     ]
    },
    {
     "name": "stderr",
     "output_type": "stream",
     "text": [
      "Epoch 0 at 2024-05-17 19:16:48, loss: 0.5249:   5%|▍         | 318/6741 [04:52<2:21:20,  1.32s/it]"
     ]
    },
    {
     "name": "stdout",
     "output_type": "stream",
     "text": [
      "Starting epoch 0 step 318 at time 2024-05-17 19:16:48.626656\n",
      "getting the data and setting to device\n",
      "Performing forward pass\n",
      "Calculating loss\n",
      "Loss calculated: 0.3713141679763794\n",
      "Performing step in optimizer and propagating loss backgwards\n"
     ]
    },
    {
     "name": "stderr",
     "output_type": "stream",
     "text": [
      "Epoch 0 at 2024-05-17 19:16:49, loss: 0.3713:   5%|▍         | 319/6741 [04:52<1:53:00,  1.06s/it]"
     ]
    },
    {
     "name": "stdout",
     "output_type": "stream",
     "text": [
      "Starting epoch 0 step 319 at time 2024-05-17 19:16:49.065796\n",
      "getting the data and setting to device\n",
      "Performing forward pass\n",
      "Calculating loss\n",
      "Loss calculated: 0.498685359954834\n",
      "Performing step in optimizer and propagating loss backgwards\n"
     ]
    },
    {
     "name": "stderr",
     "output_type": "stream",
     "text": [
      "Epoch 0 at 2024-05-17 19:16:49, loss: 0.4987:   5%|▍         | 320/6741 [04:53<1:33:42,  1.14it/s]"
     ]
    },
    {
     "name": "stdout",
     "output_type": "stream",
     "text": [
      "Starting epoch 0 step 320 at time 2024-05-17 19:16:49.521742\n",
      "getting the data and setting to device\n",
      "Performing forward pass\n",
      "Calculating loss\n",
      "Loss calculated: 0.4238533675670624\n",
      "Performing step in optimizer and propagating loss backgwards\n"
     ]
    },
    {
     "name": "stderr",
     "output_type": "stream",
     "text": [
      "Epoch 0 at 2024-05-17 19:16:49, loss: 0.4239:   5%|▍         | 321/6741 [04:53<1:20:17,  1.33it/s]"
     ]
    },
    {
     "name": "stdout",
     "output_type": "stream",
     "text": [
      "Starting epoch 0 step 321 at time 2024-05-17 19:16:52.167407\n",
      "getting the data and setting to device\n",
      "Performing forward pass\n",
      "Calculating loss\n",
      "Loss calculated: 0.2988989055156708\n",
      "Performing step in optimizer and propagating loss backgwards\n"
     ]
    },
    {
     "name": "stderr",
     "output_type": "stream",
     "text": [
      "Epoch 0 at 2024-05-17 19:16:52, loss: 0.2989:   5%|▍         | 322/6741 [04:56<2:20:58,  1.32s/it]"
     ]
    },
    {
     "name": "stdout",
     "output_type": "stream",
     "text": [
      "Starting epoch 0 step 322 at time 2024-05-17 19:16:52.621440\n",
      "getting the data and setting to device\n",
      "Performing forward pass\n",
      "Calculating loss\n",
      "Loss calculated: 0.5931934118270874\n",
      "Performing step in optimizer and propagating loss backgwards\n"
     ]
    },
    {
     "name": "stderr",
     "output_type": "stream",
     "text": [
      "Epoch 0 at 2024-05-17 19:16:53, loss: 0.5932:   5%|▍         | 323/6741 [04:56<1:53:05,  1.06s/it]"
     ]
    },
    {
     "name": "stdout",
     "output_type": "stream",
     "text": [
      "Starting epoch 0 step 323 at time 2024-05-17 19:16:53.069767\n",
      "getting the data and setting to device\n",
      "Performing forward pass\n",
      "Calculating loss\n",
      "Loss calculated: 0.46903082728385925\n",
      "Performing step in optimizer and propagating loss backgwards\n"
     ]
    },
    {
     "name": "stderr",
     "output_type": "stream",
     "text": [
      "Epoch 0 at 2024-05-17 19:16:53, loss: 0.4690:   5%|▍         | 324/6741 [04:57<1:33:28,  1.14it/s]"
     ]
    },
    {
     "name": "stdout",
     "output_type": "stream",
     "text": [
      "Starting epoch 0 step 324 at time 2024-05-17 19:16:53.518120\n",
      "getting the data and setting to device\n",
      "Performing forward pass\n",
      "Calculating loss\n",
      "Loss calculated: 0.4247179329395294\n",
      "Performing step in optimizer and propagating loss backgwards\n"
     ]
    },
    {
     "name": "stderr",
     "output_type": "stream",
     "text": [
      "Epoch 0 at 2024-05-17 19:16:53, loss: 0.4247:   5%|▍         | 325/6741 [04:57<1:19:36,  1.34it/s]"
     ]
    },
    {
     "name": "stdout",
     "output_type": "stream",
     "text": [
      "Starting epoch 0 step 325 at time 2024-05-17 19:16:56.121020\n",
      "getting the data and setting to device\n",
      "Performing forward pass\n",
      "Calculating loss\n",
      "Loss calculated: 0.4626487195491791\n",
      "Performing step in optimizer and propagating loss backgwards\n"
     ]
    },
    {
     "name": "stderr",
     "output_type": "stream",
     "text": [
      "Epoch 0 at 2024-05-17 19:16:56, loss: 0.4626:   5%|▍         | 326/6741 [05:00<2:19:35,  1.31s/it]"
     ]
    },
    {
     "name": "stdout",
     "output_type": "stream",
     "text": [
      "Starting epoch 0 step 326 at time 2024-05-17 19:16:56.574887\n",
      "getting the data and setting to device\n",
      "Performing forward pass\n",
      "Calculating loss\n",
      "Loss calculated: 0.45164260268211365\n",
      "Performing step in optimizer and propagating loss backgwards\n"
     ]
    },
    {
     "name": "stderr",
     "output_type": "stream",
     "text": [
      "Epoch 0 at 2024-05-17 19:16:57, loss: 0.4516:   5%|▍         | 327/6741 [05:00<1:52:25,  1.05s/it]"
     ]
    },
    {
     "name": "stdout",
     "output_type": "stream",
     "text": [
      "Starting epoch 0 step 327 at time 2024-05-17 19:16:57.033238\n",
      "getting the data and setting to device\n",
      "Performing forward pass\n",
      "Calculating loss\n",
      "Loss calculated: 0.5584023594856262\n",
      "Performing step in optimizer and propagating loss backgwards\n"
     ]
    },
    {
     "name": "stderr",
     "output_type": "stream",
     "text": [
      "Epoch 0 at 2024-05-17 19:16:57, loss: 0.5584:   5%|▍         | 328/6741 [05:01<1:33:33,  1.14it/s]"
     ]
    },
    {
     "name": "stdout",
     "output_type": "stream",
     "text": [
      "Starting epoch 0 step 328 at time 2024-05-17 19:16:57.498817\n",
      "getting the data and setting to device\n",
      "Performing forward pass\n",
      "Calculating loss\n",
      "Loss calculated: 0.5328361392021179\n",
      "Performing step in optimizer and propagating loss backgwards\n"
     ]
    },
    {
     "name": "stderr",
     "output_type": "stream",
     "text": [
      "Epoch 0 at 2024-05-17 19:16:57, loss: 0.5328:   5%|▍         | 329/6741 [05:01<1:20:09,  1.33it/s]"
     ]
    },
    {
     "name": "stdout",
     "output_type": "stream",
     "text": [
      "Starting epoch 0 step 329 at time 2024-05-17 19:17:00.017028\n",
      "getting the data and setting to device\n",
      "Performing forward pass\n",
      "Calculating loss\n",
      "Loss calculated: 0.5612102150917053\n",
      "Performing step in optimizer and propagating loss backgwards\n"
     ]
    },
    {
     "name": "stderr",
     "output_type": "stream",
     "text": [
      "Epoch 0 at 2024-05-17 19:17:00, loss: 0.5612:   5%|▍         | 330/6741 [05:04<2:15:50,  1.27s/it]"
     ]
    },
    {
     "name": "stdout",
     "output_type": "stream",
     "text": [
      "Starting epoch 0 step 330 at time 2024-05-17 19:17:00.442219\n",
      "getting the data and setting to device\n",
      "Performing forward pass\n",
      "Calculating loss\n",
      "Loss calculated: 0.5707457661628723\n",
      "Performing step in optimizer and propagating loss backgwards\n"
     ]
    },
    {
     "name": "stderr",
     "output_type": "stream",
     "text": [
      "Epoch 0 at 2024-05-17 19:17:00, loss: 0.5707:   5%|▍         | 331/6741 [05:04<1:49:42,  1.03s/it]"
     ]
    },
    {
     "name": "stdout",
     "output_type": "stream",
     "text": [
      "Starting epoch 0 step 331 at time 2024-05-17 19:17:00.898882\n",
      "getting the data and setting to device\n",
      "Performing forward pass\n",
      "Calculating loss\n",
      "Loss calculated: 0.5245556235313416\n",
      "Performing step in optimizer and propagating loss backgwards\n"
     ]
    },
    {
     "name": "stderr",
     "output_type": "stream",
     "text": [
      "Epoch 0 at 2024-05-17 19:17:01, loss: 0.5246:   5%|▍         | 332/6741 [05:05<1:31:16,  1.17it/s]"
     ]
    },
    {
     "name": "stdout",
     "output_type": "stream",
     "text": [
      "Starting epoch 0 step 332 at time 2024-05-17 19:17:01.351463\n",
      "getting the data and setting to device\n",
      "Performing forward pass\n",
      "Calculating loss\n",
      "Loss calculated: 0.5862725973129272\n",
      "Performing step in optimizer and propagating loss backgwards\n"
     ]
    },
    {
     "name": "stderr",
     "output_type": "stream",
     "text": [
      "Epoch 0 at 2024-05-17 19:17:01, loss: 0.5863:   5%|▍         | 333/6741 [05:05<1:18:24,  1.36it/s]"
     ]
    },
    {
     "name": "stdout",
     "output_type": "stream",
     "text": [
      "Starting epoch 0 step 333 at time 2024-05-17 19:17:04.203675\n",
      "getting the data and setting to device\n",
      "Performing forward pass\n",
      "Calculating loss\n",
      "Loss calculated: 0.4422425627708435\n",
      "Performing step in optimizer and propagating loss backgwards\n"
     ]
    },
    {
     "name": "stderr",
     "output_type": "stream",
     "text": [
      "Epoch 0 at 2024-05-17 19:17:04, loss: 0.4422:   5%|▍         | 334/6741 [05:08<2:26:00,  1.37s/it]"
     ]
    },
    {
     "name": "stdout",
     "output_type": "stream",
     "text": [
      "Starting epoch 0 step 334 at time 2024-05-17 19:17:04.649744\n",
      "getting the data and setting to device\n",
      "Performing forward pass\n",
      "Calculating loss\n",
      "Loss calculated: 0.40093767642974854\n",
      "Performing step in optimizer and propagating loss backgwards\n"
     ]
    },
    {
     "name": "stderr",
     "output_type": "stream",
     "text": [
      "Epoch 0 at 2024-05-17 19:17:05, loss: 0.4009:   5%|▍         | 335/6741 [05:08<1:56:41,  1.09s/it]"
     ]
    },
    {
     "name": "stdout",
     "output_type": "stream",
     "text": [
      "Starting epoch 0 step 335 at time 2024-05-17 19:17:05.102175\n",
      "getting the data and setting to device\n",
      "Performing forward pass\n",
      "Calculating loss\n",
      "Loss calculated: 0.5151358842849731\n",
      "Performing step in optimizer and propagating loss backgwards\n"
     ]
    },
    {
     "name": "stderr",
     "output_type": "stream",
     "text": [
      "Epoch 0 at 2024-05-17 19:17:05, loss: 0.5151:   5%|▍         | 336/6741 [05:09<1:35:47,  1.11it/s]"
     ]
    },
    {
     "name": "stdout",
     "output_type": "stream",
     "text": [
      "Starting epoch 0 step 336 at time 2024-05-17 19:17:05.543009\n",
      "getting the data and setting to device\n",
      "Performing forward pass\n",
      "Calculating loss\n",
      "Loss calculated: 0.4493125081062317\n",
      "Performing step in optimizer and propagating loss backgwards\n"
     ]
    },
    {
     "name": "stderr",
     "output_type": "stream",
     "text": [
      "Epoch 0 at 2024-05-17 19:17:05, loss: 0.4493:   5%|▍         | 337/6741 [05:09<1:21:06,  1.32it/s]"
     ]
    },
    {
     "name": "stdout",
     "output_type": "stream",
     "text": [
      "Starting epoch 0 step 337 at time 2024-05-17 19:17:08.338011\n",
      "getting the data and setting to device\n",
      "Performing forward pass\n",
      "Calculating loss\n",
      "Loss calculated: 0.4100213050842285\n",
      "Performing step in optimizer and propagating loss backgwards\n"
     ]
    },
    {
     "name": "stderr",
     "output_type": "stream",
     "text": [
      "Epoch 0 at 2024-05-17 19:17:08, loss: 0.4100:   5%|▌         | 338/6741 [05:12<2:25:58,  1.37s/it]"
     ]
    },
    {
     "name": "stdout",
     "output_type": "stream",
     "text": [
      "Starting epoch 0 step 338 at time 2024-05-17 19:17:08.768946\n",
      "getting the data and setting to device\n",
      "Performing forward pass\n",
      "Calculating loss\n",
      "Loss calculated: 0.42466744780540466\n",
      "Performing step in optimizer and propagating loss backgwards\n"
     ]
    },
    {
     "name": "stderr",
     "output_type": "stream",
     "text": [
      "Epoch 0 at 2024-05-17 19:17:09, loss: 0.4247:   5%|▌         | 339/6741 [05:13<1:55:53,  1.09s/it]"
     ]
    },
    {
     "name": "stdout",
     "output_type": "stream",
     "text": [
      "Starting epoch 0 step 339 at time 2024-05-17 19:17:09.196701\n",
      "getting the data and setting to device\n",
      "Performing forward pass\n",
      "Calculating loss\n",
      "Loss calculated: 0.36066934466362\n",
      "Performing step in optimizer and propagating loss backgwards\n"
     ]
    },
    {
     "name": "stderr",
     "output_type": "stream",
     "text": [
      "Epoch 0 at 2024-05-17 19:17:09, loss: 0.3607:   5%|▌         | 340/6741 [05:13<1:35:21,  1.12it/s]"
     ]
    },
    {
     "name": "stdout",
     "output_type": "stream",
     "text": [
      "Starting epoch 0 step 340 at time 2024-05-17 19:17:09.643213\n",
      "getting the data and setting to device\n",
      "Performing forward pass\n",
      "Calculating loss\n",
      "Loss calculated: 0.428874671459198\n",
      "Performing step in optimizer and propagating loss backgwards\n"
     ]
    },
    {
     "name": "stderr",
     "output_type": "stream",
     "text": [
      "Epoch 0 at 2024-05-17 19:17:10, loss: 0.4289:   5%|▌         | 341/6741 [05:13<1:21:05,  1.32it/s]"
     ]
    },
    {
     "name": "stdout",
     "output_type": "stream",
     "text": [
      "Starting epoch 0 step 341 at time 2024-05-17 19:17:12.211973\n",
      "getting the data and setting to device\n",
      "Performing forward pass\n",
      "Calculating loss\n",
      "Loss calculated: 0.32122617959976196\n",
      "Performing step in optimizer and propagating loss backgwards\n"
     ]
    },
    {
     "name": "stderr",
     "output_type": "stream",
     "text": [
      "Epoch 0 at 2024-05-17 19:17:12, loss: 0.3212:   5%|▌         | 342/6741 [05:16<2:19:07,  1.30s/it]"
     ]
    },
    {
     "name": "stdout",
     "output_type": "stream",
     "text": [
      "Starting epoch 0 step 342 at time 2024-05-17 19:17:12.665017\n",
      "getting the data and setting to device\n",
      "Performing forward pass\n",
      "Calculating loss\n",
      "Loss calculated: 0.39512962102890015\n",
      "Performing step in optimizer and propagating loss backgwards\n"
     ]
    },
    {
     "name": "stderr",
     "output_type": "stream",
     "text": [
      "Epoch 0 at 2024-05-17 19:17:13, loss: 0.3951:   5%|▌         | 343/6741 [05:17<1:51:40,  1.05s/it]"
     ]
    },
    {
     "name": "stdout",
     "output_type": "stream",
     "text": [
      "Starting epoch 0 step 343 at time 2024-05-17 19:17:13.112660\n",
      "getting the data and setting to device\n",
      "Performing forward pass\n",
      "Calculating loss\n",
      "Loss calculated: 0.5633030533790588\n",
      "Performing step in optimizer and propagating loss backgwards\n"
     ]
    },
    {
     "name": "stderr",
     "output_type": "stream",
     "text": [
      "Epoch 0 at 2024-05-17 19:17:13, loss: 0.5633:   5%|▌         | 344/6741 [05:17<1:32:16,  1.16it/s]"
     ]
    },
    {
     "name": "stdout",
     "output_type": "stream",
     "text": [
      "Starting epoch 0 step 344 at time 2024-05-17 19:17:13.553913\n",
      "getting the data and setting to device\n",
      "Performing forward pass\n",
      "Calculating loss\n",
      "Loss calculated: 0.4614971876144409\n",
      "Performing step in optimizer and propagating loss backgwards\n"
     ]
    },
    {
     "name": "stderr",
     "output_type": "stream",
     "text": [
      "Epoch 0 at 2024-05-17 19:17:14, loss: 0.4615:   5%|▌         | 345/6741 [05:17<1:19:18,  1.34it/s]"
     ]
    },
    {
     "name": "stdout",
     "output_type": "stream",
     "text": [
      "Starting epoch 0 step 345 at time 2024-05-17 19:17:16.257914\n",
      "getting the data and setting to device\n",
      "Performing forward pass\n",
      "Calculating loss\n",
      "Loss calculated: 0.5718933939933777\n",
      "Performing step in optimizer and propagating loss backgwards\n"
     ]
    },
    {
     "name": "stderr",
     "output_type": "stream",
     "text": [
      "Epoch 0 at 2024-05-17 19:17:16, loss: 0.5719:   5%|▌         | 346/6741 [05:20<2:21:38,  1.33s/it]"
     ]
    },
    {
     "name": "stdout",
     "output_type": "stream",
     "text": [
      "Starting epoch 0 step 346 at time 2024-05-17 19:17:16.709009\n",
      "getting the data and setting to device\n",
      "Performing forward pass\n",
      "Calculating loss\n",
      "Loss calculated: 0.3679725229740143\n",
      "Performing step in optimizer and propagating loss backgwards\n"
     ]
    },
    {
     "name": "stderr",
     "output_type": "stream",
     "text": [
      "Epoch 0 at 2024-05-17 19:17:17, loss: 0.3680:   5%|▌         | 347/6741 [05:21<1:53:19,  1.06s/it]"
     ]
    },
    {
     "name": "stdout",
     "output_type": "stream",
     "text": [
      "Starting epoch 0 step 347 at time 2024-05-17 19:17:17.151492\n",
      "getting the data and setting to device\n",
      "Performing forward pass\n",
      "Calculating loss\n",
      "Loss calculated: 0.4992715120315552\n",
      "Performing step in optimizer and propagating loss backgwards\n"
     ]
    },
    {
     "name": "stderr",
     "output_type": "stream",
     "text": [
      "Epoch 0 at 2024-05-17 19:17:17, loss: 0.4993:   5%|▌         | 348/6741 [05:21<1:33:34,  1.14it/s]"
     ]
    },
    {
     "name": "stdout",
     "output_type": "stream",
     "text": [
      "Starting epoch 0 step 348 at time 2024-05-17 19:17:17.598327\n",
      "getting the data and setting to device\n",
      "Performing forward pass\n",
      "Calculating loss\n",
      "Loss calculated: 0.558003842830658\n",
      "Performing step in optimizer and propagating loss backgwards\n"
     ]
    },
    {
     "name": "stderr",
     "output_type": "stream",
     "text": [
      "Epoch 0 at 2024-05-17 19:17:18, loss: 0.5580:   5%|▌         | 349/6741 [05:23<1:38:49,  1.08it/s]\n"
     ]
    },
    {
     "ename": "KeyboardInterrupt",
     "evalue": "",
     "output_type": "error",
     "traceback": [
      "\u001b[0;31m---------------------------------------------------------------------------\u001b[0m",
      "\u001b[0;31mKeyboardInterrupt\u001b[0m                         Traceback (most recent call last)",
      "Cell \u001b[0;32mIn[30], line 1\u001b[0m\n\u001b[0;32m----> 1\u001b[0m \u001b[43mtrainer\u001b[49m\u001b[38;5;241;43m.\u001b[39;49m\u001b[43mrun_training\u001b[49m\u001b[43m(\u001b[49m\u001b[43m)\u001b[49m\n",
      "Cell \u001b[0;32mIn[28], line 48\u001b[0m, in \u001b[0;36mMedSAMTrainer.run_training\u001b[0;34m(self)\u001b[0m\n\u001b[1;32m     45\u001b[0m \u001b[38;5;28mself\u001b[39m\u001b[38;5;241m.\u001b[39mon_epoch_start(epoch)\n\u001b[1;32m     47\u001b[0m pbar \u001b[38;5;241m=\u001b[39m tqdm(\u001b[38;5;28mself\u001b[39m\u001b[38;5;241m.\u001b[39mtrain_loader)\n\u001b[0;32m---> 48\u001b[0m \u001b[38;5;28;01mfor\u001b[39;00m step, batch \u001b[38;5;129;01min\u001b[39;00m \u001b[38;5;28menumerate\u001b[39m(pbar):\n\u001b[1;32m     49\u001b[0m     dice_loss, ce_loss \u001b[38;5;241m=\u001b[39m \u001b[38;5;28mself\u001b[39m\u001b[38;5;241m.\u001b[39mtrain_step(step, batch)\n\u001b[1;32m     51\u001b[0m     \u001b[38;5;66;03m# self.stat_logger.log_train(dice_loss, ce_loss)\u001b[39;00m\n",
      "File \u001b[0;32m/vol/biomedic3/bglocker/ugproj2324/az620/radiotherapy/.venv/lib/python3.10/site-packages/tqdm/std.py:1181\u001b[0m, in \u001b[0;36mtqdm.__iter__\u001b[0;34m(self)\u001b[0m\n\u001b[1;32m   1178\u001b[0m time \u001b[38;5;241m=\u001b[39m \u001b[38;5;28mself\u001b[39m\u001b[38;5;241m.\u001b[39m_time\n\u001b[1;32m   1180\u001b[0m \u001b[38;5;28;01mtry\u001b[39;00m:\n\u001b[0;32m-> 1181\u001b[0m     \u001b[38;5;28;01mfor\u001b[39;00m obj \u001b[38;5;129;01min\u001b[39;00m iterable:\n\u001b[1;32m   1182\u001b[0m         \u001b[38;5;28;01myield\u001b[39;00m obj\n\u001b[1;32m   1183\u001b[0m         \u001b[38;5;66;03m# Update and possibly print the progressbar.\u001b[39;00m\n\u001b[1;32m   1184\u001b[0m         \u001b[38;5;66;03m# Note: does not call self.update(1) for speed optimisation.\u001b[39;00m\n",
      "File \u001b[0;32m/vol/biomedic3/bglocker/ugproj2324/az620/radiotherapy/.venv/lib/python3.10/site-packages/torch/utils/data/dataloader.py:631\u001b[0m, in \u001b[0;36m_BaseDataLoaderIter.__next__\u001b[0;34m(self)\u001b[0m\n\u001b[1;32m    628\u001b[0m \u001b[38;5;28;01mif\u001b[39;00m \u001b[38;5;28mself\u001b[39m\u001b[38;5;241m.\u001b[39m_sampler_iter \u001b[38;5;129;01mis\u001b[39;00m \u001b[38;5;28;01mNone\u001b[39;00m:\n\u001b[1;32m    629\u001b[0m     \u001b[38;5;66;03m# TODO(https://github.com/pytorch/pytorch/issues/76750)\u001b[39;00m\n\u001b[1;32m    630\u001b[0m     \u001b[38;5;28mself\u001b[39m\u001b[38;5;241m.\u001b[39m_reset()  \u001b[38;5;66;03m# type: ignore[call-arg]\u001b[39;00m\n\u001b[0;32m--> 631\u001b[0m data \u001b[38;5;241m=\u001b[39m \u001b[38;5;28;43mself\u001b[39;49m\u001b[38;5;241;43m.\u001b[39;49m\u001b[43m_next_data\u001b[49m\u001b[43m(\u001b[49m\u001b[43m)\u001b[49m\n\u001b[1;32m    632\u001b[0m \u001b[38;5;28mself\u001b[39m\u001b[38;5;241m.\u001b[39m_num_yielded \u001b[38;5;241m+\u001b[39m\u001b[38;5;241m=\u001b[39m \u001b[38;5;241m1\u001b[39m\n\u001b[1;32m    633\u001b[0m \u001b[38;5;28;01mif\u001b[39;00m \u001b[38;5;28mself\u001b[39m\u001b[38;5;241m.\u001b[39m_dataset_kind \u001b[38;5;241m==\u001b[39m _DatasetKind\u001b[38;5;241m.\u001b[39mIterable \u001b[38;5;129;01mand\u001b[39;00m \\\n\u001b[1;32m    634\u001b[0m         \u001b[38;5;28mself\u001b[39m\u001b[38;5;241m.\u001b[39m_IterableDataset_len_called \u001b[38;5;129;01mis\u001b[39;00m \u001b[38;5;129;01mnot\u001b[39;00m \u001b[38;5;28;01mNone\u001b[39;00m \u001b[38;5;129;01mand\u001b[39;00m \\\n\u001b[1;32m    635\u001b[0m         \u001b[38;5;28mself\u001b[39m\u001b[38;5;241m.\u001b[39m_num_yielded \u001b[38;5;241m>\u001b[39m \u001b[38;5;28mself\u001b[39m\u001b[38;5;241m.\u001b[39m_IterableDataset_len_called:\n",
      "File \u001b[0;32m/vol/biomedic3/bglocker/ugproj2324/az620/radiotherapy/.venv/lib/python3.10/site-packages/torch/utils/data/dataloader.py:1329\u001b[0m, in \u001b[0;36m_MultiProcessingDataLoaderIter._next_data\u001b[0;34m(self)\u001b[0m\n\u001b[1;32m   1326\u001b[0m     \u001b[38;5;28;01mreturn\u001b[39;00m \u001b[38;5;28mself\u001b[39m\u001b[38;5;241m.\u001b[39m_process_data(data)\n\u001b[1;32m   1328\u001b[0m \u001b[38;5;28;01massert\u001b[39;00m \u001b[38;5;129;01mnot\u001b[39;00m \u001b[38;5;28mself\u001b[39m\u001b[38;5;241m.\u001b[39m_shutdown \u001b[38;5;129;01mand\u001b[39;00m \u001b[38;5;28mself\u001b[39m\u001b[38;5;241m.\u001b[39m_tasks_outstanding \u001b[38;5;241m>\u001b[39m \u001b[38;5;241m0\u001b[39m\n\u001b[0;32m-> 1329\u001b[0m idx, data \u001b[38;5;241m=\u001b[39m \u001b[38;5;28;43mself\u001b[39;49m\u001b[38;5;241;43m.\u001b[39;49m\u001b[43m_get_data\u001b[49m\u001b[43m(\u001b[49m\u001b[43m)\u001b[49m\n\u001b[1;32m   1330\u001b[0m \u001b[38;5;28mself\u001b[39m\u001b[38;5;241m.\u001b[39m_tasks_outstanding \u001b[38;5;241m-\u001b[39m\u001b[38;5;241m=\u001b[39m \u001b[38;5;241m1\u001b[39m\n\u001b[1;32m   1331\u001b[0m \u001b[38;5;28;01mif\u001b[39;00m \u001b[38;5;28mself\u001b[39m\u001b[38;5;241m.\u001b[39m_dataset_kind \u001b[38;5;241m==\u001b[39m _DatasetKind\u001b[38;5;241m.\u001b[39mIterable:\n\u001b[1;32m   1332\u001b[0m     \u001b[38;5;66;03m# Check for _IterableDatasetStopIteration\u001b[39;00m\n",
      "File \u001b[0;32m/vol/biomedic3/bglocker/ugproj2324/az620/radiotherapy/.venv/lib/python3.10/site-packages/torch/utils/data/dataloader.py:1285\u001b[0m, in \u001b[0;36m_MultiProcessingDataLoaderIter._get_data\u001b[0;34m(self)\u001b[0m\n\u001b[1;32m   1283\u001b[0m \u001b[38;5;28;01melif\u001b[39;00m \u001b[38;5;28mself\u001b[39m\u001b[38;5;241m.\u001b[39m_pin_memory:\n\u001b[1;32m   1284\u001b[0m     \u001b[38;5;28;01mwhile\u001b[39;00m \u001b[38;5;28mself\u001b[39m\u001b[38;5;241m.\u001b[39m_pin_memory_thread\u001b[38;5;241m.\u001b[39mis_alive():\n\u001b[0;32m-> 1285\u001b[0m         success, data \u001b[38;5;241m=\u001b[39m \u001b[38;5;28;43mself\u001b[39;49m\u001b[38;5;241;43m.\u001b[39;49m\u001b[43m_try_get_data\u001b[49m\u001b[43m(\u001b[49m\u001b[43m)\u001b[49m\n\u001b[1;32m   1286\u001b[0m         \u001b[38;5;28;01mif\u001b[39;00m success:\n\u001b[1;32m   1287\u001b[0m             \u001b[38;5;28;01mreturn\u001b[39;00m data\n",
      "File \u001b[0;32m/vol/biomedic3/bglocker/ugproj2324/az620/radiotherapy/.venv/lib/python3.10/site-packages/torch/utils/data/dataloader.py:1133\u001b[0m, in \u001b[0;36m_MultiProcessingDataLoaderIter._try_get_data\u001b[0;34m(self, timeout)\u001b[0m\n\u001b[1;32m   1120\u001b[0m \u001b[38;5;28;01mdef\u001b[39;00m \u001b[38;5;21m_try_get_data\u001b[39m(\u001b[38;5;28mself\u001b[39m, timeout\u001b[38;5;241m=\u001b[39m_utils\u001b[38;5;241m.\u001b[39mMP_STATUS_CHECK_INTERVAL):\n\u001b[1;32m   1121\u001b[0m     \u001b[38;5;66;03m# Tries to fetch data from `self._data_queue` once for a given timeout.\u001b[39;00m\n\u001b[1;32m   1122\u001b[0m     \u001b[38;5;66;03m# This can also be used as inner loop of fetching without timeout, with\u001b[39;00m\n\u001b[0;32m   (...)\u001b[0m\n\u001b[1;32m   1130\u001b[0m     \u001b[38;5;66;03m# Returns a 2-tuple:\u001b[39;00m\n\u001b[1;32m   1131\u001b[0m     \u001b[38;5;66;03m#   (bool: whether successfully get data, any: data if successful else None)\u001b[39;00m\n\u001b[1;32m   1132\u001b[0m     \u001b[38;5;28;01mtry\u001b[39;00m:\n\u001b[0;32m-> 1133\u001b[0m         data \u001b[38;5;241m=\u001b[39m \u001b[38;5;28;43mself\u001b[39;49m\u001b[38;5;241;43m.\u001b[39;49m\u001b[43m_data_queue\u001b[49m\u001b[38;5;241;43m.\u001b[39;49m\u001b[43mget\u001b[49m\u001b[43m(\u001b[49m\u001b[43mtimeout\u001b[49m\u001b[38;5;241;43m=\u001b[39;49m\u001b[43mtimeout\u001b[49m\u001b[43m)\u001b[49m\n\u001b[1;32m   1134\u001b[0m         \u001b[38;5;28;01mreturn\u001b[39;00m (\u001b[38;5;28;01mTrue\u001b[39;00m, data)\n\u001b[1;32m   1135\u001b[0m     \u001b[38;5;28;01mexcept\u001b[39;00m \u001b[38;5;167;01mException\u001b[39;00m \u001b[38;5;28;01mas\u001b[39;00m e:\n\u001b[1;32m   1136\u001b[0m         \u001b[38;5;66;03m# At timeout and error, we manually check whether any worker has\u001b[39;00m\n\u001b[1;32m   1137\u001b[0m         \u001b[38;5;66;03m# failed. Note that this is the only mechanism for Windows to detect\u001b[39;00m\n\u001b[1;32m   1138\u001b[0m         \u001b[38;5;66;03m# worker failures.\u001b[39;00m\n",
      "File \u001b[0;32m/usr/lib/python3.10/queue.py:180\u001b[0m, in \u001b[0;36mQueue.get\u001b[0;34m(self, block, timeout)\u001b[0m\n\u001b[1;32m    178\u001b[0m         \u001b[38;5;28;01mif\u001b[39;00m remaining \u001b[38;5;241m<\u001b[39m\u001b[38;5;241m=\u001b[39m \u001b[38;5;241m0.0\u001b[39m:\n\u001b[1;32m    179\u001b[0m             \u001b[38;5;28;01mraise\u001b[39;00m Empty\n\u001b[0;32m--> 180\u001b[0m         \u001b[38;5;28;43mself\u001b[39;49m\u001b[38;5;241;43m.\u001b[39;49m\u001b[43mnot_empty\u001b[49m\u001b[38;5;241;43m.\u001b[39;49m\u001b[43mwait\u001b[49m\u001b[43m(\u001b[49m\u001b[43mremaining\u001b[49m\u001b[43m)\u001b[49m\n\u001b[1;32m    181\u001b[0m item \u001b[38;5;241m=\u001b[39m \u001b[38;5;28mself\u001b[39m\u001b[38;5;241m.\u001b[39m_get()\n\u001b[1;32m    182\u001b[0m \u001b[38;5;28mself\u001b[39m\u001b[38;5;241m.\u001b[39mnot_full\u001b[38;5;241m.\u001b[39mnotify()\n",
      "File \u001b[0;32m/usr/lib/python3.10/threading.py:324\u001b[0m, in \u001b[0;36mCondition.wait\u001b[0;34m(self, timeout)\u001b[0m\n\u001b[1;32m    322\u001b[0m \u001b[38;5;28;01melse\u001b[39;00m:\n\u001b[1;32m    323\u001b[0m     \u001b[38;5;28;01mif\u001b[39;00m timeout \u001b[38;5;241m>\u001b[39m \u001b[38;5;241m0\u001b[39m:\n\u001b[0;32m--> 324\u001b[0m         gotit \u001b[38;5;241m=\u001b[39m \u001b[43mwaiter\u001b[49m\u001b[38;5;241;43m.\u001b[39;49m\u001b[43macquire\u001b[49m\u001b[43m(\u001b[49m\u001b[38;5;28;43;01mTrue\u001b[39;49;00m\u001b[43m,\u001b[49m\u001b[43m \u001b[49m\u001b[43mtimeout\u001b[49m\u001b[43m)\u001b[49m\n\u001b[1;32m    325\u001b[0m     \u001b[38;5;28;01melse\u001b[39;00m:\n\u001b[1;32m    326\u001b[0m         gotit \u001b[38;5;241m=\u001b[39m waiter\u001b[38;5;241m.\u001b[39macquire(\u001b[38;5;28;01mFalse\u001b[39;00m)\n",
      "\u001b[0;31mKeyboardInterrupt\u001b[0m: "
     ]
    }
   ],
   "source": [
    "trainer.run_training()"
   ]
  },
  {
   "cell_type": "code",
   "execution_count": null,
   "metadata": {},
   "outputs": [],
   "source": []
  }
 ],
 "metadata": {
  "kernelspec": {
   "display_name": ".venv",
   "language": "python",
   "name": "python3"
  },
  "language_info": {
   "codemirror_mode": {
    "name": "ipython",
    "version": 3
   },
   "file_extension": ".py",
   "mimetype": "text/x-python",
   "name": "python",
   "nbconvert_exporter": "python",
   "pygments_lexer": "ipython3",
   "version": "3.10.12"
  }
 },
 "nbformat": 4,
 "nbformat_minor": 2
}

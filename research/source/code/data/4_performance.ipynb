{
 "cells": [
  {
   "cell_type": "markdown",
   "metadata": {},
   "source": [
    "# Functions"
   ]
  },
  {
   "cell_type": "code",
   "execution_count": 16,
   "metadata": {},
   "outputs": [],
   "source": [
    "import os, sys\n",
    "dir1 = os.path.dirname(os.path.abspath(''))\n",
    "if not dir1 in sys.path: sys.path.append(dir1)"
   ]
  },
  {
   "cell_type": "code",
   "execution_count": 17,
   "metadata": {},
   "outputs": [],
   "source": [
    "from utils.environment import setup_data_vars\n",
    "setup_data_vars()"
   ]
  },
  {
   "cell_type": "markdown",
   "metadata": {},
   "source": [
    "## Calculate Metrics"
   ]
  },
  {
   "cell_type": "code",
   "execution_count": 18,
   "metadata": {},
   "outputs": [],
   "source": [
    "def get_id_from_path(path: str, needs_num=True):\n",
    "    \"\"\"Given a path, assume that it is the full path that points to the file name. The\n",
    "    file nam ehsould contain a number indicating the id number. It should appear first.\n",
    "\n",
    "    Args:\n",
    "        path (str): A path to the file name or the file name itsself. \n",
    "        \n",
    "        needs_num (bool, optional): If the path needs a number. If it doesn't and no\n",
    "        number was found return 0, otherwise return the number found. Defaults to True.\n",
    "\n",
    "    Raises:\n",
    "        ValueError: If a number is required and no number was found in the path\n",
    "\n",
    "    Returns:\n",
    "        int: the number found in the path\n",
    "    \"\"\"\n",
    "    import re\n",
    "    # Assume that it is the full path that points to the file name. The file name\n",
    "    # should contain a number indicating the id number. It should appear first\n",
    "    numbers = re.findall('\\d+', path.split('/')[-1])\n",
    "    if needs_num and len(numbers) == 0:\n",
    "        raise ValueError(f\"Could not find a number in {path}\")\n",
    "    if not needs_num and len(numbers) == 0:\n",
    "        return 0\n",
    "    return int(numbers[0])\n",
    "\n",
    "def stats_about_metrics(metrics_dictionary: dict):\n",
    "\n",
    "    return_metrics_dictionary = dict()\n",
    "    return_metrics_dictionary['mean'] = dict()\n",
    "\n",
    "    for model, metrics in metrics_dictionary.items():\n",
    "        return_metrics_dictionary['mean'][model] = dict()\n",
    "        for metric, data in metrics.items():\n",
    "            return_metrics_dictionary['mean'][model][metric] = np.mean(data)\n",
    "\n",
    "    return return_metrics_dictionary"
   ]
  },
  {
   "cell_type": "code",
   "execution_count": 19,
   "metadata": {},
   "outputs": [],
   "source": [
    "import matplotlib.pyplot as plt\n",
    "import SimpleITK as sitk\n",
    "from tqdm import tqdm\n",
    "import numpy as np\n",
    "from platipy.imaging.label.comparison import compute_metric_total_apl, compute_surface_dsc, compute_metric_hd\n",
    "\n",
    "import json\n",
    "import os\n",
    "import pandas as pd\n",
    "\n",
    "def calculate_for_MedSAM(prediction_type, model_path):\n",
    "    dice = {0: [], 1: [], 2: []}\n",
    "    hd = {0: [], 1: [], 2: []}\n",
    "    volume_similarity = {0: [], 1: [], 2: []}\n",
    "    apl = {0: [], 1: [], 2: []}\n",
    "    surface_dsc = {0: [], 1: [], 2: []}\n",
    "\n",
    "    # CSV name depends on whether it is out-of-the-box or the fine-tuned version\n",
    "    if 'out-of-the-box' in prediction_type:\n",
    "        csv_name = 'validation_base.csv'\n",
    "    else:\n",
    "        csv_name = 'validation_checkpoint.csv'\n",
    "\n",
    "    # we assume that we've already recorded and saved the statistics in a file validation.csv\n",
    "    # this will contain the validation data for that particular anatomy across all three axis\n",
    "\n",
    "    df = pd.DataFrame(columns=['name', 'axis', 'dice', 'jaccard', 'volume_similarity', 'apl', 'surface_distance', 'hausdorff_distance'])\n",
    "\n",
    "    # load in the processed data if it already exists\n",
    "    if os.path.exists(os.path.join(model_path, csv_name)):\n",
    "        df = pd.read_csv(os.path.join(model_path, csv_name))\n",
    "    else:\n",
    "        raise ValueError(\"No validation data found for this model\")\n",
    "    \n",
    "    # go through the pandas dataframe and aggregate the metrics into each of the dictionaries keyed by the axis.\n",
    "     \n",
    "    for _, row in df.iterrows():\n",
    "        dice[row['axis']].append(row['dice'])\n",
    "        hd[row['axis']].append(row['hausdorff_distance'])\n",
    "        volume_similarity[row['axis']].append(row['volume_similarity'])\n",
    "        apl[row['axis']].append(row['apl'])\n",
    "        surface_dsc[row['axis']].append(row['surface_distance'])\n",
    "\n",
    "    return dice, hd, volume_similarity, surface_dsc, apl\n",
    "\n",
    "def calculate_for_UniverSeg(model_path):\n",
    "    dice = {0: [], 1: [], 2: []}\n",
    "    hd = {0: [], 1: [], 2: []}\n",
    "    volume_similarity = {0: [], 1: [], 2: []}\n",
    "    apl = {0: [], 1: [], 2: []}\n",
    "    surface_dsc = {0: [], 1: [], 2: []}\n",
    "\n",
    "    # we assume that we've already recorded and saved the statistics in a file validation.csv\n",
    "    # this will contain the validation data for that particular anatomy across all three axis\n",
    "\n",
    "    df = pd.DataFrame(columns=['name','dice','volume_similarity','apl','surface_distance','hausdorff_distance'])\n",
    "\n",
    "    # go through each axis in the model path and load in the validation data\n",
    "\n",
    "    axis_stats = [int(ax[-1]) for ax in sorted(os.listdir(model_path))]\n",
    "    if len(axis_stats) != 3:\n",
    "        print(\"[WARNING]: There should be 3 axis in the model path, got\" , axis_stats)\n",
    "\n",
    "    for axis in axis_stats:\n",
    "        if os.path.exists(os.path.join(model_path, f'axis{axis}', 'validation.csv')):\n",
    "            df = pd.read_csv(os.path.join(model_path, f'axis{axis}', 'validation.csv'))\n",
    "        else:\n",
    "            raise ValueError(\"No validation data found for this model\")\n",
    "    \n",
    "        # go through the pandas dataframe and aggregate the metrics into each of the dictionaries keyed by the axis.\n",
    "        \n",
    "        for _, row in df.iterrows():\n",
    "            dice[axis].append(row['dice'])\n",
    "            hd[axis].append(row['hausdorff_distance'])\n",
    "            volume_similarity[axis].append(row['volume_similarity'])\n",
    "            apl[axis].append(row['apl'])\n",
    "            surface_dsc[axis].append(row['surface_distance'])\n",
    "\n",
    "    return dice, hd, volume_similarity, surface_dsc, apl"
   ]
  },
  {
   "cell_type": "code",
   "execution_count": 20,
   "metadata": {},
   "outputs": [],
   "source": [
    "def calculate_for_single_nnUNet_model(input_path_gt, prediction_path):\n",
    "    # if this is our first time running the model we need to run and save the statistics\n",
    "    # otherwise we can just load in the statistics\n",
    "\n",
    "    df = pd.DataFrame(columns=['name','dice','volume_similarity','apl','surface_distance','hausdorff_distance'])\n",
    "\n",
    "    if os.path.exists(os.path.join(prediction_path, 'validation.csv')):\n",
    "        df = pd.read_csv(os.path.join(prediction_path, 'validation.csv'))\n",
    "    else:\n",
    "\n",
    "        overlap_measures_filter = sitk.LabelOverlapMeasuresImageFilter()\n",
    "\n",
    "        ground_truth = [os.path.join(input_path_gt, file) for file in sorted(filter(lambda x: '.nii.gz' in x, os.listdir(input_path_gt)))]\n",
    "        assert len(ground_truth) == 100\n",
    "        assert get_id_from_path(ground_truth[0]) == 1\n",
    "\n",
    "        # Extract all .nii.gz files for metric calculation\n",
    "        predictions = [os.path.join(prediction_path, file) for file in sorted(filter(lambda x: '.nii.gz' in x, os.listdir(prediction_path)))]\n",
    "\n",
    "        # Iterate over pairs of predictions and ground truth\n",
    "        for ypred in tqdm(predictions):\n",
    "            y_gt = ground_truth[get_id_from_path(ypred) - 1]\n",
    "            # If we wish to process the metrics as a 3D whole image, then this is\n",
    "            # trivially done without loading each slice separately\n",
    "            ypred_sitk = sitk.ReadImage(ypred)\n",
    "            y_gt_sitk = sitk.ReadImage(y_gt)\n",
    "\n",
    "            # set spacing to be (1, 1, 1)\n",
    "            ypred_sitk.SetSpacing((1, 1, 1))\n",
    "            y_gt_sitk.SetSpacing((1, 1, 1))\n",
    "\n",
    "            overlap_measures_filter.Execute(y_gt_sitk, ypred_sitk)\n",
    "\n",
    "            new_record = pd.DataFrame([\n",
    "                {\n",
    "                'name': y_gt,\n",
    "                'dice': overlap_measures_filter.GetDiceCoefficient(),\n",
    "                'volume_similarity': overlap_measures_filter.GetVolumeSimilarity(),\n",
    "                'apl': compute_metric_total_apl(y_gt_sitk, ypred_sitk),\n",
    "                'surface_distance': compute_surface_dsc(y_gt_sitk, ypred_sitk),\n",
    "                'hausdorff_distance': compute_metric_hd(y_gt_sitk, ypred_sitk)\n",
    "                }\n",
    "            ])\n",
    "\n",
    "            df = pd.concat([df, new_record], ignore_index=True)\n",
    "\n",
    "        df.to_csv(os.path.join(prediction_path, 'validation.csv'), index=False)\n",
    "\n",
    "    return df['dice'].tolist(), df['hausdorff_distance'].tolist(), df['volume_similarity'].tolist(), df['surface_distance'].tolist(), df['apl'].tolist()\n",
    "\n",
    "def calculate_for_global_nnUNet_model(input_path_gt, prediction_path, class_id_position):\n",
    "    # if this is our first time running the model we need to run and save the statistics\n",
    "    # otherwise we can just load in the statistics\n",
    "\n",
    "    df = pd.DataFrame(columns=['name','dice','volume_similarity','apl','surface_distance','hausdorff_distance'])\n",
    "\n",
    "    if os.path.exists(os.path.join(prediction_path, f'validation_{class_id_position}.csv')):\n",
    "        df = pd.read_csv(os.path.join(prediction_path, f'validation_{class_id_position}.csv'))\n",
    "    else:\n",
    "\n",
    "        overlap_measures_filter = sitk.LabelOverlapMeasuresImageFilter()\n",
    "\n",
    "        # get the predicted probability maps\n",
    "        predictions = [os.path.join(prediction_path, file) for file in sorted(filter(lambda x: '.npz' in x, os.listdir(prediction_path)))]\n",
    "        ground_truth = [os.path.join(input_path_gt, file) for file in sorted(filter(lambda x: '.nii.gz' in x, os.listdir(input_path_gt)))]\n",
    "        assert len(ground_truth) == 100\n",
    "        assert get_id_from_path(ground_truth[0]) == 1\n",
    "        \n",
    "        for p in tqdm(predictions):\n",
    "            # get the image id of the prediction\n",
    "\n",
    "            image_id = get_id_from_path(p, needs_num=True)\n",
    "            probabilities = np.load(p)['probabilities'][class_id_position]\n",
    "            hard_probabilities = (probabilities > 0.5).astype(np.uint8)\n",
    "            prediction_sitk = sitk.GetImageFromArray(hard_probabilities)\n",
    "\n",
    "            # get the ground truth for this image id\n",
    "            y_gt = ground_truth[image_id - 1]\n",
    "            y_gt_sitk = sitk.ReadImage(y_gt)\n",
    "\n",
    "            # copy over properties from the ground truth into the predicted image\n",
    "            prediction_sitk.CopyInformation(y_gt_sitk)  \n",
    "\n",
    "            # set spacing to be (1,1,1)\n",
    "            prediction_sitk.SetSpacing((1, 1, 1))\n",
    "            y_gt_sitk.SetSpacing((1, 1, 1))  \n",
    "\n",
    "            overlap_measures_filter.Execute(y_gt_sitk, prediction_sitk)\n",
    "\n",
    "            new_record = pd.DataFrame([\n",
    "                {\n",
    "                'name': y_gt,\n",
    "                'dice': overlap_measures_filter.GetDiceCoefficient(),\n",
    "                'volume_similarity': overlap_measures_filter.GetVolumeSimilarity(),\n",
    "                'apl': compute_metric_total_apl(y_gt_sitk, prediction_sitk),\n",
    "                'surface_distance': compute_surface_dsc(y_gt_sitk, prediction_sitk),\n",
    "                'hausdorff_distance': compute_metric_hd(y_gt_sitk, prediction_sitk)\n",
    "                }\n",
    "            ])\n",
    "            df = pd.concat([df, new_record], ignore_index=True)\n",
    "\n",
    "        df.to_csv(os.path.join(prediction_path, f'validation_{class_id_position}.csv'), index=False)\n",
    "\n",
    "    return df['dice'].tolist(), df['hausdorff_distance'].tolist(), df['volume_similarity'].tolist(), df['surface_distance'].tolist(), df['apl'].tolist()\n",
    "\n",
    "def calculate_for_nnUNetBased(input_path_gt, prediction_type, prediction_path, class_id_position):\n",
    "    print(f'Calculating metrics for  {prediction_type}')\n",
    "    if 'global' in prediction_type:\n",
    "        return calculate_for_global_nnUNet_model(input_path_gt, prediction_path, class_id_position)\n",
    "    else:\n",
    "        return calculate_for_single_nnUNet_model(input_path_gt, prediction_path)\n",
    "    "
   ]
  },
  {
   "cell_type": "code",
   "execution_count": 21,
   "metadata": {},
   "outputs": [],
   "source": [
    "def calculate_metrics(input_path_gt: str, input_path_pred: dict, class_id_position: int):\n",
    "    \"\"\"Will return the metrics for each prediction path\n",
    "\n",
    "    Args:\n",
    "        input_path_gt (str): a string to the ground truth \n",
    "        input_path_pred (dict): a dictionary containing the paths to the predictions\n",
    "\n",
    "    Returns:\n",
    "        dict: returns dictionary of metrics for the main prediction paths\n",
    "    \"\"\"\n",
    "\n",
    "    final_metrics = dict()\n",
    "    for k, _ in input_path_pred.items(): final_metrics[k] = dict()\n",
    "\n",
    "    # Iterate over the models and their predictions\n",
    "    for prediction_type, prediction_path in input_path_pred.items():\n",
    "\n",
    "        dice = []\n",
    "        hd = []\n",
    "        volume_similarity = []\n",
    "        apl = []\n",
    "        surface_dsc = []\n",
    "\n",
    "        if 'MedSAM' in prediction_type:\n",
    "            # raise NotImplementedError(\"MedSAM is not decomissioned for the mean while\")\n",
    "            dice, hd, volume_similarity, surface_dsc, apl = calculate_for_MedSAM(prediction_type, prediction_path)\n",
    "        elif 'UniverSeg' in prediction_type:\n",
    "            dice, hd, volume_similarity, surface_dsc, apl = calculate_for_UniverSeg(prediction_path)\n",
    "        else:\n",
    "            dice, hd, volume_similarity, surface_dsc, apl = calculate_for_nnUNetBased(input_path_gt, prediction_type, prediction_path, class_id_position)\n",
    "\n",
    "        final_metrics[prediction_type]['DICE Similarity Coefficient'] = dice\n",
    "        final_metrics[prediction_type]['Haussdorf Distance'] = hd\n",
    "        final_metrics[prediction_type]['Relative Volume Difference'] = volume_similarity\n",
    "        final_metrics[prediction_type]['Added Path Length'] = apl\n",
    "        final_metrics[prediction_type]['Surface DSC'] = surface_dsc\n",
    "\n",
    "    return final_metrics"
   ]
  },
  {
   "cell_type": "code",
   "execution_count": 22,
   "metadata": {},
   "outputs": [],
   "source": [
    "import shutil\n",
    "import textwrap as twp\n",
    "max_line_width_no_table = 15\n",
    "max_line_width_table = 15\n",
    "\n",
    "split_axis = False\n",
    "latex_table_aggregator = dict()\n",
    "\n",
    "def plot_metrics(metrics_dictionary: dict, organ_class: str, separate: bool = False, save: bool = False, showfliers = True, table = True, additional_title_context = ''):\n",
    "    \"\"\"Plots the metrics for the given dictionary of metrics and prints a table of mean\n",
    "    metrics to the right\n",
    "\n",
    "    Args:\n",
    "        metrics_dictionary (dict): A dictionary containing a key value pair of model type\n",
    "        and value of dictionary. This dictionary will have a key value pairing of metric\n",
    "        type and a list of values for that metric.\n",
    "        \n",
    "        organ_class (str): For saving the figure, supply the name of the organ class\n",
    "        \n",
    "        separate (bool, optional): Whether we print each type of model type separately or\n",
    "        together so that for each metric we plot the models side by side for better\n",
    "        comparison. Defaults to False.\n",
    "\n",
    "        save (bool, optional): Whether to save the figure or not. Defaults to False.\n",
    "\n",
    "        showfliers (bool, optional): Whether to show the outliers in the boxplot. Defaults\n",
    "        to True.\n",
    "\n",
    "        table (bool, optional): Whether to show the table of mean metrics or not. Defaults\n",
    "        to True.\n",
    "\n",
    "        additional_title_context (str, optional): Additional context to add to the title\n",
    "        of the plot. Defaults to ''.\n",
    "\n",
    "\n",
    "    \"\"\"\n",
    "\n",
    "    assert not separate, \"the separate flag has been decomissioned. It now only supports the combined mode.\"\n",
    "\n",
    "    latex_table_aggregator[organ_class] = {}\n",
    "\n",
    "    def get_stats_and_plot_table(metric_result, ax, model_type, metric_type, plot_table):\n",
    "        # Fetch statistics\n",
    "        mean = [np.mean(result) for result in metric_result]\n",
    "        std = [np.std(result) for result in metric_result]\n",
    "        median = [np.median(result) for result in metric_result]\n",
    "\n",
    "        # Format the table\n",
    "        cell_text = []\n",
    "        cell_text.append([f'{mean[i]:.2f}' for i in range(len(mean))])\n",
    "        cell_text.append([f'{std[i]:.2f}' for i in range(len(std))])\n",
    "        cell_text.append([f'{median[i]:.2f}' for i in range(len(std))])\n",
    "        rowLabels = [r'$\\hat{x}$', r'$\\sigma$', r'$med$']\n",
    "        \n",
    "        # print(metric_type, ' & '.join(np.array(cell_text).T.flatten().tolist()))\n",
    "        latex_table_aggregator[organ_class][metric_type] = ' & '.join(np.array(cell_text).T.flatten().tolist())\n",
    "\n",
    "        if not plot_table:\n",
    "            return\n",
    "        \n",
    "        colLabels = [twp.fill(label, max_line_width_table) for label in model_type]\n",
    "\n",
    "        # Plot the table\n",
    "        table_height = 0.06 * len(rowLabels)\n",
    "        ax_box = ax.get_position()\n",
    "        ax.set_position([ax_box.x0, ax_box.y0, ax_box.width, ax_box.height * (1 - table_height)])\n",
    "        #  bbox=[0., 1., 1., table_height / (1 - table_height)] the position before\n",
    "        table = ax.table(cell_text, cellLoc='center', rowLabels=rowLabels, colLabels=colLabels if not separate else None, fontsize=100) #, bbox=[0., 1., 1., table_height / (1 - table_height)] )\n",
    "        table.auto_set_font_size(False)\n",
    "        table.set_fontsize(9)\n",
    "        table.scale(1, 2)\n",
    "        \n",
    "\n",
    "    if separate and table:\n",
    "        print('[WARNING]: Bug with table printing in the separate mode. Set table=False to avoid this.')\n",
    "\n",
    "    augmented_metrics_dictionary = metrics_dictionary\n",
    "\n",
    "    # If we have medsam predictions, for now, plot the different axese separately\n",
    "    contains_medsam = ['MedSAM' in p or 'UniverSeg' in p for p in metrics_dictionary.keys()]\n",
    "    # heuristic to check if we've already done this shebang\n",
    "    # if sum([1 for p in contains_medsam if p]) <= 3:\n",
    "    if any(contains_medsam):\n",
    "        # go over each model type and extract the metrics for each axis\n",
    "\n",
    "        # extract the keys which are true out from the metrics_dictionary key set\n",
    "        extracted_values = [value for value, flag in zip(list(metrics_dictionary.keys()), contains_medsam) if flag]\n",
    "\n",
    "        for medsam_metric_type in extracted_values:\n",
    "\n",
    "            medsam_metrics = metrics_dictionary[medsam_metric_type]\n",
    "            if split_axis:\n",
    "                # Extract the metrics for each axis\n",
    "                set_of_processed_axis = set()\n",
    "                for metric in medsam_metrics.keys():\n",
    "                    set_of_processed_axis.update(medsam_metrics[metric].keys())\n",
    "                    for axis in medsam_metrics[metric].keys():\n",
    "                        if f'{medsam_metric_type} (axis{axis})' not in augmented_metrics_dictionary.keys():\n",
    "                            augmented_metrics_dictionary[f'{medsam_metric_type} (axis{axis})'] = dict()\n",
    "                        augmented_metrics_dictionary[f'{medsam_metric_type} (axis{axis})'][metric] = medsam_metrics[metric][axis]\n",
    "\n",
    "                del augmented_metrics_dictionary[medsam_metric_type]\n",
    "\n",
    "            # now include a global aggregate for each axis\n",
    "            augmented_metrics_dictionary[medsam_metric_type] = dict()\n",
    "            for metric in medsam_metrics.keys():\n",
    "                for axis in medsam_metrics[metric].keys():\n",
    "                    if metric not in augmented_metrics_dictionary[medsam_metric_type].keys():\n",
    "                        augmented_metrics_dictionary[medsam_metric_type][metric] = []\n",
    "                    augmented_metrics_dictionary[medsam_metric_type][metric] += medsam_metrics[metric][axis]\n",
    "\n",
    "    num_models = len(augmented_metrics_dictionary)\n",
    "\n",
    "    nrows = num_models if separate == True else 1\n",
    "    metrics_names = [list(augmented_metrics_dictionary[m].keys()) for m in augmented_metrics_dictionary.keys()]\n",
    "    metrics_names = sorted(list(set([metric for model_metrics in metrics_names for metric in model_metrics])))\n",
    "    ncols = len(metrics_names)\n",
    "\n",
    "    plot_height = 3.25*1.6\n",
    "    plot_width = 0.5 * max(4, num_models) * 1.6\n",
    "\n",
    "    fig, axes = plt.subplots(ncols=ncols, nrows=nrows, figsize=(plot_width * (ncols + num_models - 1), nrows * plot_height))\n",
    "\n",
    "    # Reshape axes to be a 2D array\n",
    "    axes = np.reshape(axes, (nrows, ncols))\n",
    "\n",
    "    for i, row in enumerate(axes):\n",
    "        for j, ax in enumerate(row):\n",
    "            # << Fetch Data Collections For Plotting >>\n",
    "\n",
    "            # Get the model type for printing. If we're not separating models, model_type\n",
    "            # is a list of all model names\n",
    "            model_type = list(augmented_metrics_dictionary.keys())[i] if separate else list(augmented_metrics_dictionary.keys())\n",
    "            # Get the metric type for the current column. Its possible that this metric\n",
    "            # doesn't exist for all models\n",
    "            metrics_type = metrics_names[j]\n",
    "            # Get the data for the current metric type while checking if it exists for the\n",
    "            # current model\n",
    "            getData = lambda m: augmented_metrics_dictionary[m][metrics_type] if metrics_type in augmented_metrics_dictionary[m].keys() else []\n",
    "            metric_result = getData(model_type) if separate else [getData(model) for model in augmented_metrics_dictionary.keys()]\n",
    "            \n",
    "            metric_result = [np.array(m) for m in metric_result]\n",
    "            metric_result = [m[~np.isnan(m)] for m in metric_result]\n",
    "            \n",
    "            # if len(metric_result.shape) == 1:\n",
    "            #     metric_result = metric_result[None, :]\n",
    "\n",
    "            # << Plot the Data >>\n",
    "\n",
    "            # ax.violinplot(metric_result)\n",
    "            ax.boxplot(metric_result, showfliers=showfliers, meanline=True, showmeans=True, patch_artist=True, widths=(.4))\n",
    "\n",
    "            # << Plot Table with Mean Metrics >>\n",
    "            \n",
    "            get_stats_and_plot_table(np.reshape(metric_result, (1, -1)).tolist() if separate else metric_result, ax, model_type, metrics_type, table) \n",
    "\n",
    "            # << Axis Formatting >>\n",
    "\n",
    "            ax.set_title(metrics_type.capitalize(), fontsize='x-large') # y=1.02,\n",
    "            # TODO: Bug with separable mode. The x-axis labels are not being removed\n",
    "            ax.set_xticklabels([] if table else [twp.fill(label, max_line_width_no_table) for label in model_type]) #, rotation=30) #  if not separate else model_type, rotation=30\n",
    "            ax.tick_params(axis='x', which='both', bottom=False)\n",
    "\n",
    "            ax.tick_params(axis='both', which='major', labelsize=11)\n",
    "    \n",
    "    if separate:\n",
    "        for ax, title in zip(axes[:,0], augmented_metrics_dictionary.keys()):\n",
    "            ax.set_ylabel(title.capitalize(), fontsize='xx-large')\n",
    "    \n",
    "    # if organ class like Dataset000_classname, extract classname\n",
    "    import re\n",
    "    match = re.search(r'Dataset\\d+_(\\w+)', organ_class)\n",
    "    if match:\n",
    "        organ_class = match.group(1).lower()\n",
    "\n",
    "    fig.tight_layout()\n",
    "    # fig.set_facecolor('silver')\n",
    "    fig.suptitle(f'Segmentation metrics for the {organ_class.capitalize()} class {additional_title_context}', y=1, fontsize='xx-large', verticalalignment='center', horizontalalignment='center')  # Set the title of the whole plot\n",
    "    fig.subplots_adjust(top=0.88)  # Adjust the plot to make room for the title\n",
    "\n",
    "    # << Saving the Figure >>\n",
    "\n",
    "    if save: \n",
    "        prefix = f'metrics{organ_class}'\n",
    "        postfix = f'{\"separated\" if separate else \"combined\"}{\"table\" if table else \"notable\"}_{\"_\".join(additional_title_context.split(\" \"))}.png'\n",
    "\n",
    "        number = max([0] + [get_id_from_path(fn, False) for fn in os.listdir('metrics/') if fn.startswith(prefix) and fn.endswith(postfix)])\n",
    "\n",
    "        file_name = lambda num: f'{prefix}_{f\"{num}_\"if num is not None else \"\"}{postfix}'\n",
    "\n",
    "        try:\n",
    "            # Move the file\n",
    "            os.makedirs('metrics/old', exist_ok=True)\n",
    "            plt.savefig(f'metrics/{file_name(number + 1)}', bbox_inches='tight')\n",
    "            shutil.move(f'metrics/{file_name(number)}', f'metrics/old/')\n",
    "        except Exception as e:\n",
    "            print(f'WARNING: {e}')\n",
    "    \n",
    "        plt.clf()\n",
    "    else:\n",
    "        plt.show()\n",
    "\n",
    "    "
   ]
  },
  {
   "cell_type": "code",
   "execution_count": 23,
   "metadata": {},
   "outputs": [],
   "source": [
    "include_baseline = False\n",
    "include_nnUNet = False\n",
    "include_TotalSegmentator = False\n",
    "include_MedSAM = False\n",
    "include_UniverSeg = False\n",
    "include_global = False"
   ]
  },
  {
   "cell_type": "code",
   "execution_count": 24,
   "metadata": {},
   "outputs": [],
   "source": [
    "def fetch_metric_for_class(class_id: int):\n",
    "    \"\"\"Prints a plot of the segmentations for the given class in the predefined format.\n",
    "    This method acts in a factory pattern to generate the plot for each class. \n",
    "\n",
    "    Args:\n",
    "        class_id (int): 1: Anorectum ... 5: Parametrium\n",
    "    \"\"\"\n",
    "\n",
    "    setup_data_vars()\n",
    "\n",
    "    classes = [os.environ.get('Anorectum')\n",
    "             , os.environ.get('Bladder')\n",
    "             , os.environ.get('CTVn')\n",
    "             , os.environ.get('CTVp')\n",
    "             , os.environ.get('Parametrium')\n",
    "             , os.environ.get('Uterus')\n",
    "             , os.environ.get('Vagina')]\n",
    "\n",
    "    gt_labels = [os.path.join(os.environ.get('nnUNet_raw'), x, os.environ.get('data_trainingLabels')) for x in classes]\n",
    "    # gt_labels = [os.path.join(os.environ.get('nnUNet_'), x, 'nnUNetPlans_3d_fullres') for x in classes]\n",
    "    # print('WARNING: using old nnUNet predictions. Change to new path when complete')\n",
    "\n",
    "    anorectum = {\n",
    "        'nnUNet': os.path.join(os.environ.get('nnUNet_inference'), os.environ.get('Anorectum'), 'nnUNetTrainer_500epochs__nnUNetResEncUNetLPlans__3d_fullres'),\n",
    "        'nnUNet global': os.path.join(os.environ.get('nnUNet_inference'), os.environ.get('TotalBinary'), 'nnUNetTrainer_500epochs__nnUNetPlans__3d_fullres'),\n",
    "        'nnUNet global custom loss': os.path.join(os.environ.get('nnUNet_inference'), os.environ.get('TotalBinary'), 'nnUNetTrainerCervical_500epochs__nnUNetPlans__3d_fullres'),\n",
    "        'UniverSeg out-of-the-box': os.path.join(os.environ.get('PROJECT_DIR'), 'research/source/code/UniverSeg/results/Anorectum'),\n",
    "        'UniverSeg finetuned': os.path.join(os.environ.get('PROJECT_DIR'), 'research/source/code/UniverSeg/results_finetuned/Anorectum'),\n",
    "        'MedSAM boxed out-of-the-box': os.path.join(os.environ.get('MedSAM_finetuned'), 'boxed_lowres_2', 'Anorectum'),\n",
    "        'MedSAM boxed fine-tuned': os.path.join(os.environ.get('MedSAM_finetuned'), 'boxed_lowres_2', 'Anorectum'),\n",
    "        'total segmentator (fine-tuned)': os.path.join(os.environ.get('TotalSegmentator_inference'), os.environ.get('Anorectum'), 'nnUNetTrainer_250epochs__totseg_nnUNetPlans__3d_fullres'),\n",
    "        'total segmentator (fine-tuned) global': os.path.join(os.environ.get('TotalSegmentator_inference'), os.environ.get('TotalBinary'), 'nnUNetTrainer_500epochs__totseg_nnUNetPlans__3d_fullres'),\n",
    "        'total segmentator (fine-tuned) global custom loss': os.path.join(os.environ.get('TotalSegmentator_inference'), os.environ.get('TotalBinary'), 'nnUNetTrainerCervical_500epochs__totseg_nnUNetPlans__3d_fullres'),\n",
    "    }\n",
    "\n",
    "    bladder = {\n",
    "        'nnUNet': os.path.join(os.environ.get('nnUNet_inference'), os.environ.get('Bladder'), 'nnUNetTrainer_500epochs__nnUNetResEncUNetLPlans__3d_fullres'),\n",
    "        'nnUNet global': os.path.join(os.environ.get('nnUNet_inference'), os.environ.get('TotalBinary'), 'nnUNetTrainer_500epochs__nnUNetPlans__3d_fullres'),\n",
    "        'nnUNet global custom loss': os.path.join(os.environ.get('nnUNet_inference'), os.environ.get('TotalBinary'), 'nnUNetTrainerCervical_500epochs__nnUNetPlans__3d_fullres'),\n",
    "        'UniverSeg out-of-the-box': os.path.join(os.environ.get('PROJECT_DIR'), 'research/source/code/UniverSeg/results/Bladder'),\n",
    "        'UniverSeg finetuned': os.path.join(os.environ.get('PROJECT_DIR'), 'research/source/code/UniverSeg/results_finetuned/Bladder'),\n",
    "        'MedSAM boxed out-of-the-box': os.path.join(os.environ.get('MedSAM_finetuned'), 'boxed_lowres_2', 'Bladder'),\n",
    "        'MedSAM fine-tuned': os.path.join(os.environ.get('MedSAM_finetuned'), 'boxed_lowres_2', 'Bladder'),\n",
    "        'total segmentator': os.path.join(os.environ.get('TotalSegmentator_inference'), os.environ.get('Bladder'), 'nnUNetTrainer__nnUNetPlans__3d_fullres'),\n",
    "        'total segmentator (fine-tuned)': os.path.join(os.environ.get('TotalSegmentator_inference'), os.environ.get('Bladder'), 'nnUNetTrainer_250epochs__totseg_nnUNetPlans__3d_fullres'),\n",
    "        'total segmentator (fine-tuned) global': os.path.join(os.environ.get('TotalSegmentator_inference'), os.environ.get('TotalBinary'), 'nnUNetTrainer_500epochs__totseg_nnUNetPlans__3d_fullres'),\n",
    "        'total segmentator (fine-tuned) global custom loss': os.path.join(os.environ.get('TotalSegmentator_inference'), os.environ.get('TotalBinary'), 'nnUNetTrainerCervical_500epochs__totseg_nnUNetPlans__3d_fullres'),\n",
    "    }\n",
    "\n",
    "    ctvn = {\n",
    "        'nnUNet': os.path.join(os.environ.get('nnUNet_inference'), os.environ.get('CTVn'), 'nnUNetTrainer_500epochs__nnUNetResEncUNetLPlans__3d_fullres'),\n",
    "        'nnUNet global': os.path.join(os.environ.get('nnUNet_inference'), os.environ.get('TotalBinary'), 'nnUNetTrainer_500epochs__nnUNetPlans__3d_fullres'),\n",
    "        'nnUNet global custom loss': os.path.join(os.environ.get('nnUNet_inference'), os.environ.get('TotalBinary'), 'nnUNetTrainerCervical_500epochs__nnUNetPlans__3d_fullres'),\n",
    "        'UniverSeg out-of-the-box': os.path.join(os.environ.get('PROJECT_DIR'), 'research/source/code/UniverSeg/results/CTVn'),\n",
    "        'UniverSeg finetuned': os.path.join(os.environ.get('PROJECT_DIR'), 'research/source/code/UniverSeg/results_finetuned/CTVn'),\n",
    "        'MedSAM boxed out-of-the-box': os.path.join(os.environ.get('MedSAM_finetuned'), 'boxed_lowres_2', 'CTVn'),\n",
    "        'MedSAM fine-tuned': os.path.join(os.environ.get('MedSAM_finetuned'), 'boxed_lowres_2', 'CTVn'),\n",
    "        'total segmentator (fine-tuned)': os.path.join(os.environ.get('TotalSegmentator_inference'), os.environ.get('CTVn'), 'nnUNetTrainer_250epochs__totseg_nnUNetPlans__3d_fullres'),\n",
    "        'total segmentator (fine-tuned) global': os.path.join(os.environ.get('TotalSegmentator_inference'), os.environ.get('TotalBinary'), 'nnUNetTrainer_500epochs__totseg_nnUNetPlans__3d_fullres'),\n",
    "        'total segmentator (fine-tuned) global custom loss': os.path.join(os.environ.get('TotalSegmentator_inference'), os.environ.get('TotalBinary'), 'nnUNetTrainerCervical_500epochs__totseg_nnUNetPlans__3d_fullres'),\n",
    "    }\n",
    "\n",
    "    ctvp = {\n",
    "        'nnUNet': os.path.join(os.environ.get('nnUNet_inference'), os.environ.get('CTVp'), 'nnUNetTrainer_500epochs__nnUNetResEncUNetLPlans__3d_fullres'),\n",
    "        'nnUNet global': os.path.join(os.environ.get('nnUNet_inference'), os.environ.get('TotalBinary'), 'nnUNetTrainer_500epochs__nnUNetPlans__3d_fullres'),\n",
    "        'nnUNet global custom loss': os.path.join(os.environ.get('nnUNet_inference'), os.environ.get('TotalBinary'), 'nnUNetTrainerCervical_500epochs__nnUNetPlans__3d_fullres'),\n",
    "        'UniverSeg out-of-the-box': os.path.join(os.environ.get('PROJECT_DIR'), 'research/source/code/UniverSeg/results/CTVp'),\n",
    "        'UniverSeg finetuned': os.path.join(os.environ.get('PROJECT_DIR'), 'research/source/code/UniverSeg/results_finetuned/CTVp'),\n",
    "        'MedSAM boxed out-of-the-box': os.path.join(os.environ.get('MedSAM_finetuned'), 'boxed_lowres_2', 'CTVp'),\n",
    "        'MedSAM fine-tuned': os.path.join(os.environ.get('MedSAM_finetuned'), 'boxed_lowres_2', 'CTVp'),\n",
    "        'total segmentator (fine-tuned)': os.path.join(os.environ.get('TotalSegmentator_inference'), os.environ.get('CTVp'), 'nnUNetTrainer_250epochs__totseg_nnUNetPlans__3d_fullres'),\n",
    "        'total segmentator (fine-tuned) global': os.path.join(os.environ.get('TotalSegmentator_inference'), os.environ.get('TotalBinary'), 'nnUNetTrainer_500epochs__totseg_nnUNetPlans__3d_fullres'),\n",
    "        'total segmentator (fine-tuned) global custom loss': os.path.join(os.environ.get('TotalSegmentator_inference'), os.environ.get('TotalBinary'), 'nnUNetTrainerCervical_500epochs__totseg_nnUNetPlans__3d_fullres'),\n",
    "    }\n",
    "\n",
    "    parametrium = {\n",
    "        'nnUNet': os.path.join(os.environ.get('nnUNet_inference'), os.environ.get('Parametrium'), 'nnUNetTrainer_500epochs__nnUNetResEncUNetLPlans__3d_fullres'),\n",
    "        'nnUNet global': os.path.join(os.environ.get('nnUNet_inference'), os.environ.get('TotalBinary'), 'nnUNetTrainer_500epochs__nnUNetPlans__3d_fullres'),\n",
    "        'nnUNet global custom loss': os.path.join(os.environ.get('nnUNet_inference'), os.environ.get('TotalBinary'), 'nnUNetTrainerCervical_500epochs__nnUNetPlans__3d_fullres'),\n",
    "        'UniverSeg out-of-the-box': os.path.join(os.environ.get('PROJECT_DIR'), 'research/source/code/UniverSeg/results/Parametrium'),\n",
    "        # 'UniverSeg finetuned': os.path.join(os.environ.get('PROJECT_DIR'), 'research/source/code/UniverSeg/results_finetuned/Parametrium'),\n",
    "        'MedSAM boxed out-of-the-box': os.path.join(os.environ.get('MedSAM_finetuned'), 'boxed_lowres_2', 'Parametrium'),\n",
    "        'MedSAM fine-tuned': os.path.join(os.environ.get('MedSAM_finetuned'), 'boxed_lowres_2', 'Parametrium'),\n",
    "        'total segmentator (fine-tuned)': os.path.join(os.environ.get('TotalSegmentator_inference'), os.environ.get('Parametrium'), 'nnUNetTrainer_250epochs__totseg_nnUNetPlans__3d_fullres'),\n",
    "        'total segmentator (fine-tuned) global': os.path.join(os.environ.get('TotalSegmentator_inference'), os.environ.get('TotalBinary'), 'nnUNetTrainer_500epochs__totseg_nnUNetPlans__3d_fullres'),\n",
    "        'total segmentator (fine-tuned) global custom loss': os.path.join(os.environ.get('TotalSegmentator_inference'), os.environ.get('TotalBinary'), 'nnUNetTrainerCervical_500epochs__totseg_nnUNetPlans__3d_fullres'),\n",
    "    }\n",
    "\n",
    "    uterus = {\n",
    "        'nnUNet': os.path.join(os.environ.get('nnUNet_inference'), os.environ.get('Uterus'), 'nnUNetTrainer_500epochs__nnUNetResEncUNetLPlans__3d_fullres'),\n",
    "        'nnUNet global': os.path.join(os.environ.get('nnUNet_inference'), os.environ.get('TotalBinary'), 'nnUNetTrainer_500epochs__nnUNetPlans__3d_fullres'),\n",
    "        'nnUNet global custom loss': os.path.join(os.environ.get('nnUNet_inference'), os.environ.get('TotalBinary'), 'nnUNetTrainerCervical_500epochs__nnUNetPlans__3d_fullres'),\n",
    "        'UniverSeg out-of-the-box': os.path.join(os.environ.get('PROJECT_DIR'), 'research/source/code/UniverSeg/results/Uterus'),\n",
    "        # 'UniverSeg finetuned': os.path.join(os.environ.get('PROJECT_DIR'), 'research/source/code/UniverSeg/results_finetuned/Uterus'),\n",
    "        'MedSAM boxed out-of-the-box': os.path.join(os.environ.get('MedSAM_finetuned'), 'boxed_lowres_2', 'Uterus'),\n",
    "        'MedSAM fine-tuned': os.path.join(os.environ.get('MedSAM_finetuned'), 'boxed_lowres_2', 'Uterus'),\n",
    "        'total segmentator (fine-tuned)': os.path.join(os.environ.get('TotalSegmentator_inference'), os.environ.get('Uterus'), 'nnUNetTrainer_250epochs__totseg_nnUNetPlans__3d_fullres'),\n",
    "        'total segmentator (fine-tuned) global': os.path.join(os.environ.get('TotalSegmentator_inference'), os.environ.get('TotalBinary'), 'nnUNetTrainer_500epochs__totseg_nnUNetPlans__3d_fullres'),\n",
    "        'total segmentator (fine-tuned) global custom loss': os.path.join(os.environ.get('TotalSegmentator_inference'), os.environ.get('TotalBinary'), 'nnUNetTrainerCervical_500epochs__totseg_nnUNetPlans__3d_fullres'),\n",
    "    }\n",
    "\n",
    "    vagina = {\n",
    "        'nnUNet': os.path.join(os.environ.get('nnUNet_inference'), os.environ.get('Vagina'), 'nnUNetTrainer_500epochs__nnUNetResEncUNetLPlans__3d_fullres'),\n",
    "        'nnUNet global': os.path.join(os.environ.get('nnUNet_inference'), os.environ.get('TotalBinary'), 'nnUNetTrainer_500epochs__nnUNetPlans__3d_fullres'),\n",
    "        'nnUNet global custom loss': os.path.join(os.environ.get('nnUNet_inference'), os.environ.get('TotalBinary'), 'nnUNetTrainerCervical_500epochs__nnUNetPlans__3d_fullres'),\n",
    "        'UniverSeg out-of-the-box': os.path.join(os.environ.get('PROJECT_DIR'), 'research/source/code/UniverSeg/results/Vagina'),\n",
    "        # 'UniverSeg finetuned': os.path.join(os.environ.get('PROJECT_DIR'), 'research/source/code/UniverSeg/results_finetuned/Vagina'),\n",
    "        'MedSAM boxed out-of-the-box': os.path.join(os.environ.get('MedSAM_finetuned'), 'boxed_lowres_2', 'Vagina'),\n",
    "        'MedSAM fine-tuned': os.path.join(os.environ.get('MedSAM_finetuned'), 'boxed_lowres_2', 'Vagina'),\n",
    "        'total segmentator (fine-tuned)': os.path.join(os.environ.get('TotalSegmentator_inference'), os.environ.get('Vagina'), 'nnUNetTrainer_250epochs__totseg_nnUNetPlans__3d_fullres'),\n",
    "        'total segmentator (fine-tuned) global': os.path.join(os.environ.get('TotalSegmentator_inference'), os.environ.get('TotalBinary'), 'nnUNetTrainer_500epochs__totseg_nnUNetPlans__3d_fullres'),\n",
    "        'total segmentator (fine-tuned) global custom loss': os.path.join(os.environ.get('TotalSegmentator_inference'), os.environ.get('TotalBinary'), 'nnUNetTrainerCervical_500epochs__totseg_nnUNetPlans__3d_fullres'),\n",
    "    }\n",
    "\n",
    "    predictions = [anorectum, bladder, ctvn, ctvp, parametrium, uterus, vagina]\n",
    "\n",
    "    if 1 <= class_id <= len(predictions):\n",
    "\n",
    "        prediction = dict()\n",
    "\n",
    "        for k in predictions[class_id - 1].keys():\n",
    "            if ('nnUNet' == k and include_baseline) or\\\n",
    "               ('nnUNet' in k and 'global' not in k and include_nnUNet) or\\\n",
    "               ('total segmentator' in k and 'global' not in k and include_TotalSegmentator) or\\\n",
    "               ('MedSAM' in k and include_MedSAM) or\\\n",
    "               ('UniverSeg' in k and include_UniverSeg) or\\\n",
    "               ('global' in k and include_global):\n",
    "                prediction[k] =  predictions[class_id - 1][k]   \n",
    "\n",
    "        return calculate_metrics(gt_labels[class_id - 1], prediction, class_id - 1)\n",
    "    raise ValueError(\"Invalid class_id. Please choose a class between 1 and 5.\")"
   ]
  },
  {
   "cell_type": "markdown",
   "metadata": {},
   "source": [
    "# Plotting Section"
   ]
  },
  {
   "cell_type": "code",
   "execution_count": 25,
   "metadata": {},
   "outputs": [],
   "source": [
    "latex_table_aggregator = dict()"
   ]
  },
  {
   "cell_type": "code",
   "execution_count": 26,
   "metadata": {},
   "outputs": [],
   "source": [
    "def dump_and_reset_latex_table_aggregator():\n",
    "    pivot_key = list(latex_table_aggregator.keys())[0]\n",
    "    for metric_name in latex_table_aggregator[pivot_key].keys():\n",
    "        # pad the string with spaces to get to a certain length\n",
    "        print(metric_name)\n",
    "\n",
    "        for anatomy in latex_table_aggregator.keys():\n",
    "            print(anatomy.split('_')[1].ljust(13), end=' & ')\n",
    "            print(latex_table_aggregator[anatomy][metric_name], end=' \\\\\\\\\\n')\n",
    "\n",
    "    latex_table_aggregator.clear()\n",
    "        "
   ]
  },
  {
   "cell_type": "code",
   "execution_count": 27,
   "metadata": {},
   "outputs": [],
   "source": [
    "save = True\n",
    "separate = False\n",
    "table = False"
   ]
  },
  {
   "cell_type": "markdown",
   "metadata": {},
   "source": [
    "### Plot for MedSAM"
   ]
  },
  {
   "cell_type": "code",
   "execution_count": 28,
   "metadata": {},
   "outputs": [
    {
     "name": "stdout",
     "output_type": "stream",
     "text": [
      "Fetching metrics for  Dataset001_Anorectum  id  1\n",
      "------------------------------------\n",
      "Calculating metrics for  nnUNet\n",
      "WARNING: [Errno 2] No such file or directory: 'metrics/metricsanorectum_0_combinednotable_MedSAM_analysis.png'\n",
      "------------------------------------\n",
      "Fetching metrics for  Dataset002_Bladder  id  2\n",
      "------------------------------------\n",
      "Calculating metrics for  nnUNet\n",
      "WARNING: [Errno 2] No such file or directory: 'metrics/metricsbladder_0_combinednotable_MedSAM_analysis.png'\n",
      "------------------------------------\n",
      "Fetching metrics for  Dataset003_CTVn  id  3\n",
      "------------------------------------\n",
      "Calculating metrics for  nnUNet\n",
      "WARNING: [Errno 2] No such file or directory: 'metrics/metricsctvn_0_combinednotable_MedSAM_analysis.png'\n",
      "------------------------------------\n",
      "Fetching metrics for  Dataset004_CTVp  id  4\n",
      "------------------------------------\n",
      "Calculating metrics for  nnUNet\n",
      "WARNING: [Errno 2] No such file or directory: 'metrics/metricsctvp_0_combinednotable_MedSAM_analysis.png'\n",
      "------------------------------------\n",
      "Fetching metrics for  Dataset005_Parametrium  id  5\n",
      "------------------------------------\n",
      "Calculating metrics for  nnUNet\n",
      "WARNING: [Errno 2] No such file or directory: 'metrics/metricsparametrium_0_combinednotable_MedSAM_analysis.png'\n",
      "------------------------------------\n",
      "Fetching metrics for  Dataset006_Uterus  id  6\n",
      "------------------------------------\n",
      "Calculating metrics for  nnUNet\n",
      "WARNING: [Errno 2] No such file or directory: 'metrics/metricsuterus_0_combinednotable_MedSAM_analysis.png'\n",
      "------------------------------------\n",
      "Fetching metrics for  Dataset007_Vagina  id  7\n",
      "------------------------------------\n",
      "Calculating metrics for  nnUNet\n",
      "WARNING: [Errno 2] No such file or directory: 'metrics/metricsvagina_0_combinednotable_MedSAM_analysis.png'\n",
      "------------------------------------\n",
      "Added Path Length\n",
      "Anorectum     & 1.06 & 1.96 & 0.45 & 23.98 & 26.87 & 15.00 & 6.94 & 11.51 & 1.00 \\\\\n",
      "Bladder       & 1.21 & 2.06 & 0.71 & 13.88 & 13.99 & 10.00 & 5.46 & 8.52 & 2.00 \\\\\n",
      "CTVn          & 3.89 & 3.01 & 3.07 & 115.82 & 74.00 & 102.00 & 29.49 & 36.71 & 17.00 \\\\\n",
      "CTVp          & 1.25 & 1.51 & 0.80 & 25.73 & 22.11 & 20.00 & 9.86 & 12.95 & 5.00 \\\\\n",
      "Parametrium   & 2.97 & 2.14 & 2.45 & 61.40 & 33.76 & 57.00 & 21.80 & 20.76 & 16.00 \\\\\n",
      "Uterus        & 1.11 & 1.17 & 0.80 & 22.75 & 20.33 & 18.00 & 8.49 & 10.85 & 4.00 \\\\\n",
      "Vagina        & 0.34 & 0.42 & 0.20 & 19.05 & 10.79 & 17.00 & 5.19 & 6.90 & 2.00 \\\\\n",
      "DICE Similarity Coefficient\n",
      "Anorectum     & 0.91 & 0.03 & 0.92 & 0.78 & 0.14 & 0.81 & 0.91 & 0.05 & 0.92 \\\\\n",
      "Bladder       & 0.94 & 0.06 & 0.97 & 0.92 & 0.07 & 0.94 & 0.95 & 0.05 & 0.97 \\\\\n",
      "CTVn          & 0.93 & 0.01 & 0.94 & 0.52 & 0.13 & 0.53 & 0.89 & 0.05 & 0.90 \\\\\n",
      "CTVp          & 0.94 & 0.01 & 0.94 & 0.82 & 0.12 & 0.85 & 0.91 & 0.06 & 0.92 \\\\\n",
      "Parametrium   & 0.93 & 0.01 & 0.93 & 0.66 & 0.14 & 0.68 & 0.87 & 0.07 & 0.88 \\\\\n",
      "Uterus        & 0.94 & 0.01 & 0.94 & 0.85 & 0.08 & 0.87 & 0.92 & 0.05 & 0.93 \\\\\n",
      "Vagina        & 0.89 & 0.04 & 0.90 & 0.65 & 0.14 & 0.67 & 0.83 & 0.07 & 0.85 \\\\\n",
      "Haussdorf Distance\n",
      "Anorectum     & 12.14 & 27.81 & 5.05 & 4.83 & 3.35 & 3.61 & 2.36 & 1.61 & 2.00 \\\\\n",
      "Bladder       & 77.16 & 71.94 & 96.79 & 2.96 & 1.60 & 2.24 & 2.82 & 7.93 & 2.00 \\\\\n",
      "CTVn          & 8.92 & 2.90 & 8.30 & 12.24 & 5.44 & 10.77 & 4.34 & 3.24 & 3.61 \\\\\n",
      "CTVp          & 8.88 & 26.86 & 5.92 & 5.38 & 3.70 & 4.24 & 2.89 & 1.83 & 2.24 \\\\\n",
      "Parametrium   & 11.28 & 19.53 & 8.06 & 8.92 & 3.60 & 8.49 & 4.30 & 2.63 & 3.61 \\\\\n",
      "Uterus        & 6.01 & 2.61 & 5.79 & 4.79 & 3.08 & 4.00 & 3.16 & 6.11 & 2.24 \\\\\n",
      "Vagina        & 6.75 & 21.72 & 4.12 & 4.81 & 1.60 & 5.00 & 2.48 & 1.35 & 2.24 \\\\\n",
      "Relative Volume Difference\n",
      "Anorectum     & 0.04 & 0.06 & 0.03 & 0.04 & 0.29 & 0.02 & -0.00 & 0.11 & 0.01 \\\\\n",
      "Bladder       & -0.04 & 0.12 & -0.02 & -0.05 & 0.12 & -0.04 & -0.03 & 0.08 & -0.01 \\\\\n",
      "CTVn          & -0.01 & 0.03 & -0.01 & 0.33 & 0.50 & 0.37 & -0.06 & 0.10 & -0.05 \\\\\n",
      "CTVp          & -0.01 & 0.04 & -0.00 & 0.05 & 0.22 & 0.04 & -0.02 & 0.10 & -0.01 \\\\\n",
      "Parametrium   & 0.01 & 0.03 & 0.01 & 0.31 & 0.33 & 0.32 & -0.05 & 0.14 & -0.03 \\\\\n",
      "Uterus        & 0.00 & 0.05 & 0.00 & 0.09 & 0.19 & 0.07 & -0.02 & 0.09 & -0.01 \\\\\n",
      "Vagina        & 0.11 & 0.09 & 0.09 & 0.13 & 0.36 & 0.11 & -0.03 & 0.18 & -0.02 \\\\\n",
      "Surface DSC\n",
      "Anorectum     & 0.99 & 0.02 & 1.00 & 0.35 & 0.15 & 0.33 & 0.58 & 0.15 & 0.58 \\\\\n",
      "Bladder       & 0.97 & 0.06 & 1.00 & 0.44 & 0.13 & 0.44 & 0.59 & 0.12 & 0.60 \\\\\n",
      "CTVn          & 0.99 & 0.01 & 0.99 & 0.12 & 0.06 & 0.11 & 0.48 & 0.13 & 0.47 \\\\\n",
      "CTVp          & 0.99 & 0.01 & 0.99 & 0.35 & 0.13 & 0.35 & 0.53 & 0.14 & 0.52 \\\\\n",
      "Parametrium   & 0.99 & 0.01 & 0.99 & 0.19 & 0.09 & 0.18 & 0.41 & 0.12 & 0.41 \\\\\n",
      "Uterus        & 0.99 & 0.01 & 0.99 & 0.37 & 0.14 & 0.36 & 0.54 & 0.14 & 0.53 \\\\\n",
      "Vagina        & 0.99 & 0.01 & 1.00 & 0.29 & 0.12 & 0.28 & 0.51 & 0.14 & 0.52 \\\\\n"
     ]
    },
    {
     "data": {
      "text/plain": [
       "<Figure size 2240x520 with 0 Axes>"
      ]
     },
     "metadata": {},
     "output_type": "display_data"
    },
    {
     "data": {
      "text/plain": [
       "<Figure size 2240x520 with 0 Axes>"
      ]
     },
     "metadata": {},
     "output_type": "display_data"
    },
    {
     "data": {
      "text/plain": [
       "<Figure size 2240x520 with 0 Axes>"
      ]
     },
     "metadata": {},
     "output_type": "display_data"
    },
    {
     "data": {
      "text/plain": [
       "<Figure size 2240x520 with 0 Axes>"
      ]
     },
     "metadata": {},
     "output_type": "display_data"
    },
    {
     "data": {
      "text/plain": [
       "<Figure size 2240x520 with 0 Axes>"
      ]
     },
     "metadata": {},
     "output_type": "display_data"
    },
    {
     "data": {
      "text/plain": [
       "<Figure size 2240x520 with 0 Axes>"
      ]
     },
     "metadata": {},
     "output_type": "display_data"
    },
    {
     "data": {
      "text/plain": [
       "<Figure size 2240x520 with 0 Axes>"
      ]
     },
     "metadata": {},
     "output_type": "display_data"
    }
   ],
   "source": [
    "include_baseline = True\n",
    "include_nnUNet = False\n",
    "include_TotalSegmentator = False\n",
    "include_MedSAM = True\n",
    "include_UniverSeg = False\n",
    "include_global = False\n",
    "\n",
    "split_axis = False\n",
    "\n",
    "for c in [\n",
    "             os.environ.get('Anorectum'),\n",
    "             os.environ.get('Bladder'),\n",
    "             os.environ.get('CTVn'),\n",
    "             os.environ.get('CTVp'),\n",
    "             os.environ.get('Parametrium'),\n",
    "             os.environ.get('Uterus'),\n",
    "             os.environ.get('Vagina'),\n",
    "             ]:\n",
    "    id = int(c.split('_')[0][len('Dataset'):])\n",
    "    print('Fetching metrics for ', c, ' id ', id)\n",
    "    print('------------------------------------')\n",
    "    metrics = fetch_metric_for_class(id)\n",
    "    plot_metrics(metrics, c, save=save, separate=separate, table=table, showfliers=False, additional_title_context='MedSAM analysis')\n",
    "    print('------------------------------------')\n",
    "\n",
    "dump_and_reset_latex_table_aggregator()"
   ]
  },
  {
   "cell_type": "code",
   "execution_count": 29,
   "metadata": {},
   "outputs": [
    {
     "name": "stdout",
     "output_type": "stream",
     "text": [
      "Fetching metrics for  Dataset001_Anorectum  id  1\n",
      "------------------------------------\n",
      "Calculating metrics for  nnUNet\n",
      "WARNING: [Errno 2] No such file or directory: 'metrics/metricsanorectum_0_combinednotable_MedSAM_split_analysis.png'\n",
      "------------------------------------\n",
      "Fetching metrics for  Dataset002_Bladder  id  2\n",
      "------------------------------------\n",
      "Calculating metrics for  nnUNet\n",
      "WARNING: [Errno 2] No such file or directory: 'metrics/metricsbladder_0_combinednotable_MedSAM_split_analysis.png'\n",
      "------------------------------------\n",
      "Fetching metrics for  Dataset003_CTVn  id  3\n",
      "------------------------------------\n",
      "Calculating metrics for  nnUNet\n",
      "WARNING: [Errno 2] No such file or directory: 'metrics/metricsctvn_0_combinednotable_MedSAM_split_analysis.png'\n",
      "------------------------------------\n",
      "Fetching metrics for  Dataset004_CTVp  id  4\n",
      "------------------------------------\n",
      "Calculating metrics for  nnUNet\n",
      "WARNING: [Errno 2] No such file or directory: 'metrics/metricsctvp_0_combinednotable_MedSAM_split_analysis.png'\n",
      "------------------------------------\n",
      "Fetching metrics for  Dataset005_Parametrium  id  5\n",
      "------------------------------------\n",
      "Calculating metrics for  nnUNet\n",
      "WARNING: [Errno 2] No such file or directory: 'metrics/metricsparametrium_0_combinednotable_MedSAM_split_analysis.png'\n",
      "------------------------------------\n",
      "Fetching metrics for  Dataset006_Uterus  id  6\n",
      "------------------------------------\n",
      "Calculating metrics for  nnUNet\n",
      "WARNING: [Errno 2] No such file or directory: 'metrics/metricsuterus_0_combinednotable_MedSAM_split_analysis.png'\n",
      "------------------------------------\n",
      "Fetching metrics for  Dataset007_Vagina  id  7\n",
      "------------------------------------\n",
      "Calculating metrics for  nnUNet\n",
      "WARNING: [Errno 2] No such file or directory: 'metrics/metricsvagina_0_combinednotable_MedSAM_split_analysis.png'\n",
      "------------------------------------\n",
      "Added Path Length\n",
      "Anorectum     & 1.06 & 1.96 & 0.45 & 7.63 & 9.32 & 4.00 & 24.34 & 19.49 & 20.00 & 46.09 & 34.98 & 38.00 & 23.98 & 26.87 & 15.00 & 0.90 & 2.86 & 0.00 & 6.66 & 9.54 & 3.00 & 15.58 & 15.36 & 11.00 & 6.94 & 11.51 & 1.00 \\\\\n",
      "Bladder       & 1.21 & 2.06 & 0.71 & 10.30 & 11.42 & 7.00 & 16.31 & 15.62 & 12.00 & 14.33 & 13.70 & 10.00 & 13.88 & 13.99 & 10.00 & 2.25 & 5.39 & 0.00 & 8.67 & 11.90 & 4.00 & 5.08 & 5.79 & 3.00 & 5.46 & 8.52 & 2.00 \\\\\n",
      "CTVn          & 3.89 & 3.01 & 3.07 & 78.58 & 34.51 & 69.00 & 186.31 & 111.71 & 175.00 & 124.28 & 45.64 & 127.00 & 115.82 & 74.00 & 102.00 & 9.44 & 12.99 & 4.00 & 52.68 & 50.37 & 38.00 & 42.43 & 33.56 & 36.00 & 29.49 & 36.71 & 17.00 \\\\\n",
      "CTVp          & 1.25 & 1.51 & 0.80 & 13.93 & 12.18 & 12.00 & 28.32 & 23.45 & 23.00 & 36.34 & 23.08 & 32.00 & 25.73 & 22.11 & 20.00 & 2.32 & 4.46 & 0.00 & 14.44 & 14.36 & 10.00 & 13.69 & 13.96 & 9.00 & 9.86 & 12.95 & 5.00 \\\\\n",
      "Parametrium   & 2.97 & 2.14 & 2.45 & 58.75 & 30.95 & 59.00 & 84.67 & 49.74 & 84.00 & 53.02 & 19.39 & 53.00 & 61.40 & 33.76 & 57.00 & 12.40 & 13.46 & 8.00 & 38.28 & 29.62 & 34.00 & 19.49 & 14.69 & 17.00 & 21.80 & 20.76 & 16.00 \\\\\n",
      "Uterus        & 1.11 & 1.17 & 0.80 & 12.53 & 12.50 & 9.00 & 25.99 & 22.39 & 21.00 & 28.37 & 20.37 & 25.00 & 22.75 & 20.33 & 18.00 & 1.95 & 4.19 & 0.00 & 11.93 & 12.04 & 8.00 & 10.71 & 11.12 & 7.00 & 8.49 & 10.85 & 4.00 \\\\\n",
      "Vagina        & 0.34 & 0.42 & 0.20 & 14.98 & 9.09 & 15.00 & 25.00 & 12.71 & 24.00 & 17.29 & 8.33 & 16.00 & 19.05 & 10.79 & 17.00 & 2.95 & 4.56 & 0.50 & 7.76 & 7.99 & 5.00 & 4.66 & 6.60 & 2.00 & 5.19 & 6.90 & 2.00 \\\\\n",
      "DICE Similarity Coefficient\n",
      "Anorectum     & 0.91 & 0.03 & 0.92 & 0.80 & 0.13 & 0.84 & 0.79 & 0.13 & 0.82 & 0.72 & 0.16 & 0.76 & 0.78 & 0.14 & 0.81 & 0.94 & 0.04 & 0.94 & 0.90 & 0.04 & 0.91 & 0.88 & 0.05 & 0.88 & 0.91 & 0.05 & 0.92 \\\\\n",
      "Bladder       & 0.94 & 0.06 & 0.97 & 0.92 & 0.07 & 0.95 & 0.92 & 0.07 & 0.95 & 0.92 & 0.08 & 0.94 & 0.92 & 0.07 & 0.94 & 0.96 & 0.03 & 0.97 & 0.95 & 0.05 & 0.96 & 0.94 & 0.05 & 0.96 & 0.95 & 0.05 & 0.97 \\\\\n",
      "CTVn          & 0.93 & 0.01 & 0.94 & 0.52 & 0.12 & 0.54 & 0.50 & 0.13 & 0.51 & 0.53 & 0.14 & 0.53 & 0.52 & 0.13 & 0.53 & 0.91 & 0.04 & 0.92 & 0.86 & 0.05 & 0.88 & 0.88 & 0.06 & 0.89 & 0.89 & 0.05 & 0.90 \\\\\n",
      "CTVp          & 0.94 & 0.01 & 0.94 & 0.82 & 0.13 & 0.87 & 0.85 & 0.10 & 0.87 & 0.79 & 0.12 & 0.82 & 0.82 & 0.12 & 0.85 & 0.93 & 0.05 & 0.95 & 0.91 & 0.05 & 0.92 & 0.88 & 0.06 & 0.89 & 0.91 & 0.06 & 0.92 \\\\\n",
      "Parametrium   & 0.93 & 0.01 & 0.93 & 0.69 & 0.11 & 0.71 & 0.64 & 0.17 & 0.68 & 0.65 & 0.14 & 0.67 & 0.66 & 0.14 & 0.68 & 0.90 & 0.05 & 0.91 & 0.85 & 0.08 & 0.86 & 0.86 & 0.06 & 0.87 & 0.87 & 0.07 & 0.88 \\\\\n",
      "Uterus        & 0.94 & 0.01 & 0.94 & 0.87 & 0.07 & 0.89 & 0.86 & 0.08 & 0.88 & 0.83 & 0.09 & 0.85 & 0.85 & 0.08 & 0.87 & 0.95 & 0.03 & 0.95 & 0.91 & 0.05 & 0.92 & 0.90 & 0.05 & 0.91 & 0.92 & 0.05 & 0.93 \\\\\n",
      "Vagina        & 0.89 & 0.04 & 0.90 & 0.67 & 0.17 & 0.69 & 0.66 & 0.14 & 0.67 & 0.64 & 0.11 & 0.66 & 0.65 & 0.14 & 0.67 & 0.87 & 0.06 & 0.88 & 0.82 & 0.08 & 0.84 & 0.82 & 0.06 & 0.83 & 0.83 & 0.07 & 0.85 \\\\\n",
      "Haussdorf Distance\n",
      "Anorectum     & 12.14 & 27.81 & 5.05 & 3.16 & 2.15 & 2.24 & 4.76 & 2.76 & 4.12 & 7.23 & 3.96 & 6.71 & 4.83 & 3.35 & 3.61 & 1.41 & 0.72 & 1.00 & 2.56 & 1.61 & 2.00 & 3.40 & 1.74 & 3.00 & 2.36 & 1.61 & 2.00 \\\\\n",
      "Bladder       & 77.16 & 71.94 & 96.79 & 2.59 & 1.65 & 2.24 & 3.07 & 1.41 & 2.83 & 3.12 & 1.67 & 2.83 & 2.96 & 1.60 & 2.24 & 1.75 & 0.98 & 1.41 & 4.35 & 13.88 & 2.00 & 2.34 & 1.11 & 2.00 & 2.82 & 7.93 & 2.00 \\\\\n",
      "CTVn          & 8.92 & 2.90 & 8.30 & 9.49 & 2.47 & 9.22 & 14.50 & 6.94 & 15.13 & 14.66 & 5.59 & 14.32 & 12.24 & 5.44 & 10.77 & 2.81 & 1.73 & 2.24 & 5.44 & 3.60 & 4.24 & 5.79 & 3.64 & 5.00 & 4.34 & 3.24 & 3.61 \\\\\n",
      "CTVp          & 8.88 & 26.86 & 5.92 & 3.63 & 1.91 & 3.00 & 4.84 & 2.51 & 4.24 & 7.87 & 4.74 & 6.71 & 5.38 & 3.70 & 4.24 & 1.85 & 1.24 & 1.41 & 3.31 & 1.61 & 3.00 & 3.61 & 2.04 & 3.00 & 2.89 & 1.83 & 2.24 \\\\\n",
      "Parametrium   & 11.28 & 19.53 & 8.06 & 8.53 & 3.56 & 8.25 & 9.55 & 4.41 & 8.54 & 8.85 & 3.19 & 8.49 & 8.92 & 3.60 & 8.49 & 3.50 & 2.34 & 2.83 & 5.47 & 3.77 & 4.47 & 4.20 & 1.97 & 3.61 & 4.30 & 2.63 & 3.61 \\\\\n",
      "Uterus        & 6.01 & 2.61 & 5.79 & 3.22 & 1.70 & 2.83 & 5.00 & 3.48 & 4.12 & 5.94 & 3.02 & 5.39 & 4.79 & 3.08 & 4.00 & 1.80 & 1.19 & 1.41 & 3.28 & 1.64 & 2.83 & 4.23 & 9.99 & 2.83 & 3.16 & 6.11 & 2.24 \\\\\n",
      "Vagina        & 6.75 & 21.72 & 4.12 & 4.37 & 1.84 & 4.12 & 4.94 & 1.54 & 5.00 & 4.96 & 1.46 & 5.00 & 4.81 & 1.60 & 5.00 & 1.98 & 0.95 & 2.00 & 2.70 & 1.26 & 2.24 & 2.59 & 1.52 & 2.24 & 2.48 & 1.35 & 2.24 \\\\\n",
      "Relative Volume Difference\n",
      "Anorectum     & 0.04 & 0.06 & 0.03 & 0.07 & 0.31 & 0.01 & 0.08 & 0.23 & 0.07 & -0.08 & 0.29 & -0.07 & 0.04 & 0.29 & 0.02 & 0.02 & 0.08 & 0.02 & -0.01 & 0.11 & 0.00 & -0.02 & 0.13 & -0.01 & -0.00 & 0.11 & 0.01 \\\\\n",
      "Bladder       & -0.04 & 0.12 & -0.02 & -0.04 & 0.13 & -0.04 & -0.04 & 0.13 & -0.03 & -0.07 & 0.11 & -0.05 & -0.05 & 0.12 & -0.04 & -0.01 & 0.06 & -0.01 & -0.04 & 0.09 & -0.02 & -0.04 & 0.09 & -0.02 & -0.03 & 0.08 & -0.01 \\\\\n",
      "CTVn          & -0.01 & 0.03 & -0.01 & 0.57 & 0.39 & 0.56 & 0.08 & 0.47 & -0.00 & 0.14 & 0.51 & 0.19 & 0.33 & 0.50 & 0.37 & -0.04 & 0.08 & -0.04 & -0.08 & 0.11 & -0.07 & -0.07 & 0.11 & -0.06 & -0.06 & 0.10 & -0.05 \\\\\n",
      "CTVp          & -0.01 & 0.04 & -0.00 & 0.09 & 0.25 & 0.06 & 0.07 & 0.18 & 0.05 & -0.02 & 0.21 & 0.00 & 0.05 & 0.22 & 0.04 & -0.04 & 0.09 & -0.02 & -0.03 & 0.11 & -0.01 & -0.00 & 0.11 & 0.01 & -0.02 & 0.10 & -0.01 \\\\\n",
      "Parametrium   & 0.01 & 0.03 & 0.01 & 0.39 & 0.27 & 0.40 & 0.24 & 0.35 & 0.25 & 0.31 & 0.34 & 0.30 & 0.31 & 0.33 & 0.32 & -0.02 & 0.10 & 0.00 & -0.07 & 0.16 & -0.05 & -0.05 & 0.14 & -0.03 & -0.05 & 0.14 & -0.03 \\\\\n",
      "Uterus        & 0.00 & 0.05 & 0.00 & 0.06 & 0.18 & 0.05 & 0.10 & 0.19 & 0.07 & 0.11 & 0.19 & 0.09 & 0.09 & 0.19 & 0.07 & -0.02 & 0.06 & -0.01 & -0.03 & 0.10 & -0.02 & 0.00 & 0.11 & 0.00 & -0.02 & 0.09 & -0.01 \\\\\n",
      "Vagina        & 0.11 & 0.09 & 0.09 & 0.19 & 0.40 & 0.16 & 0.11 & 0.33 & 0.10 & 0.10 & 0.36 & 0.11 & 0.13 & 0.36 & 0.11 & -0.08 & 0.14 & -0.06 & -0.05 & 0.22 & -0.04 & 0.02 & 0.17 & 0.05 & -0.03 & 0.18 & -0.02 \\\\\n",
      "Surface DSC\n",
      "Anorectum     & 0.99 & 0.02 & 1.00 & 0.40 & 0.16 & 0.41 & 0.33 & 0.14 & 0.32 & 0.29 & 0.13 & 0.27 & 0.35 & 0.15 & 0.33 & 0.70 & 0.12 & 0.72 & 0.53 & 0.12 & 0.53 & 0.49 & 0.12 & 0.47 & 0.58 & 0.15 & 0.58 \\\\\n",
      "Bladder       & 0.97 & 0.06 & 1.00 & 0.44 & 0.14 & 0.44 & 0.44 & 0.12 & 0.45 & 0.43 & 0.12 & 0.43 & 0.44 & 0.13 & 0.44 & 0.67 & 0.11 & 0.68 & 0.57 & 0.13 & 0.58 & 0.57 & 0.11 & 0.58 & 0.59 & 0.12 & 0.60 \\\\\n",
      "CTVn          & 0.99 & 0.01 & 0.99 & 0.12 & 0.07 & 0.11 & 0.13 & 0.06 & 0.12 & 0.12 & 0.05 & 0.11 & 0.12 & 0.06 & 0.11 & 0.57 & 0.11 & 0.57 & 0.42 & 0.10 & 0.43 & 0.40 & 0.11 & 0.39 & 0.48 & 0.13 & 0.47 \\\\\n",
      "CTVp          & 0.99 & 0.01 & 0.99 & 0.37 & 0.14 & 0.37 & 0.35 & 0.14 & 0.34 & 0.33 & 0.12 & 0.33 & 0.35 & 0.13 & 0.35 & 0.63 & 0.13 & 0.64 & 0.46 & 0.12 & 0.46 & 0.48 & 0.11 & 0.47 & 0.53 & 0.14 & 0.52 \\\\\n",
      "Parametrium   & 0.99 & 0.01 & 0.99 & 0.21 & 0.09 & 0.19 & 0.18 & 0.09 & 0.17 & 0.19 & 0.08 & 0.18 & 0.19 & 0.09 & 0.18 & 0.48 & 0.12 & 0.48 & 0.36 & 0.11 & 0.35 & 0.40 & 0.11 & 0.40 & 0.41 & 0.12 & 0.41 \\\\\n",
      "Uterus        & 0.99 & 0.01 & 0.99 & 0.39 & 0.14 & 0.39 & 0.36 & 0.14 & 0.35 & 0.35 & 0.13 & 0.35 & 0.37 & 0.14 & 0.36 & 0.64 & 0.12 & 0.65 & 0.49 & 0.11 & 0.49 & 0.50 & 0.13 & 0.50 & 0.54 & 0.14 & 0.53 \\\\\n",
      "Vagina        & 0.99 & 0.01 & 1.00 & 0.33 & 0.13 & 0.31 & 0.24 & 0.11 & 0.23 & 0.29 & 0.11 & 0.29 & 0.29 & 0.12 & 0.28 & 0.57 & 0.14 & 0.56 & 0.47 & 0.16 & 0.46 & 0.52 & 0.13 & 0.52 & 0.51 & 0.14 & 0.52 \\\\\n"
     ]
    },
    {
     "data": {
      "text/plain": [
       "<Figure size 9360x520 with 0 Axes>"
      ]
     },
     "metadata": {},
     "output_type": "display_data"
    },
    {
     "data": {
      "text/plain": [
       "<Figure size 9360x520 with 0 Axes>"
      ]
     },
     "metadata": {},
     "output_type": "display_data"
    },
    {
     "data": {
      "text/plain": [
       "<Figure size 9360x520 with 0 Axes>"
      ]
     },
     "metadata": {},
     "output_type": "display_data"
    },
    {
     "data": {
      "text/plain": [
       "<Figure size 9360x520 with 0 Axes>"
      ]
     },
     "metadata": {},
     "output_type": "display_data"
    },
    {
     "data": {
      "text/plain": [
       "<Figure size 9360x520 with 0 Axes>"
      ]
     },
     "metadata": {},
     "output_type": "display_data"
    },
    {
     "data": {
      "text/plain": [
       "<Figure size 9360x520 with 0 Axes>"
      ]
     },
     "metadata": {},
     "output_type": "display_data"
    },
    {
     "data": {
      "text/plain": [
       "<Figure size 9360x520 with 0 Axes>"
      ]
     },
     "metadata": {},
     "output_type": "display_data"
    }
   ],
   "source": [
    "include_baseline = True\n",
    "include_nnUNet = False\n",
    "include_TotalSegmentator = False\n",
    "include_MedSAM = True\n",
    "include_UniverSeg = False\n",
    "include_global = False\n",
    "\n",
    "split_axis = True\n",
    "\n",
    "for c in [\n",
    "             os.environ.get('Anorectum'),\n",
    "             os.environ.get('Bladder'),\n",
    "             os.environ.get('CTVn'),\n",
    "             os.environ.get('CTVp'),\n",
    "             os.environ.get('Parametrium'),\n",
    "             os.environ.get('Uterus'),\n",
    "             os.environ.get('Vagina'),\n",
    "             ]:\n",
    "    id = int(c.split('_')[0][len('Dataset'):])\n",
    "    print('Fetching metrics for ', c, ' id ', id)\n",
    "    print('------------------------------------')\n",
    "    metrics = fetch_metric_for_class(id)\n",
    "    plot_metrics(metrics, c, save=save, separate=separate, table=table, showfliers=False, additional_title_context='MedSAM split analysis')\n",
    "    print('------------------------------------')\n",
    "\n",
    "dump_and_reset_latex_table_aggregator()"
   ]
  },
  {
   "cell_type": "markdown",
   "metadata": {},
   "source": [
    "### UniverSeg"
   ]
  },
  {
   "cell_type": "code",
   "execution_count": 30,
   "metadata": {},
   "outputs": [
    {
     "name": "stdout",
     "output_type": "stream",
     "text": [
      "Fetching metrics for  Dataset001_Anorectum  id  1\n",
      "------------------------------------\n",
      "Calculating metrics for  nnUNet\n",
      "WARNING: [Errno 2] No such file or directory: 'metrics/metricsanorectum_0_combinednotable_UniverSeg_analysis.png'\n",
      "------------------------------------\n",
      "Fetching metrics for  Dataset002_Bladder  id  2\n",
      "------------------------------------\n",
      "Calculating metrics for  nnUNet\n",
      "WARNING: [Errno 2] No such file or directory: 'metrics/metricsbladder_0_combinednotable_UniverSeg_analysis.png'\n",
      "------------------------------------\n",
      "Fetching metrics for  Dataset003_CTVn  id  3\n",
      "------------------------------------\n",
      "Calculating metrics for  nnUNet\n",
      "WARNING: [Errno 2] No such file or directory: 'metrics/metricsctvn_0_combinednotable_UniverSeg_analysis.png'\n",
      "------------------------------------\n",
      "Fetching metrics for  Dataset004_CTVp  id  4\n",
      "------------------------------------\n",
      "Calculating metrics for  nnUNet\n",
      "WARNING: [Errno 2] No such file or directory: 'metrics/metricsctvp_0_combinednotable_UniverSeg_analysis.png'\n",
      "------------------------------------\n",
      "Fetching metrics for  Dataset005_Parametrium  id  5\n",
      "------------------------------------\n",
      "Calculating metrics for  nnUNet\n",
      "WARNING: [Errno 2] No such file or directory: 'metrics/metricsparametrium_0_combinednotable_UniverSeg_analysis.png'\n",
      "------------------------------------\n",
      "Fetching metrics for  Dataset006_Uterus  id  6\n",
      "------------------------------------\n",
      "Calculating metrics for  nnUNet\n",
      "WARNING: [Errno 2] No such file or directory: 'metrics/metricsuterus_0_combinednotable_UniverSeg_analysis.png'\n",
      "------------------------------------\n",
      "Fetching metrics for  Dataset007_Vagina  id  7\n",
      "------------------------------------\n",
      "Calculating metrics for  nnUNet\n",
      "WARNING: [Errno 2] No such file or directory: 'metrics/metricsvagina_0_combinednotable_UniverSeg_analysis.png'\n",
      "------------------------------------\n",
      "Added Path Length\n",
      "Anorectum     & 1.06 & 1.96 & 0.45 & 4.15 & 9.72 & 0.00 & 2.65 & 6.11 & 0.00 \\\\\n",
      "Bladder       & 1.21 & 2.06 & 0.71 & 1.37 & 4.30 & 0.00 & 0.61 & 3.11 & 0.00 \\\\\n",
      "CTVn          & 3.89 & 3.01 & 3.07 & 9.45 & 15.54 & 2.00 & 7.80 & 14.94 & 0.00 \\\\\n",
      "CTVp          & 1.25 & 1.51 & 0.80 & 2.78 & 6.97 & 0.00 & 1.29 & 3.93 & 0.00 \\\\\n",
      "Parametrium   & 2.97 & 2.14 & 2.45 & 6.94 & 9.89 & 3.00 \\\\\n",
      "Uterus        & 1.11 & 1.17 & 0.80 & 2.24 & 6.27 & 0.00 \\\\\n",
      "Vagina        & 0.34 & 0.42 & 0.20 & 1.59 & 4.67 & 0.00 \\\\\n",
      "DICE Similarity Coefficient\n",
      "Anorectum     & 0.91 & 0.03 & 0.92 & 0.55 & 0.23 & 0.59 & 0.68 & 0.17 & 0.73 \\\\\n",
      "Bladder       & 0.94 & 0.06 & 0.97 & 0.81 & 0.23 & 0.91 & 0.89 & 0.15 & 0.94 \\\\\n",
      "CTVn          & 0.93 & 0.01 & 0.94 & 0.63 & 0.20 & 0.69 & 0.74 & 0.15 & 0.78 \\\\\n",
      "CTVp          & 0.94 & 0.01 & 0.94 & 0.70 & 0.22 & 0.78 & 0.83 & 0.14 & 0.88 \\\\\n",
      "Parametrium   & 0.93 & 0.01 & 0.93 & 0.62 & 0.21 & 0.67 \\\\\n",
      "Uterus        & 0.94 & 0.01 & 0.94 & 0.74 & 0.21 & 0.81 \\\\\n",
      "Vagina        & 0.89 & 0.04 & 0.90 & 0.52 & 0.21 & 0.55 \\\\\n",
      "Haussdorf Distance\n",
      "Anorectum     & 12.14 & 27.81 & 5.05 & 7.11 & 5.67 & 5.39 & 6.16 & 5.42 & 4.24 \\\\\n",
      "Bladder       & 77.16 & 71.94 & 96.79 & 4.17 & 4.87 & 2.24 & 2.38 & 2.72 & 1.41 \\\\\n",
      "CTVn          & 8.92 & 2.90 & 8.30 & 13.97 & 14.28 & 7.62 & 7.74 & 8.08 & 5.00 \\\\\n",
      "CTVp          & 8.88 & 26.86 & 5.92 & 6.77 & 6.20 & 4.47 & 3.67 & 3.90 & 2.24 \\\\\n",
      "Parametrium   & 11.28 & 19.53 & 8.06 & 7.23 & 4.92 & 6.00 \\\\\n",
      "Uterus        & 6.01 & 2.61 & 5.79 & 5.95 & 5.55 & 4.00 \\\\\n",
      "Vagina        & 6.75 & 21.72 & 4.12 & 4.68 & 3.08 & 4.00 \\\\\n",
      "Relative Volume Difference\n",
      "Anorectum     & 0.04 & 0.06 & 0.03 & -0.33 & 0.60 & -0.35 & -0.13 & 0.44 & -0.10 \\\\\n",
      "Bladder       & -0.04 & 0.12 & -0.02 & -0.24 & 0.43 & -0.10 & -0.04 & 0.26 & -0.03 \\\\\n",
      "CTVn          & -0.01 & 0.03 & -0.01 & -0.35 & 0.44 & -0.29 & -0.11 & 0.35 & -0.08 \\\\\n",
      "CTVp          & -0.01 & 0.04 & -0.00 & -0.28 & 0.47 & -0.19 & -0.07 & 0.29 & -0.03 \\\\\n",
      "Parametrium   & 0.01 & 0.03 & 0.01 & -0.33 & 0.49 & -0.28 \\\\\n",
      "Uterus        & 0.00 & 0.05 & 0.00 & -0.25 & 0.44 & -0.16 \\\\\n",
      "Vagina        & 0.11 & 0.09 & 0.09 & -0.41 & 0.51 & -0.46 \\\\\n",
      "Surface DSC\n",
      "Anorectum     & 0.99 & 0.02 & 1.00 & 0.82 & 0.21 & 0.88 & 0.90 & 0.14 & 0.96 \\\\\n",
      "Bladder       & 0.97 & 0.06 & 1.00 & 0.92 & 0.19 & 1.00 & 0.97 & 0.10 & 1.00 \\\\\n",
      "CTVn          & 0.99 & 0.01 & 0.99 & 0.82 & 0.20 & 0.88 & 0.91 & 0.12 & 0.96 \\\\\n",
      "CTVp          & 0.99 & 0.01 & 0.99 & 0.86 & 0.20 & 0.95 & 0.96 & 0.10 & 1.00 \\\\\n",
      "Parametrium   & 0.99 & 0.01 & 0.99 & 0.81 & 0.20 & 0.86 \\\\\n",
      "Uterus        & 0.99 & 0.01 & 0.99 & 0.87 & 0.20 & 0.97 \\\\\n",
      "Vagina        & 0.99 & 0.01 & 1.00 & 0.87 & 0.19 & 0.95 \\\\\n"
     ]
    },
    {
     "data": {
      "text/plain": [
       "<Figure size 2240x520 with 0 Axes>"
      ]
     },
     "metadata": {},
     "output_type": "display_data"
    },
    {
     "data": {
      "text/plain": [
       "<Figure size 2240x520 with 0 Axes>"
      ]
     },
     "metadata": {},
     "output_type": "display_data"
    },
    {
     "data": {
      "text/plain": [
       "<Figure size 2240x520 with 0 Axes>"
      ]
     },
     "metadata": {},
     "output_type": "display_data"
    },
    {
     "data": {
      "text/plain": [
       "<Figure size 2240x520 with 0 Axes>"
      ]
     },
     "metadata": {},
     "output_type": "display_data"
    },
    {
     "data": {
      "text/plain": [
       "<Figure size 1920x520 with 0 Axes>"
      ]
     },
     "metadata": {},
     "output_type": "display_data"
    },
    {
     "data": {
      "text/plain": [
       "<Figure size 1920x520 with 0 Axes>"
      ]
     },
     "metadata": {},
     "output_type": "display_data"
    },
    {
     "data": {
      "text/plain": [
       "<Figure size 1920x520 with 0 Axes>"
      ]
     },
     "metadata": {},
     "output_type": "display_data"
    }
   ],
   "source": [
    "include_baseline = True\n",
    "include_nnUNet = False\n",
    "include_TotalSegmentator = False\n",
    "include_MedSAM = False\n",
    "include_UniverSeg = True\n",
    "include_global = False\n",
    "\n",
    "split_axis = False\n",
    "\n",
    "for c in [\n",
    "             os.environ.get('Anorectum'),\n",
    "             os.environ.get('Bladder'),\n",
    "             os.environ.get('CTVn'),\n",
    "             os.environ.get('CTVp'),\n",
    "             os.environ.get('Parametrium'),\n",
    "             os.environ.get('Uterus'),\n",
    "             os.environ.get('Vagina'),\n",
    "             ]:\n",
    "    id = int(c.split('_')[0][len('Dataset'):])\n",
    "    print('Fetching metrics for ', c, ' id ', id)\n",
    "    print('------------------------------------')\n",
    "    metrics = fetch_metric_for_class(id)\n",
    "    plot_metrics(metrics, c, save=save, separate=separate, table=table, showfliers=False, additional_title_context='UniverSeg analysis')\n",
    "    print('------------------------------------')\n",
    "\n",
    "dump_and_reset_latex_table_aggregator()"
   ]
  },
  {
   "cell_type": "code",
   "execution_count": 31,
   "metadata": {},
   "outputs": [
    {
     "name": "stdout",
     "output_type": "stream",
     "text": [
      "Fetching metrics for  Dataset001_Anorectum  id  1\n",
      "------------------------------------\n",
      "Calculating metrics for  nnUNet\n",
      "WARNING: [Errno 2] No such file or directory: 'metrics/metricsanorectum_0_combinednotable_UniverSeg_split_analysis.png'\n",
      "------------------------------------\n",
      "Fetching metrics for  Dataset002_Bladder  id  2\n",
      "------------------------------------\n",
      "Calculating metrics for  nnUNet\n",
      "WARNING: [Errno 2] No such file or directory: 'metrics/metricsbladder_0_combinednotable_UniverSeg_split_analysis.png'\n",
      "------------------------------------\n",
      "Fetching metrics for  Dataset003_CTVn  id  3\n",
      "------------------------------------\n",
      "Calculating metrics for  nnUNet\n",
      "WARNING: [Errno 2] No such file or directory: 'metrics/metricsctvn_0_combinednotable_UniverSeg_split_analysis.png'\n",
      "------------------------------------\n",
      "Fetching metrics for  Dataset004_CTVp  id  4\n",
      "------------------------------------\n",
      "Calculating metrics for  nnUNet\n",
      "WARNING: [Errno 2] No such file or directory: 'metrics/metricsctvp_0_combinednotable_UniverSeg_split_analysis.png'\n",
      "------------------------------------\n",
      "Fetching metrics for  Dataset005_Parametrium  id  5\n",
      "------------------------------------\n",
      "Calculating metrics for  nnUNet\n",
      "WARNING: [Errno 2] No such file or directory: 'metrics/metricsparametrium_0_combinednotable_UniverSeg_split_analysis.png'\n",
      "------------------------------------\n",
      "Fetching metrics for  Dataset006_Uterus  id  6\n",
      "------------------------------------\n",
      "Calculating metrics for  nnUNet\n",
      "WARNING: [Errno 2] No such file or directory: 'metrics/metricsuterus_0_combinednotable_UniverSeg_split_analysis.png'\n",
      "------------------------------------\n",
      "Fetching metrics for  Dataset007_Vagina  id  7\n",
      "------------------------------------\n",
      "Calculating metrics for  nnUNet\n",
      "WARNING: [Errno 2] No such file or directory: 'metrics/metricsvagina_0_combinednotable_UniverSeg_split_analysis.png'\n",
      "------------------------------------\n",
      "Added Path Length\n",
      "Anorectum     & 1.06 & 1.96 & 0.45 & 1.24 & 3.90 & 0.00 & 6.04 & 12.45 & 0.00 & 5.17 & 10.01 & 0.00 & 4.15 & 9.72 & 0.00 & 0.24 & 1.14 & 0.00 & 3.04 & 6.89 & 0.00 & 2.66 & 5.66 & 0.00 & 2.65 & 6.11 & 0.00 \\\\\n",
      "Bladder       & 1.21 & 2.06 & 0.71 & 0.93 & 3.23 & 0.00 & 2.02 & 5.45 & 0.00 & 1.16 & 3.82 & 0.00 & 1.37 & 4.30 & 0.00 & 0.47 & 2.52 & 0.00 & 0.97 & 4.30 & 0.00 & 0.40 & 2.02 & 0.00 & 0.61 & 3.11 & 0.00 \\\\\n",
      "CTVn          & 3.89 & 3.01 & 3.07 & 1.83 & 4.37 & 0.00 & 15.07 & 19.65 & 8.00 & 11.44 & 15.01 & 5.00 & 9.45 & 15.54 & 2.00 & 1.16 & 3.86 & 0.00 & 13.52 & 19.99 & 4.00 & 8.72 & 13.31 & 2.50 & 7.80 & 14.94 & 0.00 \\\\\n",
      "CTVp          & 1.25 & 1.51 & 0.80 & 1.17 & 4.84 & 0.00 & 3.69 & 7.55 & 0.00 & 3.50 & 7.85 & 0.00 & 2.78 & 6.97 & 0.00 & 0.24 & 1.62 & 0.00 & 2.11 & 5.43 & 0.00 & 1.51 & 3.52 & 0.00 & 1.29 & 3.93 & 0.00 \\\\\n",
      "Parametrium   & 2.97 & 2.14 & 2.45 & 2.84 & 5.43 & 0.00 & 12.04 & 12.09 & 9.00 & 5.96 & 8.59 & 2.00 & 6.94 & 9.89 & 3.00 \\\\\n",
      "Uterus        & 1.11 & 1.17 & 0.80 & 1.23 & 4.63 & 0.00 & 2.52 & 6.41 & 0.00 & 2.98 & 7.35 & 0.00 & 2.24 & 6.27 & 0.00 \\\\\n",
      "Vagina        & 0.34 & 0.42 & 0.20 & 0.29 & 1.73 & 0.00 & 2.51 & 5.89 & 0.00 & 1.97 & 5.01 & 0.00 & 1.59 & 4.67 & 0.00 \\\\\n",
      "DICE Similarity Coefficient\n",
      "Anorectum     & 0.91 & 0.03 & 0.92 & 0.60 & 0.22 & 0.64 & 0.54 & 0.23 & 0.57 & 0.51 & 0.22 & 0.54 & 0.55 & 0.23 & 0.59 & 0.71 & 0.17 & 0.75 & 0.69 & 0.17 & 0.73 & 0.67 & 0.17 & 0.71 & 0.68 & 0.17 & 0.73 \\\\\n",
      "Bladder       & 0.94 & 0.06 & 0.97 & 0.81 & 0.21 & 0.91 & 0.79 & 0.26 & 0.91 & 0.82 & 0.21 & 0.91 & 0.81 & 0.23 & 0.91 & 0.89 & 0.15 & 0.94 & 0.87 & 0.18 & 0.94 & 0.90 & 0.11 & 0.94 & 0.89 & 0.15 & 0.94 \\\\\n",
      "CTVn          & 0.93 & 0.01 & 0.94 & 0.71 & 0.13 & 0.74 & 0.56 & 0.23 & 0.65 & 0.61 & 0.21 & 0.66 & 0.63 & 0.20 & 0.69 & 0.79 & 0.09 & 0.81 & 0.68 & 0.17 & 0.73 & 0.74 & 0.15 & 0.77 & 0.74 & 0.15 & 0.78 \\\\\n",
      "CTVp          & 0.94 & 0.01 & 0.94 & 0.72 & 0.21 & 0.79 & 0.71 & 0.23 & 0.79 & 0.68 & 0.23 & 0.75 & 0.70 & 0.22 & 0.78 & 0.84 & 0.13 & 0.88 & 0.84 & 0.12 & 0.88 & 0.81 & 0.16 & 0.87 & 0.83 & 0.14 & 0.88 \\\\\n",
      "Parametrium   & 0.93 & 0.01 & 0.93 & 0.73 & 0.15 & 0.76 & 0.55 & 0.24 & 0.60 & 0.59 & 0.20 & 0.63 & 0.62 & 0.21 & 0.67 \\\\\n",
      "Uterus        & 0.94 & 0.01 & 0.94 & 0.77 & 0.21 & 0.85 & 0.74 & 0.21 & 0.81 & 0.71 & 0.22 & 0.78 & 0.74 & 0.21 & 0.81 \\\\\n",
      "Vagina        & 0.89 & 0.04 & 0.90 & 0.63 & 0.18 & 0.65 & 0.47 & 0.22 & 0.49 & 0.46 & 0.19 & 0.48 & 0.52 & 0.21 & 0.55 \\\\\n",
      "Haussdorf Distance\n",
      "Anorectum     & 12.14 & 27.81 & 5.05 & 3.84 & 2.47 & 3.00 & 8.27 & 6.45 & 6.08 & 9.23 & 5.67 & 7.81 & 7.11 & 5.67 & 5.39 & 2.78 & 2.33 & 2.00 & 6.24 & 6.10 & 4.12 & 6.63 & 4.83 & 5.00 & 6.16 & 5.42 & 4.24 \\\\\n",
      "Bladder       & 77.16 & 71.94 & 96.79 & 3.50 & 3.53 & 2.24 & 4.78 & 5.70 & 2.24 & 4.24 & 5.05 & 2.24 & 4.17 & 4.87 & 2.24 & 2.03 & 1.98 & 1.41 & 2.81 & 3.59 & 1.41 & 2.30 & 2.24 & 2.00 & 2.38 & 2.72 & 1.41 \\\\\n",
      "CTVn          & 8.92 & 2.90 & 8.30 & 4.38 & 2.10 & 4.00 & 17.26 & 14.89 & 11.02 & 20.26 & 15.59 & 13.96 & 13.97 & 14.28 & 7.62 & 3.32 & 1.78 & 3.00 & 11.63 & 11.03 & 7.07 & 8.28 & 6.01 & 6.32 & 7.74 & 8.08 & 5.00 \\\\\n",
      "CTVp          & 8.88 & 26.86 & 5.92 & 4.14 & 3.40 & 3.00 & 7.70 & 6.95 & 5.10 & 8.48 & 6.69 & 6.32 & 6.77 & 6.20 & 4.47 & 2.17 & 1.84 & 1.41 & 4.33 & 4.80 & 2.83 & 4.50 & 3.99 & 3.16 & 3.67 & 3.90 & 2.24 \\\\\n",
      "Parametrium   & 11.28 & 19.53 & 8.06 & 4.58 & 2.78 & 4.00 & 9.85 & 5.84 & 8.06 & 7.26 & 4.13 & 6.32 & 7.23 & 4.92 & 6.00 \\\\\n",
      "Uterus        & 6.01 & 2.61 & 5.79 & 4.04 & 3.60 & 2.83 & 5.95 & 5.37 & 4.00 & 7.84 & 6.58 & 5.52 & 5.95 & 5.55 & 4.00 \\\\\n",
      "Vagina        & 6.75 & 21.72 & 4.12 & 3.19 & 2.10 & 2.83 & 5.61 & 3.66 & 5.00 & 5.24 & 2.70 & 4.47 & 4.68 & 3.08 & 4.00 \\\\\n",
      "Relative Volume Difference\n",
      "Anorectum     & 0.04 & 0.06 & 0.03 & -0.31 & 0.53 & -0.35 & -0.27 & 0.64 & -0.31 & -0.39 & 0.61 & -0.40 & -0.33 & 0.60 & -0.35 & -0.18 & 0.44 & -0.15 & -0.08 & 0.45 & -0.06 & -0.16 & 0.42 & -0.14 & -0.13 & 0.44 & -0.10 \\\\\n",
      "Bladder       & -0.04 & 0.12 & -0.02 & -0.29 & 0.41 & -0.13 & -0.22 & 0.48 & -0.08 & -0.20 & 0.37 & -0.09 & -0.24 & 0.43 & -0.10 & -0.04 & 0.25 & -0.03 & -0.04 & 0.31 & -0.03 & -0.05 & 0.20 & -0.04 & -0.04 & 0.26 & -0.03 \\\\\n",
      "CTVn          & -0.01 & 0.03 & -0.01 & -0.30 & 0.30 & -0.28 & -0.41 & 0.51 & -0.29 & -0.35 & 0.48 & -0.30 & -0.35 & 0.44 & -0.29 & -0.11 & 0.23 & -0.10 & -0.12 & 0.44 & -0.08 & -0.09 & 0.33 & -0.07 & -0.11 & 0.35 & -0.08 \\\\\n",
      "CTVp          & -0.01 & 0.04 & -0.00 & -0.31 & 0.45 & -0.22 & -0.22 & 0.46 & -0.15 & -0.32 & 0.50 & -0.22 & -0.28 & 0.47 & -0.19 & -0.09 & 0.27 & -0.06 & -0.01 & 0.27 & -0.01 & -0.11 & 0.32 & -0.03 & -0.07 & 0.29 & -0.03 \\\\\n",
      "Parametrium   & 0.01 & 0.03 & 0.01 & -0.29 & 0.39 & -0.23 & -0.43 & 0.56 & -0.37 & -0.29 & 0.51 & -0.27 & -0.33 & 0.49 & -0.28 \\\\\n",
      "Uterus        & 0.00 & 0.05 & 0.00 & -0.23 & 0.41 & -0.16 & -0.23 & 0.41 & -0.15 & -0.28 & 0.48 & -0.18 & -0.25 & 0.44 & -0.16 \\\\\n",
      "Vagina        & 0.11 & 0.09 & 0.09 & -0.43 & 0.44 & -0.42 & -0.39 & 0.56 & -0.45 & -0.42 & 0.53 & -0.52 & -0.41 & 0.51 & -0.46 \\\\\n",
      "Surface DSC\n",
      "Anorectum     & 0.99 & 0.02 & 1.00 & 0.90 & 0.17 & 1.00 & 0.79 & 0.21 & 0.84 & 0.78 & 0.21 & 0.83 & 0.82 & 0.21 & 0.88 & 0.96 & 0.09 & 1.00 & 0.90 & 0.14 & 0.96 & 0.89 & 0.14 & 0.95 & 0.90 & 0.14 & 0.96 \\\\\n",
      "Bladder       & 0.97 & 0.06 & 1.00 & 0.93 & 0.17 & 1.00 & 0.89 & 0.23 & 1.00 & 0.93 & 0.17 & 1.00 & 0.92 & 0.19 & 1.00 & 0.98 & 0.09 & 1.00 & 0.96 & 0.14 & 1.00 & 0.98 & 0.07 & 1.00 & 0.97 & 0.10 & 1.00 \\\\\n",
      "CTVn          & 0.99 & 0.01 & 0.99 & 0.93 & 0.09 & 0.97 & 0.77 & 0.22 & 0.84 & 0.75 & 0.20 & 0.80 & 0.82 & 0.20 & 0.88 & 0.98 & 0.04 & 1.00 & 0.88 & 0.15 & 0.93 & 0.89 & 0.13 & 0.93 & 0.91 & 0.12 & 0.96 \\\\\n",
      "CTVp          & 0.99 & 0.01 & 0.99 & 0.91 & 0.17 & 1.00 & 0.84 & 0.21 & 0.92 & 0.83 & 0.21 & 0.91 & 0.86 & 0.20 & 0.95 & 0.98 & 0.08 & 1.00 & 0.95 & 0.09 & 1.00 & 0.94 & 0.12 & 0.99 & 0.96 & 0.10 & 1.00 \\\\\n",
      "Parametrium   & 0.99 & 0.01 & 0.99 & 0.91 & 0.12 & 0.97 & 0.71 & 0.22 & 0.76 & 0.81 & 0.18 & 0.85 & 0.81 & 0.20 & 0.86 \\\\\n",
      "Uterus        & 0.99 & 0.01 & 0.99 & 0.91 & 0.19 & 1.00 & 0.87 & 0.20 & 0.96 & 0.84 & 0.20 & 0.92 & 0.87 & 0.20 & 0.97 \\\\\n",
      "Vagina        & 0.99 & 0.01 & 1.00 & 0.95 & 0.12 & 1.00 & 0.82 & 0.21 & 0.87 & 0.84 & 0.19 & 0.90 & 0.87 & 0.19 & 0.95 \\\\\n"
     ]
    },
    {
     "data": {
      "text/plain": [
       "<Figure size 9360x520 with 0 Axes>"
      ]
     },
     "metadata": {},
     "output_type": "display_data"
    },
    {
     "data": {
      "text/plain": [
       "<Figure size 9360x520 with 0 Axes>"
      ]
     },
     "metadata": {},
     "output_type": "display_data"
    },
    {
     "data": {
      "text/plain": [
       "<Figure size 9360x520 with 0 Axes>"
      ]
     },
     "metadata": {},
     "output_type": "display_data"
    },
    {
     "data": {
      "text/plain": [
       "<Figure size 9360x520 with 0 Axes>"
      ]
     },
     "metadata": {},
     "output_type": "display_data"
    },
    {
     "data": {
      "text/plain": [
       "<Figure size 3600x520 with 0 Axes>"
      ]
     },
     "metadata": {},
     "output_type": "display_data"
    },
    {
     "data": {
      "text/plain": [
       "<Figure size 3600x520 with 0 Axes>"
      ]
     },
     "metadata": {},
     "output_type": "display_data"
    },
    {
     "data": {
      "text/plain": [
       "<Figure size 3600x520 with 0 Axes>"
      ]
     },
     "metadata": {},
     "output_type": "display_data"
    }
   ],
   "source": [
    "include_baseline = True\n",
    "include_nnUNet = False\n",
    "include_TotalSegmentator = False\n",
    "include_MedSAM = False\n",
    "include_UniverSeg = True\n",
    "\n",
    "split_axis = True\n",
    "\n",
    "for c in [\n",
    "             os.environ.get('Anorectum'),\n",
    "             os.environ.get('Bladder'),\n",
    "             os.environ.get('CTVn'),\n",
    "             os.environ.get('CTVp'),\n",
    "             os.environ.get('Parametrium'),\n",
    "             os.environ.get('Uterus'),\n",
    "             os.environ.get('Vagina'),\n",
    "             ]:\n",
    "    id = int(c.split('_')[0][len('Dataset'):])\n",
    "    print('Fetching metrics for ', c, ' id ', id)\n",
    "    print('------------------------------------')\n",
    "    metrics = fetch_metric_for_class(id)\n",
    "    plot_metrics(metrics, c, save=save, separate=separate, table=table, showfliers=False, additional_title_context='UniverSeg split analysis')\n",
    "    print('------------------------------------')\n",
    "\n",
    "dump_and_reset_latex_table_aggregator()"
   ]
  },
  {
   "cell_type": "markdown",
   "metadata": {},
   "source": [
    "### TotalSegmentator"
   ]
  },
  {
   "cell_type": "code",
   "execution_count": 32,
   "metadata": {},
   "outputs": [
    {
     "name": "stdout",
     "output_type": "stream",
     "text": [
      "Fetching metrics for  Dataset001_Anorectum  id  1\n",
      "------------------------------------\n",
      "Calculating metrics for  nnUNet\n",
      "Calculating metrics for  total segmentator (fine-tuned)\n",
      "WARNING: [Errno 2] No such file or directory: 'metrics/metricsanorectum_0_combinednotable_TotalSegmentator_analysis.png'\n",
      "------------------------------------\n",
      "Fetching metrics for  Dataset002_Bladder  id  2\n",
      "------------------------------------\n",
      "Calculating metrics for  nnUNet\n",
      "Calculating metrics for  total segmentator\n",
      "Calculating metrics for  total segmentator (fine-tuned)\n",
      "WARNING: [Errno 2] No such file or directory: 'metrics/metricsbladder_0_combinednotable_TotalSegmentator_analysis.png'\n",
      "------------------------------------\n",
      "Fetching metrics for  Dataset003_CTVn  id  3\n",
      "------------------------------------\n",
      "Calculating metrics for  nnUNet\n",
      "Calculating metrics for  total segmentator (fine-tuned)\n",
      "WARNING: [Errno 2] No such file or directory: 'metrics/metricsctvn_0_combinednotable_TotalSegmentator_analysis.png'\n",
      "------------------------------------\n",
      "Fetching metrics for  Dataset004_CTVp  id  4\n",
      "------------------------------------\n",
      "Calculating metrics for  nnUNet\n",
      "Calculating metrics for  total segmentator (fine-tuned)\n",
      "WARNING: [Errno 2] No such file or directory: 'metrics/metricsctvp_0_combinednotable_TotalSegmentator_analysis.png'\n",
      "------------------------------------\n",
      "Fetching metrics for  Dataset005_Parametrium  id  5\n",
      "------------------------------------\n",
      "Calculating metrics for  nnUNet\n",
      "Calculating metrics for  total segmentator (fine-tuned)\n",
      "WARNING: [Errno 2] No such file or directory: 'metrics/metricsparametrium_0_combinednotable_TotalSegmentator_analysis.png'\n",
      "------------------------------------\n",
      "Fetching metrics for  Dataset006_Uterus  id  6\n",
      "------------------------------------\n",
      "Calculating metrics for  nnUNet\n",
      "Calculating metrics for  total segmentator (fine-tuned)\n",
      "WARNING: [Errno 2] No such file or directory: 'metrics/metricsuterus_0_combinednotable_TotalSegmentator_analysis.png'\n",
      "------------------------------------\n",
      "Fetching metrics for  Dataset007_Vagina  id  7\n",
      "------------------------------------\n",
      "Calculating metrics for  nnUNet\n",
      "Calculating metrics for  total segmentator (fine-tuned)\n",
      "WARNING: [Errno 2] No such file or directory: 'metrics/metricsvagina_0_combinednotable_TotalSegmentator_analysis.png'\n",
      "------------------------------------\n",
      "Added Path Length\n",
      "Anorectum     & 1.06 & 1.96 & 0.45 & 0.66 & 1.02 & 0.31 \\\\\n",
      "Bladder       & 1.21 & 2.06 & 0.71 & 5.87 & 4.98 & 4.18 & 1.32 & 1.72 & 0.76 \\\\\n",
      "CTVn          & 3.89 & 3.01 & 3.07 & 4.02 & 4.01 & 2.65 \\\\\n",
      "CTVp          & 1.25 & 1.51 & 0.80 & 1.58 & 1.74 & 1.05 \\\\\n",
      "Parametrium   & 2.97 & 2.14 & 2.45 & 2.90 & 3.22 & 1.72 \\\\\n",
      "Uterus        & 1.11 & 1.17 & 0.80 & 1.51 & 1.59 & 0.93 \\\\\n",
      "Vagina        & 0.34 & 0.42 & 0.20 & 0.41 & 0.97 & 0.10 \\\\\n",
      "DICE Similarity Coefficient\n",
      "Anorectum     & 0.91 & 0.03 & 0.92 & 0.92 & 0.04 & 0.93 \\\\\n",
      "Bladder       & 0.94 & 0.06 & 0.97 & 0.90 & 0.13 & 0.94 & 0.95 & 0.10 & 0.97 \\\\\n",
      "CTVn          & 0.93 & 0.01 & 0.94 & 0.94 & 0.01 & 0.94 \\\\\n",
      "CTVp          & 0.94 & 0.01 & 0.94 & 0.93 & 0.02 & 0.94 \\\\\n",
      "Parametrium   & 0.93 & 0.01 & 0.93 & 0.93 & 0.04 & 0.94 \\\\\n",
      "Uterus        & 0.94 & 0.01 & 0.94 & 0.93 & 0.02 & 0.94 \\\\\n",
      "Vagina        & 0.89 & 0.04 & 0.90 & 0.86 & 0.10 & 0.90 \\\\\n",
      "Haussdorf Distance\n",
      "Anorectum     & 12.14 & 27.81 & 5.05 & 6.37 & 5.73 & 4.30 \\\\\n",
      "Bladder       & 77.16 & 71.94 & 96.79 & 8.26 & 8.35 & 5.39 & 15.66 & 37.98 & 3.74 \\\\\n",
      "CTVn          & 8.92 & 2.90 & 8.30 & 8.81 & 2.71 & 8.31 \\\\\n",
      "CTVp          & 8.88 & 26.86 & 5.92 & 7.33 & 7.68 & 6.40 \\\\\n",
      "Parametrium   & 11.28 & 19.53 & 8.06 & 9.85 & 15.19 & 7.42 \\\\\n",
      "Uterus        & 6.01 & 2.61 & 5.79 & 6.71 & 3.25 & 6.04 \\\\\n",
      "Vagina        & 6.75 & 21.72 & 4.12 & 5.61 & 4.09 & 4.12 \\\\\n",
      "Relative Volume Difference\n",
      "Anorectum     & 0.04 & 0.06 & 0.03 & -0.00 & 0.06 & 0.00 \\\\\n",
      "Bladder       & -0.04 & 0.12 & -0.02 & -0.07 & 0.19 & -0.03 & 0.01 & 0.21 & 0.00 \\\\\n",
      "CTVn          & -0.01 & 0.03 & -0.01 & 0.00 & 0.02 & 0.00 \\\\\n",
      "CTVp          & -0.01 & 0.04 & -0.00 & -0.00 & 0.04 & -0.00 \\\\\n",
      "Parametrium   & 0.01 & 0.03 & 0.01 & 0.00 & 0.06 & 0.01 \\\\\n",
      "Uterus        & 0.00 & 0.05 & 0.00 & -0.00 & 0.05 & -0.00 \\\\\n",
      "Vagina        & 0.11 & 0.09 & 0.09 & -0.02 & 0.16 & -0.00 \\\\\n",
      "Surface DSC\n",
      "Anorectum     & 0.99 & 0.02 & 1.00 & 0.99 & 0.03 & 1.00 \\\\\n",
      "Bladder       & 0.97 & 0.06 & 1.00 & 0.95 & 0.11 & 0.99 & 0.98 & 0.10 & 1.00 \\\\\n",
      "CTVn          & 0.99 & 0.01 & 0.99 & 0.99 & 0.01 & 1.00 \\\\\n",
      "CTVp          & 0.99 & 0.01 & 0.99 & 0.99 & 0.01 & 0.99 \\\\\n",
      "Parametrium   & 0.99 & 0.01 & 0.99 & 0.98 & 0.04 & 1.00 \\\\\n",
      "Uterus        & 0.99 & 0.01 & 0.99 & 0.99 & 0.02 & 0.99 \\\\\n",
      "Vagina        & 0.99 & 0.01 & 1.00 & 0.98 & 0.06 & 1.00 \\\\\n"
     ]
    },
    {
     "data": {
      "text/plain": [
       "<Figure size 1920x520 with 0 Axes>"
      ]
     },
     "metadata": {},
     "output_type": "display_data"
    },
    {
     "data": {
      "text/plain": [
       "<Figure size 2240x520 with 0 Axes>"
      ]
     },
     "metadata": {},
     "output_type": "display_data"
    },
    {
     "data": {
      "text/plain": [
       "<Figure size 1920x520 with 0 Axes>"
      ]
     },
     "metadata": {},
     "output_type": "display_data"
    },
    {
     "data": {
      "text/plain": [
       "<Figure size 1920x520 with 0 Axes>"
      ]
     },
     "metadata": {},
     "output_type": "display_data"
    },
    {
     "data": {
      "text/plain": [
       "<Figure size 1920x520 with 0 Axes>"
      ]
     },
     "metadata": {},
     "output_type": "display_data"
    },
    {
     "data": {
      "text/plain": [
       "<Figure size 1920x520 with 0 Axes>"
      ]
     },
     "metadata": {},
     "output_type": "display_data"
    },
    {
     "data": {
      "text/plain": [
       "<Figure size 1920x520 with 0 Axes>"
      ]
     },
     "metadata": {},
     "output_type": "display_data"
    }
   ],
   "source": [
    "include_baseline = True\n",
    "include_nnUNet = False\n",
    "include_TotalSegmentator = True\n",
    "include_MedSAM = False\n",
    "include_UniverSeg = False\n",
    "include_global = False\n",
    "\n",
    "split_axis = False\n",
    "\n",
    "for c in [\n",
    "             os.environ.get('Anorectum'),\n",
    "             os.environ.get('Bladder'),\n",
    "             os.environ.get('CTVn'),\n",
    "             os.environ.get('CTVp'),\n",
    "             os.environ.get('Parametrium'),\n",
    "             os.environ.get('Uterus'),\n",
    "             os.environ.get('Vagina'),\n",
    "             ]:\n",
    "    id = int(c.split('_')[0][len('Dataset'):])\n",
    "    print('Fetching metrics for ', c, ' id ', id)\n",
    "    print('------------------------------------')\n",
    "    metrics = fetch_metric_for_class(id)\n",
    "    plot_metrics(metrics, c, save=save, separate=separate, table=table, showfliers=False, additional_title_context='TotalSegmentator analysis')\n",
    "    print('------------------------------------')\n",
    "\n",
    "dump_and_reset_latex_table_aggregator()"
   ]
  },
  {
   "cell_type": "markdown",
   "metadata": {},
   "source": [
    "### TotalBinary"
   ]
  },
  {
   "cell_type": "code",
   "execution_count": 34,
   "metadata": {},
   "outputs": [
    {
     "name": "stdout",
     "output_type": "stream",
     "text": [
      "Fetching metrics for  Dataset001_Anorectum  id  1\n",
      "------------------------------------\n",
      "Calculating metrics for  nnUNet\n",
      "Calculating metrics for  nnUNet global\n",
      "Calculating metrics for  nnUNet global custom loss\n",
      "Calculating metrics for  total segmentator (fine-tuned) global\n",
      "Calculating metrics for  total segmentator (fine-tuned) global custom loss\n",
      "WARNING: [Errno 2] No such file or directory: 'metrics/metricsanorectum_0_combinednotable_Global_analysis.png'\n",
      "------------------------------------\n",
      "Fetching metrics for  Dataset002_Bladder  id  2\n",
      "------------------------------------\n",
      "Calculating metrics for  nnUNet\n",
      "Calculating metrics for  nnUNet global\n",
      "Calculating metrics for  nnUNet global custom loss\n",
      "Calculating metrics for  total segmentator (fine-tuned) global\n",
      "Calculating metrics for  total segmentator (fine-tuned) global custom loss\n",
      "WARNING: [Errno 2] No such file or directory: 'metrics/metricsbladder_0_combinednotable_Global_analysis.png'\n",
      "------------------------------------\n",
      "Fetching metrics for  Dataset003_CTVn  id  3\n",
      "------------------------------------\n",
      "Calculating metrics for  nnUNet\n",
      "Calculating metrics for  nnUNet global\n",
      "Calculating metrics for  nnUNet global custom loss\n",
      "Calculating metrics for  total segmentator (fine-tuned) global\n",
      "Calculating metrics for  total segmentator (fine-tuned) global custom loss\n",
      "WARNING: [Errno 2] No such file or directory: 'metrics/metricsctvn_0_combinednotable_Global_analysis.png'\n",
      "------------------------------------\n",
      "Fetching metrics for  Dataset004_CTVp  id  4\n",
      "------------------------------------\n",
      "Calculating metrics for  nnUNet\n",
      "Calculating metrics for  nnUNet global\n",
      "Calculating metrics for  nnUNet global custom loss\n",
      "Calculating metrics for  total segmentator (fine-tuned) global\n",
      "Calculating metrics for  total segmentator (fine-tuned) global custom loss\n",
      "WARNING: [Errno 2] No such file or directory: 'metrics/metricsctvp_0_combinednotable_Global_analysis.png'\n",
      "------------------------------------\n",
      "Fetching metrics for  Dataset005_Parametrium  id  5\n",
      "------------------------------------\n",
      "Calculating metrics for  nnUNet\n",
      "Calculating metrics for  nnUNet global\n",
      "Calculating metrics for  nnUNet global custom loss\n",
      "Calculating metrics for  total segmentator (fine-tuned) global\n",
      "Calculating metrics for  total segmentator (fine-tuned) global custom loss\n",
      "WARNING: [Errno 2] No such file or directory: 'metrics/metricsparametrium_0_combinednotable_Global_analysis.png'\n",
      "------------------------------------\n",
      "Fetching metrics for  Dataset006_Uterus  id  6\n",
      "------------------------------------\n",
      "Calculating metrics for  nnUNet\n",
      "Calculating metrics for  nnUNet global\n",
      "Calculating metrics for  nnUNet global custom loss\n",
      "Calculating metrics for  total segmentator (fine-tuned) global\n",
      "Calculating metrics for  total segmentator (fine-tuned) global custom loss\n",
      "WARNING: [Errno 2] No such file or directory: 'metrics/metricsuterus_0_combinednotable_Global_analysis.png'\n",
      "------------------------------------\n",
      "Fetching metrics for  Dataset007_Vagina  id  7\n",
      "------------------------------------\n",
      "Calculating metrics for  nnUNet\n",
      "Calculating metrics for  nnUNet global\n",
      "Calculating metrics for  nnUNet global custom loss\n",
      "Calculating metrics for  total segmentator (fine-tuned) global\n",
      "Calculating metrics for  total segmentator (fine-tuned) global custom loss\n",
      "WARNING: [Errno 2] No such file or directory: 'metrics/metricsvagina_0_combinednotable_Global_analysis.png'\n",
      "------------------------------------\n",
      "Added Path Length\n",
      "Anorectum     & 1.06 & 1.96 & 0.45 & 0.82 & 0.92 & 0.50 & 1.19 & 3.75 & 0.37 & 1.05 & 1.34 & 0.52 & 1.14 & 3.96 & 0.29 \\\\\n",
      "Bladder       & 1.21 & 2.06 & 0.71 & 0.85 & 0.99 & 0.52 & 0.86 & 1.54 & 0.48 & 0.94 & 1.14 & 0.64 & 0.86 & 1.62 & 0.51 \\\\\n",
      "CTVn          & 3.89 & 3.01 & 3.07 & 6.90 & 4.40 & 5.60 & 7.09 & 5.75 & 5.51 & 7.68 & 4.22 & 6.45 & 6.28 & 5.65 & 5.03 \\\\\n",
      "CTVp          & 1.25 & 1.51 & 0.80 & 0.98 & 1.47 & 0.51 & 1.09 & 2.13 & 0.46 & 1.16 & 1.96 & 0.68 & 1.15 & 2.37 & 0.40 \\\\\n",
      "Parametrium   & 2.97 & 2.14 & 2.45 & 5.14 & 3.52 & 4.10 & 4.14 & 3.69 & 3.12 & 4.81 & 3.63 & 3.93 & 3.90 & 3.53 & 2.96 \\\\\n",
      "Uterus        & 1.11 & 1.17 & 0.80 & 0.84 & 1.15 & 0.45 & 0.80 & 1.28 & 0.38 & 0.89 & 1.55 & 0.45 & 0.86 & 1.54 & 0.37 \\\\\n",
      "Vagina        & 0.34 & 0.42 & 0.20 & 0.50 & 0.86 & 0.27 & 0.64 & 1.67 & 0.09 & 0.68 & 1.09 & 0.40 & 0.57 & 1.48 & 0.05 \\\\\n",
      "DICE Similarity Coefficient\n",
      "Anorectum     & 0.91 & 0.03 & 0.92 & 0.91 & 0.02 & 0.91 & 0.91 & 0.06 & 0.93 & 0.91 & 0.03 & 0.92 & 0.91 & 0.06 & 0.93 \\\\\n",
      "Bladder       & 0.94 & 0.06 & 0.97 & 0.97 & 0.02 & 0.97 & 0.97 & 0.02 & 0.97 & 0.96 & 0.02 & 0.97 & 0.97 & 0.02 & 0.97 \\\\\n",
      "CTVn          & 0.93 & 0.01 & 0.94 & 0.91 & 0.01 & 0.92 & 0.92 & 0.01 & 0.92 & 0.91 & 0.01 & 0.92 & 0.92 & 0.01 & 0.93 \\\\\n",
      "CTVp          & 0.94 & 0.01 & 0.94 & 0.94 & 0.02 & 0.95 & 0.94 & 0.03 & 0.95 & 0.94 & 0.02 & 0.94 & 0.94 & 0.02 & 0.95 \\\\\n",
      "Parametrium   & 0.93 & 0.01 & 0.93 & 0.91 & 0.02 & 0.91 & 0.91 & 0.05 & 0.93 & 0.91 & 0.03 & 0.91 & 0.91 & 0.05 & 0.93 \\\\\n",
      "Uterus        & 0.94 & 0.01 & 0.94 & 0.94 & 0.03 & 0.95 & 0.94 & 0.04 & 0.95 & 0.94 & 0.03 & 0.95 & 0.95 & 0.04 & 0.95 \\\\\n",
      "Vagina        & 0.89 & 0.04 & 0.90 & 0.87 & 0.06 & 0.88 & 0.86 & 0.13 & 0.91 & 0.85 & 0.08 & 0.87 & 0.87 & 0.12 & 0.92 \\\\\n",
      "Haussdorf Distance\n",
      "Anorectum     & 12.14 & 27.81 & 5.05 & 7.13 & 5.14 & 5.29 & 7.28 & 7.29 & 4.47 & 7.76 & 5.51 & 5.61 & 7.40 & 8.11 & 4.24 \\\\\n",
      "Bladder       & 77.16 & 71.94 & 96.79 & 3.98 & 3.40 & 3.32 & 3.77 & 2.08 & 3.32 & 5.12 & 10.42 & 3.46 & 3.70 & 2.02 & 3.16 \\\\\n",
      "CTVn          & 8.92 & 2.90 & 8.30 & 10.04 & 2.73 & 9.49 & 10.20 & 3.08 & 9.49 & 10.31 & 2.79 & 9.85 & 9.78 & 2.83 & 9.16 \\\\\n",
      "CTVp          & 8.88 & 26.86 & 5.92 & 5.54 & 2.25 & 5.00 & 5.88 & 3.22 & 5.10 & 5.63 & 2.42 & 5.00 & 6.17 & 3.12 & 5.43 \\\\\n",
      "Parametrium   & 11.28 & 19.53 & 8.06 & 12.24 & 15.14 & 10.30 & 11.33 & 15.21 & 9.08 & 11.47 & 15.21 & 9.57 & 10.85 & 15.23 & 8.54 \\\\\n",
      "Uterus        & 6.01 & 2.61 & 5.79 & 5.69 & 2.44 & 5.00 & 5.77 & 3.27 & 4.69 & 5.77 & 2.89 & 5.00 & 5.95 & 3.19 & 5.00 \\\\\n",
      "Vagina        & 6.75 & 21.72 & 4.12 & 5.34 & 4.10 & 4.24 & 4.97 & 3.52 & 4.00 & 6.09 & 4.33 & 5.00 & 5.08 & 3.67 & 4.00 \\\\\n",
      "Relative Volume Difference\n",
      "Anorectum     & 0.04 & 0.06 & 0.03 & -0.03 & 0.06 & -0.03 & 0.03 & 0.12 & 0.02 & 0.02 & 0.06 & 0.02 & 0.01 & 0.11 & -0.00 \\\\\n",
      "Bladder       & -0.04 & 0.12 & -0.02 & -0.01 & 0.03 & -0.01 & 0.00 & 0.03 & 0.00 & -0.01 & 0.04 & -0.00 & 0.01 & 0.03 & 0.01 \\\\\n",
      "CTVn          & -0.01 & 0.03 & -0.01 & -0.03 & 0.04 & -0.03 & -0.01 & 0.03 & -0.01 & 0.01 & 0.04 & 0.01 & -0.00 & 0.03 & 0.00 \\\\\n",
      "CTVp          & -0.01 & 0.04 & -0.00 & 0.02 & 0.03 & 0.01 & -0.00 & 0.05 & 0.00 & -0.01 & 0.04 & -0.01 & 0.02 & 0.04 & 0.02 \\\\\n",
      "Parametrium   & 0.01 & 0.03 & 0.01 & 0.04 & 0.06 & 0.03 & -0.01 & 0.10 & 0.01 & 0.00 & 0.07 & -0.00 & -0.01 & 0.10 & 0.00 \\\\\n",
      "Uterus        & 0.00 & 0.05 & 0.00 & 0.01 & 0.06 & 0.01 & -0.01 & 0.08 & -0.00 & -0.02 & 0.07 & -0.02 & 0.01 & 0.07 & 0.02 \\\\\n",
      "Vagina        & 0.11 & 0.09 & 0.09 & 0.07 & 0.13 & 0.03 & 0.05 & 0.15 & 0.01 & 0.08 & 0.18 & 0.05 & 0.04 & 0.13 & 0.02 \\\\\n",
      "Surface DSC\n",
      "Anorectum     & 0.99 & 0.02 & 1.00 & 0.99 & 0.02 & 1.00 & 0.98 & 0.05 & 1.00 & 0.99 & 0.02 & 0.99 & 0.98 & 0.06 & 1.00 \\\\\n",
      "Bladder       & 0.97 & 0.06 & 1.00 & 1.00 & 0.00 & 1.00 & 1.00 & 0.00 & 1.00 & 1.00 & 0.02 & 1.00 & 1.00 & 0.01 & 1.00 \\\\\n",
      "CTVn          & 0.99 & 0.01 & 0.99 & 0.98 & 0.01 & 0.98 & 0.98 & 0.02 & 0.98 & 0.98 & 0.01 & 0.98 & 0.98 & 0.02 & 0.99 \\\\\n",
      "CTVp          & 0.99 & 0.01 & 0.99 & 0.99 & 0.01 & 1.00 & 0.99 & 0.03 & 1.00 & 0.99 & 0.02 & 1.00 & 0.99 & 0.02 & 1.00 \\\\\n",
      "Parametrium   & 0.99 & 0.01 & 0.99 & 0.97 & 0.04 & 0.98 & 0.97 & 0.05 & 0.99 & 0.97 & 0.05 & 0.98 & 0.97 & 0.05 & 0.99 \\\\\n",
      "Uterus        & 0.99 & 0.01 & 0.99 & 0.99 & 0.02 & 1.00 & 0.99 & 0.03 & 1.00 & 0.99 & 0.03 & 1.00 & 0.99 & 0.03 & 1.00 \\\\\n",
      "Vagina        & 0.99 & 0.01 & 1.00 & 0.99 & 0.04 & 1.00 & 0.97 & 0.08 & 1.00 & 0.98 & 0.06 & 0.99 & 0.98 & 0.07 & 1.00 \\\\\n"
     ]
    },
    {
     "data": {
      "text/plain": [
       "<Figure size 3600x520 with 0 Axes>"
      ]
     },
     "metadata": {},
     "output_type": "display_data"
    },
    {
     "data": {
      "text/plain": [
       "<Figure size 3600x520 with 0 Axes>"
      ]
     },
     "metadata": {},
     "output_type": "display_data"
    },
    {
     "data": {
      "text/plain": [
       "<Figure size 3600x520 with 0 Axes>"
      ]
     },
     "metadata": {},
     "output_type": "display_data"
    },
    {
     "data": {
      "text/plain": [
       "<Figure size 3600x520 with 0 Axes>"
      ]
     },
     "metadata": {},
     "output_type": "display_data"
    },
    {
     "data": {
      "text/plain": [
       "<Figure size 3600x520 with 0 Axes>"
      ]
     },
     "metadata": {},
     "output_type": "display_data"
    },
    {
     "data": {
      "text/plain": [
       "<Figure size 3600x520 with 0 Axes>"
      ]
     },
     "metadata": {},
     "output_type": "display_data"
    },
    {
     "data": {
      "text/plain": [
       "<Figure size 3600x520 with 0 Axes>"
      ]
     },
     "metadata": {},
     "output_type": "display_data"
    }
   ],
   "source": [
    "include_baseline = True\n",
    "include_nnUNet = False\n",
    "include_TotalSegmentator = False\n",
    "include_MedSAM = False\n",
    "include_UniverSeg = False\n",
    "include_global = True\n",
    "\n",
    "split_axis = True\n",
    "\n",
    "for c in [\n",
    "             os.environ.get('Anorectum'),\n",
    "             os.environ.get('Bladder'),\n",
    "             os.environ.get('CTVn'),\n",
    "             os.environ.get('CTVp'),\n",
    "             os.environ.get('Parametrium'),\n",
    "             os.environ.get('Uterus'),\n",
    "             os.environ.get('Vagina'),\n",
    "             ]:\n",
    "    id = int(c.split('_')[0][len('Dataset'):])\n",
    "    print('Fetching metrics for ', c, ' id ', id)\n",
    "    print('------------------------------------')\n",
    "    metrics = fetch_metric_for_class(id)\n",
    "    plot_metrics(metrics, c, save=save, separate=separate, table=table, showfliers=False, additional_title_context='Global analysis')\n",
    "    print('------------------------------------')\n",
    "\n",
    "dump_and_reset_latex_table_aggregator()"
   ]
  }
 ],
 "metadata": {
  "kernelspec": {
   "display_name": ".venv",
   "language": "python",
   "name": "python3"
  },
  "language_info": {
   "codemirror_mode": {
    "name": "ipython",
    "version": 3
   },
   "file_extension": ".py",
   "mimetype": "text/x-python",
   "name": "python",
   "nbconvert_exporter": "python",
   "pygments_lexer": "ipython3",
   "version": "3.10.12"
  }
 },
 "nbformat": 4,
 "nbformat_minor": 2
}

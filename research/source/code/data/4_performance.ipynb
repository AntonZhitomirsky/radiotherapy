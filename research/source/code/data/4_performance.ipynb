{
 "cells": [
  {
   "cell_type": "markdown",
   "metadata": {},
   "source": [
    "# Functions"
   ]
  },
  {
   "cell_type": "code",
   "execution_count": 243,
   "metadata": {},
   "outputs": [],
   "source": [
    "import os, sys\n",
    "dir1 = os.path.dirname(os.path.abspath(''))\n",
    "if not dir1 in sys.path: sys.path.append(dir1)"
   ]
  },
  {
   "cell_type": "code",
   "execution_count": 244,
   "metadata": {},
   "outputs": [],
   "source": [
    "from utils.environment import setup_data_vars\n",
    "setup_data_vars()"
   ]
  },
  {
   "cell_type": "markdown",
   "metadata": {},
   "source": [
    "## Calculate Metrics"
   ]
  },
  {
   "cell_type": "code",
   "execution_count": 245,
   "metadata": {},
   "outputs": [],
   "source": [
    "def get_id_from_path(path: str, needs_num=True):\n",
    "    \"\"\"Given a path, assume that it is the full path that points to the file name. The\n",
    "    file nam ehsould contain a number indicating the id number. It should appear first.\n",
    "\n",
    "    Args:\n",
    "        path (str): A path to the file name or the file name itsself. \n",
    "        \n",
    "        needs_num (bool, optional): If the path needs a number. If it doesn't and no\n",
    "        number was found return 0, otherwise return the number found. Defaults to True.\n",
    "\n",
    "    Raises:\n",
    "        ValueError: If a number is required and no number was found in the path\n",
    "\n",
    "    Returns:\n",
    "        int: the number found in the path\n",
    "    \"\"\"\n",
    "    import re\n",
    "    # Assume that it is the full path that points to the file name. The file name\n",
    "    # should contain a number indicating the id number. It should appear first\n",
    "    numbers = re.findall('\\d+', path.split('/')[-1])\n",
    "    if needs_num and len(numbers) == 0:\n",
    "        raise ValueError(f\"Could not find a number in {path}\")\n",
    "    if not needs_num and len(numbers) == 0:\n",
    "        return 0\n",
    "    return int(numbers[0])\n",
    "\n",
    "def stats_about_metrics(metrics_dictionary: dict):\n",
    "\n",
    "    return_metrics_dictionary = dict()\n",
    "    return_metrics_dictionary['mean'] = dict()\n",
    "\n",
    "    for model, metrics in metrics_dictionary.items():\n",
    "        return_metrics_dictionary['mean'][model] = dict()\n",
    "        for metric, data in metrics.items():\n",
    "            return_metrics_dictionary['mean'][model][metric] = np.mean(data)\n",
    "\n",
    "    return return_metrics_dictionary"
   ]
  },
  {
   "cell_type": "code",
   "execution_count": 246,
   "metadata": {},
   "outputs": [],
   "source": [
    "import matplotlib.pyplot as plt\n",
    "import SimpleITK as sitk\n",
    "from tqdm import tqdm\n",
    "import numpy as np\n",
    "from platipy.imaging.label.comparison import compute_metric_total_apl, compute_surface_dsc, compute_metric_hd\n",
    "\n",
    "import json\n",
    "import os\n",
    "import pandas as pd\n",
    "\n",
    "def calculate_for_MedSAM(prediction_type, model_path):\n",
    "    dice = {0: [], 1: [], 2: []}\n",
    "    hd = {0: [], 1: [], 2: []}\n",
    "    volume_similarity = {0: [], 1: [], 2: []}\n",
    "    apl = {0: [], 1: [], 2: []}\n",
    "    surface_dsc = {0: [], 1: [], 2: []}\n",
    "\n",
    "    # CSV name depends on whether it is out-of-the-box or the fine-tuned version\n",
    "    if 'out-of-the-box' in prediction_type:\n",
    "        csv_name = 'validation_base.csv'\n",
    "    else:\n",
    "        csv_name = 'validation_checkpoint.csv'\n",
    "\n",
    "    # we assume that we've already recorded and saved the statistics in a file validation.csv\n",
    "    # this will contain the validation data for that particular anatomy across all three axis\n",
    "\n",
    "    df = pd.DataFrame(columns=['name', 'axis', 'dice', 'jaccard', 'volume_similarity', 'apl', 'surface_distance', 'hausdorff_distance'])\n",
    "\n",
    "    # load in the processed data if it already exists\n",
    "    if os.path.exists(os.path.join(model_path, csv_name)):\n",
    "        df = pd.read_csv(os.path.join(model_path, csv_name))\n",
    "    else:\n",
    "        raise ValueError(\"No validation data found for this model\")\n",
    "    \n",
    "    # go through the pandas dataframe and aggregate the metrics into each of the dictionaries keyed by the axis.\n",
    "     \n",
    "    for _, row in df.iterrows():\n",
    "        dice[row['axis']].append(row['dice'])\n",
    "        hd[row['axis']].append(row['hausdorff_distance'])\n",
    "        volume_similarity[row['axis']].append(row['volume_similarity'])\n",
    "        apl[row['axis']].append(row['apl'])\n",
    "        surface_dsc[row['axis']].append(row['surface_distance'])\n",
    "\n",
    "    return dice, hd, volume_similarity, surface_dsc, apl\n",
    "\n",
    "def calculate_for_UniverSeg(model_path):\n",
    "    dice = {0: [], 1: [], 2: []}\n",
    "    hd = {0: [], 1: [], 2: []}\n",
    "    volume_similarity = {0: [], 1: [], 2: []}\n",
    "    apl = {0: [], 1: [], 2: []}\n",
    "    surface_dsc = {0: [], 1: [], 2: []}\n",
    "\n",
    "    # we assume that we've already recorded and saved the statistics in a file validation.csv\n",
    "    # this will contain the validation data for that particular anatomy across all three axis\n",
    "\n",
    "    df = pd.DataFrame(columns=['name','dice','volume_similarity','apl','surface_distance','hausdorff_distance'])\n",
    "\n",
    "    # go through each axis in the model path and load in the validation data\n",
    "\n",
    "    axis_stats = [int(ax[-1]) for ax in sorted(os.listdir(model_path))]\n",
    "    if len(axis_stats) != 3:\n",
    "        print(\"[WARNING]: There should be 3 axis in the model path, got\" , axis_stats)\n",
    "\n",
    "    for axis in axis_stats:\n",
    "        if os.path.exists(os.path.join(model_path, f'axis{axis}', 'validation.csv')):\n",
    "            df = pd.read_csv(os.path.join(model_path, f'axis{axis}', 'validation.csv'))\n",
    "        else:\n",
    "            raise ValueError(\"No validation data found for this model\")\n",
    "    \n",
    "        # go through the pandas dataframe and aggregate the metrics into each of the dictionaries keyed by the axis.\n",
    "        \n",
    "        for _, row in df.iterrows():\n",
    "            dice[axis].append(row['dice'])\n",
    "            hd[axis].append(row['hausdorff_distance'])\n",
    "            volume_similarity[axis].append(row['volume_similarity'])\n",
    "            apl[axis].append(row['apl'])\n",
    "            surface_dsc[axis].append(row['surface_distance'])\n",
    "\n",
    "    return dice, hd, volume_similarity, surface_dsc, apl"
   ]
  },
  {
   "cell_type": "code",
   "execution_count": 247,
   "metadata": {},
   "outputs": [],
   "source": [
    "def calculate_for_single_nnUNet_model(input_path_gt, prediction_path):\n",
    "    # if this is our first time running the model we need to run and save the statistics\n",
    "    # otherwise we can just load in the statistics\n",
    "\n",
    "    df = pd.DataFrame(columns=['name','dice','volume_similarity','apl','surface_distance','hausdorff_distance'])\n",
    "\n",
    "    if os.path.exists(os.path.join(prediction_path, 'validation.csv')):\n",
    "        df = pd.read_csv(os.path.join(prediction_path, 'validation.csv'))\n",
    "    else:\n",
    "\n",
    "        overlap_measures_filter = sitk.LabelOverlapMeasuresImageFilter()\n",
    "\n",
    "        ground_truth = [os.path.join(input_path_gt, file) for file in sorted(filter(lambda x: '.nii.gz' in x, os.listdir(input_path_gt)))]\n",
    "        assert len(ground_truth) == 100\n",
    "        assert get_id_from_path(ground_truth[0]) == 1\n",
    "\n",
    "        # Extract all .nii.gz files for metric calculation\n",
    "        predictions = [os.path.join(prediction_path, file) for file in sorted(filter(lambda x: '.nii.gz' in x, os.listdir(prediction_path)))]\n",
    "\n",
    "        # Iterate over pairs of predictions and ground truth\n",
    "        for ypred in tqdm(predictions):\n",
    "            y_gt = ground_truth[get_id_from_path(ypred) - 1]\n",
    "            # If we wish to process the metrics as a 3D whole image, then this is\n",
    "            # trivially done without loading each slice separately\n",
    "            ypred_sitk = sitk.ReadImage(ypred)\n",
    "            y_gt_sitk = sitk.ReadImage(y_gt)\n",
    "\n",
    "            # set spacing to be (1, 1, 1)\n",
    "            ypred_sitk.SetSpacing((1, 1, 1))\n",
    "            y_gt_sitk.SetSpacing((1, 1, 1))\n",
    "\n",
    "            overlap_measures_filter.Execute(y_gt_sitk, ypred_sitk)\n",
    "\n",
    "            new_record = pd.DataFrame([\n",
    "                {\n",
    "                'name': y_gt,\n",
    "                'dice': overlap_measures_filter.GetDiceCoefficient(),\n",
    "                'volume_similarity': overlap_measures_filter.GetVolumeSimilarity(),\n",
    "                'apl': compute_metric_total_apl(y_gt_sitk, ypred_sitk),\n",
    "                'surface_distance': compute_surface_dsc(y_gt_sitk, ypred_sitk),\n",
    "                'hausdorff_distance': compute_metric_hd(y_gt_sitk, ypred_sitk)\n",
    "                }\n",
    "            ])\n",
    "\n",
    "            df = pd.concat([df, new_record], ignore_index=True)\n",
    "\n",
    "        df.to_csv(os.path.join(prediction_path, 'validation.csv'), index=False)\n",
    "\n",
    "    return df['dice'].tolist(), df['hausdorff_distance'].tolist(), df['volume_similarity'].tolist(), df['surface_distance'].tolist(), df['apl'].tolist()\n",
    "\n",
    "def calculate_for_global_nnUNet_model(input_path_gt, prediction_path, class_id_position):\n",
    "    # if this is our first time running the model we need to run and save the statistics\n",
    "    # otherwise we can just load in the statistics\n",
    "\n",
    "    df = pd.DataFrame(columns=['name','dice','volume_similarity','apl','surface_distance','hausdorff_distance'])\n",
    "\n",
    "    if os.path.exists(os.path.join(prediction_path, f'validation_{class_id_position}.csv')):\n",
    "        df = pd.read_csv(os.path.join(prediction_path, f'validation_{class_id_position}.csv'))\n",
    "    else:\n",
    "\n",
    "        overlap_measures_filter = sitk.LabelOverlapMeasuresImageFilter()\n",
    "\n",
    "        # get the predicted probability maps\n",
    "        predictions = [os.path.join(prediction_path, file) for file in sorted(filter(lambda x: '.npz' in x, os.listdir(prediction_path)))]\n",
    "        ground_truth = [os.path.join(input_path_gt, file) for file in sorted(filter(lambda x: '.nii.gz' in x, os.listdir(input_path_gt)))]\n",
    "        assert len(ground_truth) == 100\n",
    "        assert get_id_from_path(ground_truth[0]) == 1\n",
    "        \n",
    "        for p in tqdm(predictions):\n",
    "            # get the image id of the prediction\n",
    "\n",
    "            image_id = get_id_from_path(p, needs_num=True)\n",
    "            probabilities = np.load(p)['probabilities'][class_id_position]\n",
    "            hard_probabilities = (probabilities > 0.5).astype(np.uint8)\n",
    "            prediction_sitk = sitk.GetImageFromArray(hard_probabilities)\n",
    "\n",
    "            # get the ground truth for this image id\n",
    "            y_gt = ground_truth[image_id - 1]\n",
    "            y_gt_sitk = sitk.ReadImage(y_gt)\n",
    "\n",
    "            # copy over properties from the ground truth into the predicted image\n",
    "            prediction_sitk.CopyInformation(y_gt_sitk)  \n",
    "\n",
    "            # set spacing to be (1,1,1)\n",
    "            prediction_sitk.SetSpacing((1, 1, 1))\n",
    "            y_gt_sitk.SetSpacing((1, 1, 1))  \n",
    "\n",
    "            overlap_measures_filter.Execute(y_gt_sitk, prediction_sitk)\n",
    "\n",
    "            new_record = pd.DataFrame([\n",
    "                {\n",
    "                'name': y_gt,\n",
    "                'dice': overlap_measures_filter.GetDiceCoefficient(),\n",
    "                'volume_similarity': overlap_measures_filter.GetVolumeSimilarity(),\n",
    "                'apl': compute_metric_total_apl(y_gt_sitk, prediction_sitk),\n",
    "                'surface_distance': compute_surface_dsc(y_gt_sitk, prediction_sitk),\n",
    "                'hausdorff_distance': compute_metric_hd(y_gt_sitk, prediction_sitk)\n",
    "                }\n",
    "            ])\n",
    "            df = pd.concat([df, new_record], ignore_index=True)\n",
    "\n",
    "        df.to_csv(os.path.join(prediction_path, f'validation_{class_id_position}.csv'), index=False)\n",
    "\n",
    "    return df['dice'].tolist(), df['hausdorff_distance'].tolist(), df['volume_similarity'].tolist(), df['surface_distance'].tolist(), df['apl'].tolist()\n",
    "\n",
    "def calculate_for_nnUNetBased(input_path_gt, prediction_type, prediction_path, class_id_position):\n",
    "    print(f'Calculating metrics for  {prediction_type}')\n",
    "    if 'global' in prediction_type:\n",
    "        return calculate_for_global_nnUNet_model(input_path_gt, prediction_path, class_id_position)\n",
    "    else:\n",
    "        return calculate_for_single_nnUNet_model(input_path_gt, prediction_path)\n",
    "    "
   ]
  },
  {
   "cell_type": "code",
   "execution_count": 248,
   "metadata": {},
   "outputs": [],
   "source": [
    "def calculate_metrics(input_path_gt: str, input_path_pred: dict, class_id_position: int):\n",
    "    \"\"\"Will return the metrics for each prediction path\n",
    "\n",
    "    Args:\n",
    "        input_path_gt (str): a string to the ground truth \n",
    "        input_path_pred (dict): a dictionary containing the paths to the predictions\n",
    "\n",
    "    Returns:\n",
    "        dict: returns dictionary of metrics for the main prediction paths\n",
    "    \"\"\"\n",
    "\n",
    "    final_metrics = dict()\n",
    "    for k, _ in input_path_pred.items(): final_metrics[k] = dict()\n",
    "\n",
    "    # Iterate over the models and their predictions\n",
    "    for prediction_type, prediction_path in input_path_pred.items():\n",
    "\n",
    "        dice = []\n",
    "        hd = []\n",
    "        volume_similarity = []\n",
    "        apl = []\n",
    "        surface_dsc = []\n",
    "\n",
    "        if 'MedSAM' in prediction_type:\n",
    "            # raise NotImplementedError(\"MedSAM is not decomissioned for the mean while\")\n",
    "            dice, hd, volume_similarity, surface_dsc, apl = calculate_for_MedSAM(prediction_type, prediction_path)\n",
    "        elif 'UniverSeg' in prediction_type:\n",
    "            dice, hd, volume_similarity, surface_dsc, apl = calculate_for_UniverSeg(prediction_path)\n",
    "        else:\n",
    "            dice, hd, volume_similarity, surface_dsc, apl = calculate_for_nnUNetBased(input_path_gt, prediction_type, prediction_path, class_id_position)\n",
    "\n",
    "        final_metrics[prediction_type]['DICE Similarity Coefficient'] = dice\n",
    "        final_metrics[prediction_type]['Haussdorf Distance'] = hd\n",
    "        final_metrics[prediction_type]['Relative Volume Difference'] = volume_similarity\n",
    "        final_metrics[prediction_type]['Added Path Length'] = apl\n",
    "        final_metrics[prediction_type]['Surface DSC'] = surface_dsc\n",
    "\n",
    "    return final_metrics"
   ]
  },
  {
   "cell_type": "code",
   "execution_count": 249,
   "metadata": {},
   "outputs": [],
   "source": [
    "import shutil\n",
    "import textwrap as twp\n",
    "max_line_width_no_table = 15\n",
    "max_line_width_table = 15\n",
    "\n",
    "split_axis = False\n",
    "\n",
    "def plot_metrics(metrics_dictionary: dict, organ_class: str, separate: bool = False, save: bool = False, showfliers = True, table = True, additional_title_context = ''):\n",
    "    \"\"\"Plots the metrics for the given dictionary of metrics and prints a table of mean\n",
    "    metrics to the right\n",
    "\n",
    "    Args:\n",
    "        metrics_dictionary (dict): A dictionary containing a key value pair of model type\n",
    "        and value of dictionary. This dictionary will have a key value pairing of metric\n",
    "        type and a list of values for that metric.\n",
    "        \n",
    "        organ_class (str): For saving the figure, supply the name of the organ class\n",
    "        \n",
    "        separate (bool, optional): Whether we print each type of model type separately or\n",
    "        together so that for each metric we plot the models side by side for better\n",
    "        comparison. Defaults to False.\n",
    "\n",
    "        save (bool, optional): Whether to save the figure or not. Defaults to False.\n",
    "\n",
    "        showfliers (bool, optional): Whether to show the outliers in the boxplot. Defaults\n",
    "        to True.\n",
    "\n",
    "        table (bool, optional): Whether to show the table of mean metrics or not. Defaults\n",
    "        to True.\n",
    "\n",
    "        additional_title_context (str, optional): Additional context to add to the title\n",
    "        of the plot. Defaults to ''.\n",
    "\n",
    "\n",
    "    \"\"\"\n",
    "\n",
    "    def get_stats_and_plot_table(metric_result, ax, model_type, metric_type, plot_table):\n",
    "        # Fetch statistics\n",
    "        mean = [np.mean(result) for result in metric_result]\n",
    "        std = [np.std(result) for result in metric_result]\n",
    "        median = [np.median(result) for result in metric_result]\n",
    "\n",
    "        # Format the table\n",
    "        cell_text = []\n",
    "        cell_text.append([f'{mean[i]:.2f}' for i in range(len(mean))])\n",
    "        cell_text.append([f'{std[i]:.2f}' for i in range(len(std))])\n",
    "        cell_text.append([f'{median[i]:.2f}' for i in range(len(std))])\n",
    "        rowLabels = [r'$\\hat{x}$', r'$\\sigma$', r'$med$']\n",
    "        \n",
    "        print(metric_type, ' & '.join(np.array(cell_text).T.flatten().tolist()))\n",
    "\n",
    "        if not plot_table:\n",
    "            return\n",
    "        \n",
    "        colLabels = [twp.fill(label, max_line_width_table) for label in model_type]\n",
    "\n",
    "        # Plot the table\n",
    "        table_height = 0.06 * len(rowLabels)\n",
    "        ax_box = ax.get_position()\n",
    "        ax.set_position([ax_box.x0, ax_box.y0, ax_box.width, ax_box.height * (1 - table_height)])\n",
    "        #  bbox=[0., 1., 1., table_height / (1 - table_height)] the position before\n",
    "        table = ax.table(cell_text, cellLoc='center', rowLabels=rowLabels, colLabels=colLabels if not separate else None, fontsize=100) #, bbox=[0., 1., 1., table_height / (1 - table_height)] )\n",
    "        table.auto_set_font_size(False)\n",
    "        table.set_fontsize(9)\n",
    "        table.scale(1, 2)\n",
    "        \n",
    "\n",
    "    if separate and table:\n",
    "        print('[WARNING]: Bug with table printing in the separate mode. Set table=False to avoid this.')\n",
    "\n",
    "    augmented_metrics_dictionary = metrics_dictionary\n",
    "\n",
    "    # If we have medsam predictions, for now, plot the different axese separately\n",
    "    contains_medsam = ['MedSAM' in p or 'UniverSeg' in p for p in metrics_dictionary.keys()]\n",
    "    # heuristic to check if we've already done this shebang\n",
    "    # if sum([1 for p in contains_medsam if p]) <= 3:\n",
    "    if any(contains_medsam):\n",
    "        # go over each model type and extract the metrics for each axis\n",
    "\n",
    "        # extract the keys which are true out from the metrics_dictionary key set\n",
    "        extracted_values = [value for value, flag in zip(list(metrics_dictionary.keys()), contains_medsam) if flag]\n",
    "\n",
    "        for medsam_metric_type in extracted_values:\n",
    "\n",
    "            medsam_metrics = metrics_dictionary[medsam_metric_type]\n",
    "            if split_axis:\n",
    "                # Extract the metrics for each axis\n",
    "                set_of_processed_axis = set()\n",
    "                for metric in medsam_metrics.keys():\n",
    "                    set_of_processed_axis.update(medsam_metrics[metric].keys())\n",
    "                    for axis in medsam_metrics[metric].keys():\n",
    "                        if f'{medsam_metric_type} (axis{axis})' not in augmented_metrics_dictionary.keys():\n",
    "                            augmented_metrics_dictionary[f'{medsam_metric_type} (axis{axis})'] = dict()\n",
    "                        augmented_metrics_dictionary[f'{medsam_metric_type} (axis{axis})'][metric] = medsam_metrics[metric][axis]\n",
    "\n",
    "                del augmented_metrics_dictionary[medsam_metric_type]\n",
    "\n",
    "            # now include a global aggregate for each axis\n",
    "            augmented_metrics_dictionary[medsam_metric_type] = dict()\n",
    "            for metric in medsam_metrics.keys():\n",
    "                for axis in medsam_metrics[metric].keys():\n",
    "                    if metric not in augmented_metrics_dictionary[medsam_metric_type].keys():\n",
    "                        augmented_metrics_dictionary[medsam_metric_type][metric] = []\n",
    "                    augmented_metrics_dictionary[medsam_metric_type][metric] += medsam_metrics[metric][axis]\n",
    "\n",
    "    num_models = len(augmented_metrics_dictionary)\n",
    "\n",
    "    nrows = num_models if separate == True else 1\n",
    "    metrics_names = [list(augmented_metrics_dictionary[m].keys()) for m in augmented_metrics_dictionary.keys()]\n",
    "    metrics_names = sorted(list(set([metric for model_metrics in metrics_names for metric in model_metrics])))\n",
    "    ncols = len(metrics_names)\n",
    "\n",
    "    plot_height = 5*1.6\n",
    "    plot_width = 0.5 * max(4, num_models) * 1.6\n",
    "\n",
    "    fig, axes = plt.subplots(ncols=ncols, nrows=nrows, figsize=(plot_width * (ncols + num_models - 1), nrows * plot_height))\n",
    "\n",
    "    # Reshape axes to be a 2D array\n",
    "    axes = np.reshape(axes, (nrows, ncols))\n",
    "\n",
    "    for i, row in enumerate(axes):\n",
    "        for j, ax in enumerate(row):\n",
    "            # << Fetch Data Collections For Plotting >>\n",
    "\n",
    "            # Get the model type for printing. If we're not separating models, model_type\n",
    "            # is a list of all model names\n",
    "            model_type = list(augmented_metrics_dictionary.keys())[i] if separate else list(augmented_metrics_dictionary.keys())\n",
    "            # Get the metric type for the current column. Its possible that this metric\n",
    "            # doesn't exist for all models\n",
    "            metrics_type = metrics_names[j]\n",
    "            # Get the data for the current metric type while checking if it exists for the\n",
    "            # current model\n",
    "            getData = lambda m: augmented_metrics_dictionary[m][metrics_type] if metrics_type in augmented_metrics_dictionary[m].keys() else []\n",
    "            metric_result = getData(model_type) if separate else [getData(model) for model in augmented_metrics_dictionary.keys()]\n",
    "            \n",
    "            metric_result = [np.array(m) for m in metric_result]\n",
    "            metric_result = [m[~np.isnan(m)] for m in metric_result]\n",
    "            \n",
    "            # if len(metric_result.shape) == 1:\n",
    "            #     metric_result = metric_result[None, :]\n",
    "\n",
    "            # << Plot the Data >>\n",
    "\n",
    "            # ax.violinplot(metric_result)\n",
    "            ax.boxplot(metric_result, showfliers=showfliers, meanline=True, showmeans=True, patch_artist=True, widths=(.4))\n",
    "\n",
    "            # << Plot Table with Mean Metrics >>\n",
    "            \n",
    "            get_stats_and_plot_table(np.reshape(metric_result, (1, -1)).tolist() if separate else metric_result, ax, model_type, metrics_type, table) \n",
    "\n",
    "            # << Axis Formatting >>\n",
    "\n",
    "            ax.set_title(metrics_type.capitalize(), fontsize='x-large') # y=1.02,\n",
    "            # TODO: Bug with separable mode. The x-axis labels are not being removed\n",
    "            ax.set_xticklabels([] if table else [twp.fill(label, max_line_width_no_table) for label in model_type]) #, rotation=30) #  if not separate else model_type, rotation=30\n",
    "            ax.tick_params(axis='x', which='both', bottom=False)\n",
    "    \n",
    "    if separate:\n",
    "        for ax, title in zip(axes[:,0], augmented_metrics_dictionary.keys()):\n",
    "            ax.set_ylabel(title.capitalize(), fontsize='xx-large')\n",
    "    \n",
    "    # if organ class like Dataset000_classname, extract classname\n",
    "    import re\n",
    "    match = re.search(r'Dataset\\d+_(\\w+)', organ_class)\n",
    "    if match:\n",
    "        organ_class = match.group(1).lower()\n",
    "\n",
    "    fig.tight_layout()\n",
    "    # fig.set_facecolor('silver')\n",
    "    fig.suptitle(f'Segmentation metrics for the {organ_class.capitalize()} class {additional_title_context}', y=1, fontsize='xx-large', verticalalignment='center', horizontalalignment='center')  # Set the title of the whole plot\n",
    "    fig.subplots_adjust(top=0.88)  # Adjust the plot to make room for the title\n",
    "\n",
    "    # << Saving the Figure >>\n",
    "\n",
    "    if save: \n",
    "        prefix = f'metrics{organ_class}'\n",
    "        postfix = f'{\"separated\" if separate else \"combined\"}{\"table\" if table else \"notable\"}_{\"_\".join(additional_title_context.split(\" \"))}.png'\n",
    "\n",
    "        number = max([0] + [get_id_from_path(fn, False) for fn in os.listdir('metrics/') if fn.startswith(prefix) and fn.endswith(postfix)])\n",
    "\n",
    "        file_name = lambda num: f'{prefix}_{f\"{num}_\"if num is not None else \"\"}{postfix}'\n",
    "\n",
    "        try:\n",
    "            # Move the file\n",
    "            os.makedirs('metrics/old', exist_ok=True)\n",
    "            plt.savefig(f'metrics/{file_name(number + 1)}', bbox_inches='tight')\n",
    "            shutil.move(f'metrics/{file_name(number)}', f'metrics/old/')\n",
    "        except Error as e:\n",
    "            print(f'WARNING: {e}')\n",
    "    \n",
    "        plt.clf()\n",
    "    else:\n",
    "        plt.show()\n",
    "\n",
    "    "
   ]
  },
  {
   "cell_type": "code",
   "execution_count": 250,
   "metadata": {},
   "outputs": [],
   "source": [
    "include_baseline = False\n",
    "include_nnUNet = False\n",
    "include_TotalSegmentator = False\n",
    "include_MedSAM = False\n",
    "include_UniverSeg = False\n",
    "include_global = False"
   ]
  },
  {
   "cell_type": "code",
   "execution_count": 251,
   "metadata": {},
   "outputs": [],
   "source": [
    "def fetch_metric_for_class(class_id: int):\n",
    "    \"\"\"Prints a plot of the segmentations for the given class in the predefined format.\n",
    "    This method acts in a factory pattern to generate the plot for each class. \n",
    "\n",
    "    Args:\n",
    "        class_id (int): 1: Anorectum ... 5: Parametrium\n",
    "    \"\"\"\n",
    "\n",
    "    setup_data_vars()\n",
    "\n",
    "    classes = [os.environ.get('Anorectum')\n",
    "             , os.environ.get('Bladder')\n",
    "             , os.environ.get('CTVn')\n",
    "             , os.environ.get('CTVp')\n",
    "             , os.environ.get('Parametrium')\n",
    "             , os.environ.get('Uterus')\n",
    "             , os.environ.get('Vagina')]\n",
    "\n",
    "    gt_labels = [os.path.join(os.environ.get('nnUNet_raw'), x, os.environ.get('data_trainingLabels')) for x in classes]\n",
    "    # gt_labels = [os.path.join(os.environ.get('nnUNet_'), x, 'nnUNetPlans_3d_fullres') for x in classes]\n",
    "    # print('WARNING: using old nnUNet predictions. Change to new path when complete')\n",
    "\n",
    "    anorectum = {\n",
    "        'nnUNet': os.path.join(os.environ.get('nnUNet_inference'), os.environ.get('Anorectum'), 'nnUNetTrainer_500epochs__nnUNetResEncUNetLPlans__3d_fullres'),\n",
    "        'nnUNet global': os.path.join(os.environ.get('nnUNet_inference'), os.environ.get('TotalBinary'), 'nnUNetTrainer_500epochs__nnUNetPlans__3d_fullres'),\n",
    "        'nnUNet global custom loss': os.path.join(os.environ.get('nnUNet_inference'), os.environ.get('TotalBinary'), 'nnUNetTrainerCervical_500epochs__nnUNetPlans__3d_fullres'),\n",
    "        'UniverSeg out-of-the-box': '/vol/biomedic3/bglocker/ugproj2324/az620/radiotherapy/research/source/code/UniverSeg/results/Anorectum',\n",
    "        'UniverSeg finetuned': '/vol/biomedic3/bglocker/ugproj2324/az620/radiotherapy/research/source/code/UniverSeg/results_finetuned/Anorectum',\n",
    "        'MedSAM boxed out-of-the-box': os.path.join(os.environ.get('MedSAM_finetuned'), 'boxed_lowres_2', 'Anorectum'),\n",
    "        'MedSAM boxed fine-tuned': os.path.join(os.environ.get('MedSAM_finetuned'), 'boxed_lowres_2', 'Anorectum'),\n",
    "        'total segmentator (fine-tuned)': os.path.join(os.environ.get('TotalSegmentator_inference'), os.environ.get('Anorectum'), 'nnUNetTrainer_250epochs__totseg_nnUNetPlans__3d_fullres'),\n",
    "        'total segmentator (fine-tuned) global': os.path.join(os.environ.get('TotalSegmentator_inference'), os.environ.get('TotalBinary'), 'nnUNetTrainer_500epochs__totseg_nnUNetPlans__3d_fullres'),\n",
    "        'total segmentator (fine-tuned) global custom loss': os.path.join(os.environ.get('TotalSegmentator_inference'), os.environ.get('TotalBinary'), 'nnUNetTrainerCervical_500epochs__totseg_nnUNetPlans__3d_fullres'),\n",
    "    }\n",
    "\n",
    "    bladder = {\n",
    "        'nnUNet': os.path.join(os.environ.get('nnUNet_inference'), os.environ.get('Bladder'), 'nnUNetTrainer_500epochs__nnUNetResEncUNetLPlans__3d_fullres'),\n",
    "        'nnUNet global': os.path.join(os.environ.get('nnUNet_inference'), os.environ.get('TotalBinary'), 'nnUNetTrainer_500epochs__nnUNetPlans__3d_fullres'),\n",
    "        'nnUNet global custom loss': os.path.join(os.environ.get('nnUNet_inference'), os.environ.get('TotalBinary'), 'nnUNetTrainerCervical_500epochs__nnUNetPlans__3d_fullres'),\n",
    "        'UniverSeg out-of-the-box': '/vol/biomedic3/bglocker/ugproj2324/az620/radiotherapy/research/source/code/UniverSeg/results/Bladder',\n",
    "        'MedSAM boxed out-of-the-box': os.path.join(os.environ.get('MedSAM_finetuned'), 'boxed_lowres_2', 'Bladder'),\n",
    "        'MedSAM fine-tuned': os.path.join(os.environ.get('MedSAM_finetuned'), 'boxed_lowres_2', 'Bladder'),\n",
    "        'total segmentator': os.path.join(os.environ.get('TotalSegmentator_inference'), os.environ.get('Bladder'), 'nnUNetTrainer__nnUNetPlans__3d_fullres'),\n",
    "        'total segmentator (fine-tuned)': os.path.join(os.environ.get('TotalSegmentator_inference'), os.environ.get('Bladder'), 'nnUNetTrainer_250epochs__totseg_nnUNetPlans__3d_fullres'),\n",
    "        'total segmentator (fine-tuned) global': os.path.join(os.environ.get('TotalSegmentator_inference'), os.environ.get('TotalBinary'), 'nnUNetTrainer_500epochs__totseg_nnUNetPlans__3d_fullres'),\n",
    "        'total segmentator (fine-tuned) global custom loss': os.path.join(os.environ.get('TotalSegmentator_inference'), os.environ.get('TotalBinary'), 'nnUNetTrainerCervical_500epochs__totseg_nnUNetPlans__3d_fullres'),\n",
    "    }\n",
    "\n",
    "    ctvn = {\n",
    "        'nnUNet': os.path.join(os.environ.get('nnUNet_inference'), os.environ.get('CTVn'), 'nnUNetTrainer_500epochs__nnUNetResEncUNetLPlans__3d_fullres'),\n",
    "        'nnUNet global': os.path.join(os.environ.get('nnUNet_inference'), os.environ.get('TotalBinary'), 'nnUNetTrainer_500epochs__nnUNetPlans__3d_fullres'),\n",
    "        'nnUNet global custom loss': os.path.join(os.environ.get('nnUNet_inference'), os.environ.get('TotalBinary'), 'nnUNetTrainerCervical_500epochs__nnUNetPlans__3d_fullres'),\n",
    "        'UniverSeg out-of-the-box': '/vol/biomedic3/bglocker/ugproj2324/az620/radiotherapy/research/source/code/UniverSeg/results/CTVn',\n",
    "        'MedSAM boxed out-of-the-box': os.path.join(os.environ.get('MedSAM_finetuned'), 'boxed_lowres_2', 'CTVn'),\n",
    "        'MedSAM fine-tuned': os.path.join(os.environ.get('MedSAM_finetuned'), 'boxed_lowres_2', 'CTVn'),\n",
    "        'total segmentator (fine-tuned)': os.path.join(os.environ.get('TotalSegmentator_inference'), os.environ.get('CTVn'), 'nnUNetTrainer_250epochs__totseg_nnUNetPlans__3d_fullres'),\n",
    "        'total segmentator (fine-tuned) global': os.path.join(os.environ.get('TotalSegmentator_inference'), os.environ.get('TotalBinary'), 'nnUNetTrainer_500epochs__totseg_nnUNetPlans__3d_fullres'),\n",
    "        'total segmentator (fine-tuned) global custom loss': os.path.join(os.environ.get('TotalSegmentator_inference'), os.environ.get('TotalBinary'), 'nnUNetTrainerCervical_500epochs__totseg_nnUNetPlans__3d_fullres'),\n",
    "    }\n",
    "\n",
    "    ctvp = {\n",
    "        'nnUNet': os.path.join(os.environ.get('nnUNet_inference'), os.environ.get('CTVp'), 'nnUNetTrainer_500epochs__nnUNetResEncUNetLPlans__3d_fullres'),\n",
    "        'nnUNet global': os.path.join(os.environ.get('nnUNet_inference'), os.environ.get('TotalBinary'), 'nnUNetTrainer_500epochs__nnUNetPlans__3d_fullres'),\n",
    "        'nnUNet global custom loss': os.path.join(os.environ.get('nnUNet_inference'), os.environ.get('TotalBinary'), 'nnUNetTrainerCervical_500epochs__nnUNetPlans__3d_fullres'),\n",
    "        'UniverSeg out-of-the-box': '/vol/biomedic3/bglocker/ugproj2324/az620/radiotherapy/research/source/code/UniverSeg/results/CTVp',\n",
    "        'MedSAM boxed out-of-the-box': os.path.join(os.environ.get('MedSAM_finetuned'), 'boxed_lowres_2', 'CTVp'),\n",
    "        'MedSAM fine-tuned': os.path.join(os.environ.get('MedSAM_finetuned'), 'boxed_lowres_2', 'CTVp'),\n",
    "        'total segmentator (fine-tuned)': os.path.join(os.environ.get('TotalSegmentator_inference'), os.environ.get('CTVp'), 'nnUNetTrainer_250epochs__totseg_nnUNetPlans__3d_fullres'),\n",
    "        'total segmentator (fine-tuned) global': os.path.join(os.environ.get('TotalSegmentator_inference'), os.environ.get('TotalBinary'), 'nnUNetTrainer_500epochs__totseg_nnUNetPlans__3d_fullres'),\n",
    "        'total segmentator (fine-tuned) global custom loss': os.path.join(os.environ.get('TotalSegmentator_inference'), os.environ.get('TotalBinary'), 'nnUNetTrainerCervical_500epochs__totseg_nnUNetPlans__3d_fullres'),\n",
    "    }\n",
    "\n",
    "    parametrium = {\n",
    "        'nnUNet': os.path.join(os.environ.get('nnUNet_inference'), os.environ.get('Parametrium'), 'nnUNetTrainer_500epochs__nnUNetResEncUNetLPlans__3d_fullres'),\n",
    "        'nnUNet global': os.path.join(os.environ.get('nnUNet_inference'), os.environ.get('TotalBinary'), 'nnUNetTrainer_500epochs__nnUNetPlans__3d_fullres'),\n",
    "        'nnUNet global custom loss': os.path.join(os.environ.get('nnUNet_inference'), os.environ.get('TotalBinary'), 'nnUNetTrainerCervical_500epochs__nnUNetPlans__3d_fullres'),\n",
    "        'UniverSeg out-of-the-box': '/vol/biomedic3/bglocker/ugproj2324/az620/radiotherapy/research/source/code/UniverSeg/results/Parametrium',\n",
    "        'MedSAM boxed out-of-the-box': os.path.join(os.environ.get('MedSAM_finetuned'), 'boxed_lowres_2', 'Parametrium'),\n",
    "        'MedSAM fine-tuned': os.path.join(os.environ.get('MedSAM_finetuned'), 'boxed_lowres_2', 'Parametrium'),\n",
    "        'total segmentator (fine-tuned)': os.path.join(os.environ.get('TotalSegmentator_inference'), os.environ.get('Parametrium'), 'nnUNetTrainer_250epochs__totseg_nnUNetPlans__3d_fullres'),\n",
    "        'total segmentator (fine-tuned) global': os.path.join(os.environ.get('TotalSegmentator_inference'), os.environ.get('TotalBinary'), 'nnUNetTrainer_500epochs__totseg_nnUNetPlans__3d_fullres'),\n",
    "        'total segmentator (fine-tuned) global custom loss': os.path.join(os.environ.get('TotalSegmentator_inference'), os.environ.get('TotalBinary'), 'nnUNetTrainerCervical_500epochs__totseg_nnUNetPlans__3d_fullres'),\n",
    "    }\n",
    "\n",
    "    uterus = {\n",
    "        'nnUNet': os.path.join(os.environ.get('nnUNet_inference'), os.environ.get('Uterus'), 'nnUNetTrainer_500epochs__nnUNetResEncUNetLPlans__3d_fullres'),\n",
    "        'nnUNet global': os.path.join(os.environ.get('nnUNet_inference'), os.environ.get('TotalBinary'), 'nnUNetTrainer_500epochs__nnUNetPlans__3d_fullres'),\n",
    "        'nnUNet global custom loss': os.path.join(os.environ.get('nnUNet_inference'), os.environ.get('TotalBinary'), 'nnUNetTrainerCervical_500epochs__nnUNetPlans__3d_fullres'),\n",
    "        'UniverSeg out-of-the-box': '/vol/biomedic3/bglocker/ugproj2324/az620/radiotherapy/research/source/code/UniverSeg/results/Uterus',\n",
    "        'MedSAM boxed out-of-the-box': os.path.join(os.environ.get('MedSAM_finetuned'), 'boxed_lowres_2', 'Uterus'),\n",
    "        'MedSAM fine-tuned': os.path.join(os.environ.get('MedSAM_finetuned'), 'boxed_lowres_2', 'Uterus'),\n",
    "        'total segmentator (fine-tuned)': os.path.join(os.environ.get('TotalSegmentator_inference'), os.environ.get('Uterus'), 'nnUNetTrainer_250epochs__totseg_nnUNetPlans__3d_fullres'),\n",
    "        'total segmentator (fine-tuned) global': os.path.join(os.environ.get('TotalSegmentator_inference'), os.environ.get('TotalBinary'), 'nnUNetTrainer_500epochs__totseg_nnUNetPlans__3d_fullres'),\n",
    "        'total segmentator (fine-tuned) global custom loss': os.path.join(os.environ.get('TotalSegmentator_inference'), os.environ.get('TotalBinary'), 'nnUNetTrainerCervical_500epochs__totseg_nnUNetPlans__3d_fullres'),\n",
    "    }\n",
    "\n",
    "    vagina = {\n",
    "        'nnUNet': os.path.join(os.environ.get('nnUNet_inference'), os.environ.get('Vagina'), 'nnUNetTrainer_500epochs__nnUNetResEncUNetLPlans__3d_fullres'),\n",
    "        'nnUNet global': os.path.join(os.environ.get('nnUNet_inference'), os.environ.get('TotalBinary'), 'nnUNetTrainer_500epochs__nnUNetPlans__3d_fullres'),\n",
    "        'nnUNet global custom loss': os.path.join(os.environ.get('nnUNet_inference'), os.environ.get('TotalBinary'), 'nnUNetTrainerCervical_500epochs__nnUNetPlans__3d_fullres'),\n",
    "        'UniverSeg out-of-the-box': '/vol/biomedic3/bglocker/ugproj2324/az620/radiotherapy/research/source/code/UniverSeg/results/Vagina',\n",
    "        'MedSAM boxed out-of-the-box': os.path.join(os.environ.get('MedSAM_finetuned'), 'boxed_lowres_2', 'Vagina'),\n",
    "        'MedSAM fine-tuned': os.path.join(os.environ.get('MedSAM_finetuned'), 'boxed_lowres_2', 'Vagina'),\n",
    "        'total segmentator (fine-tuned)': os.path.join(os.environ.get('TotalSegmentator_inference'), os.environ.get('Vagina'), 'nnUNetTrainer_250epochs__totseg_nnUNetPlans__3d_fullres'),\n",
    "        'total segmentator (fine-tuned) global': os.path.join(os.environ.get('TotalSegmentator_inference'), os.environ.get('TotalBinary'), 'nnUNetTrainer_500epochs__totseg_nnUNetPlans__3d_fullres'),\n",
    "        'total segmentator (fine-tuned) global custom loss': os.path.join(os.environ.get('TotalSegmentator_inference'), os.environ.get('TotalBinary'), 'nnUNetTrainerCervical_500epochs__totseg_nnUNetPlans__3d_fullres'),\n",
    "    }\n",
    "\n",
    "    predictions = [anorectum, bladder, ctvn, ctvp, parametrium, uterus, vagina]\n",
    "\n",
    "    if 1 <= class_id <= len(predictions):\n",
    "\n",
    "        prediction = dict()\n",
    "\n",
    "        for k in predictions[class_id - 1].keys():\n",
    "            if ('nnUNet' == k and include_baseline) or\\\n",
    "               ('nnUNet' in k and 'global' not in k and include_nnUNet) or\\\n",
    "               ('total segmentator' in k and 'global' not in k and include_TotalSegmentator) or\\\n",
    "               ('MedSAM' in k and include_MedSAM) or\\\n",
    "               ('UniverSeg' in k and include_UniverSeg) or\\\n",
    "               ('global' in k and include_global):\n",
    "                prediction[k] =  predictions[class_id - 1][k]   \n",
    "\n",
    "        return calculate_metrics(gt_labels[class_id - 1], prediction, class_id - 1)\n",
    "    raise ValueError(\"Invalid class_id. Please choose a class between 1 and 5.\")"
   ]
  },
  {
   "cell_type": "markdown",
   "metadata": {},
   "source": [
    "# Plotting Section"
   ]
  },
  {
   "cell_type": "markdown",
   "metadata": {},
   "source": [
    "### Plot for MedSAM"
   ]
  },
  {
   "cell_type": "code",
   "execution_count": 252,
   "metadata": {},
   "outputs": [],
   "source": [
    "save = True\n",
    "separate = False\n",
    "table = False"
   ]
  },
  {
   "cell_type": "code",
   "execution_count": 253,
   "metadata": {},
   "outputs": [
    {
     "name": "stdout",
     "output_type": "stream",
     "text": [
      "Fetching metrics for  Dataset001_Anorectum  id  1\n",
      "------------------------------------\n",
      "Calculating metrics for  nnUNet\n",
      "Added Path Length 1.06 & 1.96 & 0.45 & 20.01 & 27.69 & 8.69 & 5.31 & 11.28 & 0.00\n",
      "DICE Similarity Coefficient 0.91 & 0.03 & 0.92 & 0.77 & 0.15 & 0.81 & 0.91 & 0.05 & 0.92\n",
      "Haussdorf Distance 12.14 & 27.81 & 5.05 & 4.98 & 3.34 & 4.00 & 2.57 & 1.51 & 2.00\n",
      "Relative Volume Difference 0.04 & 0.06 & 0.03 & 0.04 & 0.29 & 0.02 & -0.00 & 0.11 & 0.01\n",
      "Surface DSC 0.99 & 0.02 & 1.00 & 0.46 & 0.19 & 0.46 & 0.68 & 0.17 & 0.70\n",
      "WARNING: [Errno 2] No such file or directory: 'metrics/metricsanorectum_0_combinednotable_MedSAM_analysis.png'\n",
      "------------------------------------\n",
      "Fetching metrics for  Dataset002_Bladder  id  2\n",
      "------------------------------------\n",
      "Calculating metrics for  nnUNet\n",
      "Added Path Length 1.21 & 2.06 & 0.71 & 9.12 & 13.14 & 3.52 & 3.59 & 6.98 & 0.00\n",
      "DICE Similarity Coefficient 0.94 & 0.06 & 0.97 & 0.92 & 0.08 & 0.94 & 0.95 & 0.05 & 0.97\n",
      "Haussdorf Distance 77.16 & 71.94 & 96.79 & 3.09 & 1.55 & 2.54 & 3.00 & 7.69 & 2.00\n",
      "Relative Volume Difference -0.04 & 0.12 & -0.02 & -0.05 & 0.13 & -0.04 & -0.03 & 0.09 & -0.01\n",
      "Surface DSC 0.97 & 0.06 & 1.00 & 0.54 & 0.16 & 0.55 & 0.68 & 0.14 & 0.69\n",
      "WARNING: [Errno 2] No such file or directory: 'metrics/metricsbladder_0_combinednotable_MedSAM_analysis.png'\n",
      "------------------------------------\n",
      "Fetching metrics for  Dataset003_CTVn  id  3\n",
      "------------------------------------\n",
      "Calculating metrics for  nnUNet\n",
      "Added Path Length 3.89 & 3.01 & 3.07 & 101.75 & 65.19 & 92.27 & 27.49 & 27.36 & 18.95\n",
      "DICE Similarity Coefficient 0.93 & 0.01 & 0.94 & 0.52 & 0.13 & 0.53 & 0.88 & 0.05 & 0.89\n",
      "Haussdorf Distance 8.92 & 2.90 & 8.30 & 12.34 & 5.56 & 10.64 & 4.63 & 2.71 & 3.97\n",
      "Relative Volume Difference -0.01 & 0.03 & -0.01 & 0.34 & 0.50 & 0.37 & -0.07 & 0.10 & -0.06\n",
      "Surface DSC 0.99 & 0.01 & 0.99 & 0.17 & 0.09 & 0.16 & 0.52 & 0.17 & 0.51\n",
      "WARNING: [Errno 2] No such file or directory: 'metrics/metricsctvn_0_combinednotable_MedSAM_analysis.png'\n",
      "------------------------------------\n",
      "Fetching metrics for  Dataset004_CTVp  id  4\n",
      "------------------------------------\n",
      "Calculating metrics for  nnUNet\n",
      "Added Path Length 1.25 & 1.51 & 0.80 & 20.61 & 22.34 & 13.39 & 7.04 & 11.74 & 1.49\n",
      "DICE Similarity Coefficient 0.94 & 0.01 & 0.94 & 0.82 & 0.12 & 0.86 & 0.90 & 0.06 & 0.92\n",
      "Haussdorf Distance 8.88 & 26.86 & 5.92 & 5.48 & 3.74 & 4.39 & 3.07 & 1.71 & 2.54\n",
      "Relative Volume Difference -0.01 & 0.04 & -0.00 & 0.05 & 0.23 & 0.04 & -0.02 & 0.11 & -0.01\n",
      "Surface DSC 0.99 & 0.01 & 0.99 & 0.47 & 0.18 & 0.47 & 0.63 & 0.17 & 0.63\n",
      "WARNING: [Errno 2] No such file or directory: 'metrics/metricsctvp_0_combinednotable_MedSAM_analysis.png'\n",
      "------------------------------------\n",
      "Fetching metrics for  Dataset005_Parametrium  id  5\n",
      "------------------------------------\n",
      "Calculating metrics for  nnUNet\n",
      "Added Path Length 2.97 & 2.14 & 2.45 & 56.33 & 33.69 & 52.09 & 16.41 & 18.67 & 11.72\n",
      "DICE Similarity Coefficient 0.93 & 0.01 & 0.93 & 0.66 & 0.14 & 0.68 & 0.87 & 0.07 & 0.88\n",
      "Haussdorf Distance 11.28 & 19.53 & 8.06 & 8.92 & 3.62 & 8.39 & 4.28 & 2.36 & 3.81\n",
      "Relative Volume Difference 0.01 & 0.03 & 0.01 & 0.32 & 0.33 & 0.32 & -0.05 & 0.14 & -0.03\n",
      "Surface DSC 0.99 & 0.01 & 0.99 & 0.26 & 0.13 & 0.23 & 0.49 & 0.16 & 0.48\n",
      "WARNING: [Errno 2] No such file or directory: 'metrics/metricsparametrium_0_combinednotable_MedSAM_analysis.png'\n",
      "------------------------------------\n",
      "Fetching metrics for  Dataset006_Uterus  id  6\n",
      "------------------------------------\n",
      "Calculating metrics for  nnUNet\n",
      "Added Path Length 1.11 & 1.17 & 0.80 & 18.03 & 20.13 & 11.91 & 6.42 & 10.18 & 1.49\n",
      "DICE Similarity Coefficient 0.94 & 0.01 & 0.94 & 0.85 & 0.09 & 0.88 & 0.92 & 0.05 & 0.93\n",
      "Haussdorf Distance 6.01 & 2.61 & 5.79 & 4.79 & 2.86 & 4.00 & 3.40 & 6.66 & 2.50\n",
      "Relative Volume Difference 0.00 & 0.05 & 0.00 & 0.09 & 0.19 & 0.07 & -0.02 & 0.10 & -0.01\n",
      "Surface DSC 0.99 & 0.01 & 0.99 & 0.48 & 0.18 & 0.48 & 0.63 & 0.16 & 0.64\n",
      "WARNING: [Errno 2] No such file or directory: 'metrics/metricsuterus_0_combinednotable_MedSAM_analysis.png'\n",
      "------------------------------------\n",
      "Fetching metrics for  Dataset007_Vagina  id  7\n",
      "------------------------------------\n",
      "Calculating metrics for  nnUNet\n",
      "Added Path Length 0.34 & 0.42 & 0.20 & 14.11 & 9.84 & 12.89 & 3.08 & 5.49 & 0.00\n",
      "DICE Similarity Coefficient 0.89 & 0.04 & 0.90 & 0.65 & 0.14 & 0.67 & 0.84 & 0.08 & 0.84\n",
      "Haussdorf Distance 6.75 & 21.72 & 4.12 & 4.80 & 1.65 & 4.56 & 2.65 & 1.28 & 2.23\n",
      "Relative Volume Difference 0.11 & 0.09 & 0.09 & 0.11 & 0.38 & 0.10 & -0.04 & 0.19 & -0.02\n",
      "Surface DSC 0.99 & 0.01 & 1.00 & 0.39 & 0.16 & 0.37 & 0.62 & 0.17 & 0.62\n",
      "WARNING: [Errno 2] No such file or directory: 'metrics/metricsvagina_0_combinednotable_MedSAM_analysis.png'\n",
      "------------------------------------\n"
     ]
    },
    {
     "data": {
      "text/plain": [
       "<Figure size 2240x800 with 0 Axes>"
      ]
     },
     "metadata": {},
     "output_type": "display_data"
    },
    {
     "data": {
      "text/plain": [
       "<Figure size 2240x800 with 0 Axes>"
      ]
     },
     "metadata": {},
     "output_type": "display_data"
    },
    {
     "data": {
      "text/plain": [
       "<Figure size 2240x800 with 0 Axes>"
      ]
     },
     "metadata": {},
     "output_type": "display_data"
    },
    {
     "data": {
      "text/plain": [
       "<Figure size 2240x800 with 0 Axes>"
      ]
     },
     "metadata": {},
     "output_type": "display_data"
    },
    {
     "data": {
      "text/plain": [
       "<Figure size 2240x800 with 0 Axes>"
      ]
     },
     "metadata": {},
     "output_type": "display_data"
    },
    {
     "data": {
      "text/plain": [
       "<Figure size 2240x800 with 0 Axes>"
      ]
     },
     "metadata": {},
     "output_type": "display_data"
    },
    {
     "data": {
      "text/plain": [
       "<Figure size 2240x800 with 0 Axes>"
      ]
     },
     "metadata": {},
     "output_type": "display_data"
    }
   ],
   "source": [
    "include_baseline = True\n",
    "include_nnUNet = False\n",
    "include_TotalSegmentator = False\n",
    "include_MedSAM = True\n",
    "include_UniverSeg = False\n",
    "include_global = False\n",
    "\n",
    "split_axis = False\n",
    "\n",
    "for c in [\n",
    "             os.environ.get('Anorectum'),\n",
    "             os.environ.get('Bladder'),\n",
    "             os.environ.get('CTVn'),\n",
    "             os.environ.get('CTVp'),\n",
    "             os.environ.get('Parametrium'),\n",
    "             os.environ.get('Uterus'),\n",
    "             os.environ.get('Vagina'),\n",
    "             ]:\n",
    "    id = int(c.split('_')[0][len('Dataset'):])\n",
    "    print('Fetching metrics for ', c, ' id ', id)\n",
    "    print('------------------------------------')\n",
    "    metrics = fetch_metric_for_class(id)\n",
    "    plot_metrics(metrics, c, save=save, separate=separate, table=table, showfliers=False, additional_title_context='MedSAM analysis')\n",
    "    print('------------------------------------')"
   ]
  },
  {
   "cell_type": "code",
   "execution_count": 254,
   "metadata": {},
   "outputs": [
    {
     "name": "stdout",
     "output_type": "stream",
     "text": [
      "Fetching metrics for  Dataset001_Anorectum  id  1\n",
      "------------------------------------\n"
     ]
    },
    {
     "name": "stdout",
     "output_type": "stream",
     "text": [
      "Calculating metrics for  nnUNet\n",
      "Added Path Length 1.06 & 1.96 & 0.45 & 4.82 & 9.31 & 0.00 & 15.62 & 16.50 & 10.43 & 46.68 & 36.28 & 39.60 & 20.01 & 27.69 & 8.69 & 0.25 & 1.76 & 0.00 & 2.96 & 6.24 & 0.00 & 15.72 & 16.58 & 10.55 & 5.31 & 11.28 & 0.00\n",
      "DICE Similarity Coefficient 0.91 & 0.03 & 0.92 & 0.80 & 0.14 & 0.85 & 0.79 & 0.13 & 0.82 & 0.71 & 0.17 & 0.75 & 0.77 & 0.15 & 0.81 & 0.94 & 0.04 & 0.94 & 0.90 & 0.05 & 0.91 & 0.88 & 0.05 & 0.88 & 0.91 & 0.05 & 0.92\n",
      "Haussdorf Distance 12.14 & 27.81 & 5.05 & 3.34 & 2.11 & 2.50 & 4.80 & 2.63 & 4.12 & 7.44 & 4.04 & 7.03 & 4.98 & 3.34 & 4.00 & 1.77 & 0.78 & 1.95 & 2.71 & 1.46 & 2.37 & 3.49 & 1.75 & 3.09 & 2.57 & 1.51 & 2.00\n",
      "Relative Volume Difference 0.04 & 0.06 & 0.03 & 0.07 & 0.32 & 0.01 & 0.08 & 0.23 & 0.07 & -0.09 & 0.30 & -0.08 & 0.04 & 0.29 & 0.02 & 0.02 & 0.09 & 0.02 & -0.01 & 0.12 & 0.01 & -0.02 & 0.12 & -0.01 & -0.00 & 0.11 & 0.01\n",
      "Surface DSC 0.99 & 0.02 & 1.00 & 0.57 & 0.17 & 0.59 & 0.46 & 0.16 & 0.46 & 0.30 & 0.14 & 0.27 & 0.46 & 0.19 & 0.46 & 0.81 & 0.10 & 0.83 & 0.67 & 0.12 & 0.67 & 0.50 & 0.13 & 0.50 & 0.68 & 0.17 & 0.70\n",
      "WARNING: [Errno 2] No such file or directory: 'metrics/metricsanorectum_0_combinednotable_MedSAM_split_analysis.png'\n",
      "------------------------------------\n",
      "Fetching metrics for  Dataset002_Bladder  id  2\n",
      "------------------------------------\n",
      "Calculating metrics for  nnUNet\n",
      "Added Path Length 1.21 & 2.06 & 0.71 & 3.32 & 8.16 & 0.00 & 6.94 & 10.61 & 1.84 & 14.50 & 15.23 & 8.89 & 9.12 & 13.14 & 3.52 & 0.97 & 4.35 & 0.00 & 3.20 & 7.63 & 0.00 & 5.53 & 7.24 & 2.93 & 3.59 & 6.98 & 0.00\n",
      "DICE Similarity Coefficient 0.94 & 0.06 & 0.97 & 0.92 & 0.07 & 0.95 & 0.92 & 0.07 & 0.95 & 0.92 & 0.08 & 0.94 & 0.92 & 0.08 & 0.94 & 0.96 & 0.04 & 0.97 & 0.94 & 0.05 & 0.96 & 0.94 & 0.05 & 0.96 & 0.95 & 0.05 & 0.97\n",
      "Haussdorf Distance 77.16 & 71.94 & 96.79 & 2.84 & 1.61 & 2.50 & 3.22 & 1.38 & 2.80 & 3.14 & 1.61 & 2.76 & 3.09 & 1.55 & 2.54 & 2.24 & 0.85 & 2.00 & 4.51 & 13.67 & 2.37 & 2.39 & 1.09 & 2.18 & 3.00 & 7.69 & 2.00\n",
      "Relative Volume Difference -0.04 & 0.12 & -0.02 & -0.04 & 0.14 & -0.04 & -0.04 & 0.13 & -0.03 & -0.07 & 0.11 & -0.05 & -0.05 & 0.13 & -0.04 & -0.01 & 0.06 & -0.01 & -0.04 & 0.10 & -0.02 & -0.04 & 0.09 & -0.02 & -0.03 & 0.09 & -0.01\n",
      "Surface DSC 0.97 & 0.06 & 1.00 & 0.62 & 0.14 & 0.63 & 0.60 & 0.13 & 0.61 & 0.45 & 0.13 & 0.46 & 0.54 & 0.16 & 0.55 & 0.79 & 0.09 & 0.80 & 0.71 & 0.12 & 0.72 & 0.58 & 0.11 & 0.59 & 0.68 & 0.14 & 0.69\n",
      "WARNING: [Errno 2] No such file or directory: 'metrics/metricsbladder_0_combinednotable_MedSAM_split_analysis.png'\n",
      "------------------------------------\n",
      "Fetching metrics for  Dataset003_CTVn  id  3\n",
      "------------------------------------\n",
      "Calculating metrics for  nnUNet\n",
      "Added Path Length 3.89 & 3.01 & 3.07 & 66.70 & 33.70 & 59.53 & 146.58 & 95.24 & 134.00 & 122.43 & 46.08 & 123.05 & 101.75 & 65.19 & 92.27 & 4.10 & 6.33 & 1.49 & 33.01 & 30.81 & 20.20 & 39.57 & 23.58 & 37.60 & 27.49 & 27.36 & 18.95\n",
      "DICE Similarity Coefficient 0.93 & 0.01 & 0.94 & 0.52 & 0.12 & 0.54 & 0.50 & 0.13 & 0.51 & 0.52 & 0.15 & 0.53 & 0.52 & 0.13 & 0.53 & 0.90 & 0.03 & 0.91 & 0.86 & 0.05 & 0.87 & 0.88 & 0.04 & 0.89 & 0.88 & 0.05 & 0.89\n",
      "Haussdorf Distance 8.92 & 2.90 & 8.30 & 9.66 & 2.48 & 9.61 & 14.29 & 7.25 & 13.24 & 14.87 & 5.75 & 14.42 & 12.34 & 5.56 & 10.64 & 3.22 & 1.64 & 2.50 & 4.78 & 2.30 & 4.88 & 5.49 & 3.12 & 4.93 & 4.63 & 2.71 & 3.97\n",
      "Relative Volume Difference -0.01 & 0.03 & -0.01 & 0.57 & 0.39 & 0.56 & 0.12 & 0.47 & 0.08 & 0.14 & 0.51 & 0.20 & 0.34 & 0.50 & 0.37 & -0.01 & 0.08 & -0.02 & -0.09 & 0.11 & -0.08 & -0.09 & 0.08 & -0.06 & -0.07 & 0.10 & -0.06\n",
      "Surface DSC 0.99 & 0.01 & 0.99 & 0.20 & 0.10 & 0.19 & 0.19 & 0.09 & 0.17 & 0.12 & 0.06 & 0.11 & 0.17 & 0.09 & 0.16 & 0.68 & 0.09 & 0.66 & 0.53 & 0.11 & 0.50 & 0.41 & 0.14 & 0.37 & 0.52 & 0.17 & 0.51\n",
      "WARNING: [Errno 2] No such file or directory: 'metrics/metricsctvn_0_combinednotable_MedSAM_split_analysis.png'\n",
      "------------------------------------\n",
      "Fetching metrics for  Dataset004_CTVp  id  4\n",
      "------------------------------------\n",
      "Calculating metrics for  nnUNet\n",
      "Added Path Length 1.25 & 1.51 & 0.80 & 8.14 & 10.48 & 4.46 & 19.44 & 20.67 & 13.39 & 36.12 & 24.49 & 31.25 & 20.61 & 22.34 & 13.39 & 0.79 & 2.89 & 0.00 & 7.31 & 10.70 & 2.98 & 13.63 & 14.68 & 8.79 & 7.04 & 11.74 & 1.49\n",
      "DICE Similarity Coefficient 0.94 & 0.01 & 0.94 & 0.82 & 0.14 & 0.87 & 0.84 & 0.11 & 0.87 & 0.79 & 0.12 & 0.82 & 0.82 & 0.12 & 0.86 & 0.93 & 0.05 & 0.95 & 0.90 & 0.06 & 0.92 & 0.88 & 0.06 & 0.89 & 0.90 & 0.06 & 0.92\n",
      "Haussdorf Distance 8.88 & 26.86 & 5.92 & 3.79 & 1.95 & 3.17 & 4.95 & 2.45 & 4.56 & 7.96 & 4.93 & 6.83 & 5.48 & 3.74 & 4.39 & 2.27 & 1.18 & 2.00 & 3.39 & 1.44 & 2.87 & 3.64 & 2.07 & 2.93 & 3.07 & 1.71 & 2.54\n",
      "Relative Volume Difference -0.01 & 0.04 & -0.00 & 0.09 & 0.26 & 0.06 & 0.07 & 0.19 & 0.05 & -0.02 & 0.21 & -0.00 & 0.05 & 0.23 & 0.04 & -0.04 & 0.10 & -0.02 & -0.03 & 0.12 & -0.02 & -0.00 & 0.11 & 0.00 & -0.02 & 0.11 & -0.01\n",
      "Surface DSC 0.99 & 0.01 & 0.99 & 0.54 & 0.17 & 0.55 & 0.50 & 0.16 & 0.50 & 0.35 & 0.13 & 0.33 & 0.47 & 0.18 & 0.47 & 0.77 & 0.12 & 0.79 & 0.61 & 0.13 & 0.62 & 0.49 & 0.12 & 0.49 & 0.63 & 0.17 & 0.63\n",
      "WARNING: [Errno 2] No such file or directory: 'metrics/metricsctvp_0_combinednotable_MedSAM_split_analysis.png'\n",
      "------------------------------------\n",
      "Fetching metrics for  Dataset005_Parametrium  id  5\n",
      "------------------------------------\n",
      "Calculating metrics for  nnUNet\n",
      "Added Path Length 2.97 & 2.14 & 2.45 & 51.82 & 33.45 & 49.00 & 71.16 & 50.87 & 59.53 & 52.36 & 21.10 & 52.73 & 56.33 & 33.69 & 52.09 & 5.53 & 10.47 & 0.00 & 22.26 & 26.66 & 12.96 & 18.87 & 15.30 & 15.62 & 16.41 & 18.67 & 11.72\n",
      "DICE Similarity Coefficient 0.93 & 0.01 & 0.93 & 0.69 & 0.11 & 0.70 & 0.64 & 0.17 & 0.68 & 0.65 & 0.14 & 0.68 & 0.66 & 0.14 & 0.68 & 0.90 & 0.05 & 0.91 & 0.85 & 0.08 & 0.86 & 0.86 & 0.06 & 0.87 & 0.87 & 0.07 & 0.88\n",
      "Haussdorf Distance 11.28 & 19.53 & 8.06 & 8.75 & 3.66 & 8.60 & 9.44 & 4.49 & 8.79 & 8.79 & 3.15 & 8.29 & 8.92 & 3.62 & 8.39 & 3.67 & 2.25 & 2.80 & 5.21 & 3.15 & 4.39 & 4.16 & 1.87 & 3.81 & 4.28 & 2.36 & 3.81\n",
      "Relative Volume Difference 0.01 & 0.03 & 0.01 & 0.40 & 0.27 & 0.40 & 0.26 & 0.35 & 0.26 & 0.32 & 0.34 & 0.31 & 0.32 & 0.33 & 0.32 & -0.02 & 0.11 & -0.00 & -0.06 & 0.16 & -0.05 & -0.05 & 0.14 & -0.03 & -0.05 & 0.14 & -0.03\n",
      "Surface DSC 0.99 & 0.01 & 0.99 & 0.35 & 0.13 & 0.35 & 0.30 & 0.13 & 0.28 & 0.20 & 0.10 & 0.18 & 0.26 & 0.13 & 0.23 & 0.64 & 0.13 & 0.65 & 0.51 & 0.14 & 0.50 & 0.41 & 0.12 & 0.41 & 0.49 & 0.16 & 0.48\n",
      "WARNING: [Errno 2] No such file or directory: 'metrics/metricsparametrium_0_combinednotable_MedSAM_split_analysis.png'\n",
      "------------------------------------\n",
      "Fetching metrics for  Dataset006_Uterus  id  6\n",
      "------------------------------------\n",
      "Calculating metrics for  nnUNet\n",
      "Added Path Length 1.11 & 1.17 & 0.80 & 6.95 & 10.09 & 2.98 & 17.67 & 20.61 & 11.31 & 28.07 & 21.02 & 24.41 & 18.03 & 20.13 & 11.91 & 0.80 & 3.22 & 0.00 & 6.57 & 9.86 & 1.88 & 11.17 & 11.88 & 7.81 & 6.42 & 10.18 & 1.49\n",
      "DICE Similarity Coefficient 0.94 & 0.01 & 0.94 & 0.87 & 0.07 & 0.89 & 0.86 & 0.08 & 0.88 & 0.83 & 0.09 & 0.85 & 0.85 & 0.09 & 0.88 & 0.95 & 0.03 & 0.95 & 0.91 & 0.05 & 0.92 & 0.90 & 0.05 & 0.91 & 0.92 & 0.05 & 0.93\n",
      "Haussdorf Distance 6.01 & 2.61 & 5.79 & 3.38 & 1.67 & 2.80 & 4.88 & 2.94 & 4.12 & 5.93 & 3.06 & 5.39 & 4.79 & 2.86 & 4.00 & 2.20 & 1.15 & 2.00 & 3.34 & 1.52 & 2.80 & 4.52 & 11.05 & 2.76 & 3.40 & 6.66 & 2.50\n",
      "Relative Volume Difference 0.00 & 0.05 & 0.00 & 0.06 & 0.19 & 0.05 & 0.10 & 0.19 & 0.07 & 0.11 & 0.19 & 0.08 & 0.09 & 0.19 & 0.07 & -0.02 & 0.07 & -0.01 & -0.03 & 0.10 & -0.02 & -0.00 & 0.11 & 0.00 & -0.02 & 0.10 & -0.01\n",
      "Surface DSC 0.99 & 0.01 & 0.99 & 0.57 & 0.16 & 0.57 & 0.51 & 0.17 & 0.51 & 0.37 & 0.14 & 0.35 & 0.48 & 0.18 & 0.48 & 0.77 & 0.10 & 0.79 & 0.63 & 0.12 & 0.63 & 0.51 & 0.14 & 0.51 & 0.63 & 0.16 & 0.64\n",
      "WARNING: [Errno 2] No such file or directory: 'metrics/metricsuterus_0_combinednotable_MedSAM_split_analysis.png'\n",
      "------------------------------------\n",
      "Fetching metrics for  Dataset007_Vagina  id  7\n",
      "------------------------------------\n",
      "Calculating metrics for  nnUNet\n",
      "Added Path Length 0.34 & 0.42 & 0.20 & 9.72 & 9.78 & 7.81 & 12.92 & 10.14 & 11.31 & 17.25 & 8.51 & 15.62 & 14.11 & 9.84 & 12.89 & 0.59 & 1.94 & 0.00 & 2.60 & 5.03 & 0.00 & 4.80 & 6.45 & 1.95 & 3.08 & 5.49 & 0.00\n",
      "DICE Similarity Coefficient 0.89 & 0.04 & 0.90 & 0.66 & 0.18 & 0.69 & 0.65 & 0.15 & 0.67 & 0.64 & 0.11 & 0.66 & 0.65 & 0.14 & 0.67 & 0.87 & 0.07 & 0.88 & 0.83 & 0.09 & 0.84 & 0.82 & 0.06 & 0.83 & 0.84 & 0.08 & 0.84\n",
      "Haussdorf Distance 6.75 & 21.72 & 4.12 & 4.52 & 2.08 & 4.00 & 4.74 & 1.43 & 4.45 & 4.98 & 1.51 & 4.88 & 4.80 & 1.65 & 4.56 & 2.33 & 0.82 & 2.00 & 2.93 & 1.22 & 2.54 & 2.61 & 1.46 & 2.18 & 2.65 & 1.28 & 2.23\n",
      "Relative Volume Difference 0.11 & 0.09 & 0.09 & 0.18 & 0.42 & 0.13 & 0.06 & 0.37 & 0.07 & 0.10 & 0.36 & 0.11 & 0.11 & 0.38 & 0.10 & -0.08 & 0.16 & -0.07 & -0.08 & 0.23 & -0.06 & 0.02 & 0.16 & 0.05 & -0.04 & 0.19 & -0.02\n",
      "Surface DSC 0.99 & 0.01 & 1.00 & 0.49 & 0.17 & 0.49 & 0.44 & 0.15 & 0.43 & 0.30 & 0.11 & 0.29 & 0.39 & 0.16 & 0.37 & 0.74 & 0.14 & 0.76 & 0.68 & 0.15 & 0.67 & 0.53 & 0.14 & 0.52 & 0.62 & 0.17 & 0.62\n",
      "WARNING: [Errno 2] No such file or directory: 'metrics/metricsvagina_0_combinednotable_MedSAM_split_analysis.png'\n",
      "------------------------------------\n"
     ]
    },
    {
     "data": {
      "text/plain": [
       "<Figure size 9360x800 with 0 Axes>"
      ]
     },
     "metadata": {},
     "output_type": "display_data"
    },
    {
     "data": {
      "text/plain": [
       "<Figure size 9360x800 with 0 Axes>"
      ]
     },
     "metadata": {},
     "output_type": "display_data"
    },
    {
     "data": {
      "text/plain": [
       "<Figure size 9360x800 with 0 Axes>"
      ]
     },
     "metadata": {},
     "output_type": "display_data"
    },
    {
     "data": {
      "text/plain": [
       "<Figure size 9360x800 with 0 Axes>"
      ]
     },
     "metadata": {},
     "output_type": "display_data"
    },
    {
     "data": {
      "text/plain": [
       "<Figure size 9360x800 with 0 Axes>"
      ]
     },
     "metadata": {},
     "output_type": "display_data"
    },
    {
     "data": {
      "text/plain": [
       "<Figure size 9360x800 with 0 Axes>"
      ]
     },
     "metadata": {},
     "output_type": "display_data"
    },
    {
     "data": {
      "text/plain": [
       "<Figure size 9360x800 with 0 Axes>"
      ]
     },
     "metadata": {},
     "output_type": "display_data"
    }
   ],
   "source": [
    "include_baseline = True\n",
    "include_nnUNet = False\n",
    "include_TotalSegmentator = False\n",
    "include_MedSAM = True\n",
    "include_UniverSeg = False\n",
    "include_global = False\n",
    "\n",
    "split_axis = True\n",
    "\n",
    "for c in [\n",
    "             os.environ.get('Anorectum'),\n",
    "             os.environ.get('Bladder'),\n",
    "             os.environ.get('CTVn'),\n",
    "             os.environ.get('CTVp'),\n",
    "             os.environ.get('Parametrium'),\n",
    "             os.environ.get('Uterus'),\n",
    "             os.environ.get('Vagina'),\n",
    "             ]:\n",
    "    id = int(c.split('_')[0][len('Dataset'):])\n",
    "    print('Fetching metrics for ', c, ' id ', id)\n",
    "    print('------------------------------------')\n",
    "    metrics = fetch_metric_for_class(id)\n",
    "    plot_metrics(metrics, c, save=save, separate=separate, table=table, showfliers=False, additional_title_context='MedSAM split analysis')\n",
    "    print('------------------------------------')"
   ]
  },
  {
   "cell_type": "markdown",
   "metadata": {},
   "source": [
    "### UniverSeg"
   ]
  },
  {
   "cell_type": "code",
   "execution_count": 257,
   "metadata": {},
   "outputs": [
    {
     "name": "stdout",
     "output_type": "stream",
     "text": [
      "Fetching metrics for  Dataset001_Anorectum  id  1\n",
      "------------------------------------\n",
      "Calculating metrics for  nnUNet\n",
      "[WARNING]: There should be 3 axis in the model path, got [0]\n",
      "Added Path Length 1.06 & 1.96 & 0.45 & 4.15 & 9.72 & 0.00 & 0.99 & 3.52 & 0.00\n",
      "DICE Similarity Coefficient 0.91 & 0.03 & 0.92 & 0.55 & 0.23 & 0.59 & 0.66 & 0.22 & 0.72\n",
      "Haussdorf Distance 12.14 & 27.81 & 5.05 & 7.11 & 5.67 & 5.39 & 3.05 & 2.20 & 2.24\n",
      "Relative Volume Difference 0.04 & 0.06 & 0.03 & -0.33 & 0.60 & -0.35 & -0.13 & 0.47 & -0.12\n",
      "Surface DSC 0.99 & 0.02 & 1.00 & 0.82 & 0.21 & 0.88 & 0.93 & 0.15 & 1.00\n",
      "WARNING: [Errno 2] No such file or directory: 'metrics/metricsanorectum_0_combinednotable_UniverSeg_analysis.png'\n",
      "------------------------------------\n",
      "Fetching metrics for  Dataset002_Bladder  id  2\n",
      "------------------------------------\n",
      "Calculating metrics for  nnUNet\n",
      "Added Path Length 1.21 & 2.06 & 0.71 & 1.37 & 4.30 & 0.00\n",
      "DICE Similarity Coefficient 0.94 & 0.06 & 0.97 & 0.81 & 0.23 & 0.91\n",
      "Haussdorf Distance 77.16 & 71.94 & 96.79 & 4.17 & 4.87 & 2.24\n",
      "Relative Volume Difference -0.04 & 0.12 & -0.02 & -0.24 & 0.43 & -0.10\n",
      "Surface DSC 0.97 & 0.06 & 1.00 & 0.92 & 0.19 & 1.00\n",
      "WARNING: [Errno 2] No such file or directory: 'metrics/metricsbladder_0_combinednotable_UniverSeg_analysis.png'\n",
      "------------------------------------\n",
      "Fetching metrics for  Dataset003_CTVn  id  3\n",
      "------------------------------------\n",
      "Calculating metrics for  nnUNet\n",
      "Added Path Length 3.89 & 3.01 & 3.07 & 9.45 & 15.54 & 2.00\n",
      "DICE Similarity Coefficient 0.93 & 0.01 & 0.94 & 0.63 & 0.20 & 0.69\n",
      "Haussdorf Distance 8.92 & 2.90 & 8.30 & 13.97 & 14.28 & 7.62\n",
      "Relative Volume Difference -0.01 & 0.03 & -0.01 & -0.35 & 0.44 & -0.29\n",
      "Surface DSC 0.99 & 0.01 & 0.99 & 0.82 & 0.20 & 0.88\n",
      "WARNING: [Errno 2] No such file or directory: 'metrics/metricsctvn_0_combinednotable_UniverSeg_analysis.png'\n",
      "------------------------------------\n",
      "Fetching metrics for  Dataset004_CTVp  id  4\n",
      "------------------------------------\n",
      "Calculating metrics for  nnUNet\n",
      "Added Path Length 1.25 & 1.51 & 0.80 & 2.78 & 6.97 & 0.00\n",
      "DICE Similarity Coefficient 0.94 & 0.01 & 0.94 & 0.70 & 0.22 & 0.78\n",
      "Haussdorf Distance 8.88 & 26.86 & 5.92 & 6.77 & 6.20 & 4.47\n",
      "Relative Volume Difference -0.01 & 0.04 & -0.00 & -0.28 & 0.47 & -0.19\n",
      "Surface DSC 0.99 & 0.01 & 0.99 & 0.86 & 0.20 & 0.95\n",
      "WARNING: [Errno 2] No such file or directory: 'metrics/metricsctvp_0_combinednotable_UniverSeg_analysis.png'\n",
      "------------------------------------\n",
      "Fetching metrics for  Dataset005_Parametrium  id  5\n",
      "------------------------------------\n",
      "Calculating metrics for  nnUNet\n",
      "Added Path Length 2.97 & 2.14 & 2.45 & 6.94 & 9.89 & 3.00\n",
      "DICE Similarity Coefficient 0.93 & 0.01 & 0.93 & 0.62 & 0.21 & 0.67\n",
      "Haussdorf Distance 11.28 & 19.53 & 8.06 & 7.23 & 4.92 & 6.00\n",
      "Relative Volume Difference 0.01 & 0.03 & 0.01 & -0.33 & 0.49 & -0.28\n",
      "Surface DSC 0.99 & 0.01 & 0.99 & 0.81 & 0.20 & 0.86\n",
      "WARNING: [Errno 2] No such file or directory: 'metrics/metricsparametrium_0_combinednotable_UniverSeg_analysis.png'\n",
      "------------------------------------\n",
      "Fetching metrics for  Dataset006_Uterus  id  6\n",
      "------------------------------------\n",
      "Calculating metrics for  nnUNet\n",
      "Added Path Length 1.11 & 1.17 & 0.80 & 2.24 & 6.27 & 0.00\n",
      "DICE Similarity Coefficient 0.94 & 0.01 & 0.94 & 0.74 & 0.21 & 0.81\n",
      "Haussdorf Distance 6.01 & 2.61 & 5.79 & 5.95 & 5.55 & 4.00\n",
      "Relative Volume Difference 0.00 & 0.05 & 0.00 & -0.25 & 0.44 & -0.16\n",
      "Surface DSC 0.99 & 0.01 & 0.99 & 0.87 & 0.20 & 0.97\n",
      "WARNING: [Errno 2] No such file or directory: 'metrics/metricsuterus_0_combinednotable_UniverSeg_analysis.png'\n",
      "------------------------------------\n",
      "Fetching metrics for  Dataset007_Vagina  id  7\n",
      "------------------------------------\n",
      "Calculating metrics for  nnUNet\n",
      "Added Path Length 0.34 & 0.42 & 0.20 & 1.59 & 4.67 & 0.00\n",
      "DICE Similarity Coefficient 0.89 & 0.04 & 0.90 & 0.52 & 0.21 & 0.55\n",
      "Haussdorf Distance 6.75 & 21.72 & 4.12 & 4.68 & 3.08 & 4.00\n",
      "Relative Volume Difference 0.11 & 0.09 & 0.09 & -0.41 & 0.51 & -0.46\n",
      "Surface DSC 0.99 & 0.01 & 1.00 & 0.87 & 0.19 & 0.95\n",
      "WARNING: [Errno 2] No such file or directory: 'metrics/metricsvagina_0_combinednotable_UniverSeg_analysis.png'\n",
      "------------------------------------\n"
     ]
    },
    {
     "data": {
      "text/plain": [
       "<Figure size 2240x800 with 0 Axes>"
      ]
     },
     "metadata": {},
     "output_type": "display_data"
    },
    {
     "data": {
      "text/plain": [
       "<Figure size 1920x800 with 0 Axes>"
      ]
     },
     "metadata": {},
     "output_type": "display_data"
    },
    {
     "data": {
      "text/plain": [
       "<Figure size 1920x800 with 0 Axes>"
      ]
     },
     "metadata": {},
     "output_type": "display_data"
    },
    {
     "data": {
      "text/plain": [
       "<Figure size 1920x800 with 0 Axes>"
      ]
     },
     "metadata": {},
     "output_type": "display_data"
    },
    {
     "data": {
      "text/plain": [
       "<Figure size 1920x800 with 0 Axes>"
      ]
     },
     "metadata": {},
     "output_type": "display_data"
    },
    {
     "data": {
      "text/plain": [
       "<Figure size 1920x800 with 0 Axes>"
      ]
     },
     "metadata": {},
     "output_type": "display_data"
    },
    {
     "data": {
      "text/plain": [
       "<Figure size 1920x800 with 0 Axes>"
      ]
     },
     "metadata": {},
     "output_type": "display_data"
    }
   ],
   "source": [
    "include_baseline = True\n",
    "include_nnUNet = False\n",
    "include_TotalSegmentator = False\n",
    "include_MedSAM = False\n",
    "include_UniverSeg = True\n",
    "include_global = False\n",
    "\n",
    "split_axis = False\n",
    "\n",
    "for c in [\n",
    "             os.environ.get('Anorectum'),\n",
    "             os.environ.get('Bladder'),\n",
    "             os.environ.get('CTVn'),\n",
    "             os.environ.get('CTVp'),\n",
    "             os.environ.get('Parametrium'),\n",
    "             os.environ.get('Uterus'),\n",
    "             os.environ.get('Vagina'),\n",
    "             ]:\n",
    "    id = int(c.split('_')[0][len('Dataset'):])\n",
    "    print('Fetching metrics for ', c, ' id ', id)\n",
    "    print('------------------------------------')\n",
    "    metrics = fetch_metric_for_class(id)\n",
    "    plot_metrics(metrics, c, save=save, separate=separate, table=table, showfliers=False, additional_title_context='UniverSeg analysis')\n",
    "    print('------------------------------------')"
   ]
  },
  {
   "cell_type": "code",
   "execution_count": 258,
   "metadata": {},
   "outputs": [
    {
     "name": "stdout",
     "output_type": "stream",
     "text": [
      "Fetching metrics for  Dataset001_Anorectum  id  1\n",
      "------------------------------------\n",
      "Calculating metrics for  nnUNet\n",
      "[WARNING]: There should be 3 axis in the model path, got [0]\n"
     ]
    },
    {
     "name": "stderr",
     "output_type": "stream",
     "text": [
      "/vol/biomedic3/bglocker/ugproj2324/az620/radiotherapy/.venv/lib/python3.10/site-packages/numpy/core/fromnumeric.py:3504: RuntimeWarning: Mean of empty slice.\n",
      "  return _methods._mean(a, axis=axis, dtype=dtype,\n",
      "/vol/biomedic3/bglocker/ugproj2324/az620/radiotherapy/.venv/lib/python3.10/site-packages/numpy/core/_methods.py:129: RuntimeWarning: invalid value encountered in scalar divide\n",
      "  ret = ret.dtype.type(ret / rcount)\n",
      "/vol/biomedic3/bglocker/ugproj2324/az620/radiotherapy/.venv/lib/python3.10/site-packages/numpy/core/_methods.py:206: RuntimeWarning: Degrees of freedom <= 0 for slice\n",
      "  ret = _var(a, axis=axis, dtype=dtype, out=out, ddof=ddof,\n",
      "/vol/biomedic3/bglocker/ugproj2324/az620/radiotherapy/.venv/lib/python3.10/site-packages/numpy/core/_methods.py:163: RuntimeWarning: invalid value encountered in divide\n",
      "  arrmean = um.true_divide(arrmean, div, out=arrmean,\n",
      "/vol/biomedic3/bglocker/ugproj2324/az620/radiotherapy/.venv/lib/python3.10/site-packages/numpy/core/_methods.py:198: RuntimeWarning: invalid value encountered in scalar divide\n",
      "  ret = ret.dtype.type(ret / rcount)\n",
      "/vol/biomedic3/bglocker/ugproj2324/az620/radiotherapy/.venv/lib/python3.10/site-packages/numpy/core/fromnumeric.py:3504: RuntimeWarning: Mean of empty slice.\n",
      "  return _methods._mean(a, axis=axis, dtype=dtype,\n",
      "/vol/biomedic3/bglocker/ugproj2324/az620/radiotherapy/.venv/lib/python3.10/site-packages/numpy/core/_methods.py:129: RuntimeWarning: invalid value encountered in scalar divide\n",
      "  ret = ret.dtype.type(ret / rcount)\n",
      "/vol/biomedic3/bglocker/ugproj2324/az620/radiotherapy/.venv/lib/python3.10/site-packages/numpy/core/_methods.py:206: RuntimeWarning: Degrees of freedom <= 0 for slice\n",
      "  ret = _var(a, axis=axis, dtype=dtype, out=out, ddof=ddof,\n",
      "/vol/biomedic3/bglocker/ugproj2324/az620/radiotherapy/.venv/lib/python3.10/site-packages/numpy/core/_methods.py:163: RuntimeWarning: invalid value encountered in divide\n",
      "  arrmean = um.true_divide(arrmean, div, out=arrmean,\n",
      "/vol/biomedic3/bglocker/ugproj2324/az620/radiotherapy/.venv/lib/python3.10/site-packages/numpy/core/_methods.py:198: RuntimeWarning: invalid value encountered in scalar divide\n",
      "  ret = ret.dtype.type(ret / rcount)\n",
      "/vol/biomedic3/bglocker/ugproj2324/az620/radiotherapy/.venv/lib/python3.10/site-packages/numpy/core/fromnumeric.py:3504: RuntimeWarning: Mean of empty slice.\n",
      "  return _methods._mean(a, axis=axis, dtype=dtype,\n",
      "/vol/biomedic3/bglocker/ugproj2324/az620/radiotherapy/.venv/lib/python3.10/site-packages/numpy/core/_methods.py:129: RuntimeWarning: invalid value encountered in scalar divide\n",
      "  ret = ret.dtype.type(ret / rcount)\n",
      "/vol/biomedic3/bglocker/ugproj2324/az620/radiotherapy/.venv/lib/python3.10/site-packages/numpy/core/_methods.py:206: RuntimeWarning: Degrees of freedom <= 0 for slice\n",
      "  ret = _var(a, axis=axis, dtype=dtype, out=out, ddof=ddof,\n",
      "/vol/biomedic3/bglocker/ugproj2324/az620/radiotherapy/.venv/lib/python3.10/site-packages/numpy/core/_methods.py:163: RuntimeWarning: invalid value encountered in divide\n",
      "  arrmean = um.true_divide(arrmean, div, out=arrmean,\n",
      "/vol/biomedic3/bglocker/ugproj2324/az620/radiotherapy/.venv/lib/python3.10/site-packages/numpy/core/_methods.py:198: RuntimeWarning: invalid value encountered in scalar divide\n",
      "  ret = ret.dtype.type(ret / rcount)\n",
      "/vol/biomedic3/bglocker/ugproj2324/az620/radiotherapy/.venv/lib/python3.10/site-packages/numpy/core/fromnumeric.py:3504: RuntimeWarning: Mean of empty slice.\n",
      "  return _methods._mean(a, axis=axis, dtype=dtype,\n",
      "/vol/biomedic3/bglocker/ugproj2324/az620/radiotherapy/.venv/lib/python3.10/site-packages/numpy/core/_methods.py:129: RuntimeWarning: invalid value encountered in scalar divide\n",
      "  ret = ret.dtype.type(ret / rcount)\n",
      "/vol/biomedic3/bglocker/ugproj2324/az620/radiotherapy/.venv/lib/python3.10/site-packages/numpy/core/_methods.py:206: RuntimeWarning: Degrees of freedom <= 0 for slice\n",
      "  ret = _var(a, axis=axis, dtype=dtype, out=out, ddof=ddof,\n",
      "/vol/biomedic3/bglocker/ugproj2324/az620/radiotherapy/.venv/lib/python3.10/site-packages/numpy/core/_methods.py:163: RuntimeWarning: invalid value encountered in divide\n",
      "  arrmean = um.true_divide(arrmean, div, out=arrmean,\n",
      "/vol/biomedic3/bglocker/ugproj2324/az620/radiotherapy/.venv/lib/python3.10/site-packages/numpy/core/_methods.py:198: RuntimeWarning: invalid value encountered in scalar divide\n",
      "  ret = ret.dtype.type(ret / rcount)\n"
     ]
    },
    {
     "name": "stdout",
     "output_type": "stream",
     "text": [
      "Added Path Length 1.06 & 1.96 & 0.45 & 1.24 & 3.90 & 0.00 & 6.04 & 12.45 & 0.00 & 5.17 & 10.01 & 0.00 & 4.15 & 9.72 & 0.00 & 0.99 & 3.52 & 0.00 & nan & nan & nan & nan & nan & nan & 0.99 & 3.52 & 0.00\n",
      "DICE Similarity Coefficient 0.91 & 0.03 & 0.92 & 0.60 & 0.22 & 0.64 & 0.54 & 0.23 & 0.57 & 0.51 & 0.22 & 0.54 & 0.55 & 0.23 & 0.59 & 0.66 & 0.22 & 0.72 & nan & nan & nan & nan & nan & nan & 0.66 & 0.22 & 0.72\n",
      "Haussdorf Distance 12.14 & 27.81 & 5.05 & 3.84 & 2.47 & 3.00 & 8.27 & 6.45 & 6.08 & 9.23 & 5.67 & 7.81 & 7.11 & 5.67 & 5.39 & 3.05 & 2.20 & 2.24 & nan & nan & nan & nan & nan & nan & 3.05 & 2.20 & 2.24\n",
      "Relative Volume Difference 0.04 & 0.06 & 0.03 & -0.31 & 0.53 & -0.35 & -0.27 & 0.64 & -0.31 & -0.39 & 0.61 & -0.40 & -0.33 & 0.60 & -0.35 & -0.13 & 0.47 & -0.12 & nan & nan & nan & nan & nan & nan & -0.13 & 0.47 & -0.12\n"
     ]
    },
    {
     "name": "stderr",
     "output_type": "stream",
     "text": [
      "/vol/biomedic3/bglocker/ugproj2324/az620/radiotherapy/.venv/lib/python3.10/site-packages/numpy/core/fromnumeric.py:3504: RuntimeWarning: Mean of empty slice.\n",
      "  return _methods._mean(a, axis=axis, dtype=dtype,\n",
      "/vol/biomedic3/bglocker/ugproj2324/az620/radiotherapy/.venv/lib/python3.10/site-packages/numpy/core/_methods.py:129: RuntimeWarning: invalid value encountered in scalar divide\n",
      "  ret = ret.dtype.type(ret / rcount)\n",
      "/vol/biomedic3/bglocker/ugproj2324/az620/radiotherapy/.venv/lib/python3.10/site-packages/numpy/core/_methods.py:206: RuntimeWarning: Degrees of freedom <= 0 for slice\n",
      "  ret = _var(a, axis=axis, dtype=dtype, out=out, ddof=ddof,\n",
      "/vol/biomedic3/bglocker/ugproj2324/az620/radiotherapy/.venv/lib/python3.10/site-packages/numpy/core/_methods.py:163: RuntimeWarning: invalid value encountered in divide\n",
      "  arrmean = um.true_divide(arrmean, div, out=arrmean,\n",
      "/vol/biomedic3/bglocker/ugproj2324/az620/radiotherapy/.venv/lib/python3.10/site-packages/numpy/core/_methods.py:198: RuntimeWarning: invalid value encountered in scalar divide\n",
      "  ret = ret.dtype.type(ret / rcount)\n"
     ]
    },
    {
     "name": "stdout",
     "output_type": "stream",
     "text": [
      "Surface DSC 0.99 & 0.02 & 1.00 & 0.90 & 0.17 & 1.00 & 0.79 & 0.21 & 0.84 & 0.78 & 0.21 & 0.83 & 0.82 & 0.21 & 0.88 & 0.93 & 0.15 & 1.00 & nan & nan & nan & nan & nan & nan & 0.93 & 0.15 & 1.00\n",
      "WARNING: [Errno 2] No such file or directory: 'metrics/metricsanorectum_0_combinednotable_UniverSeg_split_analysis.png'\n",
      "------------------------------------\n",
      "Fetching metrics for  Dataset002_Bladder  id  2\n",
      "------------------------------------\n",
      "Calculating metrics for  nnUNet\n",
      "Added Path Length 1.21 & 2.06 & 0.71 & 0.93 & 3.23 & 0.00 & 2.02 & 5.45 & 0.00 & 1.16 & 3.82 & 0.00 & 1.37 & 4.30 & 0.00\n",
      "DICE Similarity Coefficient 0.94 & 0.06 & 0.97 & 0.81 & 0.21 & 0.91 & 0.79 & 0.26 & 0.91 & 0.82 & 0.21 & 0.91 & 0.81 & 0.23 & 0.91\n",
      "Haussdorf Distance 77.16 & 71.94 & 96.79 & 3.50 & 3.53 & 2.24 & 4.78 & 5.70 & 2.24 & 4.24 & 5.05 & 2.24 & 4.17 & 4.87 & 2.24\n",
      "Relative Volume Difference -0.04 & 0.12 & -0.02 & -0.29 & 0.41 & -0.13 & -0.22 & 0.48 & -0.08 & -0.20 & 0.37 & -0.09 & -0.24 & 0.43 & -0.10\n",
      "Surface DSC 0.97 & 0.06 & 1.00 & 0.93 & 0.17 & 1.00 & 0.89 & 0.23 & 1.00 & 0.93 & 0.17 & 1.00 & 0.92 & 0.19 & 1.00\n",
      "WARNING: [Errno 2] No such file or directory: 'metrics/metricsbladder_0_combinednotable_UniverSeg_split_analysis.png'\n",
      "------------------------------------\n",
      "Fetching metrics for  Dataset003_CTVn  id  3\n",
      "------------------------------------\n",
      "Calculating metrics for  nnUNet\n",
      "Added Path Length 3.89 & 3.01 & 3.07 & 1.83 & 4.37 & 0.00 & 15.07 & 19.65 & 8.00 & 11.44 & 15.01 & 5.00 & 9.45 & 15.54 & 2.00\n",
      "DICE Similarity Coefficient 0.93 & 0.01 & 0.94 & 0.71 & 0.13 & 0.74 & 0.56 & 0.23 & 0.65 & 0.61 & 0.21 & 0.66 & 0.63 & 0.20 & 0.69\n",
      "Haussdorf Distance 8.92 & 2.90 & 8.30 & 4.38 & 2.10 & 4.00 & 17.26 & 14.89 & 11.02 & 20.26 & 15.59 & 13.96 & 13.97 & 14.28 & 7.62\n",
      "Relative Volume Difference -0.01 & 0.03 & -0.01 & -0.30 & 0.30 & -0.28 & -0.41 & 0.51 & -0.29 & -0.35 & 0.48 & -0.30 & -0.35 & 0.44 & -0.29\n",
      "Surface DSC 0.99 & 0.01 & 0.99 & 0.93 & 0.09 & 0.97 & 0.77 & 0.22 & 0.84 & 0.75 & 0.20 & 0.80 & 0.82 & 0.20 & 0.88\n",
      "WARNING: [Errno 2] No such file or directory: 'metrics/metricsctvn_0_combinednotable_UniverSeg_split_analysis.png'\n",
      "------------------------------------\n",
      "Fetching metrics for  Dataset004_CTVp  id  4\n",
      "------------------------------------\n",
      "Calculating metrics for  nnUNet\n",
      "Added Path Length 1.25 & 1.51 & 0.80 & 1.17 & 4.84 & 0.00 & 3.69 & 7.55 & 0.00 & 3.50 & 7.85 & 0.00 & 2.78 & 6.97 & 0.00\n",
      "DICE Similarity Coefficient 0.94 & 0.01 & 0.94 & 0.72 & 0.21 & 0.79 & 0.71 & 0.23 & 0.79 & 0.68 & 0.23 & 0.75 & 0.70 & 0.22 & 0.78\n",
      "Haussdorf Distance 8.88 & 26.86 & 5.92 & 4.14 & 3.40 & 3.00 & 7.70 & 6.95 & 5.10 & 8.48 & 6.69 & 6.32 & 6.77 & 6.20 & 4.47\n",
      "Relative Volume Difference -0.01 & 0.04 & -0.00 & -0.31 & 0.45 & -0.22 & -0.22 & 0.46 & -0.15 & -0.32 & 0.50 & -0.22 & -0.28 & 0.47 & -0.19\n",
      "Surface DSC 0.99 & 0.01 & 0.99 & 0.91 & 0.17 & 1.00 & 0.84 & 0.21 & 0.92 & 0.83 & 0.21 & 0.91 & 0.86 & 0.20 & 0.95\n",
      "WARNING: [Errno 2] No such file or directory: 'metrics/metricsctvp_0_combinednotable_UniverSeg_split_analysis.png'\n",
      "------------------------------------\n",
      "Fetching metrics for  Dataset005_Parametrium  id  5\n",
      "------------------------------------\n",
      "Calculating metrics for  nnUNet\n",
      "Added Path Length 2.97 & 2.14 & 2.45 & 2.84 & 5.43 & 0.00 & 12.04 & 12.09 & 9.00 & 5.96 & 8.59 & 2.00 & 6.94 & 9.89 & 3.00\n",
      "DICE Similarity Coefficient 0.93 & 0.01 & 0.93 & 0.73 & 0.15 & 0.76 & 0.55 & 0.24 & 0.60 & 0.59 & 0.20 & 0.63 & 0.62 & 0.21 & 0.67\n",
      "Haussdorf Distance 11.28 & 19.53 & 8.06 & 4.58 & 2.78 & 4.00 & 9.85 & 5.84 & 8.06 & 7.26 & 4.13 & 6.32 & 7.23 & 4.92 & 6.00\n",
      "Relative Volume Difference 0.01 & 0.03 & 0.01 & -0.29 & 0.39 & -0.23 & -0.43 & 0.56 & -0.37 & -0.29 & 0.51 & -0.27 & -0.33 & 0.49 & -0.28\n",
      "Surface DSC 0.99 & 0.01 & 0.99 & 0.91 & 0.12 & 0.97 & 0.71 & 0.22 & 0.76 & 0.81 & 0.18 & 0.85 & 0.81 & 0.20 & 0.86\n",
      "WARNING: [Errno 2] No such file or directory: 'metrics/metricsparametrium_0_combinednotable_UniverSeg_split_analysis.png'\n",
      "------------------------------------\n",
      "Fetching metrics for  Dataset006_Uterus  id  6\n",
      "------------------------------------\n",
      "Calculating metrics for  nnUNet\n",
      "Added Path Length 1.11 & 1.17 & 0.80 & 1.23 & 4.63 & 0.00 & 2.52 & 6.41 & 0.00 & 2.98 & 7.35 & 0.00 & 2.24 & 6.27 & 0.00\n",
      "DICE Similarity Coefficient 0.94 & 0.01 & 0.94 & 0.77 & 0.21 & 0.85 & 0.74 & 0.21 & 0.81 & 0.71 & 0.22 & 0.78 & 0.74 & 0.21 & 0.81\n",
      "Haussdorf Distance 6.01 & 2.61 & 5.79 & 4.04 & 3.60 & 2.83 & 5.95 & 5.37 & 4.00 & 7.84 & 6.58 & 5.52 & 5.95 & 5.55 & 4.00\n",
      "Relative Volume Difference 0.00 & 0.05 & 0.00 & -0.23 & 0.41 & -0.16 & -0.23 & 0.41 & -0.15 & -0.28 & 0.48 & -0.18 & -0.25 & 0.44 & -0.16\n",
      "Surface DSC 0.99 & 0.01 & 0.99 & 0.91 & 0.19 & 1.00 & 0.87 & 0.20 & 0.96 & 0.84 & 0.20 & 0.92 & 0.87 & 0.20 & 0.97\n",
      "WARNING: [Errno 2] No such file or directory: 'metrics/metricsuterus_0_combinednotable_UniverSeg_split_analysis.png'\n",
      "------------------------------------\n",
      "Fetching metrics for  Dataset007_Vagina  id  7\n",
      "------------------------------------\n",
      "Calculating metrics for  nnUNet\n",
      "Added Path Length 0.34 & 0.42 & 0.20 & 0.29 & 1.73 & 0.00 & 2.51 & 5.89 & 0.00 & 1.97 & 5.01 & 0.00 & 1.59 & 4.67 & 0.00\n",
      "DICE Similarity Coefficient 0.89 & 0.04 & 0.90 & 0.63 & 0.18 & 0.65 & 0.47 & 0.22 & 0.49 & 0.46 & 0.19 & 0.48 & 0.52 & 0.21 & 0.55\n",
      "Haussdorf Distance 6.75 & 21.72 & 4.12 & 3.19 & 2.10 & 2.83 & 5.61 & 3.66 & 5.00 & 5.24 & 2.70 & 4.47 & 4.68 & 3.08 & 4.00\n",
      "Relative Volume Difference 0.11 & 0.09 & 0.09 & -0.43 & 0.44 & -0.42 & -0.39 & 0.56 & -0.45 & -0.42 & 0.53 & -0.52 & -0.41 & 0.51 & -0.46\n",
      "Surface DSC 0.99 & 0.01 & 1.00 & 0.95 & 0.12 & 1.00 & 0.82 & 0.21 & 0.87 & 0.84 & 0.19 & 0.90 & 0.87 & 0.19 & 0.95\n",
      "WARNING: [Errno 2] No such file or directory: 'metrics/metricsvagina_0_combinednotable_UniverSeg_split_analysis.png'\n",
      "------------------------------------\n"
     ]
    },
    {
     "data": {
      "text/plain": [
       "<Figure size 9360x800 with 0 Axes>"
      ]
     },
     "metadata": {},
     "output_type": "display_data"
    },
    {
     "data": {
      "text/plain": [
       "<Figure size 3600x800 with 0 Axes>"
      ]
     },
     "metadata": {},
     "output_type": "display_data"
    },
    {
     "data": {
      "text/plain": [
       "<Figure size 3600x800 with 0 Axes>"
      ]
     },
     "metadata": {},
     "output_type": "display_data"
    },
    {
     "data": {
      "text/plain": [
       "<Figure size 3600x800 with 0 Axes>"
      ]
     },
     "metadata": {},
     "output_type": "display_data"
    },
    {
     "data": {
      "text/plain": [
       "<Figure size 3600x800 with 0 Axes>"
      ]
     },
     "metadata": {},
     "output_type": "display_data"
    },
    {
     "data": {
      "text/plain": [
       "<Figure size 3600x800 with 0 Axes>"
      ]
     },
     "metadata": {},
     "output_type": "display_data"
    },
    {
     "data": {
      "text/plain": [
       "<Figure size 3600x800 with 0 Axes>"
      ]
     },
     "metadata": {},
     "output_type": "display_data"
    }
   ],
   "source": [
    "include_baseline = True\n",
    "include_nnUNet = False\n",
    "include_TotalSegmentator = False\n",
    "include_MedSAM = False\n",
    "include_UniverSeg = True\n",
    "\n",
    "split_axis = True\n",
    "\n",
    "for c in [\n",
    "             os.environ.get('Anorectum'),\n",
    "             os.environ.get('Bladder'),\n",
    "             os.environ.get('CTVn'),\n",
    "             os.environ.get('CTVp'),\n",
    "             os.environ.get('Parametrium'),\n",
    "             os.environ.get('Uterus'),\n",
    "             os.environ.get('Vagina'),\n",
    "             ]:\n",
    "    id = int(c.split('_')[0][len('Dataset'):])\n",
    "    print('Fetching metrics for ', c, ' id ', id)\n",
    "    print('------------------------------------')\n",
    "    metrics = fetch_metric_for_class(id)\n",
    "    plot_metrics(metrics, c, save=save, separate=separate, table=table, showfliers=False, additional_title_context='UniverSeg split analysis')\n",
    "    print('------------------------------------')"
   ]
  },
  {
   "cell_type": "markdown",
   "metadata": {},
   "source": [
    "### TotalSegmentator"
   ]
  },
  {
   "cell_type": "code",
   "execution_count": 259,
   "metadata": {},
   "outputs": [
    {
     "name": "stdout",
     "output_type": "stream",
     "text": [
      "Fetching metrics for  Dataset001_Anorectum  id  1\n",
      "------------------------------------\n",
      "Calculating metrics for  nnUNet\n",
      "Calculating metrics for  total segmentator (fine-tuned)\n",
      "Added Path Length 1.06 & 1.96 & 0.45 & 0.66 & 1.02 & 0.31\n",
      "DICE Similarity Coefficient 0.91 & 0.03 & 0.92 & 0.92 & 0.04 & 0.93\n",
      "Haussdorf Distance 12.14 & 27.81 & 5.05 & 6.37 & 5.73 & 4.30\n",
      "Relative Volume Difference 0.04 & 0.06 & 0.03 & -0.00 & 0.06 & 0.00\n",
      "Surface DSC 0.99 & 0.02 & 1.00 & 0.99 & 0.03 & 1.00\n",
      "WARNING: [Errno 2] No such file or directory: 'metrics/metricsanorectum_0_combinednotable_TotalSegmentator_analysis.png'\n",
      "------------------------------------\n",
      "Fetching metrics for  Dataset002_Bladder  id  2\n",
      "------------------------------------\n",
      "Calculating metrics for  nnUNet\n",
      "Calculating metrics for  total segmentator\n",
      "Calculating metrics for  total segmentator (fine-tuned)\n",
      "Added Path Length 1.21 & 2.06 & 0.71 & 5.87 & 4.98 & 4.18 & 1.32 & 1.72 & 0.76\n",
      "DICE Similarity Coefficient 0.94 & 0.06 & 0.97 & 0.90 & 0.13 & 0.94 & 0.95 & 0.10 & 0.97\n",
      "Haussdorf Distance 77.16 & 71.94 & 96.79 & 8.26 & 8.35 & 5.39 & 15.66 & 37.98 & 3.74\n",
      "Relative Volume Difference -0.04 & 0.12 & -0.02 & -0.07 & 0.19 & -0.03 & 0.01 & 0.21 & 0.00\n",
      "Surface DSC 0.97 & 0.06 & 1.00 & 0.95 & 0.11 & 0.99 & 0.98 & 0.10 & 1.00\n",
      "WARNING: [Errno 2] No such file or directory: 'metrics/metricsbladder_0_combinednotable_TotalSegmentator_analysis.png'\n",
      "------------------------------------\n",
      "Fetching metrics for  Dataset003_CTVn  id  3\n",
      "------------------------------------\n",
      "Calculating metrics for  nnUNet\n",
      "Calculating metrics for  total segmentator (fine-tuned)\n",
      "Added Path Length 3.89 & 3.01 & 3.07 & 4.02 & 4.01 & 2.65\n",
      "DICE Similarity Coefficient 0.93 & 0.01 & 0.94 & 0.94 & 0.01 & 0.94\n",
      "Haussdorf Distance 8.92 & 2.90 & 8.30 & 8.81 & 2.71 & 8.31\n",
      "Relative Volume Difference -0.01 & 0.03 & -0.01 & 0.00 & 0.02 & 0.00\n",
      "Surface DSC 0.99 & 0.01 & 0.99 & 0.99 & 0.01 & 1.00\n",
      "WARNING: [Errno 2] No such file or directory: 'metrics/metricsctvn_0_combinednotable_TotalSegmentator_analysis.png'\n",
      "------------------------------------\n",
      "Fetching metrics for  Dataset004_CTVp  id  4\n",
      "------------------------------------\n",
      "Calculating metrics for  nnUNet\n",
      "Calculating metrics for  total segmentator (fine-tuned)\n",
      "Added Path Length 1.25 & 1.51 & 0.80 & 1.58 & 1.74 & 1.05\n",
      "DICE Similarity Coefficient 0.94 & 0.01 & 0.94 & 0.93 & 0.02 & 0.94\n",
      "Haussdorf Distance 8.88 & 26.86 & 5.92 & 7.33 & 7.68 & 6.40\n",
      "Relative Volume Difference -0.01 & 0.04 & -0.00 & -0.00 & 0.04 & -0.00\n",
      "Surface DSC 0.99 & 0.01 & 0.99 & 0.99 & 0.01 & 0.99\n",
      "WARNING: [Errno 2] No such file or directory: 'metrics/metricsctvp_0_combinednotable_TotalSegmentator_analysis.png'\n",
      "------------------------------------\n",
      "Fetching metrics for  Dataset005_Parametrium  id  5\n",
      "------------------------------------\n",
      "Calculating metrics for  nnUNet\n",
      "Calculating metrics for  total segmentator (fine-tuned)\n",
      "Added Path Length 2.97 & 2.14 & 2.45 & 2.90 & 3.22 & 1.72\n",
      "DICE Similarity Coefficient 0.93 & 0.01 & 0.93 & 0.93 & 0.04 & 0.94\n",
      "Haussdorf Distance 11.28 & 19.53 & 8.06 & 9.85 & 15.19 & 7.42\n",
      "Relative Volume Difference 0.01 & 0.03 & 0.01 & 0.00 & 0.06 & 0.01\n",
      "Surface DSC 0.99 & 0.01 & 0.99 & 0.98 & 0.04 & 1.00\n",
      "WARNING: [Errno 2] No such file or directory: 'metrics/metricsparametrium_0_combinednotable_TotalSegmentator_analysis.png'\n",
      "------------------------------------\n",
      "Fetching metrics for  Dataset006_Uterus  id  6\n",
      "------------------------------------\n",
      "Calculating metrics for  nnUNet\n",
      "Calculating metrics for  total segmentator (fine-tuned)\n",
      "Added Path Length 1.11 & 1.17 & 0.80 & 1.51 & 1.59 & 0.93\n",
      "DICE Similarity Coefficient 0.94 & 0.01 & 0.94 & 0.93 & 0.02 & 0.94\n",
      "Haussdorf Distance 6.01 & 2.61 & 5.79 & 6.71 & 3.25 & 6.04\n",
      "Relative Volume Difference 0.00 & 0.05 & 0.00 & -0.00 & 0.05 & -0.00\n",
      "Surface DSC 0.99 & 0.01 & 0.99 & 0.99 & 0.02 & 0.99\n",
      "WARNING: [Errno 2] No such file or directory: 'metrics/metricsuterus_0_combinednotable_TotalSegmentator_analysis.png'\n",
      "------------------------------------\n",
      "Fetching metrics for  Dataset007_Vagina  id  7\n",
      "------------------------------------\n",
      "Calculating metrics for  nnUNet\n",
      "Calculating metrics for  total segmentator (fine-tuned)\n",
      "Added Path Length 0.34 & 0.42 & 0.20 & 0.41 & 0.97 & 0.10\n",
      "DICE Similarity Coefficient 0.89 & 0.04 & 0.90 & 0.86 & 0.10 & 0.90\n",
      "Haussdorf Distance 6.75 & 21.72 & 4.12 & 5.61 & 4.09 & 4.12\n",
      "Relative Volume Difference 0.11 & 0.09 & 0.09 & -0.02 & 0.16 & -0.00\n",
      "Surface DSC 0.99 & 0.01 & 1.00 & 0.98 & 0.06 & 1.00\n",
      "WARNING: [Errno 2] No such file or directory: 'metrics/metricsvagina_0_combinednotable_TotalSegmentator_analysis.png'\n",
      "------------------------------------\n"
     ]
    },
    {
     "data": {
      "text/plain": [
       "<Figure size 1920x800 with 0 Axes>"
      ]
     },
     "metadata": {},
     "output_type": "display_data"
    },
    {
     "data": {
      "text/plain": [
       "<Figure size 2240x800 with 0 Axes>"
      ]
     },
     "metadata": {},
     "output_type": "display_data"
    },
    {
     "data": {
      "text/plain": [
       "<Figure size 1920x800 with 0 Axes>"
      ]
     },
     "metadata": {},
     "output_type": "display_data"
    },
    {
     "data": {
      "text/plain": [
       "<Figure size 1920x800 with 0 Axes>"
      ]
     },
     "metadata": {},
     "output_type": "display_data"
    },
    {
     "data": {
      "text/plain": [
       "<Figure size 1920x800 with 0 Axes>"
      ]
     },
     "metadata": {},
     "output_type": "display_data"
    },
    {
     "data": {
      "text/plain": [
       "<Figure size 1920x800 with 0 Axes>"
      ]
     },
     "metadata": {},
     "output_type": "display_data"
    },
    {
     "data": {
      "text/plain": [
       "<Figure size 1920x800 with 0 Axes>"
      ]
     },
     "metadata": {},
     "output_type": "display_data"
    }
   ],
   "source": [
    "include_baseline = True\n",
    "include_nnUNet = False\n",
    "include_TotalSegmentator = True\n",
    "include_MedSAM = False\n",
    "include_UniverSeg = False\n",
    "include_global = False\n",
    "\n",
    "split_axis = False\n",
    "\n",
    "for c in [\n",
    "             os.environ.get('Anorectum'),\n",
    "             os.environ.get('Bladder'),\n",
    "             os.environ.get('CTVn'),\n",
    "             os.environ.get('CTVp'),\n",
    "             os.environ.get('Parametrium'),\n",
    "             os.environ.get('Uterus'),\n",
    "             os.environ.get('Vagina'),\n",
    "             ]:\n",
    "    id = int(c.split('_')[0][len('Dataset'):])\n",
    "    print('Fetching metrics for ', c, ' id ', id)\n",
    "    print('------------------------------------')\n",
    "    metrics = fetch_metric_for_class(id)\n",
    "    plot_metrics(metrics, c, save=save, separate=separate, table=table, showfliers=False, additional_title_context='TotalSegmentator analysis')\n",
    "    print('------------------------------------')"
   ]
  },
  {
   "cell_type": "markdown",
   "metadata": {},
   "source": [
    "### TotalBinary"
   ]
  },
  {
   "cell_type": "code",
   "execution_count": 260,
   "metadata": {},
   "outputs": [
    {
     "name": "stdout",
     "output_type": "stream",
     "text": [
      "Fetching metrics for  Dataset001_Anorectum  id  1\n",
      "------------------------------------\n",
      "Calculating metrics for  nnUNet\n",
      "Calculating metrics for  nnUNet global\n",
      "Calculating metrics for  nnUNet global custom loss\n",
      "Calculating metrics for  total segmentator (fine-tuned) global\n",
      "Calculating metrics for  total segmentator (fine-tuned) global custom loss\n",
      "Added Path Length 1.06 & 1.96 & 0.45 & 0.82 & 0.92 & 0.50 & 1.19 & 3.75 & 0.37 & 1.05 & 1.34 & 0.52 & 1.14 & 3.96 & 0.29\n",
      "DICE Similarity Coefficient 0.91 & 0.03 & 0.92 & 0.91 & 0.02 & 0.91 & 0.91 & 0.06 & 0.93 & 0.91 & 0.03 & 0.92 & 0.91 & 0.06 & 0.93\n",
      "Haussdorf Distance 12.14 & 27.81 & 5.05 & 7.13 & 5.14 & 5.29 & 7.28 & 7.29 & 4.47 & 7.76 & 5.51 & 5.61 & 7.40 & 8.11 & 4.24\n",
      "Relative Volume Difference 0.04 & 0.06 & 0.03 & -0.03 & 0.06 & -0.03 & 0.03 & 0.12 & 0.02 & 0.02 & 0.06 & 0.02 & 0.01 & 0.11 & -0.00\n",
      "Surface DSC 0.99 & 0.02 & 1.00 & 0.99 & 0.02 & 1.00 & 0.98 & 0.05 & 1.00 & 0.99 & 0.02 & 0.99 & 0.98 & 0.06 & 1.00\n"
     ]
    },
    {
     "ename": "Error",
     "evalue": "Destination path 'metrics/old/metricsanorectum_1_combinednotable_TotalSegmentator_analysis.png' already exists",
     "output_type": "error",
     "traceback": [
      "\u001b[0;31m---------------------------------------------------------------------------\u001b[0m",
      "\u001b[0;31mError\u001b[0m                                     Traceback (most recent call last)",
      "Cell \u001b[0;32mIn[260], line 23\u001b[0m\n\u001b[1;32m     21\u001b[0m \u001b[38;5;28mprint\u001b[39m(\u001b[38;5;124m'\u001b[39m\u001b[38;5;124m------------------------------------\u001b[39m\u001b[38;5;124m'\u001b[39m)\n\u001b[1;32m     22\u001b[0m metrics \u001b[38;5;241m=\u001b[39m fetch_metric_for_class(\u001b[38;5;28mid\u001b[39m)\n\u001b[0;32m---> 23\u001b[0m \u001b[43mplot_metrics\u001b[49m\u001b[43m(\u001b[49m\u001b[43mmetrics\u001b[49m\u001b[43m,\u001b[49m\u001b[43m \u001b[49m\u001b[43mc\u001b[49m\u001b[43m,\u001b[49m\u001b[43m \u001b[49m\u001b[43msave\u001b[49m\u001b[38;5;241;43m=\u001b[39;49m\u001b[43msave\u001b[49m\u001b[43m,\u001b[49m\u001b[43m \u001b[49m\u001b[43mseparate\u001b[49m\u001b[38;5;241;43m=\u001b[39;49m\u001b[43mseparate\u001b[49m\u001b[43m,\u001b[49m\u001b[43m \u001b[49m\u001b[43mtable\u001b[49m\u001b[38;5;241;43m=\u001b[39;49m\u001b[43mtable\u001b[49m\u001b[43m,\u001b[49m\u001b[43m \u001b[49m\u001b[43mshowfliers\u001b[49m\u001b[38;5;241;43m=\u001b[39;49m\u001b[38;5;28;43;01mFalse\u001b[39;49;00m\u001b[43m,\u001b[49m\u001b[43m \u001b[49m\u001b[43madditional_title_context\u001b[49m\u001b[38;5;241;43m=\u001b[39;49m\u001b[38;5;124;43m'\u001b[39;49m\u001b[38;5;124;43mTotalSegmentator analysis\u001b[39;49m\u001b[38;5;124;43m'\u001b[39;49m\u001b[43m)\u001b[49m\n\u001b[1;32m     24\u001b[0m \u001b[38;5;28mprint\u001b[39m(\u001b[38;5;124m'\u001b[39m\u001b[38;5;124m------------------------------------\u001b[39m\u001b[38;5;124m'\u001b[39m)\n",
      "Cell \u001b[0;32mIn[249], line 187\u001b[0m, in \u001b[0;36mplot_metrics\u001b[0;34m(metrics_dictionary, organ_class, separate, save, showfliers, table, additional_title_context)\u001b[0m\n\u001b[1;32m    185\u001b[0m     os\u001b[38;5;241m.\u001b[39mmakedirs(\u001b[38;5;124m'\u001b[39m\u001b[38;5;124mmetrics/old\u001b[39m\u001b[38;5;124m'\u001b[39m, exist_ok\u001b[38;5;241m=\u001b[39m\u001b[38;5;28;01mTrue\u001b[39;00m)\n\u001b[1;32m    186\u001b[0m     plt\u001b[38;5;241m.\u001b[39msavefig(\u001b[38;5;124mf\u001b[39m\u001b[38;5;124m'\u001b[39m\u001b[38;5;124mmetrics/\u001b[39m\u001b[38;5;132;01m{\u001b[39;00mfile_name(number\u001b[38;5;250m \u001b[39m\u001b[38;5;241m+\u001b[39m\u001b[38;5;250m \u001b[39m\u001b[38;5;241m1\u001b[39m)\u001b[38;5;132;01m}\u001b[39;00m\u001b[38;5;124m'\u001b[39m, bbox_inches\u001b[38;5;241m=\u001b[39m\u001b[38;5;124m'\u001b[39m\u001b[38;5;124mtight\u001b[39m\u001b[38;5;124m'\u001b[39m)\n\u001b[0;32m--> 187\u001b[0m     \u001b[43mshutil\u001b[49m\u001b[38;5;241;43m.\u001b[39;49m\u001b[43mmove\u001b[49m\u001b[43m(\u001b[49m\u001b[38;5;124;43mf\u001b[39;49m\u001b[38;5;124;43m'\u001b[39;49m\u001b[38;5;124;43mmetrics/\u001b[39;49m\u001b[38;5;132;43;01m{\u001b[39;49;00m\u001b[43mfile_name\u001b[49m\u001b[43m(\u001b[49m\u001b[43mnumber\u001b[49m\u001b[43m)\u001b[49m\u001b[38;5;132;43;01m}\u001b[39;49;00m\u001b[38;5;124;43m'\u001b[39;49m\u001b[43m,\u001b[49m\u001b[43m \u001b[49m\u001b[38;5;124;43mf\u001b[39;49m\u001b[38;5;124;43m'\u001b[39;49m\u001b[38;5;124;43mmetrics/old/\u001b[39;49m\u001b[38;5;124;43m'\u001b[39;49m\u001b[43m)\u001b[49m\n\u001b[1;32m    188\u001b[0m \u001b[38;5;28;01mexcept\u001b[39;00m \u001b[38;5;167;01mFileNotFoundError\u001b[39;00m \u001b[38;5;28;01mas\u001b[39;00m e:\n\u001b[1;32m    189\u001b[0m     \u001b[38;5;28mprint\u001b[39m(\u001b[38;5;124mf\u001b[39m\u001b[38;5;124m'\u001b[39m\u001b[38;5;124mWARNING: \u001b[39m\u001b[38;5;132;01m{\u001b[39;00me\u001b[38;5;132;01m}\u001b[39;00m\u001b[38;5;124m'\u001b[39m)\n",
      "File \u001b[0;32m/usr/lib/python3.10/shutil.py:814\u001b[0m, in \u001b[0;36mmove\u001b[0;34m(src, dst, copy_function)\u001b[0m\n\u001b[1;32m    811\u001b[0m     real_dst \u001b[38;5;241m=\u001b[39m os\u001b[38;5;241m.\u001b[39mpath\u001b[38;5;241m.\u001b[39mjoin(dst, _basename(src))\n\u001b[1;32m    813\u001b[0m     \u001b[38;5;28;01mif\u001b[39;00m os\u001b[38;5;241m.\u001b[39mpath\u001b[38;5;241m.\u001b[39mexists(real_dst):\n\u001b[0;32m--> 814\u001b[0m         \u001b[38;5;28;01mraise\u001b[39;00m Error(\u001b[38;5;124m\"\u001b[39m\u001b[38;5;124mDestination path \u001b[39m\u001b[38;5;124m'\u001b[39m\u001b[38;5;132;01m%s\u001b[39;00m\u001b[38;5;124m'\u001b[39m\u001b[38;5;124m already exists\u001b[39m\u001b[38;5;124m\"\u001b[39m \u001b[38;5;241m%\u001b[39m real_dst)\n\u001b[1;32m    815\u001b[0m \u001b[38;5;28;01mtry\u001b[39;00m:\n\u001b[1;32m    816\u001b[0m     os\u001b[38;5;241m.\u001b[39mrename(src, real_dst)\n",
      "\u001b[0;31mError\u001b[0m: Destination path 'metrics/old/metricsanorectum_1_combinednotable_TotalSegmentator_analysis.png' already exists"
     ]
    },
    {
     "data": {
      "image/png": "[encoded data removed]",
      "text/plain": [
       "<Figure size 3600x800 with 5 Axes>"
      ]
     },
     "metadata": {},
     "output_type": "display_data"
    }
   ],
   "source": [
    "include_baseline = True\n",
    "include_nnUNet = False\n",
    "include_TotalSegmentator = False\n",
    "include_MedSAM = False\n",
    "include_UniverSeg = False\n",
    "include_global = True\n",
    "\n",
    "split_axis = True\n",
    "\n",
    "for c in [\n",
    "             os.environ.get('Anorectum'),\n",
    "             os.environ.get('Bladder'),\n",
    "             os.environ.get('CTVn'),\n",
    "             os.environ.get('CTVp'),\n",
    "             os.environ.get('Parametrium'),\n",
    "             os.environ.get('Uterus'),\n",
    "             os.environ.get('Vagina'),\n",
    "             ]:\n",
    "    id = int(c.split('_')[0][len('Dataset'):])\n",
    "    print('Fetching metrics for ', c, ' id ', id)\n",
    "    print('------------------------------------')\n",
    "    metrics = fetch_metric_for_class(id)\n",
    "    plot_metrics(metrics, c, save=save, separate=separate, table=table, showfliers=False, additional_title_context='TotalSegmentator analysis')\n",
    "    print('------------------------------------')"
   ]
  }
 ],
 "metadata": {
  "kernelspec": {
   "display_name": ".venv",
   "language": "python",
   "name": "python3"
  },
  "language_info": {
   "codemirror_mode": {
    "name": "ipython",
    "version": 3
   },
   "file_extension": ".py",
   "mimetype": "text/x-python",
   "name": "python",
   "nbconvert_exporter": "python",
   "pygments_lexer": "ipython3",
   "version": "3.10.12"
  }
 },
 "nbformat": 4,
 "nbformat_minor": 2
}

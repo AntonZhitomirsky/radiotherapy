{
 "cells": [
  {
   "cell_type": "markdown",
   "metadata": {},
   "source": [
    "# Playing with the data\n",
    "\n",
    "This document is heavily inspired by the [file](https://colab.research.google.com/drive/1TGY94abA-WzKfs2mj_JOVqOIQVL6eqrM#scrollTo=CzZ_W5AnKR2h) provided by Ben Glocker, the supervisor for this project."
   ]
  },
  {
   "cell_type": "markdown",
   "metadata": {},
   "source": [
    "## Downloading data and setting up environment"
   ]
  },
  {
   "cell_type": "code",
   "execution_count": 3,
   "metadata": {},
   "outputs": [
    {
     "name": "stdout",
     "output_type": "stream",
     "text": [
      "Name: SimpleITK\n",
      "Version: 2.3.1\n",
      "Summary: SimpleITK is a simplified interface to the Insight Toolkit (ITK) for image registration and segmentation\n",
      "Home-page: http://simpleitk.org/\n",
      "Author: Insight Software Consortium\n",
      "Author-email: insight-users@itk.org\n",
      "License: Apache\n",
      "Location: /home/avzh1/Documents/imperial/year4/radiotherapy/research/source/code/.venv/lib/python3.10/site-packages\n",
      "Requires: \n",
      "Required-by: \n"
     ]
    }
   ],
   "source": [
    "# make sure SimpleITK is installed\n",
    "! pip show SimpleITK"
   ]
  },
  {
   "cell_type": "code",
   "execution_count": 4,
   "metadata": {},
   "outputs": [
    {
     "name": "stdout",
     "output_type": "stream",
     "text": [
      "--2024-01-12 16:20:17--  https://www.doc.ic.ac.uk/~bglocker/teaching/mli/mic-data.zip\n",
      "Resolving www.doc.ic.ac.uk (www.doc.ic.ac.uk)... 146.169.13.6\n",
      "Connecting to www.doc.ic.ac.uk (www.doc.ic.ac.uk)|146.169.13.6|:443... connected.\n",
      "HTTP request sent, awaiting response... 200 OK\n",
      "Length: 160992029 (154M) [application/zip]\n",
      "Saving to: ‘mic-data.zip’\n",
      "\n",
      "mic-data.zip        100%[===================>] 153.53M  5.64MB/s    in 26s     \n",
      "\n",
      "2024-01-12 16:20:44 (5.87 MB/s) - ‘mic-data.zip’ saved [160992029/160992029]\n",
      "\n",
      "Archive:  mic-data.zip\n",
      "   creating: data/\n",
      "   creating: data/mic/\n",
      " extracting: data/mic/ct-abdomen.nii.gz  \n",
      "  inflating: data/mic/ct-brain-lesion.nii.gz  \n",
      " extracting: data/mic/ct-brain-noisy.nii.gz  \n",
      " extracting: data/mic/ct-brain.nii.gz  \n",
      "  inflating: data/mic/mri-brain-anisotropic.nii.gz  \n",
      " extracting: data/mic/mri-brain-noisy.nii.gz  \n",
      "  inflating: data/mic/mri-brain-t1-contrast.nii.gz  \n",
      "  inflating: data/mic/mri-brain-t1.nii.gz  \n",
      "  inflating: data/mic/mri-brain.nii.gz  \n"
     ]
    }
   ],
   "source": [
    "# Get some sample data\n",
    "! wget https://www.doc.ic.ac.uk/~bglocker/teaching/mli/mic-data.zip\n",
    "! unzip mic-data.zip\n",
    "! rm mic-data.zip"
   ]
  },
  {
   "cell_type": "code",
   "execution_count": 5,
   "metadata": {},
   "outputs": [],
   "source": [
    "# Set up imports\n",
    "import os\n",
    "import SimpleITK as sitk\n",
    "import numpy as np"
   ]
  },
  {
   "cell_type": "code",
   "execution_count": 6,
   "metadata": {},
   "outputs": [
    {
     "name": "stdout",
     "output_type": "stream",
     "text": [
      "['ct-brain.nii.gz', 'ct-abdomen.nii.gz', 'mri-brain-t1-contrast.nii.gz', 'ct-brain-lesion.nii.gz', 'mri-brain-t1.nii.gz', 'mri-brain-anisotropic.nii.gz', 'mri-brain-noisy.nii.gz', 'mri-brain.nii.gz', 'ct-brain-noisy.nii.gz']\n"
     ]
    }
   ],
   "source": [
    "# Set the directory\n",
    "data_dir = \"data/mic/\"\n",
    "print(os.listdir(data_dir))"
   ]
  },
  {
   "cell_type": "markdown",
   "metadata": {},
   "source": [
    "## Fundamentals\n",
    "Please see the [link](https://simpleitk.readthedocs.io/en/master/fundamentalConcepts.html) for the fundamental concepts. Below will be a collection of the most useful ones and me playing around with them to get a feel for it."
   ]
  },
  {
   "cell_type": "code",
   "execution_count": 7,
   "metadata": {},
   "outputs": [
    {
     "name": "stdout",
     "output_type": "stream",
     "text": [
      "Image (0x55970accd210)\n",
      "  RTTI typeinfo:   itk::Image<unsigned char, 3u>\n",
      "  Reference Count: 1\n",
      "  Modified Time: 1835\n",
      "  Debug: Off\n",
      "  Object Name: \n",
      "  Observers: \n",
      "    none\n",
      "  Source: (none)\n",
      "  Source output name: (none)\n",
      "  Release Data: Off\n",
      "  Data Released: False\n",
      "  Global Release Data: Off\n",
      "  PipelineMTime: 1812\n",
      "  UpdateMTime: 1831\n",
      "  RealTimeStamp: 0 seconds \n",
      "  LargestPossibleRegion: \n",
      "    Dimension: 3\n",
      "    Index: [0, 0, 0]\n",
      "    Size: [217, 217, 170]\n",
      "  BufferedRegion: \n",
      "    Dimension: 3\n",
      "    Index: [0, 0, 0]\n",
      "    Size: [217, 217, 170]\n",
      "  RequestedRegion: \n",
      "    Dimension: 3\n",
      "    Index: [0, 0, 0]\n",
      "    Size: [217, 217, 170]\n",
      "  Spacing: [1, 1, 1]\n",
      "  Origin: [0.288086, 0.288086, 0.199999]\n",
      "  Direction: \n",
      "1 0 0\n",
      "0 1 0\n",
      "0 0 1\n",
      "\n",
      "  IndexToPointMatrix: \n",
      "1 0 0\n",
      "0 1 0\n",
      "0 0 1\n",
      "\n",
      "  PointToIndexMatrix: \n",
      "1 0 0\n",
      "0 1 0\n",
      "0 0 1\n",
      "\n",
      "  Inverse Direction: \n",
      "1 0 0\n",
      "0 1 0\n",
      "0 0 1\n",
      "\n",
      "  PixelContainer: \n",
      "    ImportImageContainer (0x55970aca6b40)\n",
      "      RTTI typeinfo:   itk::ImportImageContainer<unsigned long, unsigned char>\n",
      "      Reference Count: 1\n",
      "      Modified Time: 1828\n",
      "      Debug: Off\n",
      "      Object Name: \n",
      "      Observers: \n",
      "        none\n",
      "      Pointer: 0x7f7660840010\n",
      "      Container manages memory: true\n",
      "      Size: 8005130\n",
      "      Capacity: 8005130\n",
      "\n"
     ]
    }
   ],
   "source": [
    "# Get an arbitrary image from the dataset\n",
    "img = sitk.ReadImage(data_dir + 'ct-brain-lesion.nii.gz')\n",
    "print(img)"
   ]
  },
  {
   "cell_type": "markdown",
   "metadata": {},
   "source": [
    "### Looking at the metadata\n",
    "\n",
    "See [this](https://brainder.org/2012/09/23/the-nifti-file-format/) for indepth information about the header file and the data it displays.\n",
    "Its worth noting that an image in medicine may be captured in different directions, different slices and so on. However, an image in SimpleITK occupies a region in physical space which is defined by its meta-data (origin, size, spacing, and direction cosine matrix). This means that the library handles and translates the data into a universal format."
   ]
  },
  {
   "cell_type": "code",
   "execution_count": 8,
   "metadata": {},
   "outputs": [
    {
     "name": "stdout",
     "output_type": "stream",
     "text": [
      "3\n",
      "(217, 217, 170)\n",
      "(1.0, 1.0, 1.0)\n"
     ]
    }
   ],
   "source": [
    "print(img.GetDimension()) # returns the number of physical dimensions\n",
    "print(img.GetSize())\n",
    "print(img.GetSpacing())"
   ]
  },
  {
   "cell_type": "code",
   "execution_count": 9,
   "metadata": {},
   "outputs": [
    {
     "name": "stdout",
     "output_type": "stream",
     "text": [
      "(170, 217, 217)\n"
     ]
    }
   ],
   "source": [
    "# help(sitk.GetArrayFromImage)\n",
    "img_array = sitk.GetArrayFromImage(img) # Convert the SimpleITK image to a NumPy array\n",
    "print(img_array.shape)"
   ]
  }
 ],
 "metadata": {
  "kernelspec": {
   "display_name": "tmp",
   "language": "python",
   "name": "python3"
  },
  "language_info": {
   "codemirror_mode": {
    "name": "ipython",
    "version": 3
   },
   "file_extension": ".py",
   "mimetype": "text/x-python",
   "name": "python",
   "nbconvert_exporter": "python",
   "pygments_lexer": "ipython3",
   "version": "3.10.12"
  }
 },
 "nbformat": 4,
 "nbformat_minor": 2
}

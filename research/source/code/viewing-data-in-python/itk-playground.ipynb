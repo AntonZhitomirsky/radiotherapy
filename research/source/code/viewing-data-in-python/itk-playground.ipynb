{
 "cells": [
  {
   "cell_type": "markdown",
   "metadata": {},
   "source": [
    "# Playing with the data\n",
    "\n",
    "This document is heavily inspired by the [file](https://colab.research.google.com/drive/1TGY94abA-WzKfs2mj_JOVqOIQVL6eqrM#scrollTo=CzZ_W5AnKR2h) provided by Ben Glocker, the supervisor for this project."
   ]
  },
  {
   "cell_type": "markdown",
   "metadata": {},
   "source": [
    "## Downloading data and setting up environment"
   ]
  },
  {
   "cell_type": "code",
   "execution_count": 28,
   "metadata": {},
   "outputs": [
    {
     "name": "stdout",
     "output_type": "stream",
     "text": [
      "Name: SimpleITK\n",
      "Version: 2.3.1\n",
      "Summary: SimpleITK is a simplified interface to the Insight Toolkit (ITK) for image registration and segmentation\n",
      "Home-page: http://simpleitk.org/\n",
      "Author: Insight Software Consortium\n",
      "Author-email: insight-users@itk.org\n",
      "License: Apache\n",
      "Location: /home/avzh1/Documents/imperial/year4/radiotherapy/research/source/code/.venv/lib/python3.10/site-packages\n",
      "Requires: \n",
      "Required-by: \n"
     ]
    }
   ],
   "source": [
    "# make sure SimpleITK is installed\n",
    "! pip show SimpleITK"
   ]
  },
  {
   "cell_type": "code",
   "execution_count": 9,
   "metadata": {},
   "outputs": [
    {
     "name": "stdout",
     "output_type": "stream",
     "text": [
      "--2024-01-11 13:00:42--  https://www.doc.ic.ac.uk/~bglocker/teaching/mli/mic-data.zip\n",
      "Resolving www.doc.ic.ac.uk (www.doc.ic.ac.uk)... 146.169.13.6\n",
      "Connecting to www.doc.ic.ac.uk (www.doc.ic.ac.uk)|146.169.13.6|:443... connected.\n",
      "HTTP request sent, awaiting response... 200 OK\n",
      "Length: 160992029 (154M) [application/zip]\n",
      "Saving to: ‘mic-data.zip’\n",
      "\n",
      "mic-data.zip        100%[===================>] 153.53M  11.0MB/s    in 12s     \n",
      "\n",
      "2024-01-11 13:00:54 (13.3 MB/s) - ‘mic-data.zip’ saved [160992029/160992029]\n",
      "\n",
      "Archive:  mic-data.zip\n",
      "   creating: data/\n",
      "   creating: data/mic/\n",
      " extracting: data/mic/ct-abdomen.nii.gz  \n",
      "  inflating: data/mic/ct-brain-lesion.nii.gz  \n",
      " extracting: data/mic/ct-brain-noisy.nii.gz  \n",
      " extracting: data/mic/ct-brain.nii.gz  \n",
      "  inflating: data/mic/mri-brain-anisotropic.nii.gz  \n",
      " extracting: data/mic/mri-brain-noisy.nii.gz  \n",
      "  inflating: data/mic/mri-brain-t1-contrast.nii.gz  \n",
      "  inflating: data/mic/mri-brain-t1.nii.gz  \n",
      "  inflating: data/mic/mri-brain.nii.gz  \n"
     ]
    }
   ],
   "source": [
    "# Get some sample data\n",
    "! wget https://www.doc.ic.ac.uk/~bglocker/teaching/mli/mic-data.zip\n",
    "! unzip mic-data.zip\n",
    "! rm mic-data.zip"
   ]
  },
  {
   "cell_type": "code",
   "execution_count": 29,
   "metadata": {},
   "outputs": [],
   "source": [
    "# Set up imports\n",
    "import os\n",
    "import SimpleITK as sitk\n",
    "import numpy as np"
   ]
  },
  {
   "cell_type": "code",
   "execution_count": 30,
   "metadata": {},
   "outputs": [
    {
     "name": "stdout",
     "output_type": "stream",
     "text": [
      "['ct-brain.nii.gz', 'ct-abdomen.nii.gz', 'mri-brain-t1-contrast.nii.gz', 'ct-brain-lesion.nii.gz', 'mri-brain-t1.nii.gz', 'mri-brain-anisotropic.nii.gz', 'mri-brain-noisy.nii.gz', 'mri-brain.nii.gz', 'ct-brain-noisy.nii.gz']\n"
     ]
    }
   ],
   "source": [
    "# Set the directory\n",
    "data_dir = \"data/mic/\"\n",
    "print(os.listdir(data_dir))"
   ]
  },
  {
   "cell_type": "markdown",
   "metadata": {},
   "source": [
    "## Fundamentals\n",
    "Please see the [link](https://simpleitk.readthedocs.io/en/master/fundamentalConcepts.html) for the fundamental concepts. Below will be a collection of the most useful ones and me playing around with them to get a feel for it."
   ]
  },
  {
   "cell_type": "code",
   "execution_count": 31,
   "metadata": {},
   "outputs": [
    {
     "name": "stdout",
     "output_type": "stream",
     "text": [
      "Image (0x5611f721e1c0)\n",
      "  RTTI typeinfo:   itk::Image<unsigned char, 3u>\n",
      "  Reference Count: 1\n",
      "  Modified Time: 2925\n",
      "  Debug: Off\n",
      "  Object Name: \n",
      "  Observers: \n",
      "    none\n",
      "  Source: (none)\n",
      "  Source output name: (none)\n",
      "  Release Data: Off\n",
      "  Data Released: False\n",
      "  Global Release Data: Off\n",
      "  PipelineMTime: 2902\n",
      "  UpdateMTime: 2921\n",
      "  RealTimeStamp: 0 seconds \n",
      "  LargestPossibleRegion: \n",
      "    Dimension: 3\n",
      "    Index: [0, 0, 0]\n",
      "    Size: [217, 217, 170]\n",
      "  BufferedRegion: \n",
      "    Dimension: 3\n",
      "    Index: [0, 0, 0]\n",
      "    Size: [217, 217, 170]\n",
      "  RequestedRegion: \n",
      "    Dimension: 3\n",
      "    Index: [0, 0, 0]\n",
      "    Size: [217, 217, 170]\n",
      "  Spacing: [1, 1, 1]\n",
      "  Origin: [0.288086, 0.288086, 0.199999]\n",
      "  Direction: \n",
      "1 0 0\n",
      "0 1 0\n",
      "0 0 1\n",
      "\n",
      "  IndexToPointMatrix: \n",
      "1 0 0\n",
      "0 1 0\n",
      "0 0 1\n",
      "\n",
      "  PointToIndexMatrix: \n",
      "1 0 0\n",
      "0 1 0\n",
      "0 0 1\n",
      "\n",
      "  Inverse Direction: \n",
      "1 0 0\n",
      "0 1 0\n",
      "0 0 1\n",
      "\n",
      "  PixelContainer: \n",
      "    ImportImageContainer (0x5611f72195b0)\n",
      "      RTTI typeinfo:   itk::ImportImageContainer<unsigned long, unsigned char>\n",
      "      Reference Count: 1\n",
      "      Modified Time: 2918\n",
      "      Debug: Off\n",
      "      Object Name: \n",
      "      Observers: \n",
      "        none\n",
      "      Pointer: 0x5611f7e4a4e0\n",
      "      Container manages memory: true\n",
      "      Size: 8005130\n",
      "      Capacity: 8005130\n",
      "\n"
     ]
    }
   ],
   "source": [
    "# Get an arbitrary image from the dataset\n",
    "img = sitk.ReadImage(data_dir + 'ct-brain-lesion.nii.gz')\n",
    "print(img)"
   ]
  },
  {
   "cell_type": "markdown",
   "metadata": {},
   "source": [
    "### Looking at the metadata\n",
    "\n",
    "See [this](https://brainder.org/2012/09/23/the-nifti-file-format/) for indepth information about the header file and the data it displays.\n",
    "Its worth noting that an image in medicine may be captured in different directions, different slices and so on. However, an image in SimpleITK occupies a region in physical space which is defined by its meta-data (origin, size, spacing, and direction cosine matrix). This means that the library handles and translates the data into a universal format."
   ]
  },
  {
   "cell_type": "code",
   "execution_count": 32,
   "metadata": {},
   "outputs": [
    {
     "name": "stdout",
     "output_type": "stream",
     "text": [
      "3\n",
      "(217, 217, 170)\n",
      "(1.0, 1.0, 1.0)\n"
     ]
    }
   ],
   "source": [
    "print(img.GetDimension()) # returns the number of physical dimensions\n",
    "print(img.GetSize())\n",
    "print(img.GetSpacing())"
   ]
  },
  {
   "cell_type": "code",
   "execution_count": 34,
   "metadata": {},
   "outputs": [
    {
     "ename": "ImportError",
     "evalue": "NumPy not available.",
     "output_type": "error",
     "traceback": [
      "\u001b[0;31m---------------------------------------------------------------------------\u001b[0m",
      "\u001b[0;31mImportError\u001b[0m                               Traceback (most recent call last)",
      "Cell \u001b[0;32mIn[34], line 2\u001b[0m\n\u001b[1;32m      1\u001b[0m \u001b[38;5;66;03m# help(sitk.GetArrayFromImage)\u001b[39;00m\n\u001b[0;32m----> 2\u001b[0m img_array \u001b[38;5;241m=\u001b[39m \u001b[43msitk\u001b[49m\u001b[38;5;241;43m.\u001b[39;49m\u001b[43mGetArrayFromImage\u001b[49m\u001b[43m(\u001b[49m\u001b[43mimg\u001b[49m\u001b[43m)\u001b[49m \u001b[38;5;66;03m# Convert the SimpleITK image to a NumPy array\u001b[39;00m\n\u001b[1;32m      3\u001b[0m \u001b[38;5;28mprint\u001b[39m(img_array\u001b[38;5;241m.\u001b[39mshape)\n",
      "File \u001b[0;32m~/Documents/imperial/year4/radiotherapy/research/source/code/.venv/lib/python3.10/site-packages/SimpleITK/extra.py:287\u001b[0m, in \u001b[0;36mGetArrayFromImage\u001b[0;34m(image)\u001b[0m\n\u001b[1;32m    281\u001b[0m \u001b[38;5;250m\u001b[39m\u001b[38;5;124;03m\"\"\"Get a NumPy ndarray from a SimpleITK Image.\u001b[39;00m\n\u001b[1;32m    282\u001b[0m \n\u001b[1;32m    283\u001b[0m \u001b[38;5;124;03mThis is a deep copy of the image buffer and is completely safe and without potential side effects.\u001b[39;00m\n\u001b[1;32m    284\u001b[0m \u001b[38;5;124;03m\"\"\"\u001b[39;00m\n\u001b[1;32m    286\u001b[0m \u001b[38;5;66;03m# TODO: If the image is already not unique then a second copy may be made before the numpy copy is done.\u001b[39;00m\n\u001b[0;32m--> 287\u001b[0m array_view \u001b[38;5;241m=\u001b[39m \u001b[43mGetArrayViewFromImage\u001b[49m\u001b[43m(\u001b[49m\u001b[43mimage\u001b[49m\u001b[43m)\u001b[49m\n\u001b[1;32m    289\u001b[0m \u001b[38;5;66;03m# perform deep copy of the image buffer\u001b[39;00m\n\u001b[1;32m    290\u001b[0m \u001b[38;5;28;01mreturn\u001b[39;00m numpy\u001b[38;5;241m.\u001b[39marray(array_view, copy\u001b[38;5;241m=\u001b[39m\u001b[38;5;28;01mTrue\u001b[39;00m)\n",
      "File \u001b[0;32m~/Documents/imperial/year4/radiotherapy/research/source/code/.venv/lib/python3.10/site-packages/SimpleITK/extra.py:260\u001b[0m, in \u001b[0;36mGetArrayViewFromImage\u001b[0;34m(image)\u001b[0m\n\u001b[1;32m    253\u001b[0m \u001b[38;5;250m\u001b[39m\u001b[38;5;124;03m\"\"\"Get a NumPy ndarray view of a SimpleITK Image.\u001b[39;00m\n\u001b[1;32m    254\u001b[0m \n\u001b[1;32m    255\u001b[0m \u001b[38;5;124;03mReturns a Numpy ndarray object as a \"view\" of the SimpleITK's Image buffer. This reduces pixel buffer copies, but\u001b[39;00m\n\u001b[1;32m    256\u001b[0m \u001b[38;5;124;03m requires that the SimpleITK image object is kept around while the buffer is being used.\u001b[39;00m\n\u001b[1;32m    257\u001b[0m \u001b[38;5;124;03m\"\"\"\u001b[39;00m\n\u001b[1;32m    259\u001b[0m \u001b[38;5;28;01mif\u001b[39;00m \u001b[38;5;129;01mnot\u001b[39;00m HAVE_NUMPY:\n\u001b[0;32m--> 260\u001b[0m     \u001b[38;5;28;01mraise\u001b[39;00m \u001b[38;5;167;01mImportError\u001b[39;00m(\u001b[38;5;124m'\u001b[39m\u001b[38;5;124mNumPy not available.\u001b[39m\u001b[38;5;124m'\u001b[39m)\n\u001b[1;32m    262\u001b[0m pixel_id \u001b[38;5;241m=\u001b[39m image\u001b[38;5;241m.\u001b[39mGetPixelIDValue()\n\u001b[1;32m    263\u001b[0m \u001b[38;5;28;01massert\u001b[39;00m pixel_id \u001b[38;5;241m!=\u001b[39m sitkUnknown, \u001b[38;5;124m\"\u001b[39m\u001b[38;5;124mAn SimpleITK image of Unknown pixel type should not exists!\u001b[39m\u001b[38;5;124m\"\u001b[39m\n",
      "\u001b[0;31mImportError\u001b[0m: NumPy not available."
     ]
    }
   ],
   "source": [
    "# help(sitk.GetArrayFromImage)\n",
    "img_array = sitk.GetArrayFromImage(img) # Convert the SimpleITK image to a NumPy array\n",
    "print(img_array.shape)"
   ]
  },
  {
   "cell_type": "code",
   "execution_count": null,
   "metadata": {},
   "outputs": [],
   "source": [
    "! pip "
   ]
  }
 ],
 "metadata": {
  "kernelspec": {
   "display_name": "tmp",
   "language": "python",
   "name": "python3"
  },
  "language_info": {
   "codemirror_mode": {
    "name": "ipython",
    "version": 3
   },
   "file_extension": ".py",
   "mimetype": "text/x-python",
   "name": "python",
   "nbconvert_exporter": "python",
   "pygments_lexer": "ipython3",
   "version": "3.10.12"
  }
 },
 "nbformat": 4,
 "nbformat_minor": 2
}

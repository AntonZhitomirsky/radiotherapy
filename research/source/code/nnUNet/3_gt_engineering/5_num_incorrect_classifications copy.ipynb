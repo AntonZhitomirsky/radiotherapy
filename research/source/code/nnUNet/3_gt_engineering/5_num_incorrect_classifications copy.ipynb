{
 "cells": [
  {
   "cell_type": "code",
   "execution_count": 8,
   "metadata": {},
   "outputs": [],
   "source": [
    "import os, sys\n",
    "dir1 = os.path.abspath(os.path.join(os.path.abspath(''), '..', '..'))\n",
    "if not dir1 in sys.path: sys.path.append(dir1)\n",
    "\n",
    "from utils.environment import setup_data_vars\n",
    "\n",
    "setup_data_vars()"
   ]
  },
  {
   "cell_type": "code",
   "execution_count": 9,
   "metadata": {},
   "outputs": [],
   "source": [
    "# read in the json file for the totalbinary case\n",
    "\n",
    "path = os.path.join(os.environ.get('nnUNet_raw'), os.environ.get('TotalBinary'), 'dataset.json')\n",
    "assert os.path.exists(path)\n",
    "\n",
    "import json\n",
    "\n",
    "with open(path, 'r') as f:\n",
    "    dataset = json.load(f)"
   ]
  },
  {
   "cell_type": "code",
   "execution_count": 10,
   "metadata": {},
   "outputs": [],
   "source": [
    "ctvn = dataset['labels']['ctvn']\n",
    "ctvp = dataset['labels']['ctvp']\n",
    "anorectum = dataset['labels']['anorectum']\n",
    "vagina = dataset['labels']['vagina']\n",
    "uterus = dataset['labels']['uterus']"
   ]
  },
  {
   "cell_type": "code",
   "execution_count": 11,
   "metadata": {},
   "outputs": [
    {
     "name": "stdout",
     "output_type": "stream",
     "text": [
      "[9, 10, 19, 29, 30, 34, 35, 36, 37, 38, 39, 40, 44, 54, 55, 56, 64, 65, 66, 67, 68, 69, 70, 74, 75, 76, 77, 78, 79, 80, 81, 82, 84, 85, 86, 94, 95, 96, 99, 100, 101, 102, 103, 104, 105, 106, 107, 109, 110, 111, 112, 113, 114, 115, 116, 119, 120, 121, 122, 123, 124, 125, 126, 127]\n"
     ]
    }
   ],
   "source": [
    "# subset of ids that appear in all 3\n",
    "\n",
    "overlap = set(set(ctvn) & set(ctvp)).union(set(ctvn) & set(anorectum)).union(set(ctvp) & set(anorectum))\n",
    "overlap = sorted(list(overlap))\n",
    "print(overlap)"
   ]
  },
  {
   "cell_type": "code",
   "execution_count": 12,
   "metadata": {},
   "outputs": [],
   "source": [
    "overlap_frequency = {i: [] for i in overlap}"
   ]
  },
  {
   "cell_type": "code",
   "execution_count": 13,
   "metadata": {},
   "outputs": [
    {
     "data": {
      "text/plain": [
       "{(): 0,\n",
       " (1,): 1,\n",
       " (2,): 2,\n",
       " (3,): 3,\n",
       " (4,): 4,\n",
       " (5,): 5,\n",
       " (6,): 6,\n",
       " (7,): 7,\n",
       " (1, 2): 8,\n",
       " (1, 3): 9,\n",
       " (1, 4): 10,\n",
       " (1, 5): 11,\n",
       " (1, 6): 12,\n",
       " (1, 7): 13,\n",
       " (2, 3): 14,\n",
       " (2, 4): 15,\n",
       " (2, 5): 16,\n",
       " (2, 6): 17,\n",
       " (2, 7): 18,\n",
       " (3, 4): 19,\n",
       " (3, 5): 20,\n",
       " (3, 6): 21,\n",
       " (3, 7): 22,\n",
       " (4, 5): 23,\n",
       " (4, 6): 24,\n",
       " (4, 7): 25,\n",
       " (5, 6): 26,\n",
       " (5, 7): 27,\n",
       " (6, 7): 28,\n",
       " (1, 2, 3): 29,\n",
       " (1, 2, 4): 30,\n",
       " (1, 2, 5): 31,\n",
       " (1, 2, 6): 32,\n",
       " (1, 2, 7): 33,\n",
       " (1, 3, 4): 34,\n",
       " (1, 3, 5): 35,\n",
       " (1, 3, 6): 36,\n",
       " (1, 3, 7): 37,\n",
       " (1, 4, 5): 38,\n",
       " (1, 4, 6): 39,\n",
       " (1, 4, 7): 40,\n",
       " (1, 5, 6): 41,\n",
       " (1, 5, 7): 42,\n",
       " (1, 6, 7): 43,\n",
       " (2, 3, 4): 44,\n",
       " (2, 3, 5): 45,\n",
       " (2, 3, 6): 46,\n",
       " (2, 3, 7): 47,\n",
       " (2, 4, 5): 48,\n",
       " (2, 4, 6): 49,\n",
       " (2, 4, 7): 50,\n",
       " (2, 5, 6): 51,\n",
       " (2, 5, 7): 52,\n",
       " (2, 6, 7): 53,\n",
       " (3, 4, 5): 54,\n",
       " (3, 4, 6): 55,\n",
       " (3, 4, 7): 56,\n",
       " (3, 5, 6): 57,\n",
       " (3, 5, 7): 58,\n",
       " (3, 6, 7): 59,\n",
       " (4, 5, 6): 60,\n",
       " (4, 5, 7): 61,\n",
       " (4, 6, 7): 62,\n",
       " (5, 6, 7): 63,\n",
       " (1, 2, 3, 4): 64,\n",
       " (1, 2, 3, 5): 65,\n",
       " (1, 2, 3, 6): 66,\n",
       " (1, 2, 3, 7): 67,\n",
       " (1, 2, 4, 5): 68,\n",
       " (1, 2, 4, 6): 69,\n",
       " (1, 2, 4, 7): 70,\n",
       " (1, 2, 5, 6): 71,\n",
       " (1, 2, 5, 7): 72,\n",
       " (1, 2, 6, 7): 73,\n",
       " (1, 3, 4, 5): 74,\n",
       " (1, 3, 4, 6): 75,\n",
       " (1, 3, 4, 7): 76,\n",
       " (1, 3, 5, 6): 77,\n",
       " (1, 3, 5, 7): 78,\n",
       " (1, 3, 6, 7): 79,\n",
       " (1, 4, 5, 6): 80,\n",
       " (1, 4, 5, 7): 81,\n",
       " (1, 4, 6, 7): 82,\n",
       " (1, 5, 6, 7): 83,\n",
       " (2, 3, 4, 5): 84,\n",
       " (2, 3, 4, 6): 85,\n",
       " (2, 3, 4, 7): 86,\n",
       " (2, 3, 5, 6): 87,\n",
       " (2, 3, 5, 7): 88,\n",
       " (2, 3, 6, 7): 89,\n",
       " (2, 4, 5, 6): 90,\n",
       " (2, 4, 5, 7): 91,\n",
       " (2, 4, 6, 7): 92,\n",
       " (2, 5, 6, 7): 93,\n",
       " (3, 4, 5, 6): 94,\n",
       " (3, 4, 5, 7): 95,\n",
       " (3, 4, 6, 7): 96,\n",
       " (3, 5, 6, 7): 97,\n",
       " (4, 5, 6, 7): 98,\n",
       " (1, 2, 3, 4, 5): 99,\n",
       " (1, 2, 3, 4, 6): 100,\n",
       " (1, 2, 3, 4, 7): 101,\n",
       " (1, 2, 3, 5, 6): 102,\n",
       " (1, 2, 3, 5, 7): 103,\n",
       " (1, 2, 3, 6, 7): 104,\n",
       " (1, 2, 4, 5, 6): 105,\n",
       " (1, 2, 4, 5, 7): 106,\n",
       " (1, 2, 4, 6, 7): 107,\n",
       " (1, 2, 5, 6, 7): 108,\n",
       " (1, 3, 4, 5, 6): 109,\n",
       " (1, 3, 4, 5, 7): 110,\n",
       " (1, 3, 4, 6, 7): 111,\n",
       " (1, 3, 5, 6, 7): 112,\n",
       " (1, 4, 5, 6, 7): 113,\n",
       " (2, 3, 4, 5, 6): 114,\n",
       " (2, 3, 4, 5, 7): 115,\n",
       " (2, 3, 4, 6, 7): 116,\n",
       " (2, 3, 5, 6, 7): 117,\n",
       " (2, 4, 5, 6, 7): 118,\n",
       " (3, 4, 5, 6, 7): 119,\n",
       " (1, 2, 3, 4, 5, 6): 120,\n",
       " (1, 2, 3, 4, 5, 7): 121,\n",
       " (1, 2, 3, 4, 6, 7): 122,\n",
       " (1, 2, 3, 5, 6, 7): 123,\n",
       " (1, 2, 4, 5, 6, 7): 124,\n",
       " (1, 3, 4, 5, 6, 7): 125,\n",
       " (2, 3, 4, 5, 6, 7): 126,\n",
       " (1, 2, 3, 4, 5, 6, 7): 127}"
      ]
     },
     "execution_count": 13,
     "metadata": {},
     "output_type": "execute_result"
    }
   ],
   "source": [
    "from itertools import chain, combinations\n",
    "import json\n",
    "\n",
    "def powerset(iterable):\n",
    "    # powerset([1,2,3]) --> () (1,) (2,) (3,) (1,2) (1,3) (2,3) (1,2,3)\n",
    "    s = list(iterable)\n",
    "    return chain.from_iterable(combinations(s, r) for r in range(len(s)+1))\n",
    "\n",
    "n_labels = 7\n",
    "\n",
    "labelscomb = list(powerset(range(1,n_labels + 1)))\n",
    "multilabels = range(len(labelscomb))\n",
    "labelscomb_to_multilabel = dict(zip(labelscomb, multilabels))\n",
    "\n",
    "# So `labelscomb_to_multilabel` is basically a look-up table for converting a combination\n",
    "# of labels to the huge integer value that will be used in the nnU-Net nifti label file.\n",
    "labelscomb_to_multilabel"
   ]
  },
  {
   "cell_type": "code",
   "execution_count": 14,
   "metadata": {},
   "outputs": [],
   "source": [
    "import numpy as np\n",
    "\n",
    "def operation(x):\n",
    "        labels_in_voxel = tuple(np.argwhere(x)[:, 0] + 1)\n",
    "        return labelscomb_to_multilabel[labels_in_voxel]\n",
    "\n",
    "def image_to_nnunet_multilabel(input_volume):\n",
    "    # Note `input_volume` should be one-hot encoded, so input_volume.shape == (n_labels, D, H, W)\n",
    "    input_volume_per_channel = input_volume.reshape(n_labels, -1).T # (D x H x W, n_labels)\n",
    "    print('starting operation')\n",
    "    input_volume_translated = np.apply_along_axis(operation, 1, input_volume_per_channel)\n",
    "    print('done operation')\n",
    "    correct_shape = input_volume_translated.reshape(input_volume.shape[1:]) # (D, H, W)\n",
    "    \n",
    "    return correct_shape"
   ]
  },
  {
   "cell_type": "code",
   "execution_count": 15,
   "metadata": {},
   "outputs": [
    {
     "name": "stderr",
     "output_type": "stream",
     "text": [
      "100%|██████████| 100/100 [08:47<00:00,  5.28s/it]\n"
     ]
    }
   ],
   "source": [
    "# read in the ground truth labels for the totalbinary case and select the frequency of each id\n",
    "\n",
    "# maybe do with original trainer?\n",
    "# don't forget to do with total segmentator also\n",
    "\n",
    "# path = os.path.join(os.environ.get('TotalSegmentator_inference'), os.environ.get('TotalBinary'), 'nnUNetTrainer_500epochs__totseg_nnUNetPlans__3d_fullres')\n",
    "# labels = sorted([f for f in os.listdir(path) if f.endswith('.npz')])\n",
    "\n",
    "path = os.path.join(os.environ.get('nnUNet_raw'), os.environ.get('TotalBinary'), os.environ.get('data_trainingLabels'))\n",
    "labels = sorted([f for f in os.listdir(path) if f.endswith('.nii.gz')])\n",
    "\n",
    "import SimpleITK as sitk\n",
    "import numpy as np\n",
    "\n",
    "from tqdm import tqdm\n",
    "\n",
    "for label in tqdm(labels):\n",
    "    label_path = os.path.join(path, label)\n",
    "    \n",
    "    img = sitk.GetArrayFromImage(sitk.ReadImage(label_path))\n",
    "    \n",
    "    # count the number of non zero elements\n",
    "    number_of_voxels = np.count_nonzero(img)\n",
    "\n",
    "    for i in overlap:\n",
    "        overlap_frequency[i].append((np.sum(img == i), number_of_voxels))"
   ]
  },
  {
   "cell_type": "code",
   "execution_count": 16,
   "metadata": {},
   "outputs": [],
   "source": [
    "import json\n",
    "import numpy as np\n",
    "\n",
    "class NpEncoder(json.JSONEncoder):\n",
    "    def default(self, obj):\n",
    "        if isinstance(obj, np.integer):\n",
    "            return int(obj)\n",
    "        if isinstance(obj, np.floating):\n",
    "            return float(obj)\n",
    "        if isinstance(obj, np.ndarray):\n",
    "            return obj.tolist()\n",
    "        return super(NpEncoder, self).default(obj)"
   ]
  },
  {
   "cell_type": "code",
   "execution_count": 17,
   "metadata": {},
   "outputs": [],
   "source": [
    "import json\n",
    "\n",
    "# dump the overlap_frequency to a json file\n",
    "with open('overlap_frequency_nnunet_groundtruth.json', 'w') as f:\n",
    "    json.dump(overlap_frequency, f, cls=NpEncoder)"
   ]
  },
  {
   "cell_type": "code",
   "execution_count": 18,
   "metadata": {},
   "outputs": [
    {
     "name": "stdout",
     "output_type": "stream",
     "text": [
      "[(0, 583890), (0, 455905), (0, 479810), (3241, 630386), (0, 405020), (5, 294437), (0, 408080), (93, 364963), (48, 469751), (0, 207840), (79, 259923), (490, 305021), (2459, 453443), (0, 391020), (8, 484746), (0, 271845), (163, 408364), (0, 521078), (0, 312132), (148, 452864), (129, 312991), (0, 506284), (47, 539553), (65, 425014), (0, 577315), (1005, 479499), (0, 646780), (309, 381831), (0, 522833), (5, 476692), (0, 317862), (0, 323841), (1, 467657), (293, 590632), (0, 299607), (4, 503585), (0, 578694), (79, 540425), (0, 479217), (217, 662235), (0, 591459), (0, 261903), (0, 623731), (0, 607635), (0, 308636), (19, 678735), (13, 534811), (0, 436119), (0, 586136), (5, 492819), (0, 419814), (0, 360247), (0, 346517), (0, 310735), (17, 146801), (0, 669126), (0, 380416), (101, 407699), (4269, 756176), (772, 579204), (0, 354279), (28, 542770), (0, 476460), (0, 353326), (0, 366271), (123, 410798), (0, 547301), (983, 757915), (49, 490454), (0, 704832), (74, 624926), (3, 347569), (36, 273535), (0, 661902), (0, 273454), (0, 664781), (0, 562651), (0, 475926), (0, 649513), (0, 708469), (0, 723634), (0, 447663), (158, 415499), (0, 480467), (0, 344476), (0, 770961), (0, 395896), (8, 613540), (0, 579308), (130, 632032), (485, 504823), (0, 607420), (0, 636016), (0, 705189), (0, 538490), (153, 314512), (0, 298695), (0, 407995), (65, 234901), (14, 463275)]\n"
     ]
    }
   ],
   "source": [
    "print(overlap_frequency[9])"
   ]
  },
  {
   "cell_type": "code",
   "execution_count": 19,
   "metadata": {},
   "outputs": [],
   "source": [
    "number_of_ocurrences = {i: sum([j[0] for j in overlap_frequency[i]]) for i in overlap}\n",
    "percentage_of_ocurrences = {i: 0 for i in overlap}\n",
    "\n",
    "for i in overlap:\n",
    "    percentage_of_ocurrences[i] = number_of_ocurrences[i] / sum([j[1] for j in overlap_frequency[i]])"
   ]
  },
  {
   "cell_type": "code",
   "execution_count": 20,
   "metadata": {},
   "outputs": [
    {
     "data": {
      "text/plain": [
       "{9: 0.0003440026115071675,\n",
       " 10: 2.0145336853954786e-05,\n",
       " 19: 1.8886253300582612e-07,\n",
       " 29: 0.0,\n",
       " 30: 0.0,\n",
       " 34: 0.0,\n",
       " 35: 1.95157950772687e-06,\n",
       " 36: 0.0,\n",
       " 37: 0.0,\n",
       " 38: 1.9096100559477973e-06,\n",
       " 39: 2.4531144564867858e-05,\n",
       " 40: 3.1686936093199716e-06,\n",
       " 44: 0.0,\n",
       " 54: 9.275248843175016e-06,\n",
       " 55: 0.0016889766479452133,\n",
       " 56: 0.0,\n",
       " 64: 0.0,\n",
       " 65: 0.0,\n",
       " 66: 0.0,\n",
       " 67: 0.0,\n",
       " 68: 0.0,\n",
       " 69: 0.0,\n",
       " 70: 0.0,\n",
       " 74: 0.0,\n",
       " 75: 0.0,\n",
       " 76: 0.0,\n",
       " 77: 0.0,\n",
       " 78: 0.0,\n",
       " 79: 0.0,\n",
       " 80: 1.1121904721454204e-06,\n",
       " 81: 2.056503137174551e-06,\n",
       " 82: 0.0,\n",
       " 84: 0.0,\n",
       " 85: 2.0984725889536234e-08,\n",
       " 86: 0.0,\n",
       " 94: 0.001245779237158208,\n",
       " 95: 4.742548051035189e-06,\n",
       " 96: 0.0,\n",
       " 99: 0.0,\n",
       " 100: 0.0,\n",
       " 101: 0.0,\n",
       " 102: 0.0,\n",
       " 103: 0.0,\n",
       " 104: 0.0,\n",
       " 105: 0.0,\n",
       " 106: 0.0,\n",
       " 107: 0.0,\n",
       " 109: 0.0,\n",
       " 110: 0.0,\n",
       " 111: 0.0,\n",
       " 112: 0.0,\n",
       " 113: 0.0,\n",
       " 114: 0.0,\n",
       " 115: 0.0,\n",
       " 116: 0.0,\n",
       " 119: 0.0,\n",
       " 120: 0.0,\n",
       " 121: 0.0,\n",
       " 122: 0.0,\n",
       " 123: 0.0,\n",
       " 124: 0.0,\n",
       " 125: 0.0,\n",
       " 126: 0.0,\n",
       " 127: 0.0}"
      ]
     },
     "execution_count": 20,
     "metadata": {},
     "output_type": "execute_result"
    }
   ],
   "source": [
    "percentage_of_ocurrences"
   ]
  },
  {
   "cell_type": "code",
   "execution_count": 21,
   "metadata": {},
   "outputs": [
    {
     "data": {
      "text/plain": [
       "{9: 16393,\n",
       " 10: 960,\n",
       " 19: 9,\n",
       " 35: 93,\n",
       " 38: 91,\n",
       " 39: 1169,\n",
       " 40: 151,\n",
       " 54: 442,\n",
       " 55: 80486,\n",
       " 80: 53,\n",
       " 81: 98,\n",
       " 85: 1,\n",
       " 94: 59366,\n",
       " 95: 226}"
      ]
     },
     "execution_count": 21,
     "metadata": {},
     "output_type": "execute_result"
    }
   ],
   "source": [
    "non_zero_ocurrences = {k: v for (k,v) in number_of_ocurrences.items() if v != 0}\n",
    "non_zero_ocurrences"
   ]
  },
  {
   "cell_type": "code",
   "execution_count": 22,
   "metadata": {},
   "outputs": [],
   "source": [
    "# translated to the combo of words\n",
    "\n",
    "def reverse_lookup_id(id):\n",
    "    # given a dictinoary of key: anatomy, and value: segmentation ids, reverse the lookup to get the list of anatomies that match the id.\n",
    "    anatomies = []\n",
    "\n",
    "    if type(id) == int:\n",
    "        for k, v in dataset['labels'].items():\n",
    "            if k == 'background':\n",
    "                if id == v:\n",
    "                    anatomies.append('background')\n",
    "            elif id in v:\n",
    "                anatomies.append(k)\n",
    "            \n",
    "    elif type(id) == list:\n",
    "        for k, v in dataset['labels'].items():\n",
    "            if k == 'background' and 0 in id:\n",
    "                anatomies.append('background')\n",
    "            elif any([i in v for i in id]):\n",
    "                anatomies.append(k)\n",
    "    else:\n",
    "        raise TypeError('Huh? Whats the type of id? needs to be int or list of ints ', id)\n",
    "\n",
    "    return anatomies\n",
    "\n",
    "assert reverse_lookup_id(0) == ['background']\n",
    "assert reverse_lookup_id(1) == ['anorectum']\n",
    "assert reverse_lookup_id(100) == ['anorectum', 'bladder', 'ctvn', 'ctvp', 'uterus']\n",
    "assert reverse_lookup_id([0,1]) == ['background', 'anorectum']\n",
    "\n",
    "def get_id_from_label(str_id):\n",
    "    return ['anorectum','bladder','ctvn','ctvp','parametrium','uterus','vagina','totalbinary'][str_id]\n",
    "\n",
    "assert get_id_from_label(0) == 'anorectum'\n",
    "assert get_id_from_label(7) == 'totalbinary'"
   ]
  },
  {
   "cell_type": "code",
   "execution_count": 23,
   "metadata": {},
   "outputs": [],
   "source": [
    "type_of_overlap_non_zero = []\n",
    "frequency_of_overlap_non_zero = []\n",
    "percentage_of_overlap_non_zero = []\n",
    "\n",
    "for k,v in non_zero_ocurrences.items():\n",
    "    type_of_overlap_non_zero.append(', '.join(reverse_lookup_id(k)))\n",
    "    frequency_of_overlap_non_zero.append(v)\n",
    "    percentage_of_overlap_non_zero.append(percentage_of_ocurrences[k])"
   ]
  },
  {
   "cell_type": "code",
   "execution_count": 24,
   "metadata": {},
   "outputs": [
    {
     "data": {
      "image/png": "[encoded data removed]",
      "text/plain": [
       "<Figure size 640x480 with 2 Axes>"
      ]
     },
     "metadata": {},
     "output_type": "display_data"
    }
   ],
   "source": [
    "import matplotlib.pyplot as plt\n",
    "import matplotlib.ticker as ticker\n",
    "\n",
    "fig, ax1 = plt.subplots()\n",
    "\n",
    "# Plot the frequency of overlap on the primary y-axis (left-hand side)\n",
    "ax1.bar(type_of_overlap_non_zero, frequency_of_overlap_non_zero, )\n",
    "ax1.set_ylabel('Frequency of Overlap')\n",
    "ax1.tick_params(axis='x', rotation=90)\n",
    "ax1.yaxis.set_major_formatter(ticker.FuncFormatter(lambda x, pos: f'{x/1000:.0f}k'))\n",
    "\n",
    "# Create a secondary y-axis (right-hand side) that shares the same x-axis\n",
    "ax2 = ax1.twinx()\n",
    "ax2.bar(type_of_overlap_non_zero, percentage_of_overlap_non_zero)\n",
    "ax2.set_ylabel('Percentage of Overlap')\n",
    "ax2.tick_params(axis='y')\n",
    "ax2.yaxis.set_major_formatter(ticker.FuncFormatter(lambda x, pos: f'{x * 100:.2f} %'))\n",
    "\n",
    "# Rotate x-axis labels\n",
    "plt.xticks(rotation=90)\n",
    "\n",
    "plt.title('Frequency and Percentage of Illegal Overlap')\n",
    "\n",
    "# Display the plot\n",
    "plt.show()"
   ]
  },
  {
   "cell_type": "code",
   "execution_count": 34,
   "metadata": {},
   "outputs": [],
   "source": [
    "# read in the frequency for a type of overlap\n",
    "\n",
    "type_of_model = 'cervical'\n",
    "\n",
    "with open(f'overlap_frequency_nnunet_{type_of_model}.json', 'r') as f:\n",
    "    overlap_frequency_nnunet = json.load(f)\n",
    "number_of_ocurrences_nnunet = {i: sum([j[0] for j in overlap_frequency_nnunet[str(i)]]) for i in overlap}\n",
    "non_zero_ocurrences_nnunet = {k: v for (k,v) in number_of_ocurrences_nnunet.items() if v != 0}\n",
    "\n",
    "with open(f'overlap_frequency_totalsegmentator_{type_of_model}.json', 'r') as f:\n",
    "    overlap_frequency_totalsegmentator = json.load(f)\n",
    "number_of_ocurrences_totalsegmentator = {i: sum([j[0] for j in overlap_frequency_totalsegmentator[str(i)]]) for i in overlap}\n",
    "non_zero_ocurrences_totalsegmentator = {k: v for (k,v) in number_of_ocurrences_totalsegmentator.items() if v != 0}"
   ]
  },
  {
   "cell_type": "code",
   "execution_count": 35,
   "metadata": {},
   "outputs": [
    {
     "data": {
      "text/plain": [
       "{9: 3022, 19: 989, 54: 4, 55: 63532, 94: 45337}"
      ]
     },
     "execution_count": 35,
     "metadata": {},
     "output_type": "execute_result"
    }
   ],
   "source": [
    "non_zero_ocurrences_nnunet"
   ]
  },
  {
   "cell_type": "code",
   "execution_count": 36,
   "metadata": {},
   "outputs": [
    {
     "data": {
      "text/plain": [
       "{9: 3022, 19: 989, 54: 4, 55: 63532, 94: 45337}"
      ]
     },
     "execution_count": 36,
     "metadata": {},
     "output_type": "execute_result"
    }
   ],
   "source": [
    "non_zero_ocurrences_totalsegmentator"
   ]
  },
  {
   "cell_type": "code",
   "execution_count": 37,
   "metadata": {},
   "outputs": [
    {
     "data": {
      "text/plain": [
       "{9: 16393,\n",
       " 10: 960,\n",
       " 19: 9,\n",
       " 35: 93,\n",
       " 38: 91,\n",
       " 39: 1169,\n",
       " 40: 151,\n",
       " 54: 442,\n",
       " 55: 80486,\n",
       " 80: 53,\n",
       " 81: 98,\n",
       " 85: 1,\n",
       " 94: 59366,\n",
       " 95: 226}"
      ]
     },
     "execution_count": 37,
     "metadata": {},
     "output_type": "execute_result"
    }
   ],
   "source": [
    "non_zero_ocurrences"
   ]
  },
  {
   "cell_type": "code",
   "execution_count": 38,
   "metadata": {},
   "outputs": [
    {
     "data": {
      "text/plain": [
       "{9, 10, 19, 35, 38, 39, 40, 54, 55, 80, 81, 85, 94, 95}"
      ]
     },
     "execution_count": 38,
     "metadata": {},
     "output_type": "execute_result"
    }
   ],
   "source": [
    "set_of_non_zeros = set(non_zero_ocurrences.keys()).union(set(non_zero_ocurrences_nnunet.keys())).union(set(non_zero_ocurrences_totalsegmentator.keys()))\n",
    "set_of_non_zeros"
   ]
  },
  {
   "cell_type": "code",
   "execution_count": 39,
   "metadata": {},
   "outputs": [],
   "source": [
    "# if the key doesn't exist, then the value is 0\n",
    "non_zero_ocurrences = {i: non_zero_ocurrences.get(i, 0) for i in set_of_non_zeros}\n",
    "non_zero_ocurrences_nnunet = {i: non_zero_ocurrences_nnunet.get(i, 0) for i in set_of_non_zeros}\n",
    "non_zero_ocurrences_totalsegmentator = {i: non_zero_ocurrences_totalsegmentator.get(i, 0) for i in set_of_non_zeros}"
   ]
  },
  {
   "cell_type": "code",
   "execution_count": 42,
   "metadata": {},
   "outputs": [],
   "source": [
    "type_of_overlap_non_zero = []\n",
    "frequency_of_overlap_non_zero = []\n",
    "frequency_of_overlap_non_zero_nnunet = []\n",
    "frequency_of_overlap_non_zero_totalsegmentator = []\n",
    "percentage_of_overlap_non_zero = []\n",
    "\n",
    "for k,v in non_zero_ocurrences.items():\n",
    "    type_of_overlap_non_zero.append(', '.join(reverse_lookup_id(k)))\n",
    "    frequency_of_overlap_non_zero.append(v)\n",
    "    frequency_of_overlap_non_zero_nnunet.append(non_zero_ocurrences_nnunet[k])\n",
    "    frequency_of_overlap_non_zero_totalsegmentator.append(non_zero_ocurrences_totalsegmentator[k])\n",
    "    \n",
    "    percentage_of_overlap_non_zero.append(percentage_of_ocurrences[k])"
   ]
  },
  {
   "cell_type": "code",
   "execution_count": 41,
   "metadata": {},
   "outputs": [],
   "source": [
    "# Plot the values together"
   ]
  },
  {
   "cell_type": "code",
   "execution_count": null,
   "metadata": {},
   "outputs": [],
   "source": [
    "import matplotlib.pyplot as plt\n",
    "import matplotlib.ticker as ticker\n",
    "\n",
    "fig, ax1 = plt.subplots()\n",
    "\n",
    "# Plot the frequency of overlap on the primary y-axis (left-hand side)\n",
    "ax1.bar(type_of_overlap_non_zero, frequency_of_overlap_non_zero, label='Ground Truth')\n",
    "ax1.bar(type_of_overlap_non_zero, )\n",
    "ax1.set_ylabel('Frequency of Overlap')\n",
    "ax1.tick_params(axis='x', rotation=90)\n",
    "ax1.yaxis.set_major_formatter(ticker.FuncFormatter(lambda x, pos: f'{x/1000:.0f}k'))\n",
    "\n",
    "# Create a secondary y-axis (right-hand side) that shares the same x-axis\n",
    "ax2 = ax1.twinx()\n",
    "ax2.bar(type_of_overlap_non_zero, percentage_of_overlap_non_zero)\n",
    "ax2.set_ylabel('Percentage of Overlap')\n",
    "ax2.tick_params(axis='y')\n",
    "ax2.yaxis.set_major_formatter(ticker.FuncFormatter(lambda x, pos: f'{x * 100:.2f} %'))\n",
    "\n",
    "# Rotate x-axis labels\n",
    "plt.xticks(rotation=90)\n",
    "\n",
    "plt.title('Frequency and Percentage of Illegal Overlap')\n",
    "\n",
    "# Display the plot\n",
    "plt.show()"
   ]
  }
 ],
 "metadata": {
  "kernelspec": {
   "display_name": ".venv",
   "language": "python",
   "name": "python3"
  },
  "language_info": {
   "codemirror_mode": {
    "name": "ipython",
    "version": 3
   },
   "file_extension": ".py",
   "mimetype": "text/x-python",
   "name": "python",
   "nbconvert_exporter": "python",
   "pygments_lexer": "ipython3",
   "version": "3.10.12"
  }
 },
 "nbformat": 4,
 "nbformat_minor": 2
}

{
 "cells": [
  {
   "cell_type": "code",
   "execution_count": 36,
   "metadata": {},
   "outputs": [],
   "source": [
    "import os, sys\n",
    "dir1 = os.path.abspath(os.path.join(os.path.abspath(''), '..', '..'))\n",
    "if not dir1 in sys.path: sys.path.append(dir1)\n",
    "\n",
    "from utils.environment import setup_data_vars\n",
    "\n",
    "setup_data_vars()"
   ]
  },
  {
   "cell_type": "code",
   "execution_count": 37,
   "metadata": {},
   "outputs": [],
   "source": [
    "# read in the json file for the totalbinary case\n",
    "\n",
    "path = os.path.join(os.environ.get('nnUNet_raw'), os.environ.get('TotalBinary'), 'dataset.json')\n",
    "assert os.path.exists(path)\n",
    "\n",
    "import json\n",
    "\n",
    "with open(path, 'r') as f:\n",
    "    dataset = json.load(f)"
   ]
  },
  {
   "cell_type": "code",
   "execution_count": 38,
   "metadata": {},
   "outputs": [],
   "source": [
    "ctvn = dataset['labels']['ctvn']\n",
    "ctvp = dataset['labels']['ctvp']\n",
    "anorectum = dataset['labels']['anorectum']\n",
    "vagina = dataset['labels']['vagina']\n",
    "uterus = dataset['labels']['uterus']"
   ]
  },
  {
   "cell_type": "code",
   "execution_count": 39,
   "metadata": {},
   "outputs": [
    {
     "name": "stdout",
     "output_type": "stream",
     "text": [
      "[9, 10, 19, 29, 30, 34, 35, 36, 37, 38, 39, 40, 44, 54, 55, 56, 64, 65, 66, 67, 68, 69, 70, 74, 75, 76, 77, 78, 79, 80, 81, 82, 84, 85, 86, 94, 95, 96, 99, 100, 101, 102, 103, 104, 105, 106, 107, 109, 110, 111, 112, 113, 114, 115, 116, 119, 120, 121, 122, 123, 124, 125, 126, 127]\n"
     ]
    }
   ],
   "source": [
    "# subset of ids that appear in all 3\n",
    "\n",
    "overlap = set(set(ctvn) & set(ctvp)).union(set(ctvn) & set(anorectum)).union(set(ctvp) & set(anorectum))\n",
    "overlap = sorted(list(overlap))\n",
    "print(overlap)"
   ]
  },
  {
   "cell_type": "code",
   "execution_count": 40,
   "metadata": {},
   "outputs": [],
   "source": [
    "overlap_frequency = {i: [] for i in overlap}"
   ]
  },
  {
   "cell_type": "code",
   "execution_count": 41,
   "metadata": {},
   "outputs": [
    {
     "data": {
      "text/plain": [
       "{(): 0,\n",
       " (1,): 1,\n",
       " (2,): 2,\n",
       " (3,): 3,\n",
       " (4,): 4,\n",
       " (5,): 5,\n",
       " (6,): 6,\n",
       " (7,): 7,\n",
       " (1, 2): 8,\n",
       " (1, 3): 9,\n",
       " (1, 4): 10,\n",
       " (1, 5): 11,\n",
       " (1, 6): 12,\n",
       " (1, 7): 13,\n",
       " (2, 3): 14,\n",
       " (2, 4): 15,\n",
       " (2, 5): 16,\n",
       " (2, 6): 17,\n",
       " (2, 7): 18,\n",
       " (3, 4): 19,\n",
       " (3, 5): 20,\n",
       " (3, 6): 21,\n",
       " (3, 7): 22,\n",
       " (4, 5): 23,\n",
       " (4, 6): 24,\n",
       " (4, 7): 25,\n",
       " (5, 6): 26,\n",
       " (5, 7): 27,\n",
       " (6, 7): 28,\n",
       " (1, 2, 3): 29,\n",
       " (1, 2, 4): 30,\n",
       " (1, 2, 5): 31,\n",
       " (1, 2, 6): 32,\n",
       " (1, 2, 7): 33,\n",
       " (1, 3, 4): 34,\n",
       " (1, 3, 5): 35,\n",
       " (1, 3, 6): 36,\n",
       " (1, 3, 7): 37,\n",
       " (1, 4, 5): 38,\n",
       " (1, 4, 6): 39,\n",
       " (1, 4, 7): 40,\n",
       " (1, 5, 6): 41,\n",
       " (1, 5, 7): 42,\n",
       " (1, 6, 7): 43,\n",
       " (2, 3, 4): 44,\n",
       " (2, 3, 5): 45,\n",
       " (2, 3, 6): 46,\n",
       " (2, 3, 7): 47,\n",
       " (2, 4, 5): 48,\n",
       " (2, 4, 6): 49,\n",
       " (2, 4, 7): 50,\n",
       " (2, 5, 6): 51,\n",
       " (2, 5, 7): 52,\n",
       " (2, 6, 7): 53,\n",
       " (3, 4, 5): 54,\n",
       " (3, 4, 6): 55,\n",
       " (3, 4, 7): 56,\n",
       " (3, 5, 6): 57,\n",
       " (3, 5, 7): 58,\n",
       " (3, 6, 7): 59,\n",
       " (4, 5, 6): 60,\n",
       " (4, 5, 7): 61,\n",
       " (4, 6, 7): 62,\n",
       " (5, 6, 7): 63,\n",
       " (1, 2, 3, 4): 64,\n",
       " (1, 2, 3, 5): 65,\n",
       " (1, 2, 3, 6): 66,\n",
       " (1, 2, 3, 7): 67,\n",
       " (1, 2, 4, 5): 68,\n",
       " (1, 2, 4, 6): 69,\n",
       " (1, 2, 4, 7): 70,\n",
       " (1, 2, 5, 6): 71,\n",
       " (1, 2, 5, 7): 72,\n",
       " (1, 2, 6, 7): 73,\n",
       " (1, 3, 4, 5): 74,\n",
       " (1, 3, 4, 6): 75,\n",
       " (1, 3, 4, 7): 76,\n",
       " (1, 3, 5, 6): 77,\n",
       " (1, 3, 5, 7): 78,\n",
       " (1, 3, 6, 7): 79,\n",
       " (1, 4, 5, 6): 80,\n",
       " (1, 4, 5, 7): 81,\n",
       " (1, 4, 6, 7): 82,\n",
       " (1, 5, 6, 7): 83,\n",
       " (2, 3, 4, 5): 84,\n",
       " (2, 3, 4, 6): 85,\n",
       " (2, 3, 4, 7): 86,\n",
       " (2, 3, 5, 6): 87,\n",
       " (2, 3, 5, 7): 88,\n",
       " (2, 3, 6, 7): 89,\n",
       " (2, 4, 5, 6): 90,\n",
       " (2, 4, 5, 7): 91,\n",
       " (2, 4, 6, 7): 92,\n",
       " (2, 5, 6, 7): 93,\n",
       " (3, 4, 5, 6): 94,\n",
       " (3, 4, 5, 7): 95,\n",
       " (3, 4, 6, 7): 96,\n",
       " (3, 5, 6, 7): 97,\n",
       " (4, 5, 6, 7): 98,\n",
       " (1, 2, 3, 4, 5): 99,\n",
       " (1, 2, 3, 4, 6): 100,\n",
       " (1, 2, 3, 4, 7): 101,\n",
       " (1, 2, 3, 5, 6): 102,\n",
       " (1, 2, 3, 5, 7): 103,\n",
       " (1, 2, 3, 6, 7): 104,\n",
       " (1, 2, 4, 5, 6): 105,\n",
       " (1, 2, 4, 5, 7): 106,\n",
       " (1, 2, 4, 6, 7): 107,\n",
       " (1, 2, 5, 6, 7): 108,\n",
       " (1, 3, 4, 5, 6): 109,\n",
       " (1, 3, 4, 5, 7): 110,\n",
       " (1, 3, 4, 6, 7): 111,\n",
       " (1, 3, 5, 6, 7): 112,\n",
       " (1, 4, 5, 6, 7): 113,\n",
       " (2, 3, 4, 5, 6): 114,\n",
       " (2, 3, 4, 5, 7): 115,\n",
       " (2, 3, 4, 6, 7): 116,\n",
       " (2, 3, 5, 6, 7): 117,\n",
       " (2, 4, 5, 6, 7): 118,\n",
       " (3, 4, 5, 6, 7): 119,\n",
       " (1, 2, 3, 4, 5, 6): 120,\n",
       " (1, 2, 3, 4, 5, 7): 121,\n",
       " (1, 2, 3, 4, 6, 7): 122,\n",
       " (1, 2, 3, 5, 6, 7): 123,\n",
       " (1, 2, 4, 5, 6, 7): 124,\n",
       " (1, 3, 4, 5, 6, 7): 125,\n",
       " (2, 3, 4, 5, 6, 7): 126,\n",
       " (1, 2, 3, 4, 5, 6, 7): 127}"
      ]
     },
     "execution_count": 41,
     "metadata": {},
     "output_type": "execute_result"
    }
   ],
   "source": [
    "from itertools import chain, combinations\n",
    "import json\n",
    "\n",
    "def powerset(iterable):\n",
    "    # powerset([1,2,3]) --> () (1,) (2,) (3,) (1,2) (1,3) (2,3) (1,2,3)\n",
    "    s = list(iterable)\n",
    "    return chain.from_iterable(combinations(s, r) for r in range(len(s)+1))\n",
    "\n",
    "n_labels = 7\n",
    "\n",
    "labelscomb = list(powerset(range(1,n_labels + 1)))\n",
    "multilabels = range(len(labelscomb))\n",
    "labelscomb_to_multilabel = dict(zip(labelscomb, multilabels))\n",
    "\n",
    "# So `labelscomb_to_multilabel` is basically a look-up table for converting a combination\n",
    "# of labels to the huge integer value that will be used in the nnU-Net nifti label file.\n",
    "labelscomb_to_multilabel"
   ]
  },
  {
   "cell_type": "code",
   "execution_count": 42,
   "metadata": {},
   "outputs": [],
   "source": [
    "import numpy as np\n",
    "\n",
    "def operation(x):\n",
    "        labels_in_voxel = tuple(np.argwhere(x)[:, 0] + 1)\n",
    "        return labelscomb_to_multilabel[labels_in_voxel]\n",
    "\n",
    "def image_to_nnunet_multilabel(input_volume):\n",
    "    # Note `input_volume` should be one-hot encoded, so input_volume.shape == (n_labels, D, H, W)\n",
    "    input_volume_per_channel = input_volume.reshape(n_labels, -1).T # (D x H x W, n_labels)\n",
    "    print('starting operation')\n",
    "    input_volume_translated = np.apply_along_axis(operation, 1, input_volume_per_channel)\n",
    "    print('done operation')\n",
    "    correct_shape = input_volume_translated.reshape(input_volume.shape[1:]) # (D, H, W)\n",
    "    \n",
    "    return correct_shape"
   ]
  },
  {
   "cell_type": "code",
   "execution_count": 43,
   "metadata": {},
   "outputs": [
    {
     "name": "stderr",
     "output_type": "stream",
     "text": [
      "  0%|          | 0/100 [00:00<?, ?it/s]"
     ]
    }
   ],
   "source": [
    "# read in the ground truth labels for the totalbinary case and select the frequency of each id\n",
    "\n",
    "# maybe do with original trainer?\n",
    "# don't forget to do with total segmentator also\n",
    "\n",
    "path = os.path.join(os.environ.get('TotalSegmentator_inference'), os.environ.get('TotalBinary'), 'nnUNetTrainerCervical_500epochs__totseg_nnUNetPlans__3d_fullres')\n",
    "labels = sorted([f for f in os.listdir(path) if f.endswith('.npz')])\n",
    "\n",
    "import SimpleITK as sitk\n",
    "import numpy as np\n",
    "\n",
    "from tqdm import tqdm\n",
    "\n",
    "for label in tqdm(labels):\n",
    "    label_path = os.path.join(path, label)\n",
    "    \n",
    "    img = np.load(label_path)['probabilities']\n",
    "    # threshold the prediction\n",
    "    img = (img > 0.5).astype(np.uint8)\n",
    "    # convert to a multilabel image\n",
    "    img = image_to_nnunet_multilabel(img)    \n",
    "    \n",
    "    # count the number of non zero elements\n",
    "    number_of_voxels = np.count_nonzero(img)\n",
    "\n",
    "    for i in overlap:\n",
    "        overlap_frequency[i].append((np.sum(img == i), number_of_voxels))"
   ]
  },
  {
   "cell_type": "code",
   "execution_count": null,
   "metadata": {},
   "outputs": [],
   "source": [
    "import json\n",
    "import numpy as np\n",
    "\n",
    "class NpEncoder(json.JSONEncoder):\n",
    "    def default(self, obj):\n",
    "        if isinstance(obj, np.integer):\n",
    "            return int(obj)\n",
    "        if isinstance(obj, np.floating):\n",
    "            return float(obj)\n",
    "        if isinstance(obj, np.ndarray):\n",
    "            return obj.tolist()\n",
    "        return super(NpEncoder, self).default(obj)"
   ]
  },
  {
   "cell_type": "code",
   "execution_count": null,
   "metadata": {},
   "outputs": [],
   "source": [
    "import json\n",
    "\n",
    "# dump the overlap_frequency to a json file\n",
    "with open('overlap_frequency_nnunet_cervical.json', 'w') as f:\n",
    "    json.dump(overlap_frequency, f, cls=NpEncoder)"
   ]
  },
  {
   "cell_type": "code",
   "execution_count": null,
   "metadata": {},
   "outputs": [
    {
     "name": "stdout",
     "output_type": "stream",
     "text": [
      "[(0, 577960), (0, 464343), (0, 480755), (1864, 627659), (0, 400471), (0, 299081), (0, 415054), (13, 363311), (0, 473966), (0, 209380), (11, 269946), (233, 307765), (72, 422537), (0, 389288), (0, 487696), (0, 272963), (31, 424543), (0, 530647), (0, 325203), (52, 456255), (36, 320043), (0, 510666), (4, 550081), (2, 429252), (0, 585498), (633, 482852), (0, 656375), (0, 387688), (0, 528992), (0, 487850), (0, 324918), (0, 320962), (0, 473163), (24, 588149), (0, 300368), (0, 498029), (0, 596978), (5, 534494), (0, 477018), (30, 660581), (0, 583418), (0, 264963), (0, 621042), (0, 608384), (0, 312225), (1, 697080), (0, 546339), (0, 437773), (36, 600445), (0, 512621), (0, 415178), (0, 360337), (0, 346586), (0, 315370), (0, 153778), (0, 684599), (0, 387801), (0, 406216), (33, 677134), (313, 568946), (0, 352296), (0, 553570), (0, 476340), (0, 359346), (0, 375346), (32, 409705), (0, 539086), (364, 749098), (0, 503099), (0, 695186), (0, 621425), (0, 347707), (33, 275018), (0, 681550), (0, 288372), (0, 662555), (0, 568860), (0, 462112), (0, 635827), (0, 709441), (0, 735825), (0, 452614), (0, 409922), (0, 471726), (0, 338990), (0, 763535), (0, 388998), (13, 604215), (0, 580695), (0, 621652), (317, 506046), (0, 605294), (0, 624377), (0, 702161), (0, 525196), (0, 338438), (0, 298566), (0, 403450), (19, 233311), (0, 459503)]\n"
     ]
    }
   ],
   "source": [
    "print(overlap_frequency[9])"
   ]
  },
  {
   "cell_type": "code",
   "execution_count": null,
   "metadata": {},
   "outputs": [],
   "source": [
    "number_of_ocurrences = {i: sum([j[0] for j in overlap_frequency[i]]) for i in overlap}\n",
    "percentage_of_ocurrences = {i: 0 for i in overlap}\n",
    "\n",
    "for i in overlap:\n",
    "    percentage_of_ocurrences[i] = number_of_ocurrences[i] / sum([j[1] for j in overlap_frequency[i]])"
   ]
  },
  {
   "cell_type": "code",
   "execution_count": null,
   "metadata": {},
   "outputs": [
    {
     "data": {
      "text/plain": [
       "{9: 8.736273619670862e-05,\n",
       " 10: 0.0,\n",
       " 19: 1.891358206320496e-05,\n",
       " 29: 0.0,\n",
       " 30: 0.0,\n",
       " 34: 0.0,\n",
       " 35: 0.0,\n",
       " 36: 0.0,\n",
       " 37: 0.0,\n",
       " 38: 0.0,\n",
       " 39: 0.0,\n",
       " 40: 0.0,\n",
       " 44: 0.0,\n",
       " 54: 6.28358208079899e-08,\n",
       " 55: 0.001357379401094198,\n",
       " 56: 0.0,\n",
       " 64: 0.0,\n",
       " 65: 0.0,\n",
       " 66: 0.0,\n",
       " 67: 0.0,\n",
       " 68: 0.0,\n",
       " 69: 0.0,\n",
       " 70: 0.0,\n",
       " 74: 0.0,\n",
       " 75: 0.0,\n",
       " 76: 0.0,\n",
       " 77: 0.0,\n",
       " 78: 0.0,\n",
       " 79: 0.0,\n",
       " 80: 0.0,\n",
       " 81: 0.0,\n",
       " 82: 0.0,\n",
       " 84: 0.0,\n",
       " 85: 0.0,\n",
       " 86: 0.0,\n",
       " 94: 0.0010777599984986429,\n",
       " 95: 0.0,\n",
       " 96: 0.0,\n",
       " 99: 0.0,\n",
       " 100: 0.0,\n",
       " 101: 0.0,\n",
       " 102: 0.0,\n",
       " 103: 0.0,\n",
       " 104: 0.0,\n",
       " 105: 0.0,\n",
       " 106: 0.0,\n",
       " 107: 0.0,\n",
       " 109: 0.0,\n",
       " 110: 0.0,\n",
       " 111: 0.0,\n",
       " 112: 0.0,\n",
       " 113: 0.0,\n",
       " 114: 0.0,\n",
       " 115: 0.0,\n",
       " 116: 0.0,\n",
       " 119: 0.0,\n",
       " 120: 0.0,\n",
       " 121: 0.0,\n",
       " 122: 0.0,\n",
       " 123: 0.0,\n",
       " 124: 0.0,\n",
       " 125: 0.0,\n",
       " 126: 0.0,\n",
       " 127: 0.0}"
      ]
     },
     "execution_count": 23,
     "metadata": {},
     "output_type": "execute_result"
    }
   ],
   "source": [
    "percentage_of_ocurrences"
   ]
  },
  {
   "cell_type": "code",
   "execution_count": null,
   "metadata": {},
   "outputs": [
    {
     "data": {
      "text/plain": [
       "{9: 4171, 19: 903, 54: 3, 55: 64806, 94: 51456}"
      ]
     },
     "execution_count": 24,
     "metadata": {},
     "output_type": "execute_result"
    }
   ],
   "source": [
    "non_zero_ocurrences = {k: v for (k,v) in number_of_ocurrences.items() if v != 0}\n",
    "non_zero_ocurrences"
   ]
  },
  {
   "cell_type": "code",
   "execution_count": null,
   "metadata": {},
   "outputs": [],
   "source": [
    "# translated to the combo of words\n",
    "\n",
    "def reverse_lookup_id(id):\n",
    "    # given a dictinoary of key: anatomy, and value: segmentation ids, reverse the lookup to get the list of anatomies that match the id.\n",
    "    anatomies = []\n",
    "\n",
    "    if type(id) == int:\n",
    "        for k, v in dataset['labels'].items():\n",
    "            if k == 'background':\n",
    "                if id == v:\n",
    "                    anatomies.append('background')\n",
    "            elif id in v:\n",
    "                anatomies.append(k)\n",
    "            \n",
    "    elif type(id) == list:\n",
    "        for k, v in dataset['labels'].items():\n",
    "            if k == 'background' and 0 in id:\n",
    "                anatomies.append('background')\n",
    "            elif any([i in v for i in id]):\n",
    "                anatomies.append(k)\n",
    "    else:\n",
    "        raise TypeError('Huh? Whats the type of id? needs to be int or list of ints ', id)\n",
    "\n",
    "    return anatomies\n",
    "\n",
    "assert reverse_lookup_id(0) == ['background']\n",
    "assert reverse_lookup_id(1) == ['anorectum']\n",
    "assert reverse_lookup_id(100) == ['anorectum', 'bladder', 'ctvn', 'ctvp', 'uterus']\n",
    "assert reverse_lookup_id([0,1]) == ['background', 'anorectum']\n",
    "\n",
    "def get_id_from_label(str_id):\n",
    "    return ['anorectum','bladder','ctvn','ctvp','parametrium','uterus','vagina','totalbinary'][str_id]\n",
    "\n",
    "assert get_id_from_label(0) == 'anorectum'\n",
    "assert get_id_from_label(7) == 'totalbinary'"
   ]
  },
  {
   "cell_type": "code",
   "execution_count": null,
   "metadata": {},
   "outputs": [],
   "source": [
    "type_of_overlap_non_zero = []\n",
    "frequency_of_overlap_non_zero = []\n",
    "percentage_of_overlap_non_zero = []\n",
    "\n",
    "for k,v in non_zero_ocurrences.items():\n",
    "    type_of_overlap_non_zero.append(', '.join(reverse_lookup_id(k)))\n",
    "    frequency_of_overlap_non_zero.append(v)\n",
    "    percentage_of_overlap_non_zero.append(percentage_of_ocurrences[k])"
   ]
  },
  {
   "cell_type": "code",
   "execution_count": null,
   "metadata": {},
   "outputs": [
    {
     "data": {
      "image/png": "[encoded data removed]",
      "text/plain": [
       "<Figure size 640x480 with 2 Axes>"
      ]
     },
     "metadata": {},
     "output_type": "display_data"
    }
   ],
   "source": [
    "import matplotlib.pyplot as plt\n",
    "import matplotlib.ticker as ticker\n",
    "\n",
    "fig, ax1 = plt.subplots()\n",
    "\n",
    "# Plot the frequency of overlap on the primary y-axis (left-hand side)\n",
    "ax1.bar(type_of_overlap_non_zero, frequency_of_overlap_non_zero, )\n",
    "ax1.set_ylabel('Frequency of Overlap')\n",
    "ax1.tick_params(axis='x', rotation=90)\n",
    "ax1.yaxis.set_major_formatter(ticker.FuncFormatter(lambda x, pos: f'{x/1000:.0f}k'))\n",
    "\n",
    "# Create a secondary y-axis (right-hand side) that shares the same x-axis\n",
    "ax2 = ax1.twinx()\n",
    "ax2.bar(type_of_overlap_non_zero, percentage_of_overlap_non_zero)\n",
    "ax2.set_ylabel('Percentage of Overlap')\n",
    "ax2.tick_params(axis='y')\n",
    "ax2.yaxis.set_major_formatter(ticker.FuncFormatter(lambda x, pos: f'{x * 100:.2f} %'))\n",
    "\n",
    "# Rotate x-axis labels\n",
    "plt.xticks(rotation=90)\n",
    "\n",
    "plt.title('Frequency and Percentage of Illegal Overlap')\n",
    "\n",
    "# Display the plot\n",
    "plt.show()"
   ]
  }
 ],
 "metadata": {
  "kernelspec": {
   "display_name": ".venv",
   "language": "python",
   "name": "python3"
  },
  "language_info": {
   "codemirror_mode": {
    "name": "ipython",
    "version": 3
   },
   "file_extension": ".py",
   "mimetype": "text/x-python",
   "name": "python",
   "nbconvert_exporter": "python",
   "pygments_lexer": "ipython3",
   "version": "3.10.12"
  }
 },
 "nbformat": 4,
 "nbformat_minor": 2
}

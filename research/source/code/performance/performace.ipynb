{
 "cells": [
  {
   "cell_type": "markdown",
   "metadata": {},
   "source": [
    "# Performance Analysis"
   ]
  },
  {
   "cell_type": "markdown",
   "metadata": {},
   "source": [
    "Given a model that has been trained on data for predicting the segementation maps for the 5 classes of interest (Paremetrium, Anorectum, Bladder, CTVp and CTVn) this notebook acts as a reference on how to present the findings"
   ]
  },
  {
   "cell_type": "code",
   "execution_count": null,
   "metadata": {},
   "outputs": [],
   "source": [
    "# Initialise the paths for the data and the model.\n",
    "\n",
    "import os\n",
    "\n",
    "raw_data = '/vol/biomedic3/bglocker/nnUNet/nnUNet_raw'"
   ]
  },
  {
   "cell_type": "code",
   "execution_count": 1,
   "metadata": {},
   "outputs": [],
   "source": [
    "# Each anatomical structure has a unique identifier.\n",
    "id_anorectum = 'Dataset001_Anorectum'\n",
    "id_bladder = 'Dataset002_Bladder'\n",
    "id_ctvn = 'Dataset003_CTVn'\n",
    "id_ctvp = 'Dataset004_CTVp'\n",
    "id_parametrium = 'Dataset005_Parametrium'"
   ]
  },
  {
   "cell_type": "code",
   "execution_count": null,
   "metadata": {},
   "outputs": [],
   "source": [
    "\n",
    "if os.path.exists(data_path):\n",
    "    print(\"The path exists.\")\n",
    "    print('The relevant contents are...')\n",
    "    for x in sorted(os.listdir(data_path)): \n",
    "        if 'nnUNet' in x: print(f'   {x}')\n",
    "else:\n",
    "    print(\"The path does not exist.\")"
   ]
  }
 ],
 "metadata": {
  "kernelspec": {
   "display_name": ".venv",
   "language": "python",
   "name": "python3"
  },
  "language_info": {
   "codemirror_mode": {
    "name": "ipython",
    "version": 3
   },
   "file_extension": ".py",
   "mimetype": "text/x-python",
   "name": "python",
   "nbconvert_exporter": "python",
   "pygments_lexer": "ipython3",
   "version": "3.10.12"
  }
 },
 "nbformat": 4,
 "nbformat_minor": 2
}
